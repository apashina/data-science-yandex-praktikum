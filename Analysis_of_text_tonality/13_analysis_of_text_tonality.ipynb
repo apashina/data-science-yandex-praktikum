{
 "cells": [
  {
   "cell_type": "markdown",
   "id": "8b43c172",
   "metadata": {
    "toc": true
   },
   "source": [
    "<h1>Содержание<span class=\"tocSkip\"></span></h1>\n",
    "<div class=\"toc\"><ul class=\"toc-item\"><li><span><a href=\"#Описание-проекта\" data-toc-modified-id=\"Описание-проекта-1\"><span class=\"toc-item-num\">1&nbsp;&nbsp;</span>Описание проекта</a></span></li><li><span><a href=\"#Подготовка-данных\" data-toc-modified-id=\"Подготовка-данных-2\"><span class=\"toc-item-num\">2&nbsp;&nbsp;</span>Подготовка данных</a></span><ul class=\"toc-item\"><li><span><a href=\"#Изучение-данных\" data-toc-modified-id=\"Изучение-данных-2.1\"><span class=\"toc-item-num\">2.1&nbsp;&nbsp;</span>Изучение данных</a></span></li><li><span><a href=\"#Очистка-и-лемматизация-текста\" data-toc-modified-id=\"Очистка-и-лемматизация-текста-2.2\"><span class=\"toc-item-num\">2.2&nbsp;&nbsp;</span>Очистка и лемматизация текста</a></span></li><li><span><a href=\"#Разделение-исходных-данных-на-выборки\" data-toc-modified-id=\"Разделение-исходных-данных-на-выборки-2.3\"><span class=\"toc-item-num\">2.3&nbsp;&nbsp;</span>Разделение исходных данных на выборки</a></span></li><li><span><a href=\"#Вывод\" data-toc-modified-id=\"Вывод-2.4\"><span class=\"toc-item-num\">2.4&nbsp;&nbsp;</span>Вывод</a></span></li></ul></li><li><span><a href=\"#Обучение-моделей\" data-toc-modified-id=\"Обучение-моделей-3\"><span class=\"toc-item-num\">3&nbsp;&nbsp;</span>Обучение моделей</a></span><ul class=\"toc-item\"><li><span><a href=\"#Вывод\" data-toc-modified-id=\"Вывод-3.1\"><span class=\"toc-item-num\">3.1&nbsp;&nbsp;</span>Вывод</a></span></li></ul></li><li><span><a href=\"#Проверка-качества-модели-на-тестовой-выборке\" data-toc-modified-id=\"Проверка-качества-модели-на-тестовой-выборке-4\"><span class=\"toc-item-num\">4&nbsp;&nbsp;</span>Проверка качества модели на тестовой выборке</a></span><ul class=\"toc-item\"><li><span><a href=\"#Вывод\" data-toc-modified-id=\"Вывод-4.1\"><span class=\"toc-item-num\">4.1&nbsp;&nbsp;</span>Вывод</a></span></li></ul></li><li><span><a href=\"#Общий-вывод\" data-toc-modified-id=\"Общий-вывод-5\"><span class=\"toc-item-num\">5&nbsp;&nbsp;</span>Общий вывод</a></span></li></ul></div>"
   ]
  },
  {
   "cell_type": "markdown",
   "id": "6616848b",
   "metadata": {},
   "source": [
    "# Анализ тональности англоязычного текста"
   ]
  },
  {
   "cell_type": "markdown",
   "id": "fd966c08",
   "metadata": {},
   "source": [
    "## Описание проекта\n",
    "\n",
    "Интернет-магазин «Викишоп» запускает новый сервис. Теперь пользователи могут редактировать и дополнять описания товаров, как в вики-сообществах. То есть клиенты предлагают свои правки и комментируют изменения других. Магазину нужен инструмент, который будет искать токсичные комментарии и отправлять их на модерацию. В нашем распоряжении набор данных с разметкой о токсичности правок.\n",
    "\n",
    "**Цель проекта** – построить модель, классифицирующую комментарии на позитивные и негативные, со значением метрики качества F1 не меньше 0.75.\n",
    "\n",
    "**Задачи:** \n",
    "\n",
    "1. Загрузить и подготовить данные.\n",
    "\n",
    "2. Обучить разные модели.\n",
    "3. Сделать выводы.\n",
    "\n",
    "***Описание данных***\n",
    "\n",
    "* `text` – текст комментария, \n",
    "\n",
    "* `toxic` – целевой признак."
   ]
  },
  {
   "cell_type": "markdown",
   "id": "89d6b7b2",
   "metadata": {},
   "source": [
    "## Подготовка данных"
   ]
  },
  {
   "cell_type": "code",
   "execution_count": 1,
   "id": "8e645439",
   "metadata": {},
   "outputs": [],
   "source": [
    "# импортирование необходимых библиотек\n",
    "import re\n",
    "\n",
    "import pandas as pd\n",
    "import numpy as np\n",
    "import matplotlib.pyplot as plt\n",
    "import nltk\n",
    "import warnings\n",
    "\n",
    "from nltk.stem import WordNetLemmatizer\n",
    "from nltk.corpus import stopwords, wordnet\n",
    "from imblearn.pipeline import Pipeline\n",
    "from imblearn.under_sampling import RandomUnderSampler\n",
    "from imblearn.over_sampling import SMOTE\n",
    "from sklearn.feature_extraction.text import TfidfVectorizer\n",
    "from sklearn.compose import ColumnTransformer\n",
    "from sklearn.linear_model import LogisticRegression\n",
    "from lightgbm import LGBMClassifier\n",
    "from catboost import CatBoostClassifier\n",
    "from sklearn.model_selection import train_test_split, RandomizedSearchCV\n",
    "from sklearn.metrics import f1_score, roc_auc_score, roc_curve"
   ]
  },
  {
   "cell_type": "code",
   "execution_count": 2,
   "id": "9bb7745c",
   "metadata": {},
   "outputs": [],
   "source": [
    "# nltk.download('wordnet')\n",
    "# nltk.download('punkt')\n",
    "# nltk.download('averaged_perceptron_tagger')\n",
    "# nltk.download('stopwords')\n",
    "warnings.filterwarnings('ignore')"
   ]
  },
  {
   "cell_type": "code",
   "execution_count": 3,
   "id": "f77729b7",
   "metadata": {},
   "outputs": [],
   "source": [
    "# форматы чисел для вывода\n",
    "pd.set_option('display.float_format', lambda x: '%.2f' % x)"
   ]
  },
  {
   "cell_type": "markdown",
   "id": "21838c00",
   "metadata": {},
   "source": [
    "### Изучение данных"
   ]
  },
  {
   "cell_type": "code",
   "execution_count": 4,
   "id": "e8119b09",
   "metadata": {},
   "outputs": [],
   "source": [
    "# загрузка данных\n",
    "try:\n",
    "    data = pd.read_csv('/datasets/toxic_comments.csv', index_col=0)\n",
    "except:\n",
    "    data = pd.read_csv('E:/ЯП/Курс_спец_Data_Science/13_ML_для_текстов/toxic_comments.csv', index_col=0)"
   ]
  },
  {
   "cell_type": "code",
   "execution_count": 5,
   "id": "e77a1b4d",
   "metadata": {},
   "outputs": [],
   "source": [
    "data.reset_index(drop=True, inplace=True)"
   ]
  },
  {
   "cell_type": "code",
   "execution_count": 6,
   "id": "d0859634",
   "metadata": {},
   "outputs": [
    {
     "data": {
      "text/html": [
       "<div>\n",
       "<style scoped>\n",
       "    .dataframe tbody tr th:only-of-type {\n",
       "        vertical-align: middle;\n",
       "    }\n",
       "\n",
       "    .dataframe tbody tr th {\n",
       "        vertical-align: top;\n",
       "    }\n",
       "\n",
       "    .dataframe thead th {\n",
       "        text-align: right;\n",
       "    }\n",
       "</style>\n",
       "<table border=\"1\" class=\"dataframe\">\n",
       "  <thead>\n",
       "    <tr style=\"text-align: right;\">\n",
       "      <th></th>\n",
       "      <th>text</th>\n",
       "      <th>toxic</th>\n",
       "    </tr>\n",
       "  </thead>\n",
       "  <tbody>\n",
       "    <tr>\n",
       "      <th>0</th>\n",
       "      <td>Explanation\\nWhy the edits made under my usern...</td>\n",
       "      <td>0</td>\n",
       "    </tr>\n",
       "    <tr>\n",
       "      <th>1</th>\n",
       "      <td>D'aww! He matches this background colour I'm s...</td>\n",
       "      <td>0</td>\n",
       "    </tr>\n",
       "    <tr>\n",
       "      <th>2</th>\n",
       "      <td>Hey man, I'm really not trying to edit war. It...</td>\n",
       "      <td>0</td>\n",
       "    </tr>\n",
       "    <tr>\n",
       "      <th>3</th>\n",
       "      <td>\"\\nMore\\nI can't make any real suggestions on ...</td>\n",
       "      <td>0</td>\n",
       "    </tr>\n",
       "    <tr>\n",
       "      <th>4</th>\n",
       "      <td>You, sir, are my hero. Any chance you remember...</td>\n",
       "      <td>0</td>\n",
       "    </tr>\n",
       "  </tbody>\n",
       "</table>\n",
       "</div>"
      ],
      "text/plain": [
       "                                                text  toxic\n",
       "0  Explanation\\nWhy the edits made under my usern...      0\n",
       "1  D'aww! He matches this background colour I'm s...      0\n",
       "2  Hey man, I'm really not trying to edit war. It...      0\n",
       "3  \"\\nMore\\nI can't make any real suggestions on ...      0\n",
       "4  You, sir, are my hero. Any chance you remember...      0"
      ]
     },
     "execution_count": 6,
     "metadata": {},
     "output_type": "execute_result"
    }
   ],
   "source": [
    "# вывод первых 5 строк датафрейма\n",
    "data.head()"
   ]
  },
  {
   "cell_type": "code",
   "execution_count": 7,
   "id": "f165648e",
   "metadata": {},
   "outputs": [
    {
     "name": "stdout",
     "output_type": "stream",
     "text": [
      "<class 'pandas.core.frame.DataFrame'>\n",
      "RangeIndex: 159292 entries, 0 to 159291\n",
      "Data columns (total 2 columns):\n",
      " #   Column  Non-Null Count   Dtype \n",
      "---  ------  --------------   ----- \n",
      " 0   text    159292 non-null  object\n",
      " 1   toxic   159292 non-null  int64 \n",
      "dtypes: int64(1), object(1)\n",
      "memory usage: 2.4+ MB\n"
     ]
    }
   ],
   "source": [
    "# общая информация о датафрейме\n",
    "data.info()"
   ]
  },
  {
   "cell_type": "code",
   "execution_count": 8,
   "id": "2951e195",
   "metadata": {},
   "outputs": [
    {
     "data": {
      "text/plain": [
       "0"
      ]
     },
     "execution_count": 8,
     "metadata": {},
     "output_type": "execute_result"
    }
   ],
   "source": [
    "# количество явных дубликатов\n",
    "data.duplicated().sum()"
   ]
  },
  {
   "cell_type": "code",
   "execution_count": 9,
   "id": "4cd2f0f9",
   "metadata": {},
   "outputs": [
    {
     "data": {
      "text/html": [
       "<div>\n",
       "<style scoped>\n",
       "    .dataframe tbody tr th:only-of-type {\n",
       "        vertical-align: middle;\n",
       "    }\n",
       "\n",
       "    .dataframe tbody tr th {\n",
       "        vertical-align: top;\n",
       "    }\n",
       "\n",
       "    .dataframe thead th {\n",
       "        text-align: right;\n",
       "    }\n",
       "</style>\n",
       "<table border=\"1\" class=\"dataframe\">\n",
       "  <thead>\n",
       "    <tr style=\"text-align: right;\">\n",
       "      <th></th>\n",
       "      <th>toxic</th>\n",
       "    </tr>\n",
       "  </thead>\n",
       "  <tbody>\n",
       "    <tr>\n",
       "      <th>0</th>\n",
       "      <td>0.90</td>\n",
       "    </tr>\n",
       "    <tr>\n",
       "      <th>1</th>\n",
       "      <td>0.10</td>\n",
       "    </tr>\n",
       "  </tbody>\n",
       "</table>\n",
       "</div>"
      ],
      "text/plain": [
       "   toxic\n",
       "0   0.90\n",
       "1   0.10"
      ]
     },
     "execution_count": 9,
     "metadata": {},
     "output_type": "execute_result"
    }
   ],
   "source": [
    "# уникальные значения в столбце в порядке убывания частоты их упоминаний\n",
    "data.toxic.value_counts(normalize=True).to_frame()"
   ]
  },
  {
   "cell_type": "code",
   "execution_count": 10,
   "id": "748fb2c4",
   "metadata": {},
   "outputs": [
    {
     "data": {
      "image/png": "[encoded data removed]",
      "text/plain": [
       "<Figure size 1000x300 with 1 Axes>"
      ]
     },
     "metadata": {},
     "output_type": "display_data"
    }
   ],
   "source": [
    "data.toxic.value_counts().plot(kind='bar', figsize=(10,3), rot=0, legend=False, fontsize=10, ec='black')\n",
    "plt.title('Распределение классов\\n')\n",
    "plt.xlabel('Комментарий токсичный? (0 - нет, 1 - да)')\n",
    "plt.ylabel('Количество комментариев, шт.');"
   ]
  },
  {
   "cell_type": "markdown",
   "id": "2869c4fd",
   "metadata": {},
   "source": [
    "Наблюдается дисбаланс классов в целевом признаке."
   ]
  },
  {
   "cell_type": "markdown",
   "id": "e1b88535",
   "metadata": {},
   "source": [
    "### Очистка и лемматизация текста"
   ]
  },
  {
   "cell_type": "code",
   "execution_count": 11,
   "id": "6a4493ae",
   "metadata": {},
   "outputs": [],
   "source": [
    "def clear_text(text):\n",
    "    \"\"\"\n",
    "    Функция получает на вход строку. \n",
    "    Возвращает эту же строку, очищенную от всех символов кроме \n",
    "    латинских и пробелов, в нижнем регистре.\n",
    "\n",
    "    \"\"\"\n",
    "    text = re.sub(r'[^a-zA-Z]', ' ', text)\n",
    "    return (' '.join(text.split())).lower()"
   ]
  },
  {
   "cell_type": "code",
   "execution_count": 12,
   "id": "2b84f799",
   "metadata": {},
   "outputs": [],
   "source": [
    "# очистка текста от лишних символов\n",
    "data['clear_text'] = data['text'].apply(clear_text)"
   ]
  },
  {
   "cell_type": "code",
   "execution_count": 13,
   "id": "20cd2216",
   "metadata": {},
   "outputs": [
    {
     "data": {
      "text/plain": [
       "0    explanation why the edits made under my userna...\n",
       "1    d aww he matches this background colour i m se...\n",
       "2    hey man i m really not trying to edit war it s...\n",
       "3    more i can t make any real suggestions on impr...\n",
       "4    you sir are my hero any chance you remember wh...\n",
       "Name: clear_text, dtype: object"
      ]
     },
     "execution_count": 13,
     "metadata": {},
     "output_type": "execute_result"
    }
   ],
   "source": [
    "# check\n",
    "data['clear_text'].head()"
   ]
  },
  {
   "cell_type": "markdown",
   "id": "5433a94f",
   "metadata": {},
   "source": [
    "Имеется 11 комментариев с пустой строкой, удалим эти записи."
   ]
  },
  {
   "cell_type": "code",
   "execution_count": 14,
   "id": "a4298d61",
   "metadata": {},
   "outputs": [
    {
     "data": {
      "text/html": [
       "<div>\n",
       "<style scoped>\n",
       "    .dataframe tbody tr th:only-of-type {\n",
       "        vertical-align: middle;\n",
       "    }\n",
       "\n",
       "    .dataframe tbody tr th {\n",
       "        vertical-align: top;\n",
       "    }\n",
       "\n",
       "    .dataframe thead th {\n",
       "        text-align: right;\n",
       "    }\n",
       "</style>\n",
       "<table border=\"1\" class=\"dataframe\">\n",
       "  <thead>\n",
       "    <tr style=\"text-align: right;\">\n",
       "      <th></th>\n",
       "      <th>text</th>\n",
       "      <th>toxic</th>\n",
       "      <th>clear_text</th>\n",
       "    </tr>\n",
       "  </thead>\n",
       "  <tbody>\n",
       "    <tr>\n",
       "      <th>4475</th>\n",
       "      <td>1993\\n\\n1994\\n\\n1995\\n\\n1996\\n\\n1997\\n\\n1998\\n...</td>\n",
       "      <td>0</td>\n",
       "      <td></td>\n",
       "    </tr>\n",
       "    <tr>\n",
       "      <th>6289</th>\n",
       "      <td>193.61.111.53  15:00</td>\n",
       "      <td>0</td>\n",
       "      <td></td>\n",
       "    </tr>\n",
       "    <tr>\n",
       "      <th>10193</th>\n",
       "      <td>64.86.141.133\"</td>\n",
       "      <td>0</td>\n",
       "      <td></td>\n",
       "    </tr>\n",
       "    <tr>\n",
       "      <th>17280</th>\n",
       "      <td>~ \\n\\n68.193.147.157</td>\n",
       "      <td>0</td>\n",
       "      <td></td>\n",
       "    </tr>\n",
       "    <tr>\n",
       "      <th>38743</th>\n",
       "      <td>88.104.31.21\"</td>\n",
       "      <td>0</td>\n",
       "      <td></td>\n",
       "    </tr>\n",
       "    <tr>\n",
       "      <th>52336</th>\n",
       "      <td>14:53,</td>\n",
       "      <td>0</td>\n",
       "      <td></td>\n",
       "    </tr>\n",
       "    <tr>\n",
       "      <th>53679</th>\n",
       "      <td>92.24.199.233|92.24.199.233]]</td>\n",
       "      <td>0</td>\n",
       "      <td></td>\n",
       "    </tr>\n",
       "    <tr>\n",
       "      <th>61644</th>\n",
       "      <td>\"\\n\\n 199.209.144.211  \"</td>\n",
       "      <td>0</td>\n",
       "      <td></td>\n",
       "    </tr>\n",
       "    <tr>\n",
       "      <th>82541</th>\n",
       "      <td>\"\\n '''''' 2010/2013 \"</td>\n",
       "      <td>0</td>\n",
       "      <td></td>\n",
       "    </tr>\n",
       "    <tr>\n",
       "      <th>119018</th>\n",
       "      <td>\"\"\"</td>\n",
       "      <td>1</td>\n",
       "      <td></td>\n",
       "    </tr>\n",
       "    <tr>\n",
       "      <th>137400</th>\n",
       "      <td>== \"\"\"</td>\n",
       "      <td>0</td>\n",
       "      <td></td>\n",
       "    </tr>\n",
       "  </tbody>\n",
       "</table>\n",
       "</div>"
      ],
      "text/plain": [
       "                                                     text  toxic clear_text\n",
       "4475    1993\\n\\n1994\\n\\n1995\\n\\n1996\\n\\n1997\\n\\n1998\\n...      0           \n",
       "6289                                 193.61.111.53  15:00      0           \n",
       "10193                                      64.86.141.133\"      0           \n",
       "17280                                ~ \\n\\n68.193.147.157      0           \n",
       "38743                                       88.104.31.21\"      0           \n",
       "52336                                              14:53,      0           \n",
       "53679                       92.24.199.233|92.24.199.233]]      0           \n",
       "61644                            \"\\n\\n 199.209.144.211  \"      0           \n",
       "82541                              \"\\n '''''' 2010/2013 \"      0           \n",
       "119018                                                \"\"\"      1           \n",
       "137400                                             == \"\"\"      0           "
      ]
     },
     "execution_count": 14,
     "metadata": {},
     "output_type": "execute_result"
    }
   ],
   "source": [
    "data[data['clear_text']=='']"
   ]
  },
  {
   "cell_type": "code",
   "execution_count": 15,
   "id": "4bd24bbd",
   "metadata": {},
   "outputs": [
    {
     "data": {
      "text/plain": [
       "11"
      ]
     },
     "execution_count": 15,
     "metadata": {},
     "output_type": "execute_result"
    }
   ],
   "source": [
    "len(data[data['clear_text']==''])"
   ]
  },
  {
   "cell_type": "code",
   "execution_count": 16,
   "id": "93b61291",
   "metadata": {},
   "outputs": [
    {
     "data": {
      "text/plain": [
       "159281"
      ]
     },
     "execution_count": 16,
     "metadata": {},
     "output_type": "execute_result"
    }
   ],
   "source": [
    "# удаление записей с пустыми комментариями\n",
    "data = data.query('clear_text != \"\"').reset_index(drop=True)\n",
    "data.shape[0]"
   ]
  },
  {
   "cell_type": "code",
   "execution_count": 17,
   "id": "e0acf18f",
   "metadata": {},
   "outputs": [],
   "source": [
    "def get_wordnet_pos(word):\n",
    "    \"\"\"\n",
    "    Функция получает на вход слово. \n",
    "    Возвращает маркер части речи (POS-тег (part-of-speech)) этого слова.\n",
    "\n",
    "    \"\"\"\n",
    "    tag = nltk.pos_tag([word])[0][1][0].upper()\n",
    "    tag_dict = {\"J\": wordnet.ADJ,\n",
    "                \"N\": wordnet.NOUN,\n",
    "                \"V\": wordnet.VERB,\n",
    "                \"R\": wordnet.ADV}\n",
    "    return tag_dict.get(tag, wordnet.NOUN)"
   ]
  },
  {
   "cell_type": "code",
   "execution_count": 18,
   "id": "8da62b74",
   "metadata": {},
   "outputs": [],
   "source": [
    "def lemmatize_text(text):\n",
    "    \"\"\"\n",
    "    Функция получает на вход предложение. \n",
    "    Возвращает лемматизированное предложение.\n",
    "\n",
    "    \"\"\"\n",
    "    lemmatizer = WordNetLemmatizer()\n",
    "    word_list = nltk.word_tokenize(text)        \n",
    "    return ' '.join([lemmatizer.lemmatize(w, get_wordnet_pos(w)) for w in word_list])"
   ]
  },
  {
   "cell_type": "code",
   "execution_count": 19,
   "id": "f241936b",
   "metadata": {},
   "outputs": [],
   "source": [
    "# %%time\n",
    "# # лемматизация текста\n",
    "# data['lemm_text'] = data['clear_text'].apply(lemmatize_text)"
   ]
  },
  {
   "cell_type": "markdown",
   "id": "9624d964",
   "metadata": {},
   "source": [
    "Лемматизация текста занимает 42 минуты."
   ]
  },
  {
   "cell_type": "code",
   "execution_count": 20,
   "id": "d905439f",
   "metadata": {},
   "outputs": [],
   "source": [
    "# сохранение лемматизированного корпуса\n",
    "# data['lemm_text'].to_csv('lemm_corpus.csv', index=False)"
   ]
  },
  {
   "cell_type": "code",
   "execution_count": 21,
   "id": "2a201922",
   "metadata": {},
   "outputs": [],
   "source": [
    "# считывание лемматизированного корпуса\n",
    "data['lemm_text'] = pd.read_csv('C:/Users/kek/lemm_corpus.csv')['lemm_text']"
   ]
  },
  {
   "cell_type": "code",
   "execution_count": 22,
   "id": "aac52572",
   "metadata": {},
   "outputs": [
    {
     "data": {
      "text/plain": [
       "0    explanation why the edits make under my userna...\n",
       "1    d aww he match this background colour i m seem...\n",
       "2    hey man i m really not try to edit war it s ju...\n",
       "3    more i can t make any real suggestion on impro...\n",
       "4    you sir be my hero any chance you remember wha...\n",
       "Name: lemm_text, dtype: object"
      ]
     },
     "execution_count": 22,
     "metadata": {},
     "output_type": "execute_result"
    }
   ],
   "source": [
    "# check\n",
    "data['lemm_text'].head()"
   ]
  },
  {
   "cell_type": "markdown",
   "id": "3618d3c0",
   "metadata": {},
   "source": [
    "### Разделение исходных данных на выборки"
   ]
  },
  {
   "cell_type": "code",
   "execution_count": 23,
   "id": "a1d01625",
   "metadata": {},
   "outputs": [],
   "source": [
    "# целевой признак\n",
    "y = data['toxic']\n",
    "# признаки\n",
    "features = data['lemm_text']"
   ]
  },
  {
   "cell_type": "markdown",
   "id": "e065dcf6",
   "metadata": {},
   "source": [
    "В дальнейшем подбор гиперпараметров планируется выполнять автоматически с помощью `RandomizedSearchCV` (поиск по сетке, контроль качества осуществляется по технике кросс-валидации). Поэтому разобьем данные на 2 части - обучающую и тестовую выборки в соотношении 3:1.\n",
    "\n",
    "Пропорцию классов при разделении будем задавать в соответствии с распределением по классам в целевом признаке `y`."
   ]
  },
  {
   "cell_type": "code",
   "execution_count": 24,
   "id": "adf4f9a6",
   "metadata": {},
   "outputs": [],
   "source": [
    "# выделение обучающей выборки (75 %) и тестовой (25 %)\n",
    "X_train, X_test, y_train, y_test = train_test_split(features, \n",
    "                                                    y, \n",
    "                                                    test_size=0.25, \n",
    "                                                    random_state=12345, \n",
    "                                                    stratify=y)"
   ]
  },
  {
   "cell_type": "code",
   "execution_count": 25,
   "id": "51d1c6cf",
   "metadata": {},
   "outputs": [
    {
     "data": {
      "text/html": [
       "<div>\n",
       "<style scoped>\n",
       "    .dataframe tbody tr th:only-of-type {\n",
       "        vertical-align: middle;\n",
       "    }\n",
       "\n",
       "    .dataframe tbody tr th {\n",
       "        vertical-align: top;\n",
       "    }\n",
       "\n",
       "    .dataframe thead th {\n",
       "        text-align: right;\n",
       "    }\n",
       "</style>\n",
       "<table border=\"1\" class=\"dataframe\">\n",
       "  <thead>\n",
       "    <tr style=\"text-align: right;\">\n",
       "      <th></th>\n",
       "      <th>toxic</th>\n",
       "    </tr>\n",
       "  </thead>\n",
       "  <tbody>\n",
       "    <tr>\n",
       "      <th>0</th>\n",
       "      <td>0.90</td>\n",
       "    </tr>\n",
       "    <tr>\n",
       "      <th>1</th>\n",
       "      <td>0.10</td>\n",
       "    </tr>\n",
       "  </tbody>\n",
       "</table>\n",
       "</div>"
      ],
      "text/plain": [
       "   toxic\n",
       "0   0.90\n",
       "1   0.10"
      ]
     },
     "metadata": {},
     "output_type": "display_data"
    },
    {
     "data": {
      "text/html": [
       "<div>\n",
       "<style scoped>\n",
       "    .dataframe tbody tr th:only-of-type {\n",
       "        vertical-align: middle;\n",
       "    }\n",
       "\n",
       "    .dataframe tbody tr th {\n",
       "        vertical-align: top;\n",
       "    }\n",
       "\n",
       "    .dataframe thead th {\n",
       "        text-align: right;\n",
       "    }\n",
       "</style>\n",
       "<table border=\"1\" class=\"dataframe\">\n",
       "  <thead>\n",
       "    <tr style=\"text-align: right;\">\n",
       "      <th></th>\n",
       "      <th>toxic</th>\n",
       "    </tr>\n",
       "  </thead>\n",
       "  <tbody>\n",
       "    <tr>\n",
       "      <th>0</th>\n",
       "      <td>0.90</td>\n",
       "    </tr>\n",
       "    <tr>\n",
       "      <th>1</th>\n",
       "      <td>0.10</td>\n",
       "    </tr>\n",
       "  </tbody>\n",
       "</table>\n",
       "</div>"
      ],
      "text/plain": [
       "   toxic\n",
       "0   0.90\n",
       "1   0.10"
      ]
     },
     "metadata": {},
     "output_type": "display_data"
    },
    {
     "data": {
      "text/html": [
       "<div>\n",
       "<style scoped>\n",
       "    .dataframe tbody tr th:only-of-type {\n",
       "        vertical-align: middle;\n",
       "    }\n",
       "\n",
       "    .dataframe tbody tr th {\n",
       "        vertical-align: top;\n",
       "    }\n",
       "\n",
       "    .dataframe thead th {\n",
       "        text-align: right;\n",
       "    }\n",
       "</style>\n",
       "<table border=\"1\" class=\"dataframe\">\n",
       "  <thead>\n",
       "    <tr style=\"text-align: right;\">\n",
       "      <th></th>\n",
       "      <th>toxic</th>\n",
       "    </tr>\n",
       "  </thead>\n",
       "  <tbody>\n",
       "    <tr>\n",
       "      <th>0</th>\n",
       "      <td>0.90</td>\n",
       "    </tr>\n",
       "    <tr>\n",
       "      <th>1</th>\n",
       "      <td>0.10</td>\n",
       "    </tr>\n",
       "  </tbody>\n",
       "</table>\n",
       "</div>"
      ],
      "text/plain": [
       "   toxic\n",
       "0   0.90\n",
       "1   0.10"
      ]
     },
     "metadata": {},
     "output_type": "display_data"
    }
   ],
   "source": [
    "# check\n",
    "display(y.value_counts(normalize=True).to_frame())\n",
    "display(y_train.value_counts(normalize=True).to_frame())\n",
    "display(y_test.value_counts(normalize=True).to_frame())"
   ]
  },
  {
   "cell_type": "markdown",
   "id": "11cf4c31",
   "metadata": {},
   "source": [
    "### Вывод\n",
    "\n",
    "В этой части проекта:\n",
    "\n",
    "* проведено первичное ознакомление с исходными данными - в нашем распоряжении описание товаров интернет-магазина «Викишоп» с разметкой о токсичности правок пользователями,\n",
    "\n",
    "* пропусков и дубликатов не найдено,\n",
    "* обнаружен дисбаланс классов целевого признака 9:1,\n",
    "* текст очищен от лишних символов,\n",
    "* после очистки были замечены пустые записи (11 штук), которые были удалены,\n",
    "* проведена лемматизация текста,\n",
    "* данные разделены на обучающую и тестовую выборки с оптимальной стратификацией классов.\n",
    "\n",
    "Можно переходить к обучению моделей."
   ]
  },
  {
   "cell_type": "markdown",
   "id": "8e096c4c",
   "metadata": {},
   "source": [
    "## Обучение моделей"
   ]
  },
  {
   "cell_type": "markdown",
   "id": "749d8510",
   "metadata": {},
   "source": [
    "Мы решаем задачу классификации, в качестве моделей обучения будем использовать `LogisticRegression`, `LGBMClassifier` и `CatBoostClassifier`.\n",
    "\n",
    "Выполним векторизацию данных с помощью счетчика величин TF-IDF `TfidfVectorizer()`.\n",
    "\n",
    "Для борьбы с дисбалансом будем исползовать `взвешивание классов`, `RandomUnderSampler` (техника случайно удаляет некоторое число примеров мажоритарного класса) и `SMOTE` (техника увеличивает число примеров миноритарного класса)."
   ]
  },
  {
   "cell_type": "code",
   "execution_count": 28,
   "id": "35e70687",
   "metadata": {},
   "outputs": [],
   "source": [
    "# список стоп-слов\n",
    "stop_words = stopwords.words('english')"
   ]
  },
  {
   "cell_type": "code",
   "execution_count": 29,
   "id": "3bb574bd",
   "metadata": {},
   "outputs": [],
   "source": [
    "# создание pipeline (из imblearn.pipeline)\n",
    "pipe = Pipeline([('vectorizer', TfidfVectorizer(stop_words=stop_words)),\n",
    "                 ('sampler', SMOTE(random_state=12345)),\n",
    "                 ('clf', LogisticRegression(random_state=12345))])"
   ]
  },
  {
   "cell_type": "markdown",
   "id": "40d4fc6c",
   "metadata": {},
   "source": [
    "Ниже приведены уже уточненные гиперпараметры."
   ]
  },
  {
   "cell_type": "code",
   "execution_count": 30,
   "id": "6690a975",
   "metadata": {},
   "outputs": [],
   "source": [
    "# создание сетки гиперпараметров\n",
    "parameters = [\n",
    "    {\n",
    "        'clf': [LogisticRegression(max_iter=1000, random_state=12345)],\n",
    "        'clf__C': [4],\n",
    "        'sampler': [SMOTE(random_state=12345), RandomUnderSampler(random_state=12345)]\n",
    "    },\n",
    "    {\n",
    "        'clf': [LogisticRegression(max_iter=1000, class_weight='balanced', random_state=12345)],\n",
    "        'clf__C': range(7, 8),\n",
    "        'sampler': [None]\n",
    "    },    \n",
    "    {\n",
    "        'clf': [LGBMClassifier(random_state=12345)],\n",
    "        'clf__max_depth': range(4, 5),\n",
    "        'clf__n_estimators': range(480, 481),\n",
    "        'clf__learning_rate': [0.1],\n",
    "        'sampler': [RandomUnderSampler(random_state=12345)]\n",
    "    },\n",
    "    {\n",
    "        'clf': [LGBMClassifier(class_weight='balanced', random_state=12345)],\n",
    "        'clf__max_depth': range(6, 7),\n",
    "        'clf__n_estimators': [900],\n",
    "        'clf__learning_rate': [0.1],\n",
    "        'sampler': [None]\n",
    "    },    \n",
    "    {\n",
    "        'clf': [CatBoostClassifier(verbose=0, random_state=12345)],\n",
    "        'clf__n_estimators': [650],\n",
    "        'clf__max_depth': range(4, 5),\n",
    "        'clf__learning_rate': [0.1],\n",
    "        'sampler': [RandomUnderSampler(random_state=12345)]\n",
    "    }\n",
    "]"
   ]
  },
  {
   "cell_type": "code",
   "execution_count": 31,
   "id": "9d4b0a53",
   "metadata": {},
   "outputs": [],
   "source": [
    "# список с названиями моделей\n",
    "model_list = ['LogisticRegression_sampler', \n",
    "              'LogisticRegression_balanced', \n",
    "              'LGBMClassifier_sampler',\n",
    "              'LGBMClassifier_balanced',\n",
    "              'CatBoostClassifier_sampler']"
   ]
  },
  {
   "cell_type": "code",
   "execution_count": 32,
   "id": "828584bb",
   "metadata": {},
   "outputs": [
    {
     "name": "stdout",
     "output_type": "stream",
     "text": [
      "Fitting 5 folds for each of 2 candidates, totalling 10 fits\n",
      "Fitting 5 folds for each of 1 candidates, totalling 5 fits\n",
      "Fitting 5 folds for each of 1 candidates, totalling 5 fits\n",
      "Fitting 5 folds for each of 1 candidates, totalling 5 fits\n",
      "Fitting 5 folds for each of 1 candidates, totalling 5 fits\n",
      "CPU times: total: 24min 30s\n",
      "Wall time: 7min 58s\n"
     ]
    }
   ],
   "source": [
    "%%time\n",
    "\n",
    "# таблица с построенными моделями\n",
    "results = pd.DataFrame(columns=['модель', \n",
    "                                'f1',\n",
    "                                'Время обучения',\n",
    "                                'Время предсказания',\n",
    "                                'rs']\n",
    ")\n",
    "\n",
    "# обучение нескольких классификаторов, сохранение результатов\n",
    "for params, model_name in zip(parameters, model_list):\n",
    "    # создание экземпляра RandomizedSearchCV\n",
    "    rs = RandomizedSearchCV(\n",
    "                    pipe,\n",
    "                    params,\n",
    "                    n_iter=30,\n",
    "                    cv=5,\n",
    "                    verbose=1,\n",
    "                    random_state=12345,\n",
    "                    scoring='f1',\n",
    "                    n_jobs=-1,\n",
    "                    error_score='raise')\n",
    "    # запуск поиска по сетке\n",
    "    rs.fit(X_train, y_train)\n",
    "    # результаты кросс-валидации\n",
    "    cv_results = pd.DataFrame(rs.cv_results_)\n",
    "    fit_time = cv_results[cv_results['rank_test_score'] == 1]['mean_fit_time'].values[0]\n",
    "    predict_time = cv_results[cv_results['rank_test_score'] == 1]['mean_score_time'].values[0]\n",
    "    dict_to_add = {'модель': model_name,\n",
    "                   'rs': rs,\n",
    "                   'f1': rs.best_score_,\n",
    "                   'Время обучения': fit_time,\n",
    "                   'Время предсказания': predict_time,\n",
    "                   'rs': rs}\n",
    "#     results = results.append(dict_to_add, ignore_index=True)\n",
    "    results = pd.concat([results, pd.DataFrame(dict_to_add, index=[0])], ignore_index=True)"
   ]
  },
  {
   "cell_type": "code",
   "execution_count": 33,
   "id": "90b2e194",
   "metadata": {},
   "outputs": [
    {
     "data": {
      "text/html": [
       "<div>\n",
       "<style scoped>\n",
       "    .dataframe tbody tr th:only-of-type {\n",
       "        vertical-align: middle;\n",
       "    }\n",
       "\n",
       "    .dataframe tbody tr th {\n",
       "        vertical-align: top;\n",
       "    }\n",
       "\n",
       "    .dataframe thead th {\n",
       "        text-align: right;\n",
       "    }\n",
       "</style>\n",
       "<table border=\"1\" class=\"dataframe\">\n",
       "  <thead>\n",
       "    <tr style=\"text-align: right;\">\n",
       "      <th></th>\n",
       "      <th>модель</th>\n",
       "      <th>f1</th>\n",
       "      <th>Время обучения</th>\n",
       "      <th>Время предсказания</th>\n",
       "      <th>rs</th>\n",
       "    </tr>\n",
       "  </thead>\n",
       "  <tbody>\n",
       "    <tr>\n",
       "      <th>0</th>\n",
       "      <td>LogisticRegression_balanced</td>\n",
       "      <td>0.76</td>\n",
       "      <td>11.84</td>\n",
       "      <td>0.89</td>\n",
       "      <td>RandomizedSearchCV(cv=5, error_score='raise',\\...</td>\n",
       "    </tr>\n",
       "    <tr>\n",
       "      <th>1</th>\n",
       "      <td>LGBMClassifier_balanced</td>\n",
       "      <td>0.76</td>\n",
       "      <td>123.67</td>\n",
       "      <td>2.53</td>\n",
       "      <td>RandomizedSearchCV(cv=5, error_score='raise',\\...</td>\n",
       "    </tr>\n",
       "    <tr>\n",
       "      <th>2</th>\n",
       "      <td>LGBMClassifier_sampler</td>\n",
       "      <td>0.72</td>\n",
       "      <td>9.79</td>\n",
       "      <td>1.44</td>\n",
       "      <td>RandomizedSearchCV(cv=5, error_score='raise',\\...</td>\n",
       "    </tr>\n",
       "    <tr>\n",
       "      <th>3</th>\n",
       "      <td>CatBoostClassifier_sampler</td>\n",
       "      <td>0.72</td>\n",
       "      <td>138.68</td>\n",
       "      <td>1.42</td>\n",
       "      <td>RandomizedSearchCV(cv=5, error_score='raise',\\...</td>\n",
       "    </tr>\n",
       "    <tr>\n",
       "      <th>4</th>\n",
       "      <td>LogisticRegression_sampler</td>\n",
       "      <td>0.69</td>\n",
       "      <td>7.12</td>\n",
       "      <td>1.06</td>\n",
       "      <td>RandomizedSearchCV(cv=5, error_score='raise',\\...</td>\n",
       "    </tr>\n",
       "  </tbody>\n",
       "</table>\n",
       "</div>"
      ],
      "text/plain": [
       "                        модель   f1  Время обучения  Время предсказания  \\\n",
       "0  LogisticRegression_balanced 0.76           11.84                0.89   \n",
       "1      LGBMClassifier_balanced 0.76          123.67                2.53   \n",
       "2       LGBMClassifier_sampler 0.72            9.79                1.44   \n",
       "3   CatBoostClassifier_sampler 0.72          138.68                1.42   \n",
       "4   LogisticRegression_sampler 0.69            7.12                1.06   \n",
       "\n",
       "                                                  rs  \n",
       "0  RandomizedSearchCV(cv=5, error_score='raise',\\...  \n",
       "1  RandomizedSearchCV(cv=5, error_score='raise',\\...  \n",
       "2  RandomizedSearchCV(cv=5, error_score='raise',\\...  \n",
       "3  RandomizedSearchCV(cv=5, error_score='raise',\\...  \n",
       "4  RandomizedSearchCV(cv=5, error_score='raise',\\...  "
      ]
     },
     "execution_count": 33,
     "metadata": {},
     "output_type": "execute_result"
    }
   ],
   "source": [
    "results = results.sort_values(by='f1', ascending=False).reset_index(drop=True)\n",
    "results"
   ]
  },
  {
   "cell_type": "code",
   "execution_count": 34,
   "id": "30aeb86b",
   "metadata": {},
   "outputs": [
    {
     "data": {
      "text/plain": [
       "{'sampler': None,\n",
       " 'clf__C': 7,\n",
       " 'clf': LogisticRegression(C=7, class_weight='balanced', max_iter=1000,\n",
       "                    random_state=12345)}"
      ]
     },
     "execution_count": 34,
     "metadata": {},
     "output_type": "execute_result"
    }
   ],
   "source": [
    "# гиперпараметры LogisticRegression_balanced\n",
    "results['rs'][0].best_params_"
   ]
  },
  {
   "cell_type": "code",
   "execution_count": 35,
   "id": "5550cc92",
   "metadata": {},
   "outputs": [
    {
     "data": {
      "text/plain": [
       "{'sampler': None,\n",
       " 'clf__n_estimators': 900,\n",
       " 'clf__max_depth': 6,\n",
       " 'clf__learning_rate': 0.1,\n",
       " 'clf': LGBMClassifier(class_weight='balanced', max_depth=6, n_estimators=900,\n",
       "                random_state=12345)}"
      ]
     },
     "execution_count": 35,
     "metadata": {},
     "output_type": "execute_result"
    }
   ],
   "source": [
    "# гиперпараметры LGBMClassifier_balanced\n",
    "results['rs'][1].best_params_"
   ]
  },
  {
   "cell_type": "code",
   "execution_count": 36,
   "id": "9071c337",
   "metadata": {},
   "outputs": [
    {
     "data": {
      "text/plain": [
       "{'sampler': RandomUnderSampler(random_state=12345),\n",
       " 'clf__n_estimators': 650,\n",
       " 'clf__max_depth': 4,\n",
       " 'clf__learning_rate': 0.1,\n",
       " 'clf': <catboost.core.CatBoostClassifier at 0x1758016c1c0>}"
      ]
     },
     "execution_count": 36,
     "metadata": {},
     "output_type": "execute_result"
    }
   ],
   "source": [
    "# гиперпараметры CatBoostClassifier_sampler\n",
    "results['rs'][3].best_params_"
   ]
  },
  {
   "cell_type": "markdown",
   "id": "418bb583",
   "metadata": {},
   "source": [
    "### Вывод\n",
    "\n",
    "На этом этапе работы:\n",
    "\n",
    "* обучены модели классификации - `LogisticRegression`, `CatBoost` и `LightGBM`, выбрана модель с наилучшим значением метрики качества *F1-мера* с помощью поиска по гиперпараметрам, ей оказалась модель **`LogisticRegression`** с ***F1-мера* = 0.76**, взвешиванием классов, `C=7`, `max_iter=1000`. Также она выигрывает и по скоростям обучения и предсказания. \n",
    "\n",
    "* Остальные модели имеют следующие гиперпараметры и метрику качества:\n",
    "\n",
    "    * `LGBMClassifier`: ***F1-мера* = 0.76**, `max_depth=6`, `n_estimators=900`, `learning_rate=0.1`, с взвешиванием классов,\n",
    "    \n",
    "    * `CatBoostClassifier`: ***F1-мера* = 0.72**, `max_depth=4`, `n_estimators=650`, `learning_rate=0.1`, техника RandomUnderSampler."
   ]
  },
  {
   "cell_type": "markdown",
   "id": "c984be80",
   "metadata": {},
   "source": [
    "## Проверка качества модели на тестовой выборке"
   ]
  },
  {
   "cell_type": "markdown",
   "id": "f9928360",
   "metadata": {},
   "source": [
    "Проверим качество модели, получившей лучший результат значения метрики *F1-мера* на кроссвалидации, на тестовой выборке."
   ]
  },
  {
   "cell_type": "code",
   "execution_count": 37,
   "id": "c17082c0",
   "metadata": {},
   "outputs": [
    {
     "name": "stdout",
     "output_type": "stream",
     "text": [
      "F1-мера наилучшей модели на тестовой выборке: 0.76\n"
     ]
    }
   ],
   "source": [
    "predictions_test = results['rs'][0].predict(X_test)\n",
    "print(f'F1-мера наилучшей модели на тестовой выборке:{f1_score(y_test, predictions_test): .2f}')"
   ]
  },
  {
   "cell_type": "code",
   "execution_count": 38,
   "id": "e32e8b23",
   "metadata": {},
   "outputs": [
    {
     "name": "stdout",
     "output_type": "stream",
     "text": [
      "AUC-ROC: 0.97\n"
     ]
    }
   ],
   "source": [
    "auc_roc = roc_auc_score(y_test, results['rs'][0].predict_proba(X_test)[:, 1])\n",
    "print(f'AUC-ROC:{auc_roc: .2f}')"
   ]
  },
  {
   "cell_type": "markdown",
   "id": "4d8e432d",
   "metadata": {},
   "source": [
    "Результат работы алгоритма на тестовой выборке визуализируем с помощью ROC-кривой."
   ]
  },
  {
   "cell_type": "code",
   "execution_count": 39,
   "id": "11b8180d",
   "metadata": {},
   "outputs": [
    {
     "data": {
      "image/png": "[encoded data removed]",
      "text/plain": [
       "<Figure size 800x600 with 1 Axes>"
      ]
     },
     "metadata": {},
     "output_type": "display_data"
    }
   ],
   "source": [
    "# значения FPR, TPR и рассмотренные пороги\n",
    "fpr, tpr, thresholds = roc_curve(y_test, results['rs'][0].predict_proba(X_test)[:, 1])\n",
    "\n",
    "plt.figure(figsize=(8, 6))\n",
    "\n",
    "# построение графика ROC-кривой модели случайного леса\n",
    "plt.plot(fpr, tpr, label='Модель логистической регрессии (AUC-ROC = %0.2f)' % auc_roc)\n",
    "# построение графика ROC-кривой случайной модели\n",
    "plt.plot([0, 1], [0, 1], linestyle='--', label='Случайная модель (AUC-ROC = 0.5)')\n",
    "\n",
    "# границы осей \n",
    "plt.xlim([0.0, 1.0])\n",
    "plt.ylim([0.0, 1.0])\n",
    "\n",
    "# подписи осей\n",
    "plt.xlabel('False Positive Rate')\n",
    "plt.ylabel('True Positive Rate')\n",
    "# заголовок графика\n",
    "plt.title('ROC-кривая')\n",
    "# расположение легенды\n",
    "plt.legend(loc='lower right');"
   ]
  },
  {
   "cell_type": "markdown",
   "id": "b09a6695",
   "metadata": {},
   "source": [
    "### Вывод\n",
    "\n",
    "Таким образом, модель `LogisticRegression` на тестовой выборке показала результат метрики качества ***F1-мера* = 0.76**. Значение ***AUC-ROC* = 0.97**, следовательно, модель адекватна, ее качество лучше, чем у случайной модели."
   ]
  },
  {
   "cell_type": "markdown",
   "id": "9fb80132",
   "metadata": {},
   "source": [
    "## Общий вывод"
   ]
  },
  {
   "cell_type": "markdown",
   "id": "310bb195",
   "metadata": {},
   "source": [
    "Было проведено исследование, позволившее построить модель для задачи классификации, которая прогнозирует эмоциональную окраску англоязычного текста. Модель поможет компании искать токсичные комментарии и отправлять их на модерацию. Входные данные - набор данных с разметкой о токсичности правок клиентов.\n",
    "\n",
    "При изучении файла с данными не выявлено пропусков и дубликатов, обнаружен дисбаланс классов 9:1. Проведена очистка и лемматизация текстов в датасете.\n",
    "\n",
    "Данные были разделены на обучающую и тестовую выборки в соотношении 3:1 с учетом дисбаланса классов в целевом признаке. Для определения тональности текстов были найдены величины TF-IDF для обучающего и тестового корпусов.\n",
    "\n",
    "Были построены и обучены модели `LogisticRegression`, `LGBMClassifier` и `CatBoostClassifier` с помощью поиска по сетке гиперпараметров с учетом необходимости балансировки классов. В результате по критерию качества предсказания наилучшей оказалась модель **`LogisticRegression` с *F1-мера* = 0.76** (с взвешиванием классов).\n",
    "\n",
    "Окончательная проверка качества модели `LogisticRegression` на тестовой выборке показала значение ***F1-мера* 0.76** и ***AUC-ROC* 0.97**.\n",
    "\n",
    "Адекватность построенной модели подтвердилась путем сравнения значения метрики *AUC-ROC* со значением **0.5** для **случайной модели**."
   ]
  }
 ],
 "metadata": {
  "kernelspec": {
   "display_name": "Python 3 (ipykernel)",
   "language": "python",
   "name": "python3"
  },
  "language_info": {
   "codemirror_mode": {
    "name": "ipython",
    "version": 3
   },
   "file_extension": ".py",
   "mimetype": "text/x-python",
   "name": "python",
   "nbconvert_exporter": "python",
   "pygments_lexer": "ipython3",
   "version": "3.9.13"
  },
  "toc": {
   "base_numbering": 1,
   "nav_menu": {},
   "number_sections": true,
   "sideBar": true,
   "skip_h1_title": true,
   "title_cell": "Содержание",
   "title_sidebar": "Contents",
   "toc_cell": true,
   "toc_position": {
    "height": "759px",
    "left": "151px",
    "top": "111.125px",
    "width": "521px"
   },
   "toc_section_display": true,
   "toc_window_display": true
  }
 },
 "nbformat": 4,
 "nbformat_minor": 5
}
