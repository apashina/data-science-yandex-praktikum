{
 "cells": [
  {
   "cell_type": "markdown",
   "id": "de05ecca",
   "metadata": {},
   "source": [
    "# Прогнозирование оттока клиентов банка"
   ]
  },
  {
   "cell_type": "markdown",
   "id": "1d9869ba",
   "metadata": {},
   "source": [
    "### Описание проекта\n",
    "\n",
    "Из «Бета-Банка» стали уходить клиенты. Каждый месяц. Немного, но заметно. Банковские маркетологи посчитали: сохранять текущих клиентов дешевле, чем привлекать новых. В нашем распоряжении исторические данные о поведении клиентов и расторжении договоров с банком.\n",
    "\n",
    "**Цель проекта** – спрогнозировать, уйдёт клиент из банка в ближайшее время или нет. Требуется построить модель с предельно большим значением F1-меры, дополнительно сравнивая последнее со значением AUC-ROC.\n",
    "\n",
    "**Задачи:** \n",
    "\n",
    "- загрузить и подготовить данные,\n",
    "- исследовать баланс классов, обучить модель без учёта дисбаланса,\n",
    "- улучшить качество модели, учитывая дисбаланс классов; обучить разные модели и найти лучшую,\n",
    "- провести финальное тестирование.\n",
    "\n",
    "**Описание данных**\n",
    "\n",
    "**Признаки**\n",
    "\n",
    "* `RowNumber` — индекс строки в данных,\n",
    "* `CustomerId` — уникальный идентификатор клиента,\n",
    "* `Surname` — фамилия,\n",
    "* `CreditScore` — кредитный рейтинг,\n",
    "* `Geography` — страна проживания,\n",
    "* `Gender` — пол,\n",
    "* `Age` — возраст,\n",
    "* `Tenure` — сколько лет человек является клиентом банка,\n",
    "* `Balance` — баланс на счёте,\n",
    "* `NumOfProducts` — количество продуктов банка, используемых клиентом,\n",
    "* `HasCrCard` — наличие кредитной карты,\n",
    "* `IsActiveMember` — активность клиента,\n",
    "* `EstimatedSalary` — предполагаемая зарплата.\n",
    "\n",
    "**Целевой признак**\n",
    "\n",
    "* `Exited` — факт ухода клиента."
   ]
  },
  {
   "cell_type": "markdown",
   "id": "5d11bf55",
   "metadata": {},
   "source": [
    "### Подготовка данных\n",
    "\n",
    "#### Изучение и предобработка данных"
   ]
  },
  {
   "cell_type": "code",
   "execution_count": 2,
   "id": "19f81f90",
   "metadata": {},
   "outputs": [],
   "source": [
    "# импортирование необходимых библиотек\n",
    "import re\n",
    "\n",
    "import pandas as pd\n",
    "import numpy as np\n",
    "import matplotlib.pyplot as plt\n",
    "import warnings\n",
    "warnings.filterwarnings('ignore')\n",
    "\n",
    "from sklearn.model_selection import train_test_split\n",
    "from sklearn.preprocessing import StandardScaler\n",
    "from sklearn.tree import DecisionTreeClassifier\n",
    "from sklearn.ensemble import RandomForestClassifier\n",
    "from sklearn.linear_model import LogisticRegression\n",
    "from sklearn.metrics import f1_score, roc_auc_score, roc_curve\n",
    "from imblearn.under_sampling import RandomUnderSampler\n",
    "from imblearn.over_sampling import SMOTE"
   ]
  },
  {
   "cell_type": "code",
   "execution_count": 3,
   "id": "9867ed5f",
   "metadata": {},
   "outputs": [],
   "source": [
    "# загрузка данных\n",
    "try:\n",
    "    data = pd.read_csv('/datasets/Churn.csv')\n",
    "except:\n",
    "    data = pd.read_csv('E:/ЯП/Курс_спец_Data_Science/7_Обучение с учителем/Churn.csv')"
   ]
  },
  {
   "cell_type": "code",
   "execution_count": 5,
   "id": "4ac3fe13",
   "metadata": {},
   "outputs": [
    {
     "data": {
      "text/html": [
       "<div>\n",
       "<style scoped>\n",
       "    .dataframe tbody tr th:only-of-type {\n",
       "        vertical-align: middle;\n",
       "    }\n",
       "\n",
       "    .dataframe tbody tr th {\n",
       "        vertical-align: top;\n",
       "    }\n",
       "\n",
       "    .dataframe thead th {\n",
       "        text-align: right;\n",
       "    }\n",
       "</style>\n",
       "<table border=\"1\" class=\"dataframe\">\n",
       "  <thead>\n",
       "    <tr style=\"text-align: right;\">\n",
       "      <th></th>\n",
       "      <th>RowNumber</th>\n",
       "      <th>CustomerId</th>\n",
       "      <th>Surname</th>\n",
       "      <th>CreditScore</th>\n",
       "      <th>Geography</th>\n",
       "      <th>Gender</th>\n",
       "      <th>Age</th>\n",
       "      <th>Tenure</th>\n",
       "      <th>Balance</th>\n",
       "      <th>NumOfProducts</th>\n",
       "      <th>HasCrCard</th>\n",
       "      <th>IsActiveMember</th>\n",
       "      <th>EstimatedSalary</th>\n",
       "      <th>Exited</th>\n",
       "    </tr>\n",
       "  </thead>\n",
       "  <tbody>\n",
       "    <tr>\n",
       "      <th>0</th>\n",
       "      <td>1</td>\n",
       "      <td>15634602</td>\n",
       "      <td>Hargrave</td>\n",
       "      <td>619</td>\n",
       "      <td>France</td>\n",
       "      <td>Female</td>\n",
       "      <td>42</td>\n",
       "      <td>2.0</td>\n",
       "      <td>0.00</td>\n",
       "      <td>1</td>\n",
       "      <td>1</td>\n",
       "      <td>1</td>\n",
       "      <td>101348.88</td>\n",
       "      <td>1</td>\n",
       "    </tr>\n",
       "    <tr>\n",
       "      <th>1</th>\n",
       "      <td>2</td>\n",
       "      <td>15647311</td>\n",
       "      <td>Hill</td>\n",
       "      <td>608</td>\n",
       "      <td>Spain</td>\n",
       "      <td>Female</td>\n",
       "      <td>41</td>\n",
       "      <td>1.0</td>\n",
       "      <td>83807.86</td>\n",
       "      <td>1</td>\n",
       "      <td>0</td>\n",
       "      <td>1</td>\n",
       "      <td>112542.58</td>\n",
       "      <td>0</td>\n",
       "    </tr>\n",
       "    <tr>\n",
       "      <th>2</th>\n",
       "      <td>3</td>\n",
       "      <td>15619304</td>\n",
       "      <td>Onio</td>\n",
       "      <td>502</td>\n",
       "      <td>France</td>\n",
       "      <td>Female</td>\n",
       "      <td>42</td>\n",
       "      <td>8.0</td>\n",
       "      <td>159660.80</td>\n",
       "      <td>3</td>\n",
       "      <td>1</td>\n",
       "      <td>0</td>\n",
       "      <td>113931.57</td>\n",
       "      <td>1</td>\n",
       "    </tr>\n",
       "    <tr>\n",
       "      <th>3</th>\n",
       "      <td>4</td>\n",
       "      <td>15701354</td>\n",
       "      <td>Boni</td>\n",
       "      <td>699</td>\n",
       "      <td>France</td>\n",
       "      <td>Female</td>\n",
       "      <td>39</td>\n",
       "      <td>1.0</td>\n",
       "      <td>0.00</td>\n",
       "      <td>2</td>\n",
       "      <td>0</td>\n",
       "      <td>0</td>\n",
       "      <td>93826.63</td>\n",
       "      <td>0</td>\n",
       "    </tr>\n",
       "    <tr>\n",
       "      <th>4</th>\n",
       "      <td>5</td>\n",
       "      <td>15737888</td>\n",
       "      <td>Mitchell</td>\n",
       "      <td>850</td>\n",
       "      <td>Spain</td>\n",
       "      <td>Female</td>\n",
       "      <td>43</td>\n",
       "      <td>2.0</td>\n",
       "      <td>125510.82</td>\n",
       "      <td>1</td>\n",
       "      <td>1</td>\n",
       "      <td>1</td>\n",
       "      <td>79084.10</td>\n",
       "      <td>0</td>\n",
       "    </tr>\n",
       "  </tbody>\n",
       "</table>\n",
       "</div>"
      ],
      "text/plain": [
       "   RowNumber  CustomerId   Surname  CreditScore Geography  Gender  Age  \\\n",
       "0          1    15634602  Hargrave          619    France  Female   42   \n",
       "1          2    15647311      Hill          608     Spain  Female   41   \n",
       "2          3    15619304      Onio          502    France  Female   42   \n",
       "3          4    15701354      Boni          699    France  Female   39   \n",
       "4          5    15737888  Mitchell          850     Spain  Female   43   \n",
       "\n",
       "   Tenure    Balance  NumOfProducts  HasCrCard  IsActiveMember  \\\n",
       "0     2.0       0.00              1          1               1   \n",
       "1     1.0   83807.86              1          0               1   \n",
       "2     8.0  159660.80              3          1               0   \n",
       "3     1.0       0.00              2          0               0   \n",
       "4     2.0  125510.82              1          1               1   \n",
       "\n",
       "   EstimatedSalary  Exited  \n",
       "0        101348.88       1  \n",
       "1        112542.58       0  \n",
       "2        113931.57       1  \n",
       "3         93826.63       0  \n",
       "4         79084.10       0  "
      ]
     },
     "execution_count": 5,
     "metadata": {},
     "output_type": "execute_result"
    }
   ],
   "source": [
    "# вывод первых 5 строк датафрейма\n",
    "data.head()"
   ]
  },
  {
   "cell_type": "markdown",
   "id": "377d3077",
   "metadata": {},
   "source": [
    "Замечаем, что необходимо привести названия колонок к стилю snake_case. "
   ]
  },
  {
   "cell_type": "code",
   "execution_count": 6,
   "id": "94fc9d00",
   "metadata": {},
   "outputs": [],
   "source": [
    "# список названий колонок\n",
    "columns = data.columns.values.tolist()"
   ]
  },
  {
   "cell_type": "code",
   "execution_count": 7,
   "id": "503cbe69",
   "metadata": {},
   "outputs": [],
   "source": [
    "# приведение названий колонок к регистру snake_case\n",
    "columns = [re.sub(r'(?<!^)(?=[A-Z])', '_', x).lower() for x in columns]"
   ]
  },
  {
   "cell_type": "code",
   "execution_count": 8,
   "id": "d4e6bd15",
   "metadata": {},
   "outputs": [
    {
     "data": {
      "text/plain": [
       "['row_number',\n",
       " 'customer_id',\n",
       " 'surname',\n",
       " 'credit_score',\n",
       " 'geography',\n",
       " 'gender',\n",
       " 'age',\n",
       " 'tenure',\n",
       " 'balance',\n",
       " 'num_of_products',\n",
       " 'has_cr_card',\n",
       " 'is_active_member',\n",
       " 'estimated_salary',\n",
       " 'exited']"
      ]
     },
     "execution_count": 8,
     "metadata": {},
     "output_type": "execute_result"
    }
   ],
   "source": [
    "# check\n",
    "columns"
   ]
  },
  {
   "cell_type": "code",
   "execution_count": 9,
   "id": "3d479587",
   "metadata": {},
   "outputs": [],
   "source": [
    "# присваивание столбцам отформатированных названий\n",
    "data.columns = columns"
   ]
  },
  {
   "cell_type": "markdown",
   "id": "c4ff3151",
   "metadata": {},
   "source": [
    "Посмотрим на размер датафрейма, тип значений и наличие пропущенных значений в колонках:"
   ]
  },
  {
   "cell_type": "code",
   "execution_count": 10,
   "id": "8a2aa9ab",
   "metadata": {},
   "outputs": [
    {
     "name": "stdout",
     "output_type": "stream",
     "text": [
      "<class 'pandas.core.frame.DataFrame'>\n",
      "RangeIndex: 10000 entries, 0 to 9999\n",
      "Data columns (total 14 columns):\n",
      " #   Column            Non-Null Count  Dtype  \n",
      "---  ------            --------------  -----  \n",
      " 0   row_number        10000 non-null  int64  \n",
      " 1   customer_id       10000 non-null  int64  \n",
      " 2   surname           10000 non-null  object \n",
      " 3   credit_score      10000 non-null  int64  \n",
      " 4   geography         10000 non-null  object \n",
      " 5   gender            10000 non-null  object \n",
      " 6   age               10000 non-null  int64  \n",
      " 7   tenure            9091 non-null   float64\n",
      " 8   balance           10000 non-null  float64\n",
      " 9   num_of_products   10000 non-null  int64  \n",
      " 10  has_cr_card       10000 non-null  int64  \n",
      " 11  is_active_member  10000 non-null  int64  \n",
      " 12  estimated_salary  10000 non-null  float64\n",
      " 13  exited            10000 non-null  int64  \n",
      "dtypes: float64(3), int64(8), object(3)\n",
      "memory usage: 1.1+ MB\n"
     ]
    }
   ],
   "source": [
    "data.info()"
   ]
  },
  {
   "cell_type": "markdown",
   "id": "ff2c5cbe",
   "metadata": {},
   "source": [
    "Исследуемый датафрейм состоит из 10000 строк и 14 столбцов. В колонке `tenure` имеются пропущенные значения. Типы переменных в колонках соответствуют описанию данных за исключением столбца `tenure` - значения должны быть целочисленными."
   ]
  },
  {
   "cell_type": "code",
   "execution_count": 11,
   "id": "d0472f27",
   "metadata": {},
   "outputs": [
    {
     "data": {
      "text/plain": [
       "0"
      ]
     },
     "execution_count": 11,
     "metadata": {},
     "output_type": "execute_result"
    }
   ],
   "source": [
    "# проверка на явные дубликаты\n",
    "data.duplicated().sum()"
   ]
  },
  {
   "cell_type": "code",
   "execution_count": 12,
   "id": "5a561bfb",
   "metadata": {},
   "outputs": [
    {
     "data": {
      "text/plain": [
       "0"
      ]
     },
     "execution_count": 12,
     "metadata": {},
     "output_type": "execute_result"
    }
   ],
   "source": [
    "# проверка на дубликаты в колонке 'customer_id'\n",
    "data.customer_id.duplicated().sum()"
   ]
  },
  {
   "cell_type": "code",
   "execution_count": 13,
   "id": "c2c3e358",
   "metadata": {},
   "outputs": [
    {
     "data": {
      "text/plain": [
       "9.09"
      ]
     },
     "execution_count": 13,
     "metadata": {},
     "output_type": "execute_result"
    }
   ],
   "source": [
    "# процент пропусков в колонке `tenure`\n",
    "data.tenure.isna().sum() / 100"
   ]
  },
  {
   "cell_type": "code",
   "execution_count": 14,
   "id": "bfbc4907",
   "metadata": {},
   "outputs": [
    {
     "data": {
      "text/plain": [
       "array([ 2.,  1.,  8.,  7.,  4.,  6.,  3., 10.,  5.,  9.,  0., nan])"
      ]
     },
     "execution_count": 14,
     "metadata": {},
     "output_type": "execute_result"
    }
   ],
   "source": [
    "# список уникальных значений в колонке `tenure`\n",
    "data.tenure.unique()"
   ]
  },
  {
   "cell_type": "code",
   "execution_count": 15,
   "id": "c8b89cef",
   "metadata": {},
   "outputs": [
    {
     "data": {
      "text/html": [
       "<div>\n",
       "<style scoped>\n",
       "    .dataframe tbody tr th:only-of-type {\n",
       "        vertical-align: middle;\n",
       "    }\n",
       "\n",
       "    .dataframe tbody tr th {\n",
       "        vertical-align: top;\n",
       "    }\n",
       "\n",
       "    .dataframe thead th {\n",
       "        text-align: right;\n",
       "    }\n",
       "</style>\n",
       "<table border=\"1\" class=\"dataframe\">\n",
       "  <thead>\n",
       "    <tr style=\"text-align: right;\">\n",
       "      <th></th>\n",
       "      <th>tenure</th>\n",
       "    </tr>\n",
       "  </thead>\n",
       "  <tbody>\n",
       "    <tr>\n",
       "      <th>1.0</th>\n",
       "      <td>0.104719</td>\n",
       "    </tr>\n",
       "    <tr>\n",
       "      <th>2.0</th>\n",
       "      <td>0.104499</td>\n",
       "    </tr>\n",
       "    <tr>\n",
       "      <th>8.0</th>\n",
       "      <td>0.102629</td>\n",
       "    </tr>\n",
       "    <tr>\n",
       "      <th>3.0</th>\n",
       "      <td>0.102079</td>\n",
       "    </tr>\n",
       "    <tr>\n",
       "      <th>5.0</th>\n",
       "      <td>0.101969</td>\n",
       "    </tr>\n",
       "    <tr>\n",
       "      <th>7.0</th>\n",
       "      <td>0.101749</td>\n",
       "    </tr>\n",
       "    <tr>\n",
       "      <th>4.0</th>\n",
       "      <td>0.097349</td>\n",
       "    </tr>\n",
       "    <tr>\n",
       "      <th>9.0</th>\n",
       "      <td>0.097019</td>\n",
       "    </tr>\n",
       "    <tr>\n",
       "      <th>6.0</th>\n",
       "      <td>0.096909</td>\n",
       "    </tr>\n",
       "    <tr>\n",
       "      <th>10.0</th>\n",
       "      <td>0.049060</td>\n",
       "    </tr>\n",
       "    <tr>\n",
       "      <th>0.0</th>\n",
       "      <td>0.042020</td>\n",
       "    </tr>\n",
       "  </tbody>\n",
       "</table>\n",
       "</div>"
      ],
      "text/plain": [
       "        tenure\n",
       "1.0   0.104719\n",
       "2.0   0.104499\n",
       "8.0   0.102629\n",
       "3.0   0.102079\n",
       "5.0   0.101969\n",
       "7.0   0.101749\n",
       "4.0   0.097349\n",
       "9.0   0.097019\n",
       "6.0   0.096909\n",
       "10.0  0.049060\n",
       "0.0   0.042020"
      ]
     },
     "execution_count": 15,
     "metadata": {},
     "output_type": "execute_result"
    }
   ],
   "source": [
    "# уникальные значения в столбце в порядке убывания частоты их упоминаний\n",
    "data.tenure.value_counts(normalize=True).to_frame()"
   ]
  },
  {
   "cell_type": "code",
   "execution_count": 16,
   "id": "52711d17",
   "metadata": {},
   "outputs": [
    {
     "data": {
      "text/plain": [
       "-0.016761481514933837"
      ]
     },
     "execution_count": 16,
     "metadata": {},
     "output_type": "execute_result"
    }
   ],
   "source": [
    "# коэффициент корреляции между 'tenure' и 'exited'\n",
    "data['tenure'].corr(data['exited'])"
   ]
  },
  {
   "cell_type": "markdown",
   "id": "2bdec82b",
   "metadata": {},
   "source": [
    "Удалять 9 % записей из датасета из-за наличия пропусков в колонке `tenure` нецелесообразно. Корреляция между значениями в `tenure` и целевым признаком `exited` отсутсвует, скорее всего важность этой переменной для предсказания будет низкой. Заполним пропуски медианным значением."
   ]
  },
  {
   "cell_type": "code",
   "execution_count": 17,
   "id": "fc66887c",
   "metadata": {},
   "outputs": [],
   "source": [
    "# медианное значение в колонке 'tenure'\n",
    "tenure_median = data['tenure'].median()"
   ]
  },
  {
   "cell_type": "code",
   "execution_count": 18,
   "id": "16980d3b",
   "metadata": {},
   "outputs": [],
   "source": [
    "# замена пропусков на медиану \n",
    "data['tenure'].fillna(tenure_median, inplace=True)"
   ]
  },
  {
   "cell_type": "code",
   "execution_count": 19,
   "id": "d4418b76",
   "metadata": {},
   "outputs": [
    {
     "data": {
      "text/plain": [
       "0"
      ]
     },
     "execution_count": 19,
     "metadata": {},
     "output_type": "execute_result"
    }
   ],
   "source": [
    "# количество пропусков в колонке `tenure`\n",
    "data.tenure.isna().sum()"
   ]
  },
  {
   "cell_type": "code",
   "execution_count": 20,
   "id": "4ac23589",
   "metadata": {},
   "outputs": [],
   "source": [
    "# преобразование типа данных в целочисленный\n",
    "data['tenure'] = data['tenure'].astype('int64')"
   ]
  },
  {
   "cell_type": "code",
   "execution_count": 21,
   "id": "f31d758c",
   "metadata": {},
   "outputs": [
    {
     "data": {
      "text/html": [
       "<style type=\"text/css\">\n",
       "</style>\n",
       "<table id=\"T_430fb\">\n",
       "  <thead>\n",
       "    <tr>\n",
       "      <th class=\"blank level0\" >&nbsp;</th>\n",
       "      <th id=\"T_430fb_level0_col0\" class=\"col_heading level0 col0\" >count</th>\n",
       "      <th id=\"T_430fb_level0_col1\" class=\"col_heading level0 col1\" >mean</th>\n",
       "      <th id=\"T_430fb_level0_col2\" class=\"col_heading level0 col2\" >std</th>\n",
       "      <th id=\"T_430fb_level0_col3\" class=\"col_heading level0 col3\" >min</th>\n",
       "      <th id=\"T_430fb_level0_col4\" class=\"col_heading level0 col4\" >25%</th>\n",
       "      <th id=\"T_430fb_level0_col5\" class=\"col_heading level0 col5\" >50%</th>\n",
       "      <th id=\"T_430fb_level0_col6\" class=\"col_heading level0 col6\" >75%</th>\n",
       "      <th id=\"T_430fb_level0_col7\" class=\"col_heading level0 col7\" >max</th>\n",
       "    </tr>\n",
       "  </thead>\n",
       "  <tbody>\n",
       "    <tr>\n",
       "      <th id=\"T_430fb_level0_row0\" class=\"row_heading level0 row0\" >credit_score</th>\n",
       "      <td id=\"T_430fb_row0_col0\" class=\"data row0 col0\" >10000.0</td>\n",
       "      <td id=\"T_430fb_row0_col1\" class=\"data row0 col1\" >650.5</td>\n",
       "      <td id=\"T_430fb_row0_col2\" class=\"data row0 col2\" >96.7</td>\n",
       "      <td id=\"T_430fb_row0_col3\" class=\"data row0 col3\" >350.0</td>\n",
       "      <td id=\"T_430fb_row0_col4\" class=\"data row0 col4\" >584.0</td>\n",
       "      <td id=\"T_430fb_row0_col5\" class=\"data row0 col5\" >652.0</td>\n",
       "      <td id=\"T_430fb_row0_col6\" class=\"data row0 col6\" >718.0</td>\n",
       "      <td id=\"T_430fb_row0_col7\" class=\"data row0 col7\" >850.0</td>\n",
       "    </tr>\n",
       "    <tr>\n",
       "      <th id=\"T_430fb_level0_row1\" class=\"row_heading level0 row1\" >age</th>\n",
       "      <td id=\"T_430fb_row1_col0\" class=\"data row1 col0\" >10000.0</td>\n",
       "      <td id=\"T_430fb_row1_col1\" class=\"data row1 col1\" >38.9</td>\n",
       "      <td id=\"T_430fb_row1_col2\" class=\"data row1 col2\" >10.5</td>\n",
       "      <td id=\"T_430fb_row1_col3\" class=\"data row1 col3\" >18.0</td>\n",
       "      <td id=\"T_430fb_row1_col4\" class=\"data row1 col4\" >32.0</td>\n",
       "      <td id=\"T_430fb_row1_col5\" class=\"data row1 col5\" >37.0</td>\n",
       "      <td id=\"T_430fb_row1_col6\" class=\"data row1 col6\" >44.0</td>\n",
       "      <td id=\"T_430fb_row1_col7\" class=\"data row1 col7\" >92.0</td>\n",
       "    </tr>\n",
       "    <tr>\n",
       "      <th id=\"T_430fb_level0_row2\" class=\"row_heading level0 row2\" >tenure</th>\n",
       "      <td id=\"T_430fb_row2_col0\" class=\"data row2 col0\" >10000.0</td>\n",
       "      <td id=\"T_430fb_row2_col1\" class=\"data row2 col1\" >5.0</td>\n",
       "      <td id=\"T_430fb_row2_col2\" class=\"data row2 col2\" >2.8</td>\n",
       "      <td id=\"T_430fb_row2_col3\" class=\"data row2 col3\" >0.0</td>\n",
       "      <td id=\"T_430fb_row2_col4\" class=\"data row2 col4\" >3.0</td>\n",
       "      <td id=\"T_430fb_row2_col5\" class=\"data row2 col5\" >5.0</td>\n",
       "      <td id=\"T_430fb_row2_col6\" class=\"data row2 col6\" >7.0</td>\n",
       "      <td id=\"T_430fb_row2_col7\" class=\"data row2 col7\" >10.0</td>\n",
       "    </tr>\n",
       "    <tr>\n",
       "      <th id=\"T_430fb_level0_row3\" class=\"row_heading level0 row3\" >balance</th>\n",
       "      <td id=\"T_430fb_row3_col0\" class=\"data row3 col0\" >10000.0</td>\n",
       "      <td id=\"T_430fb_row3_col1\" class=\"data row3 col1\" >76485.9</td>\n",
       "      <td id=\"T_430fb_row3_col2\" class=\"data row3 col2\" >62397.4</td>\n",
       "      <td id=\"T_430fb_row3_col3\" class=\"data row3 col3\" >0.0</td>\n",
       "      <td id=\"T_430fb_row3_col4\" class=\"data row3 col4\" >0.0</td>\n",
       "      <td id=\"T_430fb_row3_col5\" class=\"data row3 col5\" >97198.5</td>\n",
       "      <td id=\"T_430fb_row3_col6\" class=\"data row3 col6\" >127644.2</td>\n",
       "      <td id=\"T_430fb_row3_col7\" class=\"data row3 col7\" >250898.1</td>\n",
       "    </tr>\n",
       "    <tr>\n",
       "      <th id=\"T_430fb_level0_row4\" class=\"row_heading level0 row4\" >estimated_salary</th>\n",
       "      <td id=\"T_430fb_row4_col0\" class=\"data row4 col0\" >10000.0</td>\n",
       "      <td id=\"T_430fb_row4_col1\" class=\"data row4 col1\" >100090.2</td>\n",
       "      <td id=\"T_430fb_row4_col2\" class=\"data row4 col2\" >57510.5</td>\n",
       "      <td id=\"T_430fb_row4_col3\" class=\"data row4 col3\" >11.6</td>\n",
       "      <td id=\"T_430fb_row4_col4\" class=\"data row4 col4\" >51002.1</td>\n",
       "      <td id=\"T_430fb_row4_col5\" class=\"data row4 col5\" >100193.9</td>\n",
       "      <td id=\"T_430fb_row4_col6\" class=\"data row4 col6\" >149388.2</td>\n",
       "      <td id=\"T_430fb_row4_col7\" class=\"data row4 col7\" >199992.5</td>\n",
       "    </tr>\n",
       "  </tbody>\n",
       "</table>\n"
      ],
      "text/plain": [
       "<pandas.io.formats.style.Styler at 0x2cfff816e20>"
      ]
     },
     "execution_count": 21,
     "metadata": {},
     "output_type": "execute_result"
    }
   ],
   "source": [
    "# список основных статистик для колонок с количественными данными\n",
    "data[['credit_score', 'age', 'tenure', 'balance', 'estimated_salary']].describe().T.style.format(\"{:.1f}\")"
   ]
  },
  {
   "cell_type": "code",
   "execution_count": 22,
   "id": "5cc9eaac",
   "metadata": {},
   "outputs": [
    {
     "data": {
      "image/png": "[encoded data removed]",
      "text/plain": [
       "<Figure size 1440x1080 with 12 Axes>"
      ]
     },
     "metadata": {
      "needs_background": "light"
     },
     "output_type": "display_data"
    }
   ],
   "source": [
    "# общая гистограмма для всех столбцов таблицы\n",
    "data.hist(figsize=(20, 15), bins=50);"
   ]
  },
  {
   "cell_type": "markdown",
   "id": "6b43da8c",
   "metadata": {},
   "source": [
    "Из приведенных выше таблицы и гистограмм не наблюдается аномалий и существенных выбросов в данных. Также видим, что:\n",
    "\n",
    "* большинству клиентов банка от 30 до 40 лет,\n",
    "* клиенты чаще пользуются одним или двумя продуктами банка, \n",
    "* большинство имеет кредитную карту и не имеет баланса на счете,\n",
    "* активных клиентов незначительно больше чем неактивных,\n",
    "* оставшихся клиентов почти в 4 раза больше чем ушедших."
   ]
  },
  {
   "cell_type": "code",
   "execution_count": 23,
   "id": "b95b870c",
   "metadata": {},
   "outputs": [
    {
     "data": {
      "text/html": [
       "<style type=\"text/css\">\n",
       "</style>\n",
       "<table id=\"T_75862\">\n",
       "  <thead>\n",
       "    <tr>\n",
       "      <th class=\"blank level0\" >&nbsp;</th>\n",
       "      <th id=\"T_75862_level0_col0\" class=\"col_heading level0 col0\" >exited</th>\n",
       "    </tr>\n",
       "  </thead>\n",
       "  <tbody>\n",
       "    <tr>\n",
       "      <th id=\"T_75862_level0_row0\" class=\"row_heading level0 row0\" >0</th>\n",
       "      <td id=\"T_75862_row0_col0\" class=\"data row0 col0\" >0.80</td>\n",
       "    </tr>\n",
       "    <tr>\n",
       "      <th id=\"T_75862_level0_row1\" class=\"row_heading level0 row1\" >1</th>\n",
       "      <td id=\"T_75862_row1_col0\" class=\"data row1 col0\" >0.20</td>\n",
       "    </tr>\n",
       "  </tbody>\n",
       "</table>\n"
      ],
      "text/plain": [
       "<pandas.io.formats.style.Styler at 0x2cf8266fa00>"
      ]
     },
     "execution_count": 23,
     "metadata": {},
     "output_type": "execute_result"
    }
   ],
   "source": [
    "# уникальные значения в столбце 'exited' в порядке убывания частоты их упоминаний\n",
    "data.exited.value_counts(normalize=True).to_frame().style.format(\"{:.2f}\")"
   ]
  },
  {
   "cell_type": "markdown",
   "id": "b2259b5f",
   "metadata": {},
   "source": [
    "Наблюдается дисбаланс классов в целевом признаке."
   ]
  },
  {
   "cell_type": "code",
   "execution_count": 24,
   "id": "196795f5",
   "metadata": {},
   "outputs": [
    {
     "data": {
      "text/html": [
       "<style type=\"text/css\">\n",
       "</style>\n",
       "<table id=\"T_1efd5\">\n",
       "  <thead>\n",
       "    <tr>\n",
       "      <th class=\"blank level0\" >&nbsp;</th>\n",
       "      <th id=\"T_1efd5_level0_col0\" class=\"col_heading level0 col0\" >gender</th>\n",
       "    </tr>\n",
       "  </thead>\n",
       "  <tbody>\n",
       "    <tr>\n",
       "      <th id=\"T_1efd5_level0_row0\" class=\"row_heading level0 row0\" >Male</th>\n",
       "      <td id=\"T_1efd5_row0_col0\" class=\"data row0 col0\" >0.55</td>\n",
       "    </tr>\n",
       "    <tr>\n",
       "      <th id=\"T_1efd5_level0_row1\" class=\"row_heading level0 row1\" >Female</th>\n",
       "      <td id=\"T_1efd5_row1_col0\" class=\"data row1 col0\" >0.45</td>\n",
       "    </tr>\n",
       "  </tbody>\n",
       "</table>\n"
      ],
      "text/plain": [
       "<pandas.io.formats.style.Styler at 0x2cf8266f880>"
      ]
     },
     "execution_count": 24,
     "metadata": {},
     "output_type": "execute_result"
    }
   ],
   "source": [
    "# уникальные значения в столбце 'gender' в порядке убывания частоты их упоминаний\n",
    "data.gender.value_counts(normalize=True).to_frame().style.format(\"{:.2f}\")"
   ]
  },
  {
   "cell_type": "markdown",
   "id": "56e5255e",
   "metadata": {},
   "source": [
    "Клиентов мужского пола примерно на 10 % больше чем женского."
   ]
  },
  {
   "cell_type": "code",
   "execution_count": 25,
   "id": "098cdbe6",
   "metadata": {},
   "outputs": [
    {
     "data": {
      "text/html": [
       "<style type=\"text/css\">\n",
       "</style>\n",
       "<table id=\"T_0ec1c\">\n",
       "  <thead>\n",
       "    <tr>\n",
       "      <th class=\"blank level0\" >&nbsp;</th>\n",
       "      <th id=\"T_0ec1c_level0_col0\" class=\"col_heading level0 col0\" >geography</th>\n",
       "    </tr>\n",
       "  </thead>\n",
       "  <tbody>\n",
       "    <tr>\n",
       "      <th id=\"T_0ec1c_level0_row0\" class=\"row_heading level0 row0\" >France</th>\n",
       "      <td id=\"T_0ec1c_row0_col0\" class=\"data row0 col0\" >0.50</td>\n",
       "    </tr>\n",
       "    <tr>\n",
       "      <th id=\"T_0ec1c_level0_row1\" class=\"row_heading level0 row1\" >Germany</th>\n",
       "      <td id=\"T_0ec1c_row1_col0\" class=\"data row1 col0\" >0.25</td>\n",
       "    </tr>\n",
       "    <tr>\n",
       "      <th id=\"T_0ec1c_level0_row2\" class=\"row_heading level0 row2\" >Spain</th>\n",
       "      <td id=\"T_0ec1c_row2_col0\" class=\"data row2 col0\" >0.25</td>\n",
       "    </tr>\n",
       "  </tbody>\n",
       "</table>\n"
      ],
      "text/plain": [
       "<pandas.io.formats.style.Styler at 0x2cf82dd7eb0>"
      ]
     },
     "execution_count": 25,
     "metadata": {},
     "output_type": "execute_result"
    }
   ],
   "source": [
    "# уникальные значения в столбце 'geography' в порядке убывания частоты их упоминаний\n",
    "data.geography.value_counts(normalize=True).to_frame().style.format(\"{:.2f}\")"
   ]
  },
  {
   "cell_type": "markdown",
   "id": "d6333c87",
   "metadata": {},
   "source": [
    "Около половины клиентов проживают во Франции и по четверти - в Германии и Испании."
   ]
  },
  {
   "cell_type": "markdown",
   "id": "cab7544b",
   "metadata": {},
   "source": [
    "#### Подготовка данных для машинного обучения"
   ]
  },
  {
   "cell_type": "markdown",
   "id": "2d520ecc",
   "metadata": {},
   "source": [
    "Информация, содержащаяся в колонках `row_number`, `customer_id`, и `surname`, не несет в себе ценности и не потребуется для последующего обучения моделей, поэтому удалим эти колонки."
   ]
  },
  {
   "cell_type": "code",
   "execution_count": 26,
   "id": "86f2c4fb",
   "metadata": {},
   "outputs": [],
   "source": [
    "# удаление столбцов из исходного датафрейма\n",
    "data.drop(['row_number', 'customer_id', 'surname'], axis=1, inplace=True)"
   ]
  },
  {
   "cell_type": "code",
   "execution_count": 27,
   "id": "91e4fbb0",
   "metadata": {},
   "outputs": [
    {
     "data": {
      "text/html": [
       "<div>\n",
       "<style scoped>\n",
       "    .dataframe tbody tr th:only-of-type {\n",
       "        vertical-align: middle;\n",
       "    }\n",
       "\n",
       "    .dataframe tbody tr th {\n",
       "        vertical-align: top;\n",
       "    }\n",
       "\n",
       "    .dataframe thead th {\n",
       "        text-align: right;\n",
       "    }\n",
       "</style>\n",
       "<table border=\"1\" class=\"dataframe\">\n",
       "  <thead>\n",
       "    <tr style=\"text-align: right;\">\n",
       "      <th></th>\n",
       "      <th>credit_score</th>\n",
       "      <th>geography</th>\n",
       "      <th>gender</th>\n",
       "      <th>age</th>\n",
       "      <th>tenure</th>\n",
       "      <th>balance</th>\n",
       "      <th>num_of_products</th>\n",
       "      <th>has_cr_card</th>\n",
       "      <th>is_active_member</th>\n",
       "      <th>estimated_salary</th>\n",
       "      <th>exited</th>\n",
       "    </tr>\n",
       "  </thead>\n",
       "  <tbody>\n",
       "    <tr>\n",
       "      <th>0</th>\n",
       "      <td>619</td>\n",
       "      <td>France</td>\n",
       "      <td>Female</td>\n",
       "      <td>42</td>\n",
       "      <td>2</td>\n",
       "      <td>0.00</td>\n",
       "      <td>1</td>\n",
       "      <td>1</td>\n",
       "      <td>1</td>\n",
       "      <td>101348.88</td>\n",
       "      <td>1</td>\n",
       "    </tr>\n",
       "    <tr>\n",
       "      <th>1</th>\n",
       "      <td>608</td>\n",
       "      <td>Spain</td>\n",
       "      <td>Female</td>\n",
       "      <td>41</td>\n",
       "      <td>1</td>\n",
       "      <td>83807.86</td>\n",
       "      <td>1</td>\n",
       "      <td>0</td>\n",
       "      <td>1</td>\n",
       "      <td>112542.58</td>\n",
       "      <td>0</td>\n",
       "    </tr>\n",
       "    <tr>\n",
       "      <th>2</th>\n",
       "      <td>502</td>\n",
       "      <td>France</td>\n",
       "      <td>Female</td>\n",
       "      <td>42</td>\n",
       "      <td>8</td>\n",
       "      <td>159660.80</td>\n",
       "      <td>3</td>\n",
       "      <td>1</td>\n",
       "      <td>0</td>\n",
       "      <td>113931.57</td>\n",
       "      <td>1</td>\n",
       "    </tr>\n",
       "  </tbody>\n",
       "</table>\n",
       "</div>"
      ],
      "text/plain": [
       "   credit_score geography  gender  age  tenure    balance  num_of_products  \\\n",
       "0           619    France  Female   42       2       0.00                1   \n",
       "1           608     Spain  Female   41       1   83807.86                1   \n",
       "2           502    France  Female   42       8  159660.80                3   \n",
       "\n",
       "   has_cr_card  is_active_member  estimated_salary  exited  \n",
       "0            1                 1         101348.88       1  \n",
       "1            0                 1         112542.58       0  \n",
       "2            1                 0         113931.57       1  "
      ]
     },
     "execution_count": 27,
     "metadata": {},
     "output_type": "execute_result"
    }
   ],
   "source": [
    "# check\n",
    "data.head(3)"
   ]
  },
  {
   "cell_type": "markdown",
   "id": "0def8b34",
   "metadata": {},
   "source": [
    "##### Прямое кодирование\n",
    "\n",
    "В датафрейме присутсвуют категориальные признаки - `geography` и `gender`. С помощью техники прямого кодирования (One-Hot Encoding) преобразуем их в численные признаки."
   ]
  },
  {
   "cell_type": "code",
   "execution_count": 28,
   "id": "208f180b",
   "metadata": {},
   "outputs": [],
   "source": [
    "# прямое кодирование\n",
    "data = pd.get_dummies(data, drop_first=True)"
   ]
  },
  {
   "cell_type": "code",
   "execution_count": 29,
   "id": "6d3063a8",
   "metadata": {},
   "outputs": [
    {
     "data": {
      "text/html": [
       "<div>\n",
       "<style scoped>\n",
       "    .dataframe tbody tr th:only-of-type {\n",
       "        vertical-align: middle;\n",
       "    }\n",
       "\n",
       "    .dataframe tbody tr th {\n",
       "        vertical-align: top;\n",
       "    }\n",
       "\n",
       "    .dataframe thead th {\n",
       "        text-align: right;\n",
       "    }\n",
       "</style>\n",
       "<table border=\"1\" class=\"dataframe\">\n",
       "  <thead>\n",
       "    <tr style=\"text-align: right;\">\n",
       "      <th></th>\n",
       "      <th>credit_score</th>\n",
       "      <th>age</th>\n",
       "      <th>tenure</th>\n",
       "      <th>balance</th>\n",
       "      <th>num_of_products</th>\n",
       "      <th>has_cr_card</th>\n",
       "      <th>is_active_member</th>\n",
       "      <th>estimated_salary</th>\n",
       "      <th>exited</th>\n",
       "      <th>geography_Germany</th>\n",
       "      <th>geography_Spain</th>\n",
       "      <th>gender_Male</th>\n",
       "    </tr>\n",
       "  </thead>\n",
       "  <tbody>\n",
       "    <tr>\n",
       "      <th>0</th>\n",
       "      <td>619</td>\n",
       "      <td>42</td>\n",
       "      <td>2</td>\n",
       "      <td>0.00</td>\n",
       "      <td>1</td>\n",
       "      <td>1</td>\n",
       "      <td>1</td>\n",
       "      <td>101348.88</td>\n",
       "      <td>1</td>\n",
       "      <td>0</td>\n",
       "      <td>0</td>\n",
       "      <td>0</td>\n",
       "    </tr>\n",
       "    <tr>\n",
       "      <th>1</th>\n",
       "      <td>608</td>\n",
       "      <td>41</td>\n",
       "      <td>1</td>\n",
       "      <td>83807.86</td>\n",
       "      <td>1</td>\n",
       "      <td>0</td>\n",
       "      <td>1</td>\n",
       "      <td>112542.58</td>\n",
       "      <td>0</td>\n",
       "      <td>0</td>\n",
       "      <td>1</td>\n",
       "      <td>0</td>\n",
       "    </tr>\n",
       "    <tr>\n",
       "      <th>2</th>\n",
       "      <td>502</td>\n",
       "      <td>42</td>\n",
       "      <td>8</td>\n",
       "      <td>159660.80</td>\n",
       "      <td>3</td>\n",
       "      <td>1</td>\n",
       "      <td>0</td>\n",
       "      <td>113931.57</td>\n",
       "      <td>1</td>\n",
       "      <td>0</td>\n",
       "      <td>0</td>\n",
       "      <td>0</td>\n",
       "    </tr>\n",
       "  </tbody>\n",
       "</table>\n",
       "</div>"
      ],
      "text/plain": [
       "   credit_score  age  tenure    balance  num_of_products  has_cr_card  \\\n",
       "0           619   42       2       0.00                1            1   \n",
       "1           608   41       1   83807.86                1            0   \n",
       "2           502   42       8  159660.80                3            1   \n",
       "\n",
       "   is_active_member  estimated_salary  exited  geography_Germany  \\\n",
       "0                 1         101348.88       1                  0   \n",
       "1                 1         112542.58       0                  0   \n",
       "2                 0         113931.57       1                  0   \n",
       "\n",
       "   geography_Spain  gender_Male  \n",
       "0                0            0  \n",
       "1                1            0  \n",
       "2                0            0  "
      ]
     },
     "execution_count": 29,
     "metadata": {},
     "output_type": "execute_result"
    }
   ],
   "source": [
    "# check\n",
    "data.head(3)"
   ]
  },
  {
   "cell_type": "code",
   "execution_count": 30,
   "id": "3ba7ddcb",
   "metadata": {},
   "outputs": [],
   "source": [
    "# переименовывание названий колонок\n",
    "data.rename(columns={'geography_Germany': 'is_germany', 'geography_Spain': 'is_spain', 'gender_Male': 'is_male'},\n",
    "            inplace=True)"
   ]
  },
  {
   "cell_type": "code",
   "execution_count": 31,
   "id": "b055e98d",
   "metadata": {},
   "outputs": [
    {
     "data": {
      "text/html": [
       "<div>\n",
       "<style scoped>\n",
       "    .dataframe tbody tr th:only-of-type {\n",
       "        vertical-align: middle;\n",
       "    }\n",
       "\n",
       "    .dataframe tbody tr th {\n",
       "        vertical-align: top;\n",
       "    }\n",
       "\n",
       "    .dataframe thead th {\n",
       "        text-align: right;\n",
       "    }\n",
       "</style>\n",
       "<table border=\"1\" class=\"dataframe\">\n",
       "  <thead>\n",
       "    <tr style=\"text-align: right;\">\n",
       "      <th></th>\n",
       "      <th>credit_score</th>\n",
       "      <th>age</th>\n",
       "      <th>tenure</th>\n",
       "      <th>balance</th>\n",
       "      <th>num_of_products</th>\n",
       "      <th>has_cr_card</th>\n",
       "      <th>is_active_member</th>\n",
       "      <th>estimated_salary</th>\n",
       "      <th>exited</th>\n",
       "      <th>is_germany</th>\n",
       "      <th>is_spain</th>\n",
       "      <th>is_male</th>\n",
       "    </tr>\n",
       "  </thead>\n",
       "  <tbody>\n",
       "    <tr>\n",
       "      <th>0</th>\n",
       "      <td>619</td>\n",
       "      <td>42</td>\n",
       "      <td>2</td>\n",
       "      <td>0.00</td>\n",
       "      <td>1</td>\n",
       "      <td>1</td>\n",
       "      <td>1</td>\n",
       "      <td>101348.88</td>\n",
       "      <td>1</td>\n",
       "      <td>0</td>\n",
       "      <td>0</td>\n",
       "      <td>0</td>\n",
       "    </tr>\n",
       "    <tr>\n",
       "      <th>1</th>\n",
       "      <td>608</td>\n",
       "      <td>41</td>\n",
       "      <td>1</td>\n",
       "      <td>83807.86</td>\n",
       "      <td>1</td>\n",
       "      <td>0</td>\n",
       "      <td>1</td>\n",
       "      <td>112542.58</td>\n",
       "      <td>0</td>\n",
       "      <td>0</td>\n",
       "      <td>1</td>\n",
       "      <td>0</td>\n",
       "    </tr>\n",
       "    <tr>\n",
       "      <th>2</th>\n",
       "      <td>502</td>\n",
       "      <td>42</td>\n",
       "      <td>8</td>\n",
       "      <td>159660.80</td>\n",
       "      <td>3</td>\n",
       "      <td>1</td>\n",
       "      <td>0</td>\n",
       "      <td>113931.57</td>\n",
       "      <td>1</td>\n",
       "      <td>0</td>\n",
       "      <td>0</td>\n",
       "      <td>0</td>\n",
       "    </tr>\n",
       "  </tbody>\n",
       "</table>\n",
       "</div>"
      ],
      "text/plain": [
       "   credit_score  age  tenure    balance  num_of_products  has_cr_card  \\\n",
       "0           619   42       2       0.00                1            1   \n",
       "1           608   41       1   83807.86                1            0   \n",
       "2           502   42       8  159660.80                3            1   \n",
       "\n",
       "   is_active_member  estimated_salary  exited  is_germany  is_spain  is_male  \n",
       "0                 1         101348.88       1           0         0        0  \n",
       "1                 1         112542.58       0           0         1        0  \n",
       "2                 0         113931.57       1           0         0        0  "
      ]
     },
     "execution_count": 31,
     "metadata": {},
     "output_type": "execute_result"
    }
   ],
   "source": [
    "# check\n",
    "data.head(3)"
   ]
  },
  {
   "cell_type": "markdown",
   "id": "ce1db7d9",
   "metadata": {},
   "source": [
    "##### Разделение исходных данных на выборки\n",
    "\n",
    "Сохраним в отдельные переменные признаки и целевой признак."
   ]
  },
  {
   "cell_type": "code",
   "execution_count": 32,
   "id": "13bda69b",
   "metadata": {},
   "outputs": [],
   "source": [
    "# признаки\n",
    "features = data.drop(['exited'], axis=1)\n",
    "# целевой признак\n",
    "target = data['exited']"
   ]
  },
  {
   "cell_type": "markdown",
   "id": "b1c1c955",
   "metadata": {},
   "source": [
    "Разобьем данные на 3 части - обучающую, валидационную и тестовую выборки, в соотношении 3:1:1.\n",
    "\n",
    "Пропорцию классов при разделении будем задавать в соответствии с распределением по классам в целевом признаке `target`."
   ]
  },
  {
   "cell_type": "code",
   "execution_count": 33,
   "id": "f67c1bdc",
   "metadata": {},
   "outputs": [],
   "source": [
    "# выделение обучающей выборки (60%) и валидационной с тестовой (40%)\n",
    "features_train, features_valid, target_train, target_valid = train_test_split(features,\n",
    "                                                                              target, \n",
    "                                                                              test_size=0.4,\n",
    "                                                                              random_state=12345,\n",
    "                                                                              stratify=target)"
   ]
  },
  {
   "cell_type": "code",
   "execution_count": 34,
   "id": "d9eeff29",
   "metadata": {},
   "outputs": [],
   "source": [
    "# повтороное деление валидационной выборки пополам\n",
    "# выделение валидационной выборки (20%) и тестовой (20%)\n",
    "features_valid, features_test, target_valid, target_test = train_test_split(features_valid,\n",
    "                                                                            target_valid,\n",
    "                                                                            test_size=0.5,\n",
    "                                                                            random_state=12345,\n",
    "                                                                            stratify=target_valid)"
   ]
  },
  {
   "cell_type": "code",
   "execution_count": 35,
   "id": "b38be4c8",
   "metadata": {},
   "outputs": [
    {
     "name": "stdout",
     "output_type": "stream",
     "text": [
      "Количество строк в target по классам: [7963 2037], размер target: 10000\n",
      "Количество строк в target_train по классам: [4778 1222], размер target_train: 6000\n",
      "Количество строк в target_valid по классам: [1592  408], размер target_valid: 2000\n",
      "Количество строк в target_test по классам: [1593  407], размер target_test: 2000\n"
     ]
    }
   ],
   "source": [
    "print(f'Количество строк в target по классам: {np.bincount(target)}, размер target: {target.shape[0]}')\n",
    "print(f'Количество строк в target_train по классам: {np.bincount(target_train)}, размер target_train: {target_train.shape[0]}')\n",
    "print(f'Количество строк в target_valid по классам: {np.bincount(target_valid)}, размер target_valid: {target_valid.shape[0]}')\n",
    "print(f'Количество строк в target_test по классам: {np.bincount(target_test)}, размер target_test: {target_test.shape[0]}')"
   ]
  },
  {
   "cell_type": "markdown",
   "id": "fdc9f1f5",
   "metadata": {},
   "source": [
    "##### Масштабирование количественных признаков\n",
    "\n",
    "Значения количественных признаков и их разбросы значительно отличаются друг от друга, поэтому приведем эти признаки к одному масштабу. Воспользуемся методом стандартизации данных."
   ]
  },
  {
   "cell_type": "code",
   "execution_count": 36,
   "id": "c8a3dfde",
   "metadata": {},
   "outputs": [],
   "source": [
    "# количественные признаки, требующие масштабирования \n",
    "numeric = ['credit_score', 'age', 'tenure', 'balance', 'num_of_products', 'estimated_salary']"
   ]
  },
  {
   "cell_type": "code",
   "execution_count": 37,
   "id": "ff03c907",
   "metadata": {},
   "outputs": [],
   "source": [
    "# объект структуры для стандартизации данных\n",
    "scaler = StandardScaler()"
   ]
  },
  {
   "cell_type": "code",
   "execution_count": 38,
   "id": "2e4b85cd",
   "metadata": {},
   "outputs": [
    {
     "data": {
      "text/html": [
       "<style>#sk-container-id-1 {color: black;background-color: white;}#sk-container-id-1 pre{padding: 0;}#sk-container-id-1 div.sk-toggleable {background-color: white;}#sk-container-id-1 label.sk-toggleable__label {cursor: pointer;display: block;width: 100%;margin-bottom: 0;padding: 0.3em;box-sizing: border-box;text-align: center;}#sk-container-id-1 label.sk-toggleable__label-arrow:before {content: \"▸\";float: left;margin-right: 0.25em;color: #696969;}#sk-container-id-1 label.sk-toggleable__label-arrow:hover:before {color: black;}#sk-container-id-1 div.sk-estimator:hover label.sk-toggleable__label-arrow:before {color: black;}#sk-container-id-1 div.sk-toggleable__content {max-height: 0;max-width: 0;overflow: hidden;text-align: left;background-color: #f0f8ff;}#sk-container-id-1 div.sk-toggleable__content pre {margin: 0.2em;color: black;border-radius: 0.25em;background-color: #f0f8ff;}#sk-container-id-1 input.sk-toggleable__control:checked~div.sk-toggleable__content {max-height: 200px;max-width: 100%;overflow: auto;}#sk-container-id-1 input.sk-toggleable__control:checked~label.sk-toggleable__label-arrow:before {content: \"▾\";}#sk-container-id-1 div.sk-estimator input.sk-toggleable__control:checked~label.sk-toggleable__label {background-color: #d4ebff;}#sk-container-id-1 div.sk-label input.sk-toggleable__control:checked~label.sk-toggleable__label {background-color: #d4ebff;}#sk-container-id-1 input.sk-hidden--visually {border: 0;clip: rect(1px 1px 1px 1px);clip: rect(1px, 1px, 1px, 1px);height: 1px;margin: -1px;overflow: hidden;padding: 0;position: absolute;width: 1px;}#sk-container-id-1 div.sk-estimator {font-family: monospace;background-color: #f0f8ff;border: 1px dotted black;border-radius: 0.25em;box-sizing: border-box;margin-bottom: 0.5em;}#sk-container-id-1 div.sk-estimator:hover {background-color: #d4ebff;}#sk-container-id-1 div.sk-parallel-item::after {content: \"\";width: 100%;border-bottom: 1px solid gray;flex-grow: 1;}#sk-container-id-1 div.sk-label:hover label.sk-toggleable__label {background-color: #d4ebff;}#sk-container-id-1 div.sk-serial::before {content: \"\";position: absolute;border-left: 1px solid gray;box-sizing: border-box;top: 0;bottom: 0;left: 50%;z-index: 0;}#sk-container-id-1 div.sk-serial {display: flex;flex-direction: column;align-items: center;background-color: white;padding-right: 0.2em;padding-left: 0.2em;position: relative;}#sk-container-id-1 div.sk-item {position: relative;z-index: 1;}#sk-container-id-1 div.sk-parallel {display: flex;align-items: stretch;justify-content: center;background-color: white;position: relative;}#sk-container-id-1 div.sk-item::before, #sk-container-id-1 div.sk-parallel-item::before {content: \"\";position: absolute;border-left: 1px solid gray;box-sizing: border-box;top: 0;bottom: 0;left: 50%;z-index: -1;}#sk-container-id-1 div.sk-parallel-item {display: flex;flex-direction: column;z-index: 1;position: relative;background-color: white;}#sk-container-id-1 div.sk-parallel-item:first-child::after {align-self: flex-end;width: 50%;}#sk-container-id-1 div.sk-parallel-item:last-child::after {align-self: flex-start;width: 50%;}#sk-container-id-1 div.sk-parallel-item:only-child::after {width: 0;}#sk-container-id-1 div.sk-dashed-wrapped {border: 1px dashed gray;margin: 0 0.4em 0.5em 0.4em;box-sizing: border-box;padding-bottom: 0.4em;background-color: white;}#sk-container-id-1 div.sk-label label {font-family: monospace;font-weight: bold;display: inline-block;line-height: 1.2em;}#sk-container-id-1 div.sk-label-container {text-align: center;}#sk-container-id-1 div.sk-container {/* jupyter's `normalize.less` sets `[hidden] { display: none; }` but bootstrap.min.css set `[hidden] { display: none !important; }` so we also need the `!important` here to be able to override the default hidden behavior on the sphinx rendered scikit-learn.org. See: https://github.com/scikit-learn/scikit-learn/issues/21755 */display: inline-block !important;position: relative;}#sk-container-id-1 div.sk-text-repr-fallback {display: none;}</style><div id=\"sk-container-id-1\" class=\"sk-top-container\"><div class=\"sk-text-repr-fallback\"><pre>StandardScaler()</pre><b>In a Jupyter environment, please rerun this cell to show the HTML representation or trust the notebook. <br />On GitHub, the HTML representation is unable to render, please try loading this page with nbviewer.org.</b></div><div class=\"sk-container\" hidden><div class=\"sk-item\"><div class=\"sk-estimator sk-toggleable\"><input class=\"sk-toggleable__control sk-hidden--visually\" id=\"sk-estimator-id-1\" type=\"checkbox\" checked><label for=\"sk-estimator-id-1\" class=\"sk-toggleable__label sk-toggleable__label-arrow\">StandardScaler</label><div class=\"sk-toggleable__content\"><pre>StandardScaler()</pre></div></div></div></div></div>"
      ],
      "text/plain": [
       "StandardScaler()"
      ]
     },
     "execution_count": 38,
     "metadata": {},
     "output_type": "execute_result"
    }
   ],
   "source": [
    "# настройка объекта scaler на обучающих данных\n",
    "scaler.fit(features_train[numeric])"
   ]
  },
  {
   "cell_type": "code",
   "execution_count": 39,
   "id": "9eefa10f",
   "metadata": {},
   "outputs": [],
   "source": [
    "# масштабирование количественных признаков обучающей, валидационной и тестовой выборок\n",
    "features_train[numeric] = scaler.transform(features_train[numeric])\n",
    "features_valid[numeric] = scaler.transform(features_valid[numeric])\n",
    "features_test[numeric] = scaler.transform(features_test[numeric])"
   ]
  },
  {
   "cell_type": "code",
   "execution_count": 40,
   "id": "c8911c60",
   "metadata": {},
   "outputs": [
    {
     "data": {
      "text/html": [
       "<div>\n",
       "<style scoped>\n",
       "    .dataframe tbody tr th:only-of-type {\n",
       "        vertical-align: middle;\n",
       "    }\n",
       "\n",
       "    .dataframe tbody tr th {\n",
       "        vertical-align: top;\n",
       "    }\n",
       "\n",
       "    .dataframe thead th {\n",
       "        text-align: right;\n",
       "    }\n",
       "</style>\n",
       "<table border=\"1\" class=\"dataframe\">\n",
       "  <thead>\n",
       "    <tr style=\"text-align: right;\">\n",
       "      <th></th>\n",
       "      <th>credit_score</th>\n",
       "      <th>age</th>\n",
       "      <th>tenure</th>\n",
       "      <th>balance</th>\n",
       "      <th>num_of_products</th>\n",
       "      <th>has_cr_card</th>\n",
       "      <th>is_active_member</th>\n",
       "      <th>estimated_salary</th>\n",
       "      <th>is_germany</th>\n",
       "      <th>is_spain</th>\n",
       "      <th>is_male</th>\n",
       "    </tr>\n",
       "  </thead>\n",
       "  <tbody>\n",
       "    <tr>\n",
       "      <th>2837</th>\n",
       "      <td>-1.040434</td>\n",
       "      <td>0.953312</td>\n",
       "      <td>0.360600</td>\n",
       "      <td>0.774657</td>\n",
       "      <td>-0.914708</td>\n",
       "      <td>0</td>\n",
       "      <td>1</td>\n",
       "      <td>-0.119110</td>\n",
       "      <td>1</td>\n",
       "      <td>0</td>\n",
       "      <td>0</td>\n",
       "    </tr>\n",
       "    <tr>\n",
       "      <th>9925</th>\n",
       "      <td>0.454006</td>\n",
       "      <td>-0.095244</td>\n",
       "      <td>-0.002786</td>\n",
       "      <td>1.910540</td>\n",
       "      <td>-0.914708</td>\n",
       "      <td>1</td>\n",
       "      <td>1</td>\n",
       "      <td>-0.258658</td>\n",
       "      <td>0</td>\n",
       "      <td>0</td>\n",
       "      <td>0</td>\n",
       "    </tr>\n",
       "    <tr>\n",
       "      <th>8746</th>\n",
       "      <td>0.103585</td>\n",
       "      <td>-0.476537</td>\n",
       "      <td>1.087371</td>\n",
       "      <td>0.481608</td>\n",
       "      <td>0.820981</td>\n",
       "      <td>0</td>\n",
       "      <td>1</td>\n",
       "      <td>1.422836</td>\n",
       "      <td>0</td>\n",
       "      <td>0</td>\n",
       "      <td>1</td>\n",
       "    </tr>\n",
       "  </tbody>\n",
       "</table>\n",
       "</div>"
      ],
      "text/plain": [
       "      credit_score       age    tenure   balance  num_of_products  \\\n",
       "2837     -1.040434  0.953312  0.360600  0.774657        -0.914708   \n",
       "9925      0.454006 -0.095244 -0.002786  1.910540        -0.914708   \n",
       "8746      0.103585 -0.476537  1.087371  0.481608         0.820981   \n",
       "\n",
       "      has_cr_card  is_active_member  estimated_salary  is_germany  is_spain  \\\n",
       "2837            0                 1         -0.119110           1         0   \n",
       "9925            1                 1         -0.258658           0         0   \n",
       "8746            0                 1          1.422836           0         0   \n",
       "\n",
       "      is_male  \n",
       "2837        0  \n",
       "9925        0  \n",
       "8746        1  "
      ]
     },
     "execution_count": 40,
     "metadata": {},
     "output_type": "execute_result"
    }
   ],
   "source": [
    "# check\n",
    "features_train.head(3)"
   ]
  },
  {
   "cell_type": "code",
   "execution_count": 41,
   "id": "adf92ba1",
   "metadata": {},
   "outputs": [
    {
     "data": {
      "text/html": [
       "<div>\n",
       "<style scoped>\n",
       "    .dataframe tbody tr th:only-of-type {\n",
       "        vertical-align: middle;\n",
       "    }\n",
       "\n",
       "    .dataframe tbody tr th {\n",
       "        vertical-align: top;\n",
       "    }\n",
       "\n",
       "    .dataframe thead th {\n",
       "        text-align: right;\n",
       "    }\n",
       "</style>\n",
       "<table border=\"1\" class=\"dataframe\">\n",
       "  <thead>\n",
       "    <tr style=\"text-align: right;\">\n",
       "      <th></th>\n",
       "      <th>credit_score</th>\n",
       "      <th>age</th>\n",
       "      <th>tenure</th>\n",
       "      <th>balance</th>\n",
       "      <th>num_of_products</th>\n",
       "      <th>has_cr_card</th>\n",
       "      <th>is_active_member</th>\n",
       "      <th>estimated_salary</th>\n",
       "      <th>is_germany</th>\n",
       "      <th>is_spain</th>\n",
       "      <th>is_male</th>\n",
       "    </tr>\n",
       "  </thead>\n",
       "  <tbody>\n",
       "    <tr>\n",
       "      <th>6612</th>\n",
       "      <td>-1.524838</td>\n",
       "      <td>2.383160</td>\n",
       "      <td>-0.729557</td>\n",
       "      <td>1.011655</td>\n",
       "      <td>-0.914708</td>\n",
       "      <td>0</td>\n",
       "      <td>1</td>\n",
       "      <td>0.010275</td>\n",
       "      <td>0</td>\n",
       "      <td>0</td>\n",
       "      <td>0</td>\n",
       "    </tr>\n",
       "    <tr>\n",
       "      <th>519</th>\n",
       "      <td>0.587990</td>\n",
       "      <td>1.811221</td>\n",
       "      <td>0.360600</td>\n",
       "      <td>0.213192</td>\n",
       "      <td>-0.914708</td>\n",
       "      <td>0</td>\n",
       "      <td>1</td>\n",
       "      <td>0.453089</td>\n",
       "      <td>0</td>\n",
       "      <td>0</td>\n",
       "      <td>1</td>\n",
       "    </tr>\n",
       "    <tr>\n",
       "      <th>1609</th>\n",
       "      <td>-0.318980</td>\n",
       "      <td>-0.381213</td>\n",
       "      <td>1.087371</td>\n",
       "      <td>0.893896</td>\n",
       "      <td>-0.914708</td>\n",
       "      <td>1</td>\n",
       "      <td>0</td>\n",
       "      <td>-0.603508</td>\n",
       "      <td>0</td>\n",
       "      <td>0</td>\n",
       "      <td>0</td>\n",
       "    </tr>\n",
       "  </tbody>\n",
       "</table>\n",
       "</div>"
      ],
      "text/plain": [
       "      credit_score       age    tenure   balance  num_of_products  \\\n",
       "6612     -1.524838  2.383160 -0.729557  1.011655        -0.914708   \n",
       "519       0.587990  1.811221  0.360600  0.213192        -0.914708   \n",
       "1609     -0.318980 -0.381213  1.087371  0.893896        -0.914708   \n",
       "\n",
       "      has_cr_card  is_active_member  estimated_salary  is_germany  is_spain  \\\n",
       "6612            0                 1          0.010275           0         0   \n",
       "519             0                 1          0.453089           0         0   \n",
       "1609            1                 0         -0.603508           0         0   \n",
       "\n",
       "      is_male  \n",
       "6612        0  \n",
       "519         1  \n",
       "1609        0  "
      ]
     },
     "execution_count": 41,
     "metadata": {},
     "output_type": "execute_result"
    }
   ],
   "source": [
    "# check\n",
    "features_valid.head(3)"
   ]
  },
  {
   "cell_type": "code",
   "execution_count": 42,
   "id": "3e3a8013",
   "metadata": {
    "scrolled": true
   },
   "outputs": [
    {
     "data": {
      "text/html": [
       "<div>\n",
       "<style scoped>\n",
       "    .dataframe tbody tr th:only-of-type {\n",
       "        vertical-align: middle;\n",
       "    }\n",
       "\n",
       "    .dataframe tbody tr th {\n",
       "        vertical-align: top;\n",
       "    }\n",
       "\n",
       "    .dataframe thead th {\n",
       "        text-align: right;\n",
       "    }\n",
       "</style>\n",
       "<table border=\"1\" class=\"dataframe\">\n",
       "  <thead>\n",
       "    <tr style=\"text-align: right;\">\n",
       "      <th></th>\n",
       "      <th>credit_score</th>\n",
       "      <th>age</th>\n",
       "      <th>tenure</th>\n",
       "      <th>balance</th>\n",
       "      <th>num_of_products</th>\n",
       "      <th>has_cr_card</th>\n",
       "      <th>is_active_member</th>\n",
       "      <th>estimated_salary</th>\n",
       "      <th>is_germany</th>\n",
       "      <th>is_spain</th>\n",
       "      <th>is_male</th>\n",
       "    </tr>\n",
       "  </thead>\n",
       "  <tbody>\n",
       "    <tr>\n",
       "      <th>657</th>\n",
       "      <td>-0.504497</td>\n",
       "      <td>1.429928</td>\n",
       "      <td>-1.456328</td>\n",
       "      <td>0.873883</td>\n",
       "      <td>0.820981</td>\n",
       "      <td>1</td>\n",
       "      <td>1</td>\n",
       "      <td>1.725255</td>\n",
       "      <td>1</td>\n",
       "      <td>0</td>\n",
       "      <td>0</td>\n",
       "    </tr>\n",
       "    <tr>\n",
       "      <th>2083</th>\n",
       "      <td>-1.195031</td>\n",
       "      <td>-1.429769</td>\n",
       "      <td>-1.456328</td>\n",
       "      <td>-1.219673</td>\n",
       "      <td>-0.914708</td>\n",
       "      <td>1</td>\n",
       "      <td>1</td>\n",
       "      <td>1.203665</td>\n",
       "      <td>0</td>\n",
       "      <td>0</td>\n",
       "      <td>1</td>\n",
       "    </tr>\n",
       "    <tr>\n",
       "      <th>3234</th>\n",
       "      <td>-1.267176</td>\n",
       "      <td>0.762665</td>\n",
       "      <td>-1.456328</td>\n",
       "      <td>-1.219673</td>\n",
       "      <td>-0.914708</td>\n",
       "      <td>1</td>\n",
       "      <td>0</td>\n",
       "      <td>-1.374743</td>\n",
       "      <td>0</td>\n",
       "      <td>0</td>\n",
       "      <td>1</td>\n",
       "    </tr>\n",
       "  </tbody>\n",
       "</table>\n",
       "</div>"
      ],
      "text/plain": [
       "      credit_score       age    tenure   balance  num_of_products  \\\n",
       "657      -0.504497  1.429928 -1.456328  0.873883         0.820981   \n",
       "2083     -1.195031 -1.429769 -1.456328 -1.219673        -0.914708   \n",
       "3234     -1.267176  0.762665 -1.456328 -1.219673        -0.914708   \n",
       "\n",
       "      has_cr_card  is_active_member  estimated_salary  is_germany  is_spain  \\\n",
       "657             1                 1          1.725255           1         0   \n",
       "2083            1                 1          1.203665           0         0   \n",
       "3234            1                 0         -1.374743           0         0   \n",
       "\n",
       "      is_male  \n",
       "657         0  \n",
       "2083        1  \n",
       "3234        1  "
      ]
     },
     "execution_count": 42,
     "metadata": {},
     "output_type": "execute_result"
    }
   ],
   "source": [
    "# check\n",
    "features_test.head(3)"
   ]
  },
  {
   "cell_type": "markdown",
   "id": "0aacb125",
   "metadata": {},
   "source": [
    "#### Вывод\n",
    "\n",
    "В этой части проекта:\n",
    "\n",
    "* проведено ознакомление с исходными данными,\n",
    "\n",
    "* переведены названия столбцов к регистру snake_case,\n",
    "* обработаны пропуски и изменены типы данных, где это необходимо,\n",
    "* дубликаты и аномальные значения не обнаружены,\n",
    "* удалены колонки неважные для предсказания,\n",
    "* категориальные признаки преобразованы в численные,\n",
    "* данные разделены на обучающую, валидационную и тестовую выборки с оптимальной стратификацией классов,\n",
    "* произведено масштабирование количественных признаков с помощью метода стандартизации данных,\n",
    "* обнаружен дисбаланс классов целевого признака 1:4, поэтому метрика accuracy для оценки качества моделей не подходит.\n",
    "\n",
    "Данные готовы для обучения, проверки и тестирования моделей."
   ]
  },
  {
   "cell_type": "markdown",
   "id": "39d0a4d0",
   "metadata": {},
   "source": [
    "### Исследование задачи\n",
    "\n",
    "Сначала проведем обучение моделей без учета дисбаланса классов, затем учтем его и сравним качество получившихся моделей.\n",
    "\n",
    "Рассмотрим модели логистическая регрессия, решающее дерево и случайный лес. Меняя гиперпараметры, оценим качество этих моделей на валидационной выборке с помощью метрики F1-мера. Дополнительно будем измерять метрику AUC-ROC."
   ]
  },
  {
   "cell_type": "markdown",
   "id": "a7515d4b",
   "metadata": {},
   "source": [
    "#### Логистическая регрессия"
   ]
  },
  {
   "cell_type": "code",
   "execution_count": 149,
   "id": "e3c00f5d",
   "metadata": {},
   "outputs": [
    {
     "name": "stdout",
     "output_type": "stream",
     "text": [
      "F1-мера наилучшей модели на валидационной выборке: 0.311\n",
      "CPU times: total: 57.4 s\n",
      "Wall time: 1min 19s\n"
     ]
    }
   ],
   "source": [
    "%%time\n",
    "\n",
    "best_model_lr = None\n",
    "best_f1_score_lr = 0\n",
    "# определение списка, содержащего значения обратной силы регуляризации\n",
    "C_1 = np.linspace(0.0001, 1, 500)\n",
    "C_2 = np.linspace(2, 1000, 500)\n",
    "C_values = np.concatenate((C_1, C_2))\n",
    "\n",
    "for solv in ['newton-cg', 'lbfgs', 'liblinear', 'sag', 'saga']:\n",
    "    for c in C_values:\n",
    "        # получение структуры данных для классификации логистической регрессией\n",
    "        model_lr = LogisticRegression(solver=solv,\n",
    "                                      C=c,\n",
    "                                      max_iter=1000,                \n",
    "                                      random_state=12345,\n",
    "                                      n_jobs=-1)\n",
    "        # обучение модели на тренировочной выборке\n",
    "        model_lr.fit(features_train, target_train)\n",
    "        # передсказания модели на валидационной выборке\n",
    "        predicted_valid = model_lr.predict(features_valid)\n",
    "        # значение F1-мера модели на валидационной выборке\n",
    "        f1_score_lr = f1_score(target_valid, predicted_valid)\n",
    "        if f1_score_lr > best_f1_score_lr:\n",
    "            # наилучшее значение метрики F1-мера на валидационных данных\n",
    "            best_f1_score_lr = f1_score_lr\n",
    "            # наилучшая модель согласно метрике F1-мера\n",
    "            best_model_lr = model_lr\n",
    "\n",
    "print(f'F1-мера наилучшей модели на валидационной выборке:{best_f1_score_lr: .3f}')"
   ]
  },
  {
   "cell_type": "code",
   "execution_count": 150,
   "id": "4020f3f3",
   "metadata": {},
   "outputs": [
    {
     "data": {
      "text/html": [
       "<style>#sk-container-id-10 {color: black;background-color: white;}#sk-container-id-10 pre{padding: 0;}#sk-container-id-10 div.sk-toggleable {background-color: white;}#sk-container-id-10 label.sk-toggleable__label {cursor: pointer;display: block;width: 100%;margin-bottom: 0;padding: 0.3em;box-sizing: border-box;text-align: center;}#sk-container-id-10 label.sk-toggleable__label-arrow:before {content: \"▸\";float: left;margin-right: 0.25em;color: #696969;}#sk-container-id-10 label.sk-toggleable__label-arrow:hover:before {color: black;}#sk-container-id-10 div.sk-estimator:hover label.sk-toggleable__label-arrow:before {color: black;}#sk-container-id-10 div.sk-toggleable__content {max-height: 0;max-width: 0;overflow: hidden;text-align: left;background-color: #f0f8ff;}#sk-container-id-10 div.sk-toggleable__content pre {margin: 0.2em;color: black;border-radius: 0.25em;background-color: #f0f8ff;}#sk-container-id-10 input.sk-toggleable__control:checked~div.sk-toggleable__content {max-height: 200px;max-width: 100%;overflow: auto;}#sk-container-id-10 input.sk-toggleable__control:checked~label.sk-toggleable__label-arrow:before {content: \"▾\";}#sk-container-id-10 div.sk-estimator input.sk-toggleable__control:checked~label.sk-toggleable__label {background-color: #d4ebff;}#sk-container-id-10 div.sk-label input.sk-toggleable__control:checked~label.sk-toggleable__label {background-color: #d4ebff;}#sk-container-id-10 input.sk-hidden--visually {border: 0;clip: rect(1px 1px 1px 1px);clip: rect(1px, 1px, 1px, 1px);height: 1px;margin: -1px;overflow: hidden;padding: 0;position: absolute;width: 1px;}#sk-container-id-10 div.sk-estimator {font-family: monospace;background-color: #f0f8ff;border: 1px dotted black;border-radius: 0.25em;box-sizing: border-box;margin-bottom: 0.5em;}#sk-container-id-10 div.sk-estimator:hover {background-color: #d4ebff;}#sk-container-id-10 div.sk-parallel-item::after {content: \"\";width: 100%;border-bottom: 1px solid gray;flex-grow: 1;}#sk-container-id-10 div.sk-label:hover label.sk-toggleable__label {background-color: #d4ebff;}#sk-container-id-10 div.sk-serial::before {content: \"\";position: absolute;border-left: 1px solid gray;box-sizing: border-box;top: 0;bottom: 0;left: 50%;z-index: 0;}#sk-container-id-10 div.sk-serial {display: flex;flex-direction: column;align-items: center;background-color: white;padding-right: 0.2em;padding-left: 0.2em;position: relative;}#sk-container-id-10 div.sk-item {position: relative;z-index: 1;}#sk-container-id-10 div.sk-parallel {display: flex;align-items: stretch;justify-content: center;background-color: white;position: relative;}#sk-container-id-10 div.sk-item::before, #sk-container-id-10 div.sk-parallel-item::before {content: \"\";position: absolute;border-left: 1px solid gray;box-sizing: border-box;top: 0;bottom: 0;left: 50%;z-index: -1;}#sk-container-id-10 div.sk-parallel-item {display: flex;flex-direction: column;z-index: 1;position: relative;background-color: white;}#sk-container-id-10 div.sk-parallel-item:first-child::after {align-self: flex-end;width: 50%;}#sk-container-id-10 div.sk-parallel-item:last-child::after {align-self: flex-start;width: 50%;}#sk-container-id-10 div.sk-parallel-item:only-child::after {width: 0;}#sk-container-id-10 div.sk-dashed-wrapped {border: 1px dashed gray;margin: 0 0.4em 0.5em 0.4em;box-sizing: border-box;padding-bottom: 0.4em;background-color: white;}#sk-container-id-10 div.sk-label label {font-family: monospace;font-weight: bold;display: inline-block;line-height: 1.2em;}#sk-container-id-10 div.sk-label-container {text-align: center;}#sk-container-id-10 div.sk-container {/* jupyter's `normalize.less` sets `[hidden] { display: none; }` but bootstrap.min.css set `[hidden] { display: none !important; }` so we also need the `!important` here to be able to override the default hidden behavior on the sphinx rendered scikit-learn.org. See: https://github.com/scikit-learn/scikit-learn/issues/21755 */display: inline-block !important;position: relative;}#sk-container-id-10 div.sk-text-repr-fallback {display: none;}</style><div id=\"sk-container-id-10\" class=\"sk-top-container\"><div class=\"sk-text-repr-fallback\"><pre>LogisticRegression(C=2.0, max_iter=1000, n_jobs=-1, random_state=12345,\n",
       "                   solver=&#x27;newton-cg&#x27;)</pre><b>In a Jupyter environment, please rerun this cell to show the HTML representation or trust the notebook. <br />On GitHub, the HTML representation is unable to render, please try loading this page with nbviewer.org.</b></div><div class=\"sk-container\" hidden><div class=\"sk-item\"><div class=\"sk-estimator sk-toggleable\"><input class=\"sk-toggleable__control sk-hidden--visually\" id=\"sk-estimator-id-16\" type=\"checkbox\" checked><label for=\"sk-estimator-id-16\" class=\"sk-toggleable__label sk-toggleable__label-arrow\">LogisticRegression</label><div class=\"sk-toggleable__content\"><pre>LogisticRegression(C=2.0, max_iter=1000, n_jobs=-1, random_state=12345,\n",
       "                   solver=&#x27;newton-cg&#x27;)</pre></div></div></div></div></div>"
      ],
      "text/plain": [
       "LogisticRegression(C=2.0, max_iter=1000, n_jobs=-1, random_state=12345,\n",
       "                   solver='newton-cg')"
      ]
     },
     "execution_count": 150,
     "metadata": {},
     "output_type": "execute_result"
    }
   ],
   "source": [
    "# гиперпараметры модели с наилучшим значением F1-мера (не указанные в '()' равны значениям по умолчанию)\n",
    "best_model_lr"
   ]
  },
  {
   "cell_type": "code",
   "execution_count": 148,
   "id": "bb1dd52c",
   "metadata": {},
   "outputs": [
    {
     "name": "stdout",
     "output_type": "stream",
     "text": [
      " 0.787\n"
     ]
    }
   ],
   "source": [
    "# значение метрики AUC-ROC при наилучшем значении метрики F1-мера на валидационных данных\n",
    "print(f'{roc_auc_score(target_valid, best_model_lr.predict_proba(features_valid)[:, 1]): .3f}')"
   ]
  },
  {
   "cell_type": "markdown",
   "id": "912647d2",
   "metadata": {},
   "source": [
    "#### Решающее дерево"
   ]
  },
  {
   "cell_type": "code",
   "execution_count": 153,
   "id": "7ec81739",
   "metadata": {},
   "outputs": [
    {
     "name": "stdout",
     "output_type": "stream",
     "text": [
      "F1-мера наилучшей модели на валидационной выборке: 0.618\n",
      "CPU times: total: 3min 31s\n",
      "Wall time: 3min 31s\n"
     ]
    }
   ],
   "source": [
    "%%time\n",
    "\n",
    "best_model_dt = None\n",
    "best_f1_score_dt = 0\n",
    "for crit in ['gini', 'entropy']:\n",
    "    for depth in range(1, 21):\n",
    "        for samples_split in range(2, 203, 10):\n",
    "            for samples_leaf in range(1, 202, 10):\n",
    "                # получение структуры данных для классификации деревом решений\n",
    "                model_dt = DecisionTreeClassifier(criterion=crit, \n",
    "                                                  max_depth=depth,\n",
    "                                                  min_samples_split=samples_split,\n",
    "                                                  min_samples_leaf=samples_leaf,\n",
    "                                                  random_state=12345)\n",
    "                # обучение модели на тренировочной выборке\n",
    "                model_dt.fit(features_train, target_train)\n",
    "                # передсказания модели на валидационной выборке\n",
    "                predicted_valid = model_dt.predict(features_valid)\n",
    "                # значение F1-мера модели на валидационной выборке\n",
    "                f1_score_dt = f1_score(target_valid, predicted_valid)\n",
    "                if f1_score_dt > best_f1_score_dt:\n",
    "                    # наилучшее значение метрики F1-мера на валидационных данных\n",
    "                    best_f1_score_dt = f1_score_dt\n",
    "                    # наилучшая модель согласно метрике F1-мера\n",
    "                    best_model_dt = model_dt\n",
    "\n",
    "print(f'F1-мера наилучшей модели на валидационной выборке:{best_f1_score_dt: .3f}')"
   ]
  },
  {
   "cell_type": "code",
   "execution_count": 154,
   "id": "0873b0cc",
   "metadata": {},
   "outputs": [
    {
     "data": {
      "text/html": [
       "<style>#sk-container-id-11 {color: black;background-color: white;}#sk-container-id-11 pre{padding: 0;}#sk-container-id-11 div.sk-toggleable {background-color: white;}#sk-container-id-11 label.sk-toggleable__label {cursor: pointer;display: block;width: 100%;margin-bottom: 0;padding: 0.3em;box-sizing: border-box;text-align: center;}#sk-container-id-11 label.sk-toggleable__label-arrow:before {content: \"▸\";float: left;margin-right: 0.25em;color: #696969;}#sk-container-id-11 label.sk-toggleable__label-arrow:hover:before {color: black;}#sk-container-id-11 div.sk-estimator:hover label.sk-toggleable__label-arrow:before {color: black;}#sk-container-id-11 div.sk-toggleable__content {max-height: 0;max-width: 0;overflow: hidden;text-align: left;background-color: #f0f8ff;}#sk-container-id-11 div.sk-toggleable__content pre {margin: 0.2em;color: black;border-radius: 0.25em;background-color: #f0f8ff;}#sk-container-id-11 input.sk-toggleable__control:checked~div.sk-toggleable__content {max-height: 200px;max-width: 100%;overflow: auto;}#sk-container-id-11 input.sk-toggleable__control:checked~label.sk-toggleable__label-arrow:before {content: \"▾\";}#sk-container-id-11 div.sk-estimator input.sk-toggleable__control:checked~label.sk-toggleable__label {background-color: #d4ebff;}#sk-container-id-11 div.sk-label input.sk-toggleable__control:checked~label.sk-toggleable__label {background-color: #d4ebff;}#sk-container-id-11 input.sk-hidden--visually {border: 0;clip: rect(1px 1px 1px 1px);clip: rect(1px, 1px, 1px, 1px);height: 1px;margin: -1px;overflow: hidden;padding: 0;position: absolute;width: 1px;}#sk-container-id-11 div.sk-estimator {font-family: monospace;background-color: #f0f8ff;border: 1px dotted black;border-radius: 0.25em;box-sizing: border-box;margin-bottom: 0.5em;}#sk-container-id-11 div.sk-estimator:hover {background-color: #d4ebff;}#sk-container-id-11 div.sk-parallel-item::after {content: \"\";width: 100%;border-bottom: 1px solid gray;flex-grow: 1;}#sk-container-id-11 div.sk-label:hover label.sk-toggleable__label {background-color: #d4ebff;}#sk-container-id-11 div.sk-serial::before {content: \"\";position: absolute;border-left: 1px solid gray;box-sizing: border-box;top: 0;bottom: 0;left: 50%;z-index: 0;}#sk-container-id-11 div.sk-serial {display: flex;flex-direction: column;align-items: center;background-color: white;padding-right: 0.2em;padding-left: 0.2em;position: relative;}#sk-container-id-11 div.sk-item {position: relative;z-index: 1;}#sk-container-id-11 div.sk-parallel {display: flex;align-items: stretch;justify-content: center;background-color: white;position: relative;}#sk-container-id-11 div.sk-item::before, #sk-container-id-11 div.sk-parallel-item::before {content: \"\";position: absolute;border-left: 1px solid gray;box-sizing: border-box;top: 0;bottom: 0;left: 50%;z-index: -1;}#sk-container-id-11 div.sk-parallel-item {display: flex;flex-direction: column;z-index: 1;position: relative;background-color: white;}#sk-container-id-11 div.sk-parallel-item:first-child::after {align-self: flex-end;width: 50%;}#sk-container-id-11 div.sk-parallel-item:last-child::after {align-self: flex-start;width: 50%;}#sk-container-id-11 div.sk-parallel-item:only-child::after {width: 0;}#sk-container-id-11 div.sk-dashed-wrapped {border: 1px dashed gray;margin: 0 0.4em 0.5em 0.4em;box-sizing: border-box;padding-bottom: 0.4em;background-color: white;}#sk-container-id-11 div.sk-label label {font-family: monospace;font-weight: bold;display: inline-block;line-height: 1.2em;}#sk-container-id-11 div.sk-label-container {text-align: center;}#sk-container-id-11 div.sk-container {/* jupyter's `normalize.less` sets `[hidden] { display: none; }` but bootstrap.min.css set `[hidden] { display: none !important; }` so we also need the `!important` here to be able to override the default hidden behavior on the sphinx rendered scikit-learn.org. See: https://github.com/scikit-learn/scikit-learn/issues/21755 */display: inline-block !important;position: relative;}#sk-container-id-11 div.sk-text-repr-fallback {display: none;}</style><div id=\"sk-container-id-11\" class=\"sk-top-container\"><div class=\"sk-text-repr-fallback\"><pre>DecisionTreeClassifier(max_depth=10, min_samples_split=112, random_state=12345)</pre><b>In a Jupyter environment, please rerun this cell to show the HTML representation or trust the notebook. <br />On GitHub, the HTML representation is unable to render, please try loading this page with nbviewer.org.</b></div><div class=\"sk-container\" hidden><div class=\"sk-item\"><div class=\"sk-estimator sk-toggleable\"><input class=\"sk-toggleable__control sk-hidden--visually\" id=\"sk-estimator-id-17\" type=\"checkbox\" checked><label for=\"sk-estimator-id-17\" class=\"sk-toggleable__label sk-toggleable__label-arrow\">DecisionTreeClassifier</label><div class=\"sk-toggleable__content\"><pre>DecisionTreeClassifier(max_depth=10, min_samples_split=112, random_state=12345)</pre></div></div></div></div></div>"
      ],
      "text/plain": [
       "DecisionTreeClassifier(max_depth=10, min_samples_split=112, random_state=12345)"
      ]
     },
     "execution_count": 154,
     "metadata": {},
     "output_type": "execute_result"
    }
   ],
   "source": [
    "# гиперпараметры модели с наилучшим значением F1-мера (не указанные в '()' равны значениям по умолчанию)\n",
    "best_model_dt"
   ]
  },
  {
   "cell_type": "code",
   "execution_count": 156,
   "id": "87da3e8b",
   "metadata": {},
   "outputs": [
    {
     "name": "stdout",
     "output_type": "stream",
     "text": [
      " 0.847\n"
     ]
    }
   ],
   "source": [
    "# значение метрики AUC-ROC при наилучшем значении метрики F1-мера на валидационных данных\n",
    "print(f'{roc_auc_score(target_valid, best_model_dt.predict_proba(features_valid)[:, 1]): .3f}')"
   ]
  },
  {
   "cell_type": "markdown",
   "id": "afcf3efb",
   "metadata": {},
   "source": [
    "#### Случайный лес"
   ]
  },
  {
   "cell_type": "code",
   "execution_count": 212,
   "id": "7ddcc545",
   "metadata": {},
   "outputs": [
    {
     "name": "stdout",
     "output_type": "stream",
     "text": [
      "F1-мера наилучшей модели на валидационной выборке: 0.628\n",
      "CPU times: total: 59min 30s\n",
      "Wall time: 23min 26s\n"
     ]
    }
   ],
   "source": [
    "%%time\n",
    "\n",
    "best_model_rf = None\n",
    "best_f1_score_rf = 0\n",
    "for crit in ['gini', 'entropy']:\n",
    "    for est in range(40, 171, 20):\n",
    "        for depth in range(1, 21):\n",
    "            for samples_split in range(2, 203, 40):\n",
    "                for samples_leaf in range(1, 202, 40):\n",
    "                    # получение структуры данных для классификации случайным лесом\n",
    "                    model_rf = RandomForestClassifier(n_estimators=est,\n",
    "                                                      criterion=crit, \n",
    "                                                      max_depth=depth,\n",
    "                                                      min_samples_split=samples_split,\n",
    "                                                      min_samples_leaf=samples_leaf,\n",
    "                                                      random_state=12345,\n",
    "                                                      n_jobs=-1)\n",
    "                    # обучение модели на тренировочной выборке\n",
    "                    model_rf.fit(features_train, target_train)\n",
    "                    # передсказания модели на валидационной выборке\n",
    "                    predicted_valid = model_rf.predict(features_valid)\n",
    "                    # значение F1-мера модели на валидационной выборке\n",
    "                    f1_score_rf = f1_score(target_valid, predicted_valid)\n",
    "                    if f1_score_rf > best_f1_score_rf:\n",
    "                        # наилучшее значение метрики F1-мера на валидационных данных\n",
    "                        best_f1_score_rf = f1_score_rf\n",
    "                        # наилучшая модель согласно метрике F1-мера\n",
    "                        best_model_rf = model_rf\n",
    "\n",
    "print(f'F1-мера наилучшей модели на валидационной выборке:{best_f1_score_rf: .3f}')"
   ]
  },
  {
   "cell_type": "code",
   "execution_count": 213,
   "id": "4fdffbb7",
   "metadata": {},
   "outputs": [
    {
     "data": {
      "text/html": [
       "<style>#sk-container-id-20 {color: black;background-color: white;}#sk-container-id-20 pre{padding: 0;}#sk-container-id-20 div.sk-toggleable {background-color: white;}#sk-container-id-20 label.sk-toggleable__label {cursor: pointer;display: block;width: 100%;margin-bottom: 0;padding: 0.3em;box-sizing: border-box;text-align: center;}#sk-container-id-20 label.sk-toggleable__label-arrow:before {content: \"▸\";float: left;margin-right: 0.25em;color: #696969;}#sk-container-id-20 label.sk-toggleable__label-arrow:hover:before {color: black;}#sk-container-id-20 div.sk-estimator:hover label.sk-toggleable__label-arrow:before {color: black;}#sk-container-id-20 div.sk-toggleable__content {max-height: 0;max-width: 0;overflow: hidden;text-align: left;background-color: #f0f8ff;}#sk-container-id-20 div.sk-toggleable__content pre {margin: 0.2em;color: black;border-radius: 0.25em;background-color: #f0f8ff;}#sk-container-id-20 input.sk-toggleable__control:checked~div.sk-toggleable__content {max-height: 200px;max-width: 100%;overflow: auto;}#sk-container-id-20 input.sk-toggleable__control:checked~label.sk-toggleable__label-arrow:before {content: \"▾\";}#sk-container-id-20 div.sk-estimator input.sk-toggleable__control:checked~label.sk-toggleable__label {background-color: #d4ebff;}#sk-container-id-20 div.sk-label input.sk-toggleable__control:checked~label.sk-toggleable__label {background-color: #d4ebff;}#sk-container-id-20 input.sk-hidden--visually {border: 0;clip: rect(1px 1px 1px 1px);clip: rect(1px, 1px, 1px, 1px);height: 1px;margin: -1px;overflow: hidden;padding: 0;position: absolute;width: 1px;}#sk-container-id-20 div.sk-estimator {font-family: monospace;background-color: #f0f8ff;border: 1px dotted black;border-radius: 0.25em;box-sizing: border-box;margin-bottom: 0.5em;}#sk-container-id-20 div.sk-estimator:hover {background-color: #d4ebff;}#sk-container-id-20 div.sk-parallel-item::after {content: \"\";width: 100%;border-bottom: 1px solid gray;flex-grow: 1;}#sk-container-id-20 div.sk-label:hover label.sk-toggleable__label {background-color: #d4ebff;}#sk-container-id-20 div.sk-serial::before {content: \"\";position: absolute;border-left: 1px solid gray;box-sizing: border-box;top: 0;bottom: 0;left: 50%;z-index: 0;}#sk-container-id-20 div.sk-serial {display: flex;flex-direction: column;align-items: center;background-color: white;padding-right: 0.2em;padding-left: 0.2em;position: relative;}#sk-container-id-20 div.sk-item {position: relative;z-index: 1;}#sk-container-id-20 div.sk-parallel {display: flex;align-items: stretch;justify-content: center;background-color: white;position: relative;}#sk-container-id-20 div.sk-item::before, #sk-container-id-20 div.sk-parallel-item::before {content: \"\";position: absolute;border-left: 1px solid gray;box-sizing: border-box;top: 0;bottom: 0;left: 50%;z-index: -1;}#sk-container-id-20 div.sk-parallel-item {display: flex;flex-direction: column;z-index: 1;position: relative;background-color: white;}#sk-container-id-20 div.sk-parallel-item:first-child::after {align-self: flex-end;width: 50%;}#sk-container-id-20 div.sk-parallel-item:last-child::after {align-self: flex-start;width: 50%;}#sk-container-id-20 div.sk-parallel-item:only-child::after {width: 0;}#sk-container-id-20 div.sk-dashed-wrapped {border: 1px dashed gray;margin: 0 0.4em 0.5em 0.4em;box-sizing: border-box;padding-bottom: 0.4em;background-color: white;}#sk-container-id-20 div.sk-label label {font-family: monospace;font-weight: bold;display: inline-block;line-height: 1.2em;}#sk-container-id-20 div.sk-label-container {text-align: center;}#sk-container-id-20 div.sk-container {/* jupyter's `normalize.less` sets `[hidden] { display: none; }` but bootstrap.min.css set `[hidden] { display: none !important; }` so we also need the `!important` here to be able to override the default hidden behavior on the sphinx rendered scikit-learn.org. See: https://github.com/scikit-learn/scikit-learn/issues/21755 */display: inline-block !important;position: relative;}#sk-container-id-20 div.sk-text-repr-fallback {display: none;}</style><div id=\"sk-container-id-20\" class=\"sk-top-container\"><div class=\"sk-text-repr-fallback\"><pre>RandomForestClassifier(max_depth=15, n_estimators=60, n_jobs=-1,\n",
       "                       random_state=12345)</pre><b>In a Jupyter environment, please rerun this cell to show the HTML representation or trust the notebook. <br />On GitHub, the HTML representation is unable to render, please try loading this page with nbviewer.org.</b></div><div class=\"sk-container\" hidden><div class=\"sk-item\"><div class=\"sk-estimator sk-toggleable\"><input class=\"sk-toggleable__control sk-hidden--visually\" id=\"sk-estimator-id-26\" type=\"checkbox\" checked><label for=\"sk-estimator-id-26\" class=\"sk-toggleable__label sk-toggleable__label-arrow\">RandomForestClassifier</label><div class=\"sk-toggleable__content\"><pre>RandomForestClassifier(max_depth=15, n_estimators=60, n_jobs=-1,\n",
       "                       random_state=12345)</pre></div></div></div></div></div>"
      ],
      "text/plain": [
       "RandomForestClassifier(max_depth=15, n_estimators=60, n_jobs=-1,\n",
       "                       random_state=12345)"
      ]
     },
     "execution_count": 213,
     "metadata": {},
     "output_type": "execute_result"
    }
   ],
   "source": [
    "# гиперпараметры модели с наилучшим значением F1-мера (не указанные в '()' равны значениям по умолчанию)\n",
    "best_model_rf"
   ]
  },
  {
   "cell_type": "code",
   "execution_count": 215,
   "id": "a4cbcd9c",
   "metadata": {},
   "outputs": [
    {
     "name": "stdout",
     "output_type": "stream",
     "text": [
      " 0.864\n"
     ]
    }
   ],
   "source": [
    "# значение метрики AUC-ROC при наилучшем значении метрики F1-мера на валидационных данных\n",
    "print(f'{roc_auc_score(target_valid, best_model_rf.predict_proba(features_valid)[:, 1]): .3f}')"
   ]
  },
  {
   "cell_type": "markdown",
   "id": "4de9d55c",
   "metadata": {},
   "source": [
    "#### Вывод\n",
    "\n",
    "В ходе исследования варьированием гиперпараметров были получены модели, обученные различными алгоритмами на несбалансированной тренировочной выборке, с наилучшим значением метрики качества F1-мера на валидационной выборке. Также рассчитывалась метрика AUC-ROC. В результате для модели:\n",
    "\n",
    "* логистической регрессии: F1-мера = 0.311, AUC-ROC = 0.787,\n",
    "* дерева решений: F1-мера = 0.618, AUC-ROC = 0.847,\n",
    "* случайного леса: F1-мера = 0.628, AUC-ROC = 0.864.\n",
    "\n",
    "Таким образом, наилучшей моделью согласно метрике F1-мера в этом случае оказалась модель, обученная случайным лесом. Подобранные гиперпараметры, обеспечивающие F1-мера 0.628 – max_depth=15, n_estimators=60, остальные гиперпараметры равны значениям по умолчанию. В этом случае метрика AUC-ROC также максимальна - 0.864."
   ]
  },
  {
   "cell_type": "markdown",
   "id": "c9c280de",
   "metadata": {},
   "source": [
    "### Борьба с дисбалансом"
   ]
  },
  {
   "cell_type": "markdown",
   "id": "e2b7fed3",
   "metadata": {},
   "source": [
    "#### RandomUnderSampler\n",
    "\n",
    "Эта техника случайно удаляет некоторое число примеров мажоритарного класса, что позволяет добиться баланса классов."
   ]
  },
  {
   "cell_type": "code",
   "execution_count": 286,
   "id": "fcd8d965",
   "metadata": {},
   "outputs": [],
   "source": [
    "# создание экземпляра класса RandomUnderSampler\n",
    "rus = RandomUnderSampler(random_state=12345)\n",
    "# устранение дисбаланса классов в тренировочных выборках\n",
    "features_resampled, target_resampled = rus.fit_resample(features_train, target_train)"
   ]
  },
  {
   "cell_type": "markdown",
   "id": "3a8a5cc1",
   "metadata": {},
   "source": [
    "##### Логистическая регрессия"
   ]
  },
  {
   "cell_type": "code",
   "execution_count": 167,
   "id": "99898f4f",
   "metadata": {},
   "outputs": [
    {
     "name": "stdout",
     "output_type": "stream",
     "text": [
      "F1-мера наилучшей модели на валидационной выборке: 0.532\n",
      "CPU times: total: 36 s\n",
      "Wall time: 49.8 s\n"
     ]
    }
   ],
   "source": [
    "%%time\n",
    "\n",
    "best_model_lr_rus = None\n",
    "best_f1_score_lr_rus = 0\n",
    "\n",
    "for solv in ['newton-cg', 'lbfgs', 'liblinear', 'sag', 'saga']:\n",
    "    for c in C_values:\n",
    "        # получение структуры данных для классификации логистической регрессией\n",
    "        model_lr = LogisticRegression(solver=solv,\n",
    "                                      C=c,\n",
    "                                      max_iter=1000,                \n",
    "                                      random_state=12345,\n",
    "                                      n_jobs=-1)\n",
    "        # обучение модели на тренировочной выборке\n",
    "        model_lr.fit(features_resampled, target_resampled)\n",
    "        # передсказания модели на валидационной выборке\n",
    "        predicted_valid = model_lr.predict(features_valid)\n",
    "        # значение F1-мера модели на валидационной выборке\n",
    "        f1_score_lr = f1_score(target_valid, predicted_valid)\n",
    "        if f1_score_lr > best_f1_score_lr_rus:\n",
    "            # наилучшее значение метрики F1-мера на валидационных данных\n",
    "            best_f1_score_lr_rus = f1_score_lr\n",
    "            # наилучшая модель согласно метрике F1-мера\n",
    "            best_model_lr_rus = model_lr\n",
    "\n",
    "print(f'F1-мера наилучшей модели на валидационной выборке:{best_f1_score_lr_rus: .3f}')"
   ]
  },
  {
   "cell_type": "code",
   "execution_count": 168,
   "id": "ab2664d7",
   "metadata": {},
   "outputs": [
    {
     "data": {
      "text/html": [
       "<style>#sk-container-id-13 {color: black;background-color: white;}#sk-container-id-13 pre{padding: 0;}#sk-container-id-13 div.sk-toggleable {background-color: white;}#sk-container-id-13 label.sk-toggleable__label {cursor: pointer;display: block;width: 100%;margin-bottom: 0;padding: 0.3em;box-sizing: border-box;text-align: center;}#sk-container-id-13 label.sk-toggleable__label-arrow:before {content: \"▸\";float: left;margin-right: 0.25em;color: #696969;}#sk-container-id-13 label.sk-toggleable__label-arrow:hover:before {color: black;}#sk-container-id-13 div.sk-estimator:hover label.sk-toggleable__label-arrow:before {color: black;}#sk-container-id-13 div.sk-toggleable__content {max-height: 0;max-width: 0;overflow: hidden;text-align: left;background-color: #f0f8ff;}#sk-container-id-13 div.sk-toggleable__content pre {margin: 0.2em;color: black;border-radius: 0.25em;background-color: #f0f8ff;}#sk-container-id-13 input.sk-toggleable__control:checked~div.sk-toggleable__content {max-height: 200px;max-width: 100%;overflow: auto;}#sk-container-id-13 input.sk-toggleable__control:checked~label.sk-toggleable__label-arrow:before {content: \"▾\";}#sk-container-id-13 div.sk-estimator input.sk-toggleable__control:checked~label.sk-toggleable__label {background-color: #d4ebff;}#sk-container-id-13 div.sk-label input.sk-toggleable__control:checked~label.sk-toggleable__label {background-color: #d4ebff;}#sk-container-id-13 input.sk-hidden--visually {border: 0;clip: rect(1px 1px 1px 1px);clip: rect(1px, 1px, 1px, 1px);height: 1px;margin: -1px;overflow: hidden;padding: 0;position: absolute;width: 1px;}#sk-container-id-13 div.sk-estimator {font-family: monospace;background-color: #f0f8ff;border: 1px dotted black;border-radius: 0.25em;box-sizing: border-box;margin-bottom: 0.5em;}#sk-container-id-13 div.sk-estimator:hover {background-color: #d4ebff;}#sk-container-id-13 div.sk-parallel-item::after {content: \"\";width: 100%;border-bottom: 1px solid gray;flex-grow: 1;}#sk-container-id-13 div.sk-label:hover label.sk-toggleable__label {background-color: #d4ebff;}#sk-container-id-13 div.sk-serial::before {content: \"\";position: absolute;border-left: 1px solid gray;box-sizing: border-box;top: 0;bottom: 0;left: 50%;z-index: 0;}#sk-container-id-13 div.sk-serial {display: flex;flex-direction: column;align-items: center;background-color: white;padding-right: 0.2em;padding-left: 0.2em;position: relative;}#sk-container-id-13 div.sk-item {position: relative;z-index: 1;}#sk-container-id-13 div.sk-parallel {display: flex;align-items: stretch;justify-content: center;background-color: white;position: relative;}#sk-container-id-13 div.sk-item::before, #sk-container-id-13 div.sk-parallel-item::before {content: \"\";position: absolute;border-left: 1px solid gray;box-sizing: border-box;top: 0;bottom: 0;left: 50%;z-index: -1;}#sk-container-id-13 div.sk-parallel-item {display: flex;flex-direction: column;z-index: 1;position: relative;background-color: white;}#sk-container-id-13 div.sk-parallel-item:first-child::after {align-self: flex-end;width: 50%;}#sk-container-id-13 div.sk-parallel-item:last-child::after {align-self: flex-start;width: 50%;}#sk-container-id-13 div.sk-parallel-item:only-child::after {width: 0;}#sk-container-id-13 div.sk-dashed-wrapped {border: 1px dashed gray;margin: 0 0.4em 0.5em 0.4em;box-sizing: border-box;padding-bottom: 0.4em;background-color: white;}#sk-container-id-13 div.sk-label label {font-family: monospace;font-weight: bold;display: inline-block;line-height: 1.2em;}#sk-container-id-13 div.sk-label-container {text-align: center;}#sk-container-id-13 div.sk-container {/* jupyter's `normalize.less` sets `[hidden] { display: none; }` but bootstrap.min.css set `[hidden] { display: none !important; }` so we also need the `!important` here to be able to override the default hidden behavior on the sphinx rendered scikit-learn.org. See: https://github.com/scikit-learn/scikit-learn/issues/21755 */display: inline-block !important;position: relative;}#sk-container-id-13 div.sk-text-repr-fallback {display: none;}</style><div id=\"sk-container-id-13\" class=\"sk-top-container\"><div class=\"sk-text-repr-fallback\"><pre>LogisticRegression(C=0.004107615230460922, max_iter=1000, n_jobs=-1,\n",
       "                   random_state=12345, solver=&#x27;liblinear&#x27;)</pre><b>In a Jupyter environment, please rerun this cell to show the HTML representation or trust the notebook. <br />On GitHub, the HTML representation is unable to render, please try loading this page with nbviewer.org.</b></div><div class=\"sk-container\" hidden><div class=\"sk-item\"><div class=\"sk-estimator sk-toggleable\"><input class=\"sk-toggleable__control sk-hidden--visually\" id=\"sk-estimator-id-19\" type=\"checkbox\" checked><label for=\"sk-estimator-id-19\" class=\"sk-toggleable__label sk-toggleable__label-arrow\">LogisticRegression</label><div class=\"sk-toggleable__content\"><pre>LogisticRegression(C=0.004107615230460922, max_iter=1000, n_jobs=-1,\n",
       "                   random_state=12345, solver=&#x27;liblinear&#x27;)</pre></div></div></div></div></div>"
      ],
      "text/plain": [
       "LogisticRegression(C=0.004107615230460922, max_iter=1000, n_jobs=-1,\n",
       "                   random_state=12345, solver='liblinear')"
      ]
     },
     "execution_count": 168,
     "metadata": {},
     "output_type": "execute_result"
    }
   ],
   "source": [
    "# гиперпараметры модели с наилучшим значением F1-мера (не указанные в '()' равны значениям по умолчанию)\n",
    "best_model_lr_rus"
   ]
  },
  {
   "cell_type": "code",
   "execution_count": 170,
   "id": "9b5d6dab",
   "metadata": {},
   "outputs": [
    {
     "name": "stdout",
     "output_type": "stream",
     "text": [
      " 0.791\n"
     ]
    }
   ],
   "source": [
    "# значение метрики AUC-ROC при наилучшем значении метрики F1-мера на валидационных данных\n",
    "print(f'{roc_auc_score(target_valid, best_model_lr_rus.predict_proba(features_valid)[:, 1]): .3f}')"
   ]
  },
  {
   "cell_type": "markdown",
   "id": "57789fb5",
   "metadata": {},
   "source": [
    "##### Решающее дерево"
   ]
  },
  {
   "cell_type": "code",
   "execution_count": 173,
   "id": "21f4fb24",
   "metadata": {},
   "outputs": [
    {
     "name": "stdout",
     "output_type": "stream",
     "text": [
      "F1-мера наилучшей модели на валидационной выборке: 0.608\n",
      "CPU times: total: 1min 32s\n",
      "Wall time: 1min 32s\n"
     ]
    }
   ],
   "source": [
    "%%time\n",
    "\n",
    "best_model_dt_rus = None\n",
    "best_f1_score_dt_rus = 0\n",
    "for crit in ['gini', 'entropy']:\n",
    "    for depth in range(1, 21):\n",
    "        for samples_split in range(2, 203, 10):\n",
    "            for samples_leaf in range(1, 202, 10):\n",
    "                # получение структуры данных для классификации деревом решений\n",
    "                model_dt = DecisionTreeClassifier(criterion=crit, \n",
    "                                                  max_depth=depth,\n",
    "                                                  min_samples_split=samples_split,\n",
    "                                                  min_samples_leaf=samples_leaf,\n",
    "                                                  random_state=12345)\n",
    "                # обучение модели на тренировочной выборке\n",
    "                model_dt.fit(features_resampled, target_resampled)\n",
    "                # передсказания модели на валидационной выборке\n",
    "                predicted_valid = model_dt.predict(features_valid)\n",
    "                # значение F1-мера модели на валидационной выборке\n",
    "                f1_score_dt = f1_score(target_valid, predicted_valid)\n",
    "                if f1_score_dt > best_f1_score_dt_rus:\n",
    "                    # наилучшее значение метрики F1-мера на валидационных данных\n",
    "                    best_f1_score_dt_rus = f1_score_dt\n",
    "                    # наилучшая модель согласно метрике F1-мера\n",
    "                    best_model_dt_rus = model_dt\n",
    "\n",
    "print(f'F1-мера наилучшей модели на валидационной выборке:{best_f1_score_dt_rus: .3f}')"
   ]
  },
  {
   "cell_type": "code",
   "execution_count": 174,
   "id": "2b70eb0b",
   "metadata": {},
   "outputs": [
    {
     "data": {
      "text/html": [
       "<style>#sk-container-id-14 {color: black;background-color: white;}#sk-container-id-14 pre{padding: 0;}#sk-container-id-14 div.sk-toggleable {background-color: white;}#sk-container-id-14 label.sk-toggleable__label {cursor: pointer;display: block;width: 100%;margin-bottom: 0;padding: 0.3em;box-sizing: border-box;text-align: center;}#sk-container-id-14 label.sk-toggleable__label-arrow:before {content: \"▸\";float: left;margin-right: 0.25em;color: #696969;}#sk-container-id-14 label.sk-toggleable__label-arrow:hover:before {color: black;}#sk-container-id-14 div.sk-estimator:hover label.sk-toggleable__label-arrow:before {color: black;}#sk-container-id-14 div.sk-toggleable__content {max-height: 0;max-width: 0;overflow: hidden;text-align: left;background-color: #f0f8ff;}#sk-container-id-14 div.sk-toggleable__content pre {margin: 0.2em;color: black;border-radius: 0.25em;background-color: #f0f8ff;}#sk-container-id-14 input.sk-toggleable__control:checked~div.sk-toggleable__content {max-height: 200px;max-width: 100%;overflow: auto;}#sk-container-id-14 input.sk-toggleable__control:checked~label.sk-toggleable__label-arrow:before {content: \"▾\";}#sk-container-id-14 div.sk-estimator input.sk-toggleable__control:checked~label.sk-toggleable__label {background-color: #d4ebff;}#sk-container-id-14 div.sk-label input.sk-toggleable__control:checked~label.sk-toggleable__label {background-color: #d4ebff;}#sk-container-id-14 input.sk-hidden--visually {border: 0;clip: rect(1px 1px 1px 1px);clip: rect(1px, 1px, 1px, 1px);height: 1px;margin: -1px;overflow: hidden;padding: 0;position: absolute;width: 1px;}#sk-container-id-14 div.sk-estimator {font-family: monospace;background-color: #f0f8ff;border: 1px dotted black;border-radius: 0.25em;box-sizing: border-box;margin-bottom: 0.5em;}#sk-container-id-14 div.sk-estimator:hover {background-color: #d4ebff;}#sk-container-id-14 div.sk-parallel-item::after {content: \"\";width: 100%;border-bottom: 1px solid gray;flex-grow: 1;}#sk-container-id-14 div.sk-label:hover label.sk-toggleable__label {background-color: #d4ebff;}#sk-container-id-14 div.sk-serial::before {content: \"\";position: absolute;border-left: 1px solid gray;box-sizing: border-box;top: 0;bottom: 0;left: 50%;z-index: 0;}#sk-container-id-14 div.sk-serial {display: flex;flex-direction: column;align-items: center;background-color: white;padding-right: 0.2em;padding-left: 0.2em;position: relative;}#sk-container-id-14 div.sk-item {position: relative;z-index: 1;}#sk-container-id-14 div.sk-parallel {display: flex;align-items: stretch;justify-content: center;background-color: white;position: relative;}#sk-container-id-14 div.sk-item::before, #sk-container-id-14 div.sk-parallel-item::before {content: \"\";position: absolute;border-left: 1px solid gray;box-sizing: border-box;top: 0;bottom: 0;left: 50%;z-index: -1;}#sk-container-id-14 div.sk-parallel-item {display: flex;flex-direction: column;z-index: 1;position: relative;background-color: white;}#sk-container-id-14 div.sk-parallel-item:first-child::after {align-self: flex-end;width: 50%;}#sk-container-id-14 div.sk-parallel-item:last-child::after {align-self: flex-start;width: 50%;}#sk-container-id-14 div.sk-parallel-item:only-child::after {width: 0;}#sk-container-id-14 div.sk-dashed-wrapped {border: 1px dashed gray;margin: 0 0.4em 0.5em 0.4em;box-sizing: border-box;padding-bottom: 0.4em;background-color: white;}#sk-container-id-14 div.sk-label label {font-family: monospace;font-weight: bold;display: inline-block;line-height: 1.2em;}#sk-container-id-14 div.sk-label-container {text-align: center;}#sk-container-id-14 div.sk-container {/* jupyter's `normalize.less` sets `[hidden] { display: none; }` but bootstrap.min.css set `[hidden] { display: none !important; }` so we also need the `!important` here to be able to override the default hidden behavior on the sphinx rendered scikit-learn.org. See: https://github.com/scikit-learn/scikit-learn/issues/21755 */display: inline-block !important;position: relative;}#sk-container-id-14 div.sk-text-repr-fallback {display: none;}</style><div id=\"sk-container-id-14\" class=\"sk-top-container\"><div class=\"sk-text-repr-fallback\"><pre>DecisionTreeClassifier(max_depth=9, min_samples_split=82, random_state=12345)</pre><b>In a Jupyter environment, please rerun this cell to show the HTML representation or trust the notebook. <br />On GitHub, the HTML representation is unable to render, please try loading this page with nbviewer.org.</b></div><div class=\"sk-container\" hidden><div class=\"sk-item\"><div class=\"sk-estimator sk-toggleable\"><input class=\"sk-toggleable__control sk-hidden--visually\" id=\"sk-estimator-id-20\" type=\"checkbox\" checked><label for=\"sk-estimator-id-20\" class=\"sk-toggleable__label sk-toggleable__label-arrow\">DecisionTreeClassifier</label><div class=\"sk-toggleable__content\"><pre>DecisionTreeClassifier(max_depth=9, min_samples_split=82, random_state=12345)</pre></div></div></div></div></div>"
      ],
      "text/plain": [
       "DecisionTreeClassifier(max_depth=9, min_samples_split=82, random_state=12345)"
      ]
     },
     "execution_count": 174,
     "metadata": {},
     "output_type": "execute_result"
    }
   ],
   "source": [
    "# гиперпараметры модели с наилучшим значением F1-мера (не указанные в '()' равны значениям по умолчанию)\n",
    "best_model_dt_rus"
   ]
  },
  {
   "cell_type": "code",
   "execution_count": 176,
   "id": "b92aefcb",
   "metadata": {},
   "outputs": [
    {
     "name": "stdout",
     "output_type": "stream",
     "text": [
      " 0.845\n"
     ]
    }
   ],
   "source": [
    "# значение метрики AUC-ROC при наилучшем значении метрики F1-мера на валидационных данных\n",
    "print(f'{roc_auc_score(target_valid, best_model_dt_rus.predict_proba(features_valid)[:, 1]): .3f}')"
   ]
  },
  {
   "cell_type": "markdown",
   "id": "39e6b39c",
   "metadata": {},
   "source": [
    "##### Случайный лес"
   ]
  },
  {
   "cell_type": "code",
   "execution_count": 217,
   "id": "323734c2",
   "metadata": {},
   "outputs": [
    {
     "name": "stdout",
     "output_type": "stream",
     "text": [
      "F1-мера наилучшей модели на валидационной выборке: 0.636\n",
      "CPU times: total: 32min 54s\n",
      "Wall time: 20min 43s\n"
     ]
    }
   ],
   "source": [
    "%%time\n",
    "\n",
    "best_model_rf_rus = None\n",
    "best_f1_score_rf_rus = 0\n",
    "for crit in ['gini', 'entropy']:\n",
    "    for est in range(40, 171, 20):\n",
    "        for depth in range(1, 21):\n",
    "            for samples_split in range(2, 203, 40):\n",
    "                for samples_leaf in range(1, 202, 40):\n",
    "                    # получение структуры данных для классификации случайным лесом\n",
    "                    model_rf = RandomForestClassifier(n_estimators=est,\n",
    "                                                      criterion=crit, \n",
    "                                                      max_depth=depth,\n",
    "                                                      min_samples_split=samples_split,\n",
    "                                                      min_samples_leaf=samples_leaf,\n",
    "                                                      random_state=12345,\n",
    "                                                      n_jobs=-1)\n",
    "                    # обучение модели на тренировочной выборке\n",
    "                    model_rf.fit(features_resampled, target_resampled)\n",
    "                    # передсказания модели на валидационной выборке\n",
    "                    predicted_valid = model_rf.predict(features_valid)\n",
    "                    # значение F1-мера модели на валидационной выборке\n",
    "                    f1_score_rf = f1_score(target_valid, predicted_valid)\n",
    "                    if f1_score_rf > best_f1_score_rf_rus:\n",
    "                        # наилучшее значение метрики F1-мера на валидационных данных\n",
    "                        best_f1_score_rf_rus = f1_score_rf\n",
    "                        # наилучшая модель согласно метрике F1-мера\n",
    "                        best_model_rf_rus = model_rf\n",
    "\n",
    "print(f'F1-мера наилучшей модели на валидационной выборке:{best_f1_score_rf_rus: .3f}')"
   ]
  },
  {
   "cell_type": "code",
   "execution_count": 218,
   "id": "d194539e",
   "metadata": {},
   "outputs": [
    {
     "data": {
      "text/html": [
       "<style>#sk-container-id-21 {color: black;background-color: white;}#sk-container-id-21 pre{padding: 0;}#sk-container-id-21 div.sk-toggleable {background-color: white;}#sk-container-id-21 label.sk-toggleable__label {cursor: pointer;display: block;width: 100%;margin-bottom: 0;padding: 0.3em;box-sizing: border-box;text-align: center;}#sk-container-id-21 label.sk-toggleable__label-arrow:before {content: \"▸\";float: left;margin-right: 0.25em;color: #696969;}#sk-container-id-21 label.sk-toggleable__label-arrow:hover:before {color: black;}#sk-container-id-21 div.sk-estimator:hover label.sk-toggleable__label-arrow:before {color: black;}#sk-container-id-21 div.sk-toggleable__content {max-height: 0;max-width: 0;overflow: hidden;text-align: left;background-color: #f0f8ff;}#sk-container-id-21 div.sk-toggleable__content pre {margin: 0.2em;color: black;border-radius: 0.25em;background-color: #f0f8ff;}#sk-container-id-21 input.sk-toggleable__control:checked~div.sk-toggleable__content {max-height: 200px;max-width: 100%;overflow: auto;}#sk-container-id-21 input.sk-toggleable__control:checked~label.sk-toggleable__label-arrow:before {content: \"▾\";}#sk-container-id-21 div.sk-estimator input.sk-toggleable__control:checked~label.sk-toggleable__label {background-color: #d4ebff;}#sk-container-id-21 div.sk-label input.sk-toggleable__control:checked~label.sk-toggleable__label {background-color: #d4ebff;}#sk-container-id-21 input.sk-hidden--visually {border: 0;clip: rect(1px 1px 1px 1px);clip: rect(1px, 1px, 1px, 1px);height: 1px;margin: -1px;overflow: hidden;padding: 0;position: absolute;width: 1px;}#sk-container-id-21 div.sk-estimator {font-family: monospace;background-color: #f0f8ff;border: 1px dotted black;border-radius: 0.25em;box-sizing: border-box;margin-bottom: 0.5em;}#sk-container-id-21 div.sk-estimator:hover {background-color: #d4ebff;}#sk-container-id-21 div.sk-parallel-item::after {content: \"\";width: 100%;border-bottom: 1px solid gray;flex-grow: 1;}#sk-container-id-21 div.sk-label:hover label.sk-toggleable__label {background-color: #d4ebff;}#sk-container-id-21 div.sk-serial::before {content: \"\";position: absolute;border-left: 1px solid gray;box-sizing: border-box;top: 0;bottom: 0;left: 50%;z-index: 0;}#sk-container-id-21 div.sk-serial {display: flex;flex-direction: column;align-items: center;background-color: white;padding-right: 0.2em;padding-left: 0.2em;position: relative;}#sk-container-id-21 div.sk-item {position: relative;z-index: 1;}#sk-container-id-21 div.sk-parallel {display: flex;align-items: stretch;justify-content: center;background-color: white;position: relative;}#sk-container-id-21 div.sk-item::before, #sk-container-id-21 div.sk-parallel-item::before {content: \"\";position: absolute;border-left: 1px solid gray;box-sizing: border-box;top: 0;bottom: 0;left: 50%;z-index: -1;}#sk-container-id-21 div.sk-parallel-item {display: flex;flex-direction: column;z-index: 1;position: relative;background-color: white;}#sk-container-id-21 div.sk-parallel-item:first-child::after {align-self: flex-end;width: 50%;}#sk-container-id-21 div.sk-parallel-item:last-child::after {align-self: flex-start;width: 50%;}#sk-container-id-21 div.sk-parallel-item:only-child::after {width: 0;}#sk-container-id-21 div.sk-dashed-wrapped {border: 1px dashed gray;margin: 0 0.4em 0.5em 0.4em;box-sizing: border-box;padding-bottom: 0.4em;background-color: white;}#sk-container-id-21 div.sk-label label {font-family: monospace;font-weight: bold;display: inline-block;line-height: 1.2em;}#sk-container-id-21 div.sk-label-container {text-align: center;}#sk-container-id-21 div.sk-container {/* jupyter's `normalize.less` sets `[hidden] { display: none; }` but bootstrap.min.css set `[hidden] { display: none !important; }` so we also need the `!important` here to be able to override the default hidden behavior on the sphinx rendered scikit-learn.org. See: https://github.com/scikit-learn/scikit-learn/issues/21755 */display: inline-block !important;position: relative;}#sk-container-id-21 div.sk-text-repr-fallback {display: none;}</style><div id=\"sk-container-id-21\" class=\"sk-top-container\"><div class=\"sk-text-repr-fallback\"><pre>RandomForestClassifier(criterion=&#x27;entropy&#x27;, max_depth=9, n_estimators=160,\n",
       "                       n_jobs=-1, random_state=12345)</pre><b>In a Jupyter environment, please rerun this cell to show the HTML representation or trust the notebook. <br />On GitHub, the HTML representation is unable to render, please try loading this page with nbviewer.org.</b></div><div class=\"sk-container\" hidden><div class=\"sk-item\"><div class=\"sk-estimator sk-toggleable\"><input class=\"sk-toggleable__control sk-hidden--visually\" id=\"sk-estimator-id-27\" type=\"checkbox\" checked><label for=\"sk-estimator-id-27\" class=\"sk-toggleable__label sk-toggleable__label-arrow\">RandomForestClassifier</label><div class=\"sk-toggleable__content\"><pre>RandomForestClassifier(criterion=&#x27;entropy&#x27;, max_depth=9, n_estimators=160,\n",
       "                       n_jobs=-1, random_state=12345)</pre></div></div></div></div></div>"
      ],
      "text/plain": [
       "RandomForestClassifier(criterion='entropy', max_depth=9, n_estimators=160,\n",
       "                       n_jobs=-1, random_state=12345)"
      ]
     },
     "execution_count": 218,
     "metadata": {},
     "output_type": "execute_result"
    }
   ],
   "source": [
    "# гиперпараметры модели с наилучшим значением F1-мера (не указанные в '()' равны значениям по умолчанию)\n",
    "best_model_rf_rus"
   ]
  },
  {
   "cell_type": "code",
   "execution_count": 220,
   "id": "7618f9c6",
   "metadata": {},
   "outputs": [
    {
     "name": "stdout",
     "output_type": "stream",
     "text": [
      " 0.870\n"
     ]
    }
   ],
   "source": [
    "# значение метрики AUC-ROC при наилучшем значении метрики F1-мера на валидационных данных\n",
    "print(f'{roc_auc_score(target_valid, best_model_rf_rus.predict_proba(features_valid)[:, 1]): .3f}')"
   ]
  },
  {
   "cell_type": "markdown",
   "id": "5cacf7cb",
   "metadata": {},
   "source": [
    "#### SMOTE (Synthetic Minority Over-sampling Technique)\n",
    "\n",
    "Эта техника увеличивает число примеров миноритарного класса."
   ]
  },
  {
   "cell_type": "code",
   "execution_count": 44,
   "id": "8869f012",
   "metadata": {},
   "outputs": [],
   "source": [
    "# устранение дисбаланса классов в тренировочных выборках с помощью SMOTE\n",
    "features_resampled_smote, target_resampled_smote = SMOTE(random_state=12345).fit_resample(features_train, target_train)"
   ]
  },
  {
   "cell_type": "markdown",
   "id": "5ee5b717",
   "metadata": {},
   "source": [
    "##### Логистическая регрессия"
   ]
  },
  {
   "cell_type": "code",
   "execution_count": 180,
   "id": "17bd60ff",
   "metadata": {},
   "outputs": [
    {
     "name": "stdout",
     "output_type": "stream",
     "text": [
      "F1-мера наилучшей модели на валидационной выборке: 0.527\n",
      "CPU times: total: 1min 20s\n",
      "Wall time: 1min 52s\n"
     ]
    }
   ],
   "source": [
    "%%time\n",
    "\n",
    "best_model_lr_smote = None\n",
    "best_f1_score_lr_smote = 0\n",
    "\n",
    "for solv in ['newton-cg', 'lbfgs', 'liblinear', 'sag', 'saga']:\n",
    "    for c in C_values:\n",
    "        # получение структуры данных для классификации логистической регрессией\n",
    "        model_lr = LogisticRegression(solver=solv,\n",
    "                                      C=c,\n",
    "                                      max_iter=1000,                \n",
    "                                      random_state=12345,\n",
    "                                      n_jobs=-1)\n",
    "        # обучение модели на тренировочной выборке\n",
    "        model_lr.fit(features_resampled_smote, target_resampled_smote)\n",
    "        # передсказания модели на валидационной выборке\n",
    "        predicted_valid = model_lr.predict(features_valid)\n",
    "        # значение F1-мера модели на валидационной выборке\n",
    "        f1_score_lr = f1_score(target_valid, predicted_valid)\n",
    "        if f1_score_lr > best_f1_score_lr_smote:\n",
    "            # наилучшее значение метрики F1-мера на валидационных данных\n",
    "            best_f1_score_lr_smote = f1_score_lr\n",
    "            # наилучшая модель согласно метрике F1-мера\n",
    "            best_model_lr_smote = model_lr\n",
    "\n",
    "print(f'F1-мера наилучшей модели на валидационной выборке:{best_f1_score_lr_smote: .3f}')"
   ]
  },
  {
   "cell_type": "code",
   "execution_count": 181,
   "id": "0cb2d030",
   "metadata": {},
   "outputs": [
    {
     "data": {
      "text/html": [
       "<style>#sk-container-id-15 {color: black;background-color: white;}#sk-container-id-15 pre{padding: 0;}#sk-container-id-15 div.sk-toggleable {background-color: white;}#sk-container-id-15 label.sk-toggleable__label {cursor: pointer;display: block;width: 100%;margin-bottom: 0;padding: 0.3em;box-sizing: border-box;text-align: center;}#sk-container-id-15 label.sk-toggleable__label-arrow:before {content: \"▸\";float: left;margin-right: 0.25em;color: #696969;}#sk-container-id-15 label.sk-toggleable__label-arrow:hover:before {color: black;}#sk-container-id-15 div.sk-estimator:hover label.sk-toggleable__label-arrow:before {color: black;}#sk-container-id-15 div.sk-toggleable__content {max-height: 0;max-width: 0;overflow: hidden;text-align: left;background-color: #f0f8ff;}#sk-container-id-15 div.sk-toggleable__content pre {margin: 0.2em;color: black;border-radius: 0.25em;background-color: #f0f8ff;}#sk-container-id-15 input.sk-toggleable__control:checked~div.sk-toggleable__content {max-height: 200px;max-width: 100%;overflow: auto;}#sk-container-id-15 input.sk-toggleable__control:checked~label.sk-toggleable__label-arrow:before {content: \"▾\";}#sk-container-id-15 div.sk-estimator input.sk-toggleable__control:checked~label.sk-toggleable__label {background-color: #d4ebff;}#sk-container-id-15 div.sk-label input.sk-toggleable__control:checked~label.sk-toggleable__label {background-color: #d4ebff;}#sk-container-id-15 input.sk-hidden--visually {border: 0;clip: rect(1px 1px 1px 1px);clip: rect(1px, 1px, 1px, 1px);height: 1px;margin: -1px;overflow: hidden;padding: 0;position: absolute;width: 1px;}#sk-container-id-15 div.sk-estimator {font-family: monospace;background-color: #f0f8ff;border: 1px dotted black;border-radius: 0.25em;box-sizing: border-box;margin-bottom: 0.5em;}#sk-container-id-15 div.sk-estimator:hover {background-color: #d4ebff;}#sk-container-id-15 div.sk-parallel-item::after {content: \"\";width: 100%;border-bottom: 1px solid gray;flex-grow: 1;}#sk-container-id-15 div.sk-label:hover label.sk-toggleable__label {background-color: #d4ebff;}#sk-container-id-15 div.sk-serial::before {content: \"\";position: absolute;border-left: 1px solid gray;box-sizing: border-box;top: 0;bottom: 0;left: 50%;z-index: 0;}#sk-container-id-15 div.sk-serial {display: flex;flex-direction: column;align-items: center;background-color: white;padding-right: 0.2em;padding-left: 0.2em;position: relative;}#sk-container-id-15 div.sk-item {position: relative;z-index: 1;}#sk-container-id-15 div.sk-parallel {display: flex;align-items: stretch;justify-content: center;background-color: white;position: relative;}#sk-container-id-15 div.sk-item::before, #sk-container-id-15 div.sk-parallel-item::before {content: \"\";position: absolute;border-left: 1px solid gray;box-sizing: border-box;top: 0;bottom: 0;left: 50%;z-index: -1;}#sk-container-id-15 div.sk-parallel-item {display: flex;flex-direction: column;z-index: 1;position: relative;background-color: white;}#sk-container-id-15 div.sk-parallel-item:first-child::after {align-self: flex-end;width: 50%;}#sk-container-id-15 div.sk-parallel-item:last-child::after {align-self: flex-start;width: 50%;}#sk-container-id-15 div.sk-parallel-item:only-child::after {width: 0;}#sk-container-id-15 div.sk-dashed-wrapped {border: 1px dashed gray;margin: 0 0.4em 0.5em 0.4em;box-sizing: border-box;padding-bottom: 0.4em;background-color: white;}#sk-container-id-15 div.sk-label label {font-family: monospace;font-weight: bold;display: inline-block;line-height: 1.2em;}#sk-container-id-15 div.sk-label-container {text-align: center;}#sk-container-id-15 div.sk-container {/* jupyter's `normalize.less` sets `[hidden] { display: none; }` but bootstrap.min.css set `[hidden] { display: none !important; }` so we also need the `!important` here to be able to override the default hidden behavior on the sphinx rendered scikit-learn.org. See: https://github.com/scikit-learn/scikit-learn/issues/21755 */display: inline-block !important;position: relative;}#sk-container-id-15 div.sk-text-repr-fallback {display: none;}</style><div id=\"sk-container-id-15\" class=\"sk-top-container\"><div class=\"sk-text-repr-fallback\"><pre>LogisticRegression(C=0.002103807615230461, max_iter=1000, n_jobs=-1,\n",
       "                   random_state=12345, solver=&#x27;liblinear&#x27;)</pre><b>In a Jupyter environment, please rerun this cell to show the HTML representation or trust the notebook. <br />On GitHub, the HTML representation is unable to render, please try loading this page with nbviewer.org.</b></div><div class=\"sk-container\" hidden><div class=\"sk-item\"><div class=\"sk-estimator sk-toggleable\"><input class=\"sk-toggleable__control sk-hidden--visually\" id=\"sk-estimator-id-21\" type=\"checkbox\" checked><label for=\"sk-estimator-id-21\" class=\"sk-toggleable__label sk-toggleable__label-arrow\">LogisticRegression</label><div class=\"sk-toggleable__content\"><pre>LogisticRegression(C=0.002103807615230461, max_iter=1000, n_jobs=-1,\n",
       "                   random_state=12345, solver=&#x27;liblinear&#x27;)</pre></div></div></div></div></div>"
      ],
      "text/plain": [
       "LogisticRegression(C=0.002103807615230461, max_iter=1000, n_jobs=-1,\n",
       "                   random_state=12345, solver='liblinear')"
      ]
     },
     "execution_count": 181,
     "metadata": {},
     "output_type": "execute_result"
    }
   ],
   "source": [
    "# гиперпараметры модели с наилучшим значением F1-мера (не указанные в '()' равны значениям по умолчанию)\n",
    "best_model_lr_smote"
   ]
  },
  {
   "cell_type": "code",
   "execution_count": 183,
   "id": "4a7bd89c",
   "metadata": {},
   "outputs": [
    {
     "name": "stdout",
     "output_type": "stream",
     "text": [
      " 0.790\n"
     ]
    }
   ],
   "source": [
    "# значение метрики AUC-ROC при наилучшем значении метрики F1-мера на валидационных данных\n",
    "print(f'{roc_auc_score(target_valid, best_model_lr_smote.predict_proba(features_valid)[:, 1]): .3f}')"
   ]
  },
  {
   "cell_type": "markdown",
   "id": "c08199d5",
   "metadata": {},
   "source": [
    "##### Решающее дерево"
   ]
  },
  {
   "cell_type": "code",
   "execution_count": 184,
   "id": "c7cc0f16",
   "metadata": {},
   "outputs": [
    {
     "name": "stdout",
     "output_type": "stream",
     "text": [
      "F1-мера наилучшей модели на валидационной выборке: 0.601\n",
      "CPU times: total: 6min 34s\n",
      "Wall time: 6min 34s\n"
     ]
    }
   ],
   "source": [
    "%%time\n",
    "\n",
    "best_model_dt_smote = None\n",
    "best_f1_score_dt_smote = 0\n",
    "for crit in ['gini', 'entropy']:\n",
    "    for depth in range(1, 21):\n",
    "        for samples_split in range(2, 203, 10):\n",
    "            for samples_leaf in range(1, 202, 10):\n",
    "                # получение структуры данных для классификации деревом решений\n",
    "                model_dt = DecisionTreeClassifier(criterion=crit, \n",
    "                                                  max_depth=depth,\n",
    "                                                  min_samples_split=samples_split,\n",
    "                                                  min_samples_leaf=samples_leaf,\n",
    "                                                  random_state=12345)\n",
    "                # обучение модели на тренировочной выборке\n",
    "                model_dt.fit(features_resampled_smote, target_resampled_smote)\n",
    "                # передсказания модели на валидационной выборке\n",
    "                predicted_valid = model_dt.predict(features_valid)\n",
    "                # значение F1-мера модели на валидационной выборке\n",
    "                f1_score_dt = f1_score(target_valid, predicted_valid)\n",
    "                if f1_score_dt > best_f1_score_dt_smote:\n",
    "                    # наилучшее значение метрики F1-мера на валидационных данных\n",
    "                    best_f1_score_dt_smote = f1_score_dt\n",
    "                    # наилучшая модель согласно метрике F1-мера\n",
    "                    best_model_dt_smote = model_dt\n",
    "\n",
    "print(f'F1-мера наилучшей модели на валидационной выборке:{best_f1_score_dt_smote: .3f}')"
   ]
  },
  {
   "cell_type": "code",
   "execution_count": 185,
   "id": "56cc005f",
   "metadata": {},
   "outputs": [
    {
     "data": {
      "text/html": [
       "<style>#sk-container-id-16 {color: black;background-color: white;}#sk-container-id-16 pre{padding: 0;}#sk-container-id-16 div.sk-toggleable {background-color: white;}#sk-container-id-16 label.sk-toggleable__label {cursor: pointer;display: block;width: 100%;margin-bottom: 0;padding: 0.3em;box-sizing: border-box;text-align: center;}#sk-container-id-16 label.sk-toggleable__label-arrow:before {content: \"▸\";float: left;margin-right: 0.25em;color: #696969;}#sk-container-id-16 label.sk-toggleable__label-arrow:hover:before {color: black;}#sk-container-id-16 div.sk-estimator:hover label.sk-toggleable__label-arrow:before {color: black;}#sk-container-id-16 div.sk-toggleable__content {max-height: 0;max-width: 0;overflow: hidden;text-align: left;background-color: #f0f8ff;}#sk-container-id-16 div.sk-toggleable__content pre {margin: 0.2em;color: black;border-radius: 0.25em;background-color: #f0f8ff;}#sk-container-id-16 input.sk-toggleable__control:checked~div.sk-toggleable__content {max-height: 200px;max-width: 100%;overflow: auto;}#sk-container-id-16 input.sk-toggleable__control:checked~label.sk-toggleable__label-arrow:before {content: \"▾\";}#sk-container-id-16 div.sk-estimator input.sk-toggleable__control:checked~label.sk-toggleable__label {background-color: #d4ebff;}#sk-container-id-16 div.sk-label input.sk-toggleable__control:checked~label.sk-toggleable__label {background-color: #d4ebff;}#sk-container-id-16 input.sk-hidden--visually {border: 0;clip: rect(1px 1px 1px 1px);clip: rect(1px, 1px, 1px, 1px);height: 1px;margin: -1px;overflow: hidden;padding: 0;position: absolute;width: 1px;}#sk-container-id-16 div.sk-estimator {font-family: monospace;background-color: #f0f8ff;border: 1px dotted black;border-radius: 0.25em;box-sizing: border-box;margin-bottom: 0.5em;}#sk-container-id-16 div.sk-estimator:hover {background-color: #d4ebff;}#sk-container-id-16 div.sk-parallel-item::after {content: \"\";width: 100%;border-bottom: 1px solid gray;flex-grow: 1;}#sk-container-id-16 div.sk-label:hover label.sk-toggleable__label {background-color: #d4ebff;}#sk-container-id-16 div.sk-serial::before {content: \"\";position: absolute;border-left: 1px solid gray;box-sizing: border-box;top: 0;bottom: 0;left: 50%;z-index: 0;}#sk-container-id-16 div.sk-serial {display: flex;flex-direction: column;align-items: center;background-color: white;padding-right: 0.2em;padding-left: 0.2em;position: relative;}#sk-container-id-16 div.sk-item {position: relative;z-index: 1;}#sk-container-id-16 div.sk-parallel {display: flex;align-items: stretch;justify-content: center;background-color: white;position: relative;}#sk-container-id-16 div.sk-item::before, #sk-container-id-16 div.sk-parallel-item::before {content: \"\";position: absolute;border-left: 1px solid gray;box-sizing: border-box;top: 0;bottom: 0;left: 50%;z-index: -1;}#sk-container-id-16 div.sk-parallel-item {display: flex;flex-direction: column;z-index: 1;position: relative;background-color: white;}#sk-container-id-16 div.sk-parallel-item:first-child::after {align-self: flex-end;width: 50%;}#sk-container-id-16 div.sk-parallel-item:last-child::after {align-self: flex-start;width: 50%;}#sk-container-id-16 div.sk-parallel-item:only-child::after {width: 0;}#sk-container-id-16 div.sk-dashed-wrapped {border: 1px dashed gray;margin: 0 0.4em 0.5em 0.4em;box-sizing: border-box;padding-bottom: 0.4em;background-color: white;}#sk-container-id-16 div.sk-label label {font-family: monospace;font-weight: bold;display: inline-block;line-height: 1.2em;}#sk-container-id-16 div.sk-label-container {text-align: center;}#sk-container-id-16 div.sk-container {/* jupyter's `normalize.less` sets `[hidden] { display: none; }` but bootstrap.min.css set `[hidden] { display: none !important; }` so we also need the `!important` here to be able to override the default hidden behavior on the sphinx rendered scikit-learn.org. See: https://github.com/scikit-learn/scikit-learn/issues/21755 */display: inline-block !important;position: relative;}#sk-container-id-16 div.sk-text-repr-fallback {display: none;}</style><div id=\"sk-container-id-16\" class=\"sk-top-container\"><div class=\"sk-text-repr-fallback\"><pre>DecisionTreeClassifier(criterion=&#x27;entropy&#x27;, max_depth=7, min_samples_leaf=71,\n",
       "                       min_samples_split=192, random_state=12345)</pre><b>In a Jupyter environment, please rerun this cell to show the HTML representation or trust the notebook. <br />On GitHub, the HTML representation is unable to render, please try loading this page with nbviewer.org.</b></div><div class=\"sk-container\" hidden><div class=\"sk-item\"><div class=\"sk-estimator sk-toggleable\"><input class=\"sk-toggleable__control sk-hidden--visually\" id=\"sk-estimator-id-22\" type=\"checkbox\" checked><label for=\"sk-estimator-id-22\" class=\"sk-toggleable__label sk-toggleable__label-arrow\">DecisionTreeClassifier</label><div class=\"sk-toggleable__content\"><pre>DecisionTreeClassifier(criterion=&#x27;entropy&#x27;, max_depth=7, min_samples_leaf=71,\n",
       "                       min_samples_split=192, random_state=12345)</pre></div></div></div></div></div>"
      ],
      "text/plain": [
       "DecisionTreeClassifier(criterion='entropy', max_depth=7, min_samples_leaf=71,\n",
       "                       min_samples_split=192, random_state=12345)"
      ]
     },
     "execution_count": 185,
     "metadata": {},
     "output_type": "execute_result"
    }
   ],
   "source": [
    "# гиперпараметры модели с наилучшим значением F1-мера (не указанные в '()' равны значениям по умолчанию)\n",
    "best_model_dt_smote"
   ]
  },
  {
   "cell_type": "code",
   "execution_count": 187,
   "id": "87f47654",
   "metadata": {},
   "outputs": [
    {
     "name": "stdout",
     "output_type": "stream",
     "text": [
      " 0.847\n"
     ]
    }
   ],
   "source": [
    "# значение метрики AUC-ROC при наилучшем значении метрики F1-мера на валидационных данных\n",
    "print(f'{roc_auc_score(target_valid, best_model_dt_smote.predict_proba(features_valid)[:, 1]): .3f}')"
   ]
  },
  {
   "cell_type": "markdown",
   "id": "79d518ca",
   "metadata": {},
   "source": [
    "##### Случайный лес"
   ]
  },
  {
   "cell_type": "code",
   "execution_count": 45,
   "id": "bbc75d3a",
   "metadata": {},
   "outputs": [
    {
     "name": "stdout",
     "output_type": "stream",
     "text": [
      "F1-мера наилучшей модели на валидационной выборке: 0.641\n",
      "CPU times: total: 1h 45min 49s\n",
      "Wall time: 26min 16s\n"
     ]
    }
   ],
   "source": [
    "%%time\n",
    "\n",
    "best_model_rf_smote = None\n",
    "best_f1_score_rf_smote = 0\n",
    "for crit in ['gini', 'entropy']:\n",
    "    for est in range(40, 171, 20):\n",
    "        for depth in range(1, 21):\n",
    "            for samples_split in range(2, 203, 40):\n",
    "                for samples_leaf in range(1, 202, 40):\n",
    "                    # получение структуры данных для классификации случайным лесом\n",
    "                    model_rf = RandomForestClassifier(n_estimators=est,\n",
    "                                                      criterion=crit, \n",
    "                                                      max_depth=depth,\n",
    "                                                      min_samples_split=samples_split,\n",
    "                                                      min_samples_leaf=samples_leaf,\n",
    "                                                      random_state=12345,\n",
    "                                                      n_jobs=-1)\n",
    "                    # обучение модели на тренировочной выборке\n",
    "                    model_rf.fit(features_resampled_smote, target_resampled_smote)\n",
    "                    # передсказания модели на валидационной выборке\n",
    "                    predicted_valid = model_rf.predict(features_valid)\n",
    "                    # значение F1-мера модели на валидационной выборке\n",
    "                    f1_score_rf = f1_score(target_valid, predicted_valid)\n",
    "                    if f1_score_rf > best_f1_score_rf_smote:\n",
    "                        # наилучшее значение метрики F1-мера на валидационных данных\n",
    "                        best_f1_score_rf_smote = f1_score_rf\n",
    "                        # наилучшая модель согласно метрике F1-мера\n",
    "                        best_model_rf_smote = model_rf\n",
    "\n",
    "print(f'F1-мера наилучшей модели на валидационной выборке:{best_f1_score_rf_smote: .3f}')"
   ]
  },
  {
   "cell_type": "code",
   "execution_count": 46,
   "id": "eae4b720",
   "metadata": {},
   "outputs": [
    {
     "data": {
      "text/html": [
       "<style>#sk-container-id-2 {color: black;background-color: white;}#sk-container-id-2 pre{padding: 0;}#sk-container-id-2 div.sk-toggleable {background-color: white;}#sk-container-id-2 label.sk-toggleable__label {cursor: pointer;display: block;width: 100%;margin-bottom: 0;padding: 0.3em;box-sizing: border-box;text-align: center;}#sk-container-id-2 label.sk-toggleable__label-arrow:before {content: \"▸\";float: left;margin-right: 0.25em;color: #696969;}#sk-container-id-2 label.sk-toggleable__label-arrow:hover:before {color: black;}#sk-container-id-2 div.sk-estimator:hover label.sk-toggleable__label-arrow:before {color: black;}#sk-container-id-2 div.sk-toggleable__content {max-height: 0;max-width: 0;overflow: hidden;text-align: left;background-color: #f0f8ff;}#sk-container-id-2 div.sk-toggleable__content pre {margin: 0.2em;color: black;border-radius: 0.25em;background-color: #f0f8ff;}#sk-container-id-2 input.sk-toggleable__control:checked~div.sk-toggleable__content {max-height: 200px;max-width: 100%;overflow: auto;}#sk-container-id-2 input.sk-toggleable__control:checked~label.sk-toggleable__label-arrow:before {content: \"▾\";}#sk-container-id-2 div.sk-estimator input.sk-toggleable__control:checked~label.sk-toggleable__label {background-color: #d4ebff;}#sk-container-id-2 div.sk-label input.sk-toggleable__control:checked~label.sk-toggleable__label {background-color: #d4ebff;}#sk-container-id-2 input.sk-hidden--visually {border: 0;clip: rect(1px 1px 1px 1px);clip: rect(1px, 1px, 1px, 1px);height: 1px;margin: -1px;overflow: hidden;padding: 0;position: absolute;width: 1px;}#sk-container-id-2 div.sk-estimator {font-family: monospace;background-color: #f0f8ff;border: 1px dotted black;border-radius: 0.25em;box-sizing: border-box;margin-bottom: 0.5em;}#sk-container-id-2 div.sk-estimator:hover {background-color: #d4ebff;}#sk-container-id-2 div.sk-parallel-item::after {content: \"\";width: 100%;border-bottom: 1px solid gray;flex-grow: 1;}#sk-container-id-2 div.sk-label:hover label.sk-toggleable__label {background-color: #d4ebff;}#sk-container-id-2 div.sk-serial::before {content: \"\";position: absolute;border-left: 1px solid gray;box-sizing: border-box;top: 0;bottom: 0;left: 50%;z-index: 0;}#sk-container-id-2 div.sk-serial {display: flex;flex-direction: column;align-items: center;background-color: white;padding-right: 0.2em;padding-left: 0.2em;position: relative;}#sk-container-id-2 div.sk-item {position: relative;z-index: 1;}#sk-container-id-2 div.sk-parallel {display: flex;align-items: stretch;justify-content: center;background-color: white;position: relative;}#sk-container-id-2 div.sk-item::before, #sk-container-id-2 div.sk-parallel-item::before {content: \"\";position: absolute;border-left: 1px solid gray;box-sizing: border-box;top: 0;bottom: 0;left: 50%;z-index: -1;}#sk-container-id-2 div.sk-parallel-item {display: flex;flex-direction: column;z-index: 1;position: relative;background-color: white;}#sk-container-id-2 div.sk-parallel-item:first-child::after {align-self: flex-end;width: 50%;}#sk-container-id-2 div.sk-parallel-item:last-child::after {align-self: flex-start;width: 50%;}#sk-container-id-2 div.sk-parallel-item:only-child::after {width: 0;}#sk-container-id-2 div.sk-dashed-wrapped {border: 1px dashed gray;margin: 0 0.4em 0.5em 0.4em;box-sizing: border-box;padding-bottom: 0.4em;background-color: white;}#sk-container-id-2 div.sk-label label {font-family: monospace;font-weight: bold;display: inline-block;line-height: 1.2em;}#sk-container-id-2 div.sk-label-container {text-align: center;}#sk-container-id-2 div.sk-container {/* jupyter's `normalize.less` sets `[hidden] { display: none; }` but bootstrap.min.css set `[hidden] { display: none !important; }` so we also need the `!important` here to be able to override the default hidden behavior on the sphinx rendered scikit-learn.org. See: https://github.com/scikit-learn/scikit-learn/issues/21755 */display: inline-block !important;position: relative;}#sk-container-id-2 div.sk-text-repr-fallback {display: none;}</style><div id=\"sk-container-id-2\" class=\"sk-top-container\"><div class=\"sk-text-repr-fallback\"><pre>RandomForestClassifier(criterion=&#x27;entropy&#x27;, max_depth=15, min_samples_split=82,\n",
       "                       n_jobs=-1, random_state=12345)</pre><b>In a Jupyter environment, please rerun this cell to show the HTML representation or trust the notebook. <br />On GitHub, the HTML representation is unable to render, please try loading this page with nbviewer.org.</b></div><div class=\"sk-container\" hidden><div class=\"sk-item\"><div class=\"sk-estimator sk-toggleable\"><input class=\"sk-toggleable__control sk-hidden--visually\" id=\"sk-estimator-id-2\" type=\"checkbox\" checked><label for=\"sk-estimator-id-2\" class=\"sk-toggleable__label sk-toggleable__label-arrow\">RandomForestClassifier</label><div class=\"sk-toggleable__content\"><pre>RandomForestClassifier(criterion=&#x27;entropy&#x27;, max_depth=15, min_samples_split=82,\n",
       "                       n_jobs=-1, random_state=12345)</pre></div></div></div></div></div>"
      ],
      "text/plain": [
       "RandomForestClassifier(criterion='entropy', max_depth=15, min_samples_split=82,\n",
       "                       n_jobs=-1, random_state=12345)"
      ]
     },
     "execution_count": 46,
     "metadata": {},
     "output_type": "execute_result"
    }
   ],
   "source": [
    "# гиперпараметры модели с наилучшим значением F1-мера (не указанные в '()' равны значениям по умолчанию)\n",
    "best_model_rf_smote"
   ]
  },
  {
   "cell_type": "code",
   "execution_count": 47,
   "id": "4402329a",
   "metadata": {},
   "outputs": [
    {
     "name": "stdout",
     "output_type": "stream",
     "text": [
      " 0.869\n"
     ]
    }
   ],
   "source": [
    "# значение метрики AUC-ROC при наилучшем значении метрики F1-мера на валидационных данных\n",
    "print(f'{roc_auc_score(target_valid, best_model_rf_smote.predict_proba(features_valid)[:, 1]): .3f}')"
   ]
  },
  {
   "cell_type": "markdown",
   "id": "269feb6d",
   "metadata": {},
   "source": [
    "#### Вывод\n",
    "\n",
    "Результаты обучения моделей различными алгоритмами на сбалансированной техникой RandomUnderSampler тренировочной выборке с наилучшим значением метрики качества F1-мера на валидационных данных:\n",
    "\n",
    "* логистической регрессии: F1-мера = 0.532, AUC-ROC = 0.791,\n",
    "* дерева решений: F1-мера = 0.608, AUC-ROC = 0.845,\n",
    "* случайного леса: F1-мера = 0.636, AUC-ROC = 0.870.\n",
    "\n",
    "Результаты обучения моделей различными алгоритмами на сбалансированной техникой SMOTE тренировочной выборке с наилучшим значением метрики качества F1-мера на валидационных данных:\n",
    "\n",
    "* модель логистической регрессии: F1-мера = 0.527, AUC-ROC = 0.790,\n",
    "* модель дерева решений: F1-мера = 0.601, AUC-ROC = 0.847,\n",
    "* модель случайного леса: F1-мера = 0.641, AUC-ROC = 0.869.\n",
    "\n",
    "Видно, что, согласно метрике F1-мера, учет дисбаланса классов привел к улучшению качества модели для логистической регрессии (без учета дисбаланса F1-мера = 0.311) и случайного леса (без учета дисбаланса F1-мера = 0.628). В случае дерева решений качесто снизилось - без учета дисбаланса F1-мера = 0.618.\n",
    "\n",
    "Во всех случаях значение AUC-ROC больше 0.5, следовательно, все модели адекватны, их качество лучше чем у случайной модели. \n",
    "\n",
    "Наилучшей из всех полученных моделей оказалась модель, обученная случайным лесом на сбалансированных данных техникой SMOTE. Подобранные гиперпараметры, обеспечивающие F1-мера 0.641 – criterion='entropy', max_depth=15, min_samples_split=82, остальные гиперпараметры равны значениям по умолчанию."
   ]
  },
  {
   "cell_type": "markdown",
   "id": "8a4a0a0c",
   "metadata": {},
   "source": [
    "### Тестирование модели"
   ]
  },
  {
   "cell_type": "markdown",
   "id": "660a0239",
   "metadata": {},
   "source": [
    "Проверим качество модели, получившей лучший результат значения метрики F1-мера на валиданионных данных, на тестовой выборке."
   ]
  },
  {
   "cell_type": "code",
   "execution_count": 48,
   "id": "1e46f04c",
   "metadata": {},
   "outputs": [
    {
     "name": "stdout",
     "output_type": "stream",
     "text": [
      "F1-мера: 0.604\n"
     ]
    }
   ],
   "source": [
    "print(f'F1-мера:{f1_score(target_test, best_model_rf_smote.predict(features_test)): .3f}')"
   ]
  },
  {
   "cell_type": "code",
   "execution_count": 69,
   "id": "448df6b5",
   "metadata": {},
   "outputs": [
    {
     "name": "stdout",
     "output_type": "stream",
     "text": [
      "AUC-ROC: 0.854\n"
     ]
    }
   ],
   "source": [
    "# значение метрики AUC-ROC\n",
    "auc_roc = roc_auc_score(target_test, best_model_rf_smote.predict_proba(features_test)[:, 1])\n",
    "print(f'AUC-ROC:{auc_roc: .3f}')"
   ]
  },
  {
   "cell_type": "markdown",
   "id": "a547874e",
   "metadata": {},
   "source": [
    "Дополнительно результат работы алгоритма на тестовой выборке визуализируем с помощью ROC-кривой."
   ]
  },
  {
   "cell_type": "code",
   "execution_count": 74,
   "id": "bb64a6a8",
   "metadata": {},
   "outputs": [
    {
     "data": {
      "image/png": "[encoded data removed]",
      "text/plain": [
       "<Figure size 432x288 with 1 Axes>"
      ]
     },
     "metadata": {
      "needs_background": "light"
     },
     "output_type": "display_data"
    }
   ],
   "source": [
    "# значения FPR, TPR и рассмотренные пороги\n",
    "fpr, tpr, thresholds = roc_curve(target_test, best_model_rf_smote.predict_proba(features_test)[:, 1])\n",
    "\n",
    "plt.figure()\n",
    "\n",
    "# построение графика ROC-кривой модели случайного леса\n",
    "plt.plot(fpr, tpr, label='Модель случайного леса (AUC-ROC = %0.2f)' % auc_roc)\n",
    "# построение графика ROC-кривой случайной модели\n",
    "plt.plot([0, 1], [0, 1], linestyle='--', label='Случайная модель (AUC-ROC = 0.5)')\n",
    "\n",
    "# границы осей \n",
    "plt.xlim([0.0, 1.0])\n",
    "plt.ylim([0.0, 1.0])\n",
    "\n",
    "# подписи осей\n",
    "plt.xlabel('False Positive Rate')\n",
    "plt.ylabel('True Positive Rate')\n",
    "# заголовок графика\n",
    "plt.title('ROC-кривая')\n",
    "# расположение легенды\n",
    "plt.legend(loc='lower right');"
   ]
  },
  {
   "cell_type": "markdown",
   "id": "b00b025f",
   "metadata": {},
   "source": [
    "#### Вывод\n",
    "\n",
    "Таким образом, построенная модель с максимальной метрикой F1-мера на валидационной выборке (0.641) на тестовой выборке показала результат 0.604."
   ]
  },
  {
   "cell_type": "markdown",
   "id": "8a30a598",
   "metadata": {},
   "source": [
    "### Общий вывод\n",
    "\n",
    "Было проведено исследование, позволившее построить модель для задачи классификации, которая прогнозирует, уйдёт клиент из банка в ближайшее время или нет. Входные данные – данные о поведении клиентов и расторжении договоров с банком.\n",
    "\n",
    "При изучении файла с данными не выявлено аномалий и существенных выбросов в признаках. В колонке `tenure` были обработаны пропущенные значения и изменен тип данных. Из датасета были удалены три признака, не несущие информацию для предсказания. Имеющиеся категориальные признаки были обработаны техникой прямого кодирования. \n",
    "\n",
    "Данные были разделены на обучающую, валидационную и тестовую выборки в соотношении 3:1:1 с учетом дисбаланса классов в целевом признаке. Размеры получившихся выборок следующие: обучающей – 6000 строк, валидационной и тестовой – по 2000 строк соответственно. Количественные признаки были отмасштабированы методом стандартизации данных.\n",
    "\n",
    "Был обнаружен дисбаланс классов 1:4, модели обучались и с учетом и без учета дисбаланса. Для борьбы с дисбалансом использовались две техники - RandomUnderSampler (уменьшает число примеров мажоритарного класса) и SMOTE (увеличивает число примеров миноритарного класса).\n",
    "\n",
    "Были рассмотрены 3 алгоритма обучения – решающее дерево, случайный лес и логистическая регрессия. Валидационная выборка в каждом случае использовалась для подбора гиперпараметров моделей, обеспечивающих наибольшее значение F1-меры. В результате наилучшей оказалась модель классификации случайным лесом, обученная на сбалансированной техникой SMOTE тренировочной выборке,  с F1-мера - 0.641 и AUC-ROC - 0.869.\n",
    "\n",
    "Адекватность построенных моделей подтвердилась путем сравнения значений метрики AUC-ROC со значением 0.5 для случайной модели.\n",
    "\n",
    "Окончательная проверка качества модели на тестовой выборке показала значение F1-меры - 0.604 и AUC-ROC - 0.854."
   ]
  }
 ],
 "metadata": {
  "kernelspec": {
   "display_name": "Python 3 (ipykernel)",
   "language": "python",
   "name": "python3"
  },
  "language_info": {
   "codemirror_mode": {
    "name": "ipython",
    "version": 3
   },
   "file_extension": ".py",
   "mimetype": "text/x-python",
   "name": "python",
   "nbconvert_exporter": "python",
   "pygments_lexer": "ipython3",
   "version": "3.9.13"
  },
  "toc": {
   "base_numbering": 1,
   "nav_menu": {},
   "number_sections": true,
   "sideBar": true,
   "skip_h1_title": true,
   "title_cell": "Table of Contents",
   "title_sidebar": "Contents",
   "toc_cell": false,
   "toc_position": {
    "height": "calc(100% - 180px)",
    "left": "10px",
    "top": "150px",
    "width": "376px"
   },
   "toc_section_display": true,
   "toc_window_display": true
  }
 },
 "nbformat": 4,
 "nbformat_minor": 5
}
