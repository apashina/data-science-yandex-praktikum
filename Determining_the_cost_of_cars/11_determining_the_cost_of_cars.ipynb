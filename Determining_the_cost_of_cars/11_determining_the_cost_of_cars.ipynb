{
 "cells": [
  {
   "cell_type": "markdown",
   "id": "9991e84d",
   "metadata": {
    "toc": true
   },
   "source": [
    "<h1>Содержание<span class=\"tocSkip\"></span></h1>\n",
    "<div class=\"toc\"><ul class=\"toc-item\"><li><span><a href=\"#Описание-проекта\" data-toc-modified-id=\"Описание-проекта-1\"><span class=\"toc-item-num\">1&nbsp;&nbsp;</span>Описание проекта</a></span></li><li><span><a href=\"#Изучение-общей-информации-о-полученном-датафрейме\" data-toc-modified-id=\"Изучение-общей-информации-о-полученном-датафрейме-2\"><span class=\"toc-item-num\">2&nbsp;&nbsp;</span>Изучение общей информации о полученном датафрейме</a></span><ul class=\"toc-item\"><li><span><a href=\"#Вывод\" data-toc-modified-id=\"Вывод-2.1\"><span class=\"toc-item-num\">2.1&nbsp;&nbsp;</span>Вывод</a></span></li></ul></li><li><span><a href=\"#Предобработка-данных\" data-toc-modified-id=\"Предобработка-данных-3\"><span class=\"toc-item-num\">3&nbsp;&nbsp;</span>Предобработка данных</a></span><ul class=\"toc-item\"><li><span><a href=\"#Проверка-на-явные-дубликаты\" data-toc-modified-id=\"Проверка-на-явные-дубликаты-3.1\"><span class=\"toc-item-num\">3.1&nbsp;&nbsp;</span>Проверка на явные дубликаты</a></span></li><li><span><a href=\"#Предобработка-колонок-date_created-и-registration_year\" data-toc-modified-id=\"Предобработка-колонок-date_created-и-registration_year-3.2\"><span class=\"toc-item-num\">3.2&nbsp;&nbsp;</span>Предобработка колонок <em>date_created</em> и <em>registration_year</em></a></span></li><li><span><a href=\"#Предобработка-колонки-price\" data-toc-modified-id=\"Предобработка-колонки-price-3.3\"><span class=\"toc-item-num\">3.3&nbsp;&nbsp;</span>Предобработка колонки <em>price</em></a></span></li><li><span><a href=\"#Предобработка-колонок-brand-и-kilometer\" data-toc-modified-id=\"Предобработка-колонок-brand-и-kilometer-3.4\"><span class=\"toc-item-num\">3.4&nbsp;&nbsp;</span>Предобработка колонок <em>brand</em> и <em>kilometer</em></a></span></li><li><span><a href=\"#Предобработка-колонки-repaired\" data-toc-modified-id=\"Предобработка-колонки-repaired-3.5\"><span class=\"toc-item-num\">3.5&nbsp;&nbsp;</span>Предобработка колонки <em>repaired</em></a></span></li><li><span><a href=\"#Предобработка-колонки-power-1\" data-toc-modified-id=\"Предобработка-колонки-power-1-3.6\"><span class=\"toc-item-num\">3.6&nbsp;&nbsp;</span>Предобработка колонки <em>power</em> 1</a></span></li><li><span><a href=\"#Предобработка-колонки-model\" data-toc-modified-id=\"Предобработка-колонки-model-3.7\"><span class=\"toc-item-num\">3.7&nbsp;&nbsp;</span>Предобработка колонки <em>model</em></a></span></li><li><span><a href=\"#Предобработка-колонки-gearbox\" data-toc-modified-id=\"Предобработка-колонки-gearbox-3.8\"><span class=\"toc-item-num\">3.8&nbsp;&nbsp;</span>Предобработка колонки <em>gearbox</em></a></span></li><li><span><a href=\"#Предобработка-колонки-vehicle_type\" data-toc-modified-id=\"Предобработка-колонки-vehicle_type-3.9\"><span class=\"toc-item-num\">3.9&nbsp;&nbsp;</span>Предобработка колонки <em>vehicle_type</em></a></span></li><li><span><a href=\"#Предобработка-колонки-fuel_type\" data-toc-modified-id=\"Предобработка-колонки-fuel_type-3.10\"><span class=\"toc-item-num\">3.10&nbsp;&nbsp;</span>Предобработка колонки <em>fuel_type</em></a></span></li><li><span><a href=\"#Предобработка-колонки-power-2\" data-toc-modified-id=\"Предобработка-колонки-power-2-3.11\"><span class=\"toc-item-num\">3.11&nbsp;&nbsp;</span>Предобработка колонки <em>power</em> 2</a></span></li><li><span><a href=\"#Предобработка-колонок-date_crawled,-registration_month,-number_of_pictures,-postal_code-и-last_seen\" data-toc-modified-id=\"Предобработка-колонок-date_crawled,-registration_month,-number_of_pictures,-postal_code-и-last_seen-3.12\"><span class=\"toc-item-num\">3.12&nbsp;&nbsp;</span>Предобработка колонок <em>date_crawled</em>, <em>registration_month</em>, <em>number_of_pictures</em>, <em>postal_code</em> и <em>last_seen</em></a></span></li><li><span><a href=\"#Вывод\" data-toc-modified-id=\"Вывод-3.13\"><span class=\"toc-item-num\">3.13&nbsp;&nbsp;</span>Вывод</a></span></li></ul></li><li><span><a href=\"#Построение-моделей\" data-toc-modified-id=\"Построение-моделей-4\"><span class=\"toc-item-num\">4&nbsp;&nbsp;</span>Построение моделей</a></span><ul class=\"toc-item\"><li><span><a href=\"#Разделение-исходных-данных-на-выборки\" data-toc-modified-id=\"Разделение-исходных-данных-на-выборки-4.1\"><span class=\"toc-item-num\">4.1&nbsp;&nbsp;</span>Разделение исходных данных на выборки</a></span></li><li><span><a href=\"#Обучение-моделей\" data-toc-modified-id=\"Обучение-моделей-4.2\"><span class=\"toc-item-num\">4.2&nbsp;&nbsp;</span>Обучение моделей</a></span></li><li><span><a href=\"#Проверка-качества-модели-на-тестовой-выборке\" data-toc-modified-id=\"Проверка-качества-модели-на-тестовой-выборке-4.3\"><span class=\"toc-item-num\">4.3&nbsp;&nbsp;</span>Проверка качества модели на тестовой выборке</a></span></li><li><span><a href=\"#Вывод\" data-toc-modified-id=\"Вывод-4.4\"><span class=\"toc-item-num\">4.4&nbsp;&nbsp;</span>Вывод</a></span></li></ul></li><li><span><a href=\"#Общий-вывод\" data-toc-modified-id=\"Общий-вывод-5\"><span class=\"toc-item-num\">5&nbsp;&nbsp;</span>Общий вывод</a></span></li></ul></div>"
   ]
  },
  {
   "cell_type": "markdown",
   "id": "9e9333f2",
   "metadata": {},
   "source": [
    "# Определение стоимости автомобилей"
   ]
  },
  {
   "cell_type": "markdown",
   "id": "9b6bacf2",
   "metadata": {},
   "source": [
    "## Описание проекта\n",
    "\n",
    "Сервис по продаже автомобилей с пробегом «Не бит, не крашен» разрабатывает приложение, чтобы привлечь новых клиентов. В нём можно будет узнать рыночную стоимость своего автомобиля. В нашем распоряжении данные о технических характеристиках, комплектации и ценах других автомобилей.\n",
    "\n",
    "**Цель проекта** – построить модель, предсказывающую рыночную стоимость автомобиля клиента.\n",
    "\n",
    "**Критерии, которые важны заказчику:**\n",
    "\n",
    "- качество предсказания - значение метрики RMSE должно быть меньше 2500 евро,\n",
    "- время обучения модели,\n",
    "- время предсказания модели.\n",
    "\n",
    "**Задачи:** \n",
    "\n",
    "1. Загрузить данные.\n",
    "2. Изучить данные. Заполнить пропущенные значения и обработать аномалии в столбцах. Если среди признаков имеются неинформативные, удалить их.\n",
    "3. Подготовить выборки для обучения моделей.\n",
    "4. Обучить разные модели, одна из которых - LightGBM, как минимум одна - не бустинг. Для каждой модели попробовать разные гиперпараметры.\n",
    "5. Проанализировать время обучения, время предсказания и качество моделей.\n",
    "6. Опираясь на критерии заказчика, выбрать лучшую модель, проверить её качество на тестовой выборке.\n",
    "\n",
    "***Описание данных***\n",
    "\n",
    "**Признаки**\n",
    "\n",
    "* `DateCrawled` — дата скачивания анкеты из базы,\n",
    "\n",
    "* `VehicleType` — тип автомобильного кузова,\n",
    "* `RegistrationYear` — год регистрации автомобиля,\n",
    "* `Gearbox` — тип коробки передач,\n",
    "* `Power` — мощность (л. с.),\n",
    "* `Model` — модель автомобиля,\n",
    "* `Kilometer` — пробег (км),\n",
    "* `RegistrationMonth` — месяц регистрации автомобиля,\n",
    "* `FuelType` — тип топлива,\n",
    "* `Brand` — марка автомобиля,\n",
    "* `Repaired` — была машина в ремонте или нет,\n",
    "* `DateCreated` — дата создания анкеты,\n",
    "* `NumberOfPictures` — количество фотографий автомобиля,\n",
    "* `PostalCode` — почтовый индекс владельца анкеты (пользователя),\n",
    "* `LastSeen` — дата последней активности пользователя.\n",
    "\n",
    "**Целевой признак**\n",
    "\n",
    "* `Price` — цена (евро)."
   ]
  },
  {
   "cell_type": "markdown",
   "id": "1a0a3010",
   "metadata": {},
   "source": [
    "## Изучение общей информации о полученном датафрейме"
   ]
  },
  {
   "cell_type": "code",
   "execution_count": 1,
   "id": "109eb35a",
   "metadata": {},
   "outputs": [],
   "source": [
    "# импортирование необходимых библиотек\n",
    "import re\n",
    "import time\n",
    "\n",
    "import pandas as pd\n",
    "import matplotlib.pyplot as plt\n",
    "import numpy as np\n",
    "import sklearn\n",
    "import warnings\n",
    "\n",
    "from sklearn.model_selection import train_test_split, RandomizedSearchCV\n",
    "from sklearn.metrics import mean_squared_error\n",
    "from sklearn.compose import ColumnTransformer\n",
    "from sklearn.pipeline import Pipeline\n",
    "from sklearn.preprocessing import (OneHotEncoder, \n",
    "                                   OrdinalEncoder, \n",
    "                                   StandardScaler,\n",
    "                                   FunctionTransformer)\n",
    "from sklearn.linear_model import ElasticNet\n",
    "from sklearn.ensemble import RandomForestRegressor\n",
    "from sklearn.dummy import DummyRegressor\n",
    "from catboost import CatBoostRegressor\n",
    "from lightgbm import LGBMRegressor"
   ]
  },
  {
   "cell_type": "code",
   "execution_count": 2,
   "id": "4ec38907",
   "metadata": {},
   "outputs": [],
   "source": [
    "# форматы чисел для вывода\n",
    "pd.set_option('display.float_format', lambda x: '%.2f' % x)\n",
    "\n",
    "warnings.filterwarnings('ignore')"
   ]
  },
  {
   "cell_type": "code",
   "execution_count": 3,
   "id": "20f30682",
   "metadata": {},
   "outputs": [],
   "source": [
    "# загрузка данных\n",
    "try:\n",
    "    data = pd.read_csv('/datasets/autos.csv')\n",
    "except:\n",
    "    data = pd.read_csv('E:/ЯП/Курс_спец_Data_Science/11_Численные_методы/autos.csv')"
   ]
  },
  {
   "cell_type": "code",
   "execution_count": 4,
   "id": "1ad3585a",
   "metadata": {},
   "outputs": [
    {
     "data": {
      "text/html": [
       "<div>\n",
       "<style scoped>\n",
       "    .dataframe tbody tr th:only-of-type {\n",
       "        vertical-align: middle;\n",
       "    }\n",
       "\n",
       "    .dataframe tbody tr th {\n",
       "        vertical-align: top;\n",
       "    }\n",
       "\n",
       "    .dataframe thead th {\n",
       "        text-align: right;\n",
       "    }\n",
       "</style>\n",
       "<table border=\"1\" class=\"dataframe\">\n",
       "  <thead>\n",
       "    <tr style=\"text-align: right;\">\n",
       "      <th></th>\n",
       "      <th>DateCrawled</th>\n",
       "      <th>Price</th>\n",
       "      <th>VehicleType</th>\n",
       "      <th>RegistrationYear</th>\n",
       "      <th>Gearbox</th>\n",
       "      <th>Power</th>\n",
       "      <th>Model</th>\n",
       "      <th>Kilometer</th>\n",
       "      <th>RegistrationMonth</th>\n",
       "      <th>FuelType</th>\n",
       "      <th>Brand</th>\n",
       "      <th>Repaired</th>\n",
       "      <th>DateCreated</th>\n",
       "      <th>NumberOfPictures</th>\n",
       "      <th>PostalCode</th>\n",
       "      <th>LastSeen</th>\n",
       "    </tr>\n",
       "  </thead>\n",
       "  <tbody>\n",
       "    <tr>\n",
       "      <th>0</th>\n",
       "      <td>2016-03-24 11:52:17</td>\n",
       "      <td>480</td>\n",
       "      <td>NaN</td>\n",
       "      <td>1993</td>\n",
       "      <td>manual</td>\n",
       "      <td>0</td>\n",
       "      <td>golf</td>\n",
       "      <td>150000</td>\n",
       "      <td>0</td>\n",
       "      <td>petrol</td>\n",
       "      <td>volkswagen</td>\n",
       "      <td>NaN</td>\n",
       "      <td>2016-03-24 00:00:00</td>\n",
       "      <td>0</td>\n",
       "      <td>70435</td>\n",
       "      <td>2016-04-07 03:16:57</td>\n",
       "    </tr>\n",
       "    <tr>\n",
       "      <th>1</th>\n",
       "      <td>2016-03-24 10:58:45</td>\n",
       "      <td>18300</td>\n",
       "      <td>coupe</td>\n",
       "      <td>2011</td>\n",
       "      <td>manual</td>\n",
       "      <td>190</td>\n",
       "      <td>NaN</td>\n",
       "      <td>125000</td>\n",
       "      <td>5</td>\n",
       "      <td>gasoline</td>\n",
       "      <td>audi</td>\n",
       "      <td>yes</td>\n",
       "      <td>2016-03-24 00:00:00</td>\n",
       "      <td>0</td>\n",
       "      <td>66954</td>\n",
       "      <td>2016-04-07 01:46:50</td>\n",
       "    </tr>\n",
       "    <tr>\n",
       "      <th>2</th>\n",
       "      <td>2016-03-14 12:52:21</td>\n",
       "      <td>9800</td>\n",
       "      <td>suv</td>\n",
       "      <td>2004</td>\n",
       "      <td>auto</td>\n",
       "      <td>163</td>\n",
       "      <td>grand</td>\n",
       "      <td>125000</td>\n",
       "      <td>8</td>\n",
       "      <td>gasoline</td>\n",
       "      <td>jeep</td>\n",
       "      <td>NaN</td>\n",
       "      <td>2016-03-14 00:00:00</td>\n",
       "      <td>0</td>\n",
       "      <td>90480</td>\n",
       "      <td>2016-04-05 12:47:46</td>\n",
       "    </tr>\n",
       "    <tr>\n",
       "      <th>3</th>\n",
       "      <td>2016-03-17 16:54:04</td>\n",
       "      <td>1500</td>\n",
       "      <td>small</td>\n",
       "      <td>2001</td>\n",
       "      <td>manual</td>\n",
       "      <td>75</td>\n",
       "      <td>golf</td>\n",
       "      <td>150000</td>\n",
       "      <td>6</td>\n",
       "      <td>petrol</td>\n",
       "      <td>volkswagen</td>\n",
       "      <td>no</td>\n",
       "      <td>2016-03-17 00:00:00</td>\n",
       "      <td>0</td>\n",
       "      <td>91074</td>\n",
       "      <td>2016-03-17 17:40:17</td>\n",
       "    </tr>\n",
       "    <tr>\n",
       "      <th>4</th>\n",
       "      <td>2016-03-31 17:25:20</td>\n",
       "      <td>3600</td>\n",
       "      <td>small</td>\n",
       "      <td>2008</td>\n",
       "      <td>manual</td>\n",
       "      <td>69</td>\n",
       "      <td>fabia</td>\n",
       "      <td>90000</td>\n",
       "      <td>7</td>\n",
       "      <td>gasoline</td>\n",
       "      <td>skoda</td>\n",
       "      <td>no</td>\n",
       "      <td>2016-03-31 00:00:00</td>\n",
       "      <td>0</td>\n",
       "      <td>60437</td>\n",
       "      <td>2016-04-06 10:17:21</td>\n",
       "    </tr>\n",
       "  </tbody>\n",
       "</table>\n",
       "</div>"
      ],
      "text/plain": [
       "           DateCrawled  Price VehicleType  RegistrationYear Gearbox  Power  \\\n",
       "0  2016-03-24 11:52:17    480         NaN              1993  manual      0   \n",
       "1  2016-03-24 10:58:45  18300       coupe              2011  manual    190   \n",
       "2  2016-03-14 12:52:21   9800         suv              2004    auto    163   \n",
       "3  2016-03-17 16:54:04   1500       small              2001  manual     75   \n",
       "4  2016-03-31 17:25:20   3600       small              2008  manual     69   \n",
       "\n",
       "   Model  Kilometer  RegistrationMonth  FuelType       Brand Repaired  \\\n",
       "0   golf     150000                  0    petrol  volkswagen      NaN   \n",
       "1    NaN     125000                  5  gasoline        audi      yes   \n",
       "2  grand     125000                  8  gasoline        jeep      NaN   \n",
       "3   golf     150000                  6    petrol  volkswagen       no   \n",
       "4  fabia      90000                  7  gasoline       skoda       no   \n",
       "\n",
       "           DateCreated  NumberOfPictures  PostalCode             LastSeen  \n",
       "0  2016-03-24 00:00:00                 0       70435  2016-04-07 03:16:57  \n",
       "1  2016-03-24 00:00:00                 0       66954  2016-04-07 01:46:50  \n",
       "2  2016-03-14 00:00:00                 0       90480  2016-04-05 12:47:46  \n",
       "3  2016-03-17 00:00:00                 0       91074  2016-03-17 17:40:17  \n",
       "4  2016-03-31 00:00:00                 0       60437  2016-04-06 10:17:21  "
      ]
     },
     "execution_count": 4,
     "metadata": {},
     "output_type": "execute_result"
    }
   ],
   "source": [
    "# вывод первых 5 строк датафрейма\n",
    "data.head()"
   ]
  },
  {
   "cell_type": "markdown",
   "id": "11e0d977",
   "metadata": {},
   "source": [
    "Замечаем, что необходимо привести названия колонок к стилю snake_case."
   ]
  },
  {
   "cell_type": "code",
   "execution_count": 5,
   "id": "a5b36e83",
   "metadata": {},
   "outputs": [],
   "source": [
    "# список названий колонок\n",
    "columns = data.columns.values.tolist()"
   ]
  },
  {
   "cell_type": "code",
   "execution_count": 6,
   "id": "5e576764",
   "metadata": {},
   "outputs": [],
   "source": [
    "# приведение названий колонок к регистру snake_case\n",
    "columns = [re.sub(r'(?<!^)(?=[A-Z])', '_', x).lower() for x in columns]"
   ]
  },
  {
   "cell_type": "code",
   "execution_count": 7,
   "id": "47e9710d",
   "metadata": {},
   "outputs": [],
   "source": [
    "# присваивание столбцам отформатированных названий\n",
    "data.columns = columns"
   ]
  },
  {
   "cell_type": "markdown",
   "id": "3fc3cff9",
   "metadata": {},
   "source": [
    "Посмотрим на размер датафрейма, тип значений и наличие пропущенных значений в колонках:"
   ]
  },
  {
   "cell_type": "code",
   "execution_count": 8,
   "id": "2c714b40",
   "metadata": {},
   "outputs": [
    {
     "name": "stdout",
     "output_type": "stream",
     "text": [
      "<class 'pandas.core.frame.DataFrame'>\n",
      "RangeIndex: 354369 entries, 0 to 354368\n",
      "Data columns (total 16 columns):\n",
      " #   Column              Non-Null Count   Dtype \n",
      "---  ------              --------------   ----- \n",
      " 0   date_crawled        354369 non-null  object\n",
      " 1   price               354369 non-null  int64 \n",
      " 2   vehicle_type        316879 non-null  object\n",
      " 3   registration_year   354369 non-null  int64 \n",
      " 4   gearbox             334536 non-null  object\n",
      " 5   power               354369 non-null  int64 \n",
      " 6   model               334664 non-null  object\n",
      " 7   kilometer           354369 non-null  int64 \n",
      " 8   registration_month  354369 non-null  int64 \n",
      " 9   fuel_type           321474 non-null  object\n",
      " 10  brand               354369 non-null  object\n",
      " 11  repaired            283215 non-null  object\n",
      " 12  date_created        354369 non-null  object\n",
      " 13  number_of_pictures  354369 non-null  int64 \n",
      " 14  postal_code         354369 non-null  int64 \n",
      " 15  last_seen           354369 non-null  object\n",
      "dtypes: int64(7), object(9)\n",
      "memory usage: 43.3+ MB\n"
     ]
    }
   ],
   "source": [
    "data.info()"
   ]
  },
  {
   "cell_type": "markdown",
   "id": "5a194c47",
   "metadata": {},
   "source": [
    "Исследуемый датафрейм состоит из 354369 строк и 16 столбцов. В некоторых колонках имеются пропущенные значения. Типы переменных в колонках соответствуют описанию данных за исключением столбцов с датами - `date_crawled`, `date_created` и `last_seen` - требуется преобразовать в формат `datetime`."
   ]
  },
  {
   "cell_type": "code",
   "execution_count": 9,
   "id": "805a0588",
   "metadata": {},
   "outputs": [],
   "source": [
    "# преобразование типа данных в datetime\n",
    "data[['date_crawled', 'date_created', 'last_seen']] = data[['date_crawled', 'date_created', 'last_seen']].apply(pd.to_datetime)"
   ]
  },
  {
   "cell_type": "code",
   "execution_count": 10,
   "id": "f098972b",
   "metadata": {},
   "outputs": [
    {
     "data": {
      "text/plain": [
       "date_crawled    datetime64[ns]\n",
       "date_created    datetime64[ns]\n",
       "last_seen       datetime64[ns]\n",
       "dtype: object"
      ]
     },
     "execution_count": 10,
     "metadata": {},
     "output_type": "execute_result"
    }
   ],
   "source": [
    "# check\n",
    "data[['date_crawled', 'date_created', 'last_seen']].dtypes"
   ]
  },
  {
   "cell_type": "markdown",
   "id": "22fbece0",
   "metadata": {},
   "source": [
    "**Обзор пропущенных значений**\n",
    "\n",
    "Определим процент пропущенных значений для каждого столбца."
   ]
  },
  {
   "cell_type": "code",
   "execution_count": 11,
   "id": "0b2a195f",
   "metadata": {},
   "outputs": [],
   "source": [
    "def pass_value_barh(df):\n",
    "    \"\"\"\n",
    "    Функция получает на вход датасет. \n",
    "    Выводит на экран столбчатую диаграмму с процентом пропущенных значений в колонках.\n",
    "    Если пропусков ни в одной из колонок не обнаружено, выводит сообщение 'пропусков не осталось'.\n",
    "    \n",
    "    \"\"\"\n",
    "    try:\n",
    "        (\n",
    "            (df.isna().mean()*100)\n",
    "            .to_frame()\n",
    "            .rename(columns = {0:'space'})\n",
    "            .query('space > 0')\n",
    "            .sort_values(by='space', ascending=True)\n",
    "            .plot(kind='barh', figsize=(8,2), rot=0, legend=False, fontsize=10, ec='black',\n",
    "                  xlabel='Процент пропущенных значений в колонках', \n",
    "                  ylabel='Названия колонок')\n",
    "            .set_title('Обзор пропущенных значений в исходном датасете\\n')\n",
    "        );    \n",
    "    except:\n",
    "        print('пропусков не осталось')"
   ]
  },
  {
   "cell_type": "code",
   "execution_count": 12,
   "id": "66c24fa3",
   "metadata": {},
   "outputs": [
    {
     "data": {
      "image/png": "[encoded data removed]",
      "text/plain": [
       "<Figure size 800x200 with 1 Axes>"
      ]
     },
     "metadata": {},
     "output_type": "display_data"
    }
   ],
   "source": [
    "pass_value_barh(data)"
   ]
  },
  {
   "cell_type": "markdown",
   "id": "5651fb32",
   "metadata": {},
   "source": [
    "### Вывод\n",
    "\n",
    "В этой части проекта:\n",
    "\n",
    "* проведено ознакомление с исходными данными,\n",
    "\n",
    "* названия столбцов приведены к регистру snake_case,\n",
    "* колонки с датами переведены в тип данных datetime,\n",
    "* обнаружены пропущенные значения в колонках `vehicle_type`, `gearbox`, `model`, `fuel_type` и `repaired`."
   ]
  },
  {
   "cell_type": "markdown",
   "id": "aea3221e",
   "metadata": {},
   "source": [
    "## Предобработка данных"
   ]
  },
  {
   "cell_type": "markdown",
   "id": "4f5bc6ea",
   "metadata": {},
   "source": [
    "Необходимо контролировать долю удаленных наблюдений из исходного датафрейма, выполняя предобработку данных. "
   ]
  },
  {
   "cell_type": "code",
   "execution_count": 13,
   "id": "a55ee728",
   "metadata": {},
   "outputs": [],
   "source": [
    "def lost_observations(df):\n",
    "    \"\"\"\n",
    "    Функция получает на вход обработанный датасет. \n",
    "    Выводит на экран процент удаленных записей из исходного датасета.\n",
    "    \n",
    "    \"\"\"    \n",
    "    print(f'{(354369 - df.shape[0]) / 354369:.2%}')"
   ]
  },
  {
   "cell_type": "markdown",
   "id": "645fefdf",
   "metadata": {},
   "source": [
    "### Проверка на явные дубликаты"
   ]
  },
  {
   "cell_type": "code",
   "execution_count": 14,
   "id": "059594f9",
   "metadata": {},
   "outputs": [
    {
     "data": {
      "text/plain": [
       "4"
      ]
     },
     "execution_count": 14,
     "metadata": {},
     "output_type": "execute_result"
    }
   ],
   "source": [
    "# количество явных дубликатов\n",
    "data.duplicated().sum()"
   ]
  },
  {
   "cell_type": "code",
   "execution_count": 15,
   "id": "2a02fb0a",
   "metadata": {},
   "outputs": [],
   "source": [
    "# удаление явных дубликатов\n",
    "data = data.drop_duplicates().reset_index(drop=True)"
   ]
  },
  {
   "cell_type": "code",
   "execution_count": 16,
   "id": "456a3bd4",
   "metadata": {},
   "outputs": [
    {
     "name": "stdout",
     "output_type": "stream",
     "text": [
      "0.00%\n"
     ]
    }
   ],
   "source": [
    "lost_observations(data)"
   ]
  },
  {
   "cell_type": "markdown",
   "id": "1a79834c",
   "metadata": {},
   "source": [
    "### Предобработка колонок *date_created* и *registration_year*"
   ]
  },
  {
   "cell_type": "markdown",
   "id": "2892a610",
   "metadata": {},
   "source": [
    "Посмотрим, в какой временной период создавались анкеты - колонка `date_created`."
   ]
  },
  {
   "cell_type": "code",
   "execution_count": 17,
   "id": "9a60f686",
   "metadata": {},
   "outputs": [
    {
     "data": {
      "text/html": [
       "<div>\n",
       "<style scoped>\n",
       "    .dataframe tbody tr th:only-of-type {\n",
       "        vertical-align: middle;\n",
       "    }\n",
       "\n",
       "    .dataframe tbody tr th {\n",
       "        vertical-align: top;\n",
       "    }\n",
       "\n",
       "    .dataframe thead th {\n",
       "        text-align: right;\n",
       "    }\n",
       "</style>\n",
       "<table border=\"1\" class=\"dataframe\">\n",
       "  <thead>\n",
       "    <tr style=\"text-align: right;\">\n",
       "      <th></th>\n",
       "      <th>date_created</th>\n",
       "    </tr>\n",
       "  </thead>\n",
       "  <tbody>\n",
       "    <tr>\n",
       "      <th>2016</th>\n",
       "      <td>1.00</td>\n",
       "    </tr>\n",
       "    <tr>\n",
       "      <th>2015</th>\n",
       "      <td>0.00</td>\n",
       "    </tr>\n",
       "    <tr>\n",
       "      <th>2014</th>\n",
       "      <td>0.00</td>\n",
       "    </tr>\n",
       "  </tbody>\n",
       "</table>\n",
       "</div>"
      ],
      "text/plain": [
       "      date_created\n",
       "2016          1.00\n",
       "2015          0.00\n",
       "2014          0.00"
      ]
     },
     "execution_count": 17,
     "metadata": {},
     "output_type": "execute_result"
    }
   ],
   "source": [
    "# уникальные значения в столбце в порядке убывания частоты их упоминаний\n",
    "pd.DatetimeIndex(data.date_created).year.value_counts(normalize=True).to_frame()"
   ]
  },
  {
   "cell_type": "markdown",
   "id": "f28a3044",
   "metadata": {},
   "source": [
    "Мы видим, что почти 100 % анкет были созданы в 2016 году.\n",
    "\n",
    "Перейдем к рассмотрению года регистрации автомобилей - колонка `registration_year`."
   ]
  },
  {
   "cell_type": "code",
   "execution_count": 18,
   "id": "2254eca6",
   "metadata": {},
   "outputs": [
    {
     "data": {
      "text/html": [
       "<div>\n",
       "<style scoped>\n",
       "    .dataframe tbody tr th:only-of-type {\n",
       "        vertical-align: middle;\n",
       "    }\n",
       "\n",
       "    .dataframe tbody tr th {\n",
       "        vertical-align: top;\n",
       "    }\n",
       "\n",
       "    .dataframe thead th {\n",
       "        text-align: right;\n",
       "    }\n",
       "</style>\n",
       "<table border=\"1\" class=\"dataframe\">\n",
       "  <thead>\n",
       "    <tr style=\"text-align: right;\">\n",
       "      <th></th>\n",
       "      <th>count</th>\n",
       "      <th>mean</th>\n",
       "      <th>std</th>\n",
       "      <th>min</th>\n",
       "      <th>25%</th>\n",
       "      <th>50%</th>\n",
       "      <th>75%</th>\n",
       "      <th>max</th>\n",
       "    </tr>\n",
       "  </thead>\n",
       "  <tbody>\n",
       "    <tr>\n",
       "      <th>registration_year</th>\n",
       "      <td>354365.00</td>\n",
       "      <td>2004.23</td>\n",
       "      <td>90.23</td>\n",
       "      <td>1000.00</td>\n",
       "      <td>1999.00</td>\n",
       "      <td>2003.00</td>\n",
       "      <td>2008.00</td>\n",
       "      <td>9999.00</td>\n",
       "    </tr>\n",
       "  </tbody>\n",
       "</table>\n",
       "</div>"
      ],
      "text/plain": [
       "                      count    mean   std     min     25%     50%     75%  \\\n",
       "registration_year 354365.00 2004.23 90.23 1000.00 1999.00 2003.00 2008.00   \n",
       "\n",
       "                      max  \n",
       "registration_year 9999.00  "
      ]
     },
     "execution_count": 18,
     "metadata": {},
     "output_type": "execute_result"
    }
   ],
   "source": [
    "# список основных статистик\n",
    "data.registration_year.describe().to_frame().T"
   ]
  },
  {
   "cell_type": "markdown",
   "id": "fdc0185b",
   "metadata": {},
   "source": [
    "Мы видим, что присутсвуют аномально большие и маленькие значения. Год регистрации не может превышать максимального года создания анкеты. Восстановить год выпуска автомобиля не представляется возможным, поэтому удалим записи, в которых год выпуска больше 2016 года и меньше 1950."
   ]
  },
  {
   "cell_type": "code",
   "execution_count": 19,
   "id": "74ca143d",
   "metadata": {},
   "outputs": [],
   "source": [
    "# удаление строк с аномальными значениями в столбце 'registration_year'\n",
    "data = data.query(\"registration_year >= 1950 and registration_year <= 2016\").reset_index(drop=True)"
   ]
  },
  {
   "cell_type": "code",
   "execution_count": 20,
   "id": "ad100f26",
   "metadata": {},
   "outputs": [
    {
     "name": "stdout",
     "output_type": "stream",
     "text": [
      "4.17%\n"
     ]
    }
   ],
   "source": [
    "# check\n",
    "lost_observations(data)"
   ]
  },
  {
   "cell_type": "markdown",
   "id": "83c04fd0",
   "metadata": {},
   "source": [
    "### Предобработка колонки *price*"
   ]
  },
  {
   "cell_type": "code",
   "execution_count": 21,
   "id": "3c78dd61",
   "metadata": {},
   "outputs": [
    {
     "data": {
      "text/html": [
       "<div>\n",
       "<style scoped>\n",
       "    .dataframe tbody tr th:only-of-type {\n",
       "        vertical-align: middle;\n",
       "    }\n",
       "\n",
       "    .dataframe tbody tr th {\n",
       "        vertical-align: top;\n",
       "    }\n",
       "\n",
       "    .dataframe thead th {\n",
       "        text-align: right;\n",
       "    }\n",
       "</style>\n",
       "<table border=\"1\" class=\"dataframe\">\n",
       "  <thead>\n",
       "    <tr style=\"text-align: right;\">\n",
       "      <th></th>\n",
       "      <th>count</th>\n",
       "      <th>mean</th>\n",
       "      <th>std</th>\n",
       "      <th>min</th>\n",
       "      <th>25%</th>\n",
       "      <th>50%</th>\n",
       "      <th>75%</th>\n",
       "      <th>max</th>\n",
       "    </tr>\n",
       "  </thead>\n",
       "  <tbody>\n",
       "    <tr>\n",
       "      <th>price</th>\n",
       "      <td>339589.00</td>\n",
       "      <td>4471.59</td>\n",
       "      <td>4545.26</td>\n",
       "      <td>0.00</td>\n",
       "      <td>1100.00</td>\n",
       "      <td>2799.00</td>\n",
       "      <td>6500.00</td>\n",
       "      <td>20000.00</td>\n",
       "    </tr>\n",
       "  </tbody>\n",
       "</table>\n",
       "</div>"
      ],
      "text/plain": [
       "          count    mean     std  min     25%     50%     75%      max\n",
       "price 339589.00 4471.59 4545.26 0.00 1100.00 2799.00 6500.00 20000.00"
      ]
     },
     "execution_count": 21,
     "metadata": {},
     "output_type": "execute_result"
    }
   ],
   "source": [
    "# список основных статистик\n",
    "data.price.describe().to_frame().T"
   ]
  },
  {
   "cell_type": "code",
   "execution_count": 22,
   "id": "6024af4f",
   "metadata": {},
   "outputs": [
    {
     "data": {
      "image/png": "[encoded data removed]",
      "text/plain": [
       "<Figure size 1000x300 with 1 Axes>"
      ]
     },
     "metadata": {},
     "output_type": "display_data"
    }
   ],
   "source": [
    "data.price.hist(bins = 150, figsize = (10,3), ec='black')\n",
    "plt.title('Распределение автомобилей по цене\\n')\n",
    "plt.xlabel('Цена автомобиля, евро')\n",
    "plt.ylabel('Количество автомобилей, шт.');"
   ]
  },
  {
   "cell_type": "markdown",
   "id": "aa2bfe4d",
   "metadata": {},
   "source": [
    "Наблюдаем наличие записей с нулевой ценой автомобиля, обработать эти значения невозможно. В качестве минимальной цены автомобиля выберем 200 евро."
   ]
  },
  {
   "cell_type": "code",
   "execution_count": 23,
   "id": "fba440b0",
   "metadata": {},
   "outputs": [],
   "source": [
    "# удаление строк с аномальными значениями в столбце 'price'\n",
    "data = data.query(\"price >= 200\").reset_index(drop=True)"
   ]
  },
  {
   "cell_type": "code",
   "execution_count": 24,
   "id": "1fb209cf",
   "metadata": {},
   "outputs": [
    {
     "name": "stdout",
     "output_type": "stream",
     "text": [
      "8.81%\n"
     ]
    }
   ],
   "source": [
    "# check\n",
    "lost_observations(data)"
   ]
  },
  {
   "cell_type": "markdown",
   "id": "96e661df",
   "metadata": {},
   "source": [
    "### Предобработка колонок *brand* и *kilometer*"
   ]
  },
  {
   "cell_type": "code",
   "execution_count": 25,
   "id": "5c40bf76",
   "metadata": {},
   "outputs": [
    {
     "data": {
      "image/png": "[encoded data removed]",
      "text/plain": [
       "<Figure size 1000x300 with 1 Axes>"
      ]
     },
     "metadata": {},
     "output_type": "display_data"
    }
   ],
   "source": [
    "data.brand.value_counts().plot(kind='bar', figsize=(10,3), rot=85, legend=False, fontsize=10, ec='black')\n",
    "plt.title('Распределение автомобилей по маркам\\n')\n",
    "plt.xlabel('Марка автомобиля')\n",
    "plt.ylabel('Количество автомобилей, шт.');"
   ]
  },
  {
   "cell_type": "code",
   "execution_count": 26,
   "id": "c2393215",
   "metadata": {},
   "outputs": [
    {
     "data": {
      "text/html": [
       "<div>\n",
       "<style scoped>\n",
       "    .dataframe tbody tr th:only-of-type {\n",
       "        vertical-align: middle;\n",
       "    }\n",
       "\n",
       "    .dataframe tbody tr th {\n",
       "        vertical-align: top;\n",
       "    }\n",
       "\n",
       "    .dataframe thead th {\n",
       "        text-align: right;\n",
       "    }\n",
       "</style>\n",
       "<table border=\"1\" class=\"dataframe\">\n",
       "  <thead>\n",
       "    <tr style=\"text-align: right;\">\n",
       "      <th></th>\n",
       "      <th>brand</th>\n",
       "    </tr>\n",
       "  </thead>\n",
       "  <tbody>\n",
       "    <tr>\n",
       "      <th>volkswagen</th>\n",
       "      <td>0.21</td>\n",
       "    </tr>\n",
       "    <tr>\n",
       "      <th>opel</th>\n",
       "      <td>0.11</td>\n",
       "    </tr>\n",
       "    <tr>\n",
       "      <th>bmw</th>\n",
       "      <td>0.11</td>\n",
       "    </tr>\n",
       "  </tbody>\n",
       "</table>\n",
       "</div>"
      ],
      "text/plain": [
       "            brand\n",
       "volkswagen   0.21\n",
       "opel         0.11\n",
       "bmw          0.11"
      ]
     },
     "execution_count": 26,
     "metadata": {},
     "output_type": "execute_result"
    }
   ],
   "source": [
    "# уникальные значения в столбце в порядке убывания частоты их упоминаний\n",
    "data.brand.value_counts(normalize=True).to_frame().head(3)"
   ]
  },
  {
   "cell_type": "markdown",
   "id": "5d363eb4",
   "metadata": {},
   "source": [
    "Самой популярной является автомобильная марка *Volkswagen* (21 %). Далее идут *Opel* (11 %) и *BMW* (11 %)."
   ]
  },
  {
   "cell_type": "code",
   "execution_count": 27,
   "id": "c8dc4317",
   "metadata": {},
   "outputs": [
    {
     "data": {
      "image/png": "[encoded data removed]",
      "text/plain": [
       "<Figure size 1000x300 with 1 Axes>"
      ]
     },
     "metadata": {},
     "output_type": "display_data"
    }
   ],
   "source": [
    "(data\n",
    " .pivot_table(index='kilometer', values='brand', aggfunc='count')\n",
    " .plot(kind='bar', grid=True, legend=False, figsize=(10,3), rot=50, ec='black')\n",
    ")\n",
    "plt.xlabel('Пробег, км')\n",
    "plt.ylabel('Количество автомобилей, шт.')\n",
    "plt.title('Распределение автомобилей по пробегу\\n');"
   ]
  },
  {
   "cell_type": "code",
   "execution_count": 28,
   "id": "00410311",
   "metadata": {},
   "outputs": [
    {
     "data": {
      "text/html": [
       "<div>\n",
       "<style scoped>\n",
       "    .dataframe tbody tr th:only-of-type {\n",
       "        vertical-align: middle;\n",
       "    }\n",
       "\n",
       "    .dataframe tbody tr th {\n",
       "        vertical-align: top;\n",
       "    }\n",
       "\n",
       "    .dataframe thead th {\n",
       "        text-align: right;\n",
       "    }\n",
       "</style>\n",
       "<table border=\"1\" class=\"dataframe\">\n",
       "  <thead>\n",
       "    <tr style=\"text-align: right;\">\n",
       "      <th></th>\n",
       "      <th>kilometer</th>\n",
       "    </tr>\n",
       "  </thead>\n",
       "  <tbody>\n",
       "    <tr>\n",
       "      <th>150000</th>\n",
       "      <td>0.67</td>\n",
       "    </tr>\n",
       "    <tr>\n",
       "      <th>125000</th>\n",
       "      <td>0.11</td>\n",
       "    </tr>\n",
       "    <tr>\n",
       "      <th>100000</th>\n",
       "      <td>0.04</td>\n",
       "    </tr>\n",
       "  </tbody>\n",
       "</table>\n",
       "</div>"
      ],
      "text/plain": [
       "        kilometer\n",
       "150000       0.67\n",
       "125000       0.11\n",
       "100000       0.04"
      ]
     },
     "execution_count": 28,
     "metadata": {},
     "output_type": "execute_result"
    }
   ],
   "source": [
    "# уникальные значения в столбце в порядке убывания частоты их упоминаний\n",
    "data.kilometer.value_counts(normalize=True).to_frame().head(3)"
   ]
  },
  {
   "cell_type": "markdown",
   "id": "04917970",
   "metadata": {},
   "source": [
    "Большинство автомобилей (67 %) имеют пробег 150 тыс. км.\n",
    "\n",
    "Обработка значений в столбцах `brand` и `kilometer` не требуется."
   ]
  },
  {
   "cell_type": "markdown",
   "id": "542a2ac6",
   "metadata": {},
   "source": [
    "### Предобработка колонки *repaired*"
   ]
  },
  {
   "cell_type": "code",
   "execution_count": 29,
   "id": "186e1cb0",
   "metadata": {},
   "outputs": [
    {
     "data": {
      "text/plain": [
       "array([nan, 'yes', 'no'], dtype=object)"
      ]
     },
     "execution_count": 29,
     "metadata": {},
     "output_type": "execute_result"
    }
   ],
   "source": [
    "# уникальные значения в столбце\n",
    "data.repaired.unique()"
   ]
  },
  {
   "cell_type": "markdown",
   "id": "e84569f8",
   "metadata": {},
   "source": [
    "Узнать, была машина в ремонте или нет, невозможно. Поставим заглушку `'unknown'`."
   ]
  },
  {
   "cell_type": "code",
   "execution_count": 30,
   "id": "c1d29345",
   "metadata": {},
   "outputs": [],
   "source": [
    "# замена пропусков в колонке\n",
    "data.repaired.fillna('unknown', inplace=True)"
   ]
  },
  {
   "cell_type": "code",
   "execution_count": 31,
   "id": "2bd1b2a5",
   "metadata": {},
   "outputs": [
    {
     "name": "stdout",
     "output_type": "stream",
     "text": [
      "8.81%\n"
     ]
    }
   ],
   "source": [
    "# check\n",
    "lost_observations(data)"
   ]
  },
  {
   "cell_type": "code",
   "execution_count": 32,
   "id": "660ba966",
   "metadata": {},
   "outputs": [
    {
     "data": {
      "image/png": "[encoded data removed]",
      "text/plain": [
       "<Figure size 800x200 with 1 Axes>"
      ]
     },
     "metadata": {},
     "output_type": "display_data"
    }
   ],
   "source": [
    "# check\n",
    "pass_value_barh(data)"
   ]
  },
  {
   "cell_type": "code",
   "execution_count": 33,
   "id": "f42bd792",
   "metadata": {},
   "outputs": [
    {
     "data": {
      "image/png": "[encoded data removed]",
      "text/plain": [
       "<Figure size 1000x300 with 1 Axes>"
      ]
     },
     "metadata": {},
     "output_type": "display_data"
    }
   ],
   "source": [
    "data.repaired.value_counts().plot(kind='bar', figsize=(10,3), rot=0, legend=False, fontsize=10, ec='black')\n",
    "plt.title('Распределение автомобилей по наличию ремонта\\n')\n",
    "plt.xlabel('Машина была в ремонте?')\n",
    "plt.ylabel('Количество автомобилей, шт.');"
   ]
  },
  {
   "cell_type": "code",
   "execution_count": 34,
   "id": "1b313024",
   "metadata": {},
   "outputs": [
    {
     "data": {
      "text/html": [
       "<div>\n",
       "<style scoped>\n",
       "    .dataframe tbody tr th:only-of-type {\n",
       "        vertical-align: middle;\n",
       "    }\n",
       "\n",
       "    .dataframe tbody tr th {\n",
       "        vertical-align: top;\n",
       "    }\n",
       "\n",
       "    .dataframe thead th {\n",
       "        text-align: right;\n",
       "    }\n",
       "</style>\n",
       "<table border=\"1\" class=\"dataframe\">\n",
       "  <thead>\n",
       "    <tr style=\"text-align: right;\">\n",
       "      <th></th>\n",
       "      <th>repaired</th>\n",
       "    </tr>\n",
       "  </thead>\n",
       "  <tbody>\n",
       "    <tr>\n",
       "      <th>no</th>\n",
       "      <td>0.73</td>\n",
       "    </tr>\n",
       "    <tr>\n",
       "      <th>unknown</th>\n",
       "      <td>0.17</td>\n",
       "    </tr>\n",
       "    <tr>\n",
       "      <th>yes</th>\n",
       "      <td>0.10</td>\n",
       "    </tr>\n",
       "  </tbody>\n",
       "</table>\n",
       "</div>"
      ],
      "text/plain": [
       "         repaired\n",
       "no           0.73\n",
       "unknown      0.17\n",
       "yes          0.10"
      ]
     },
     "execution_count": 34,
     "metadata": {},
     "output_type": "execute_result"
    }
   ],
   "source": [
    "# уникальные значения в столбце в порядке убывания частоты их упоминаний\n",
    "data.repaired.value_counts(normalize=True).to_frame()"
   ]
  },
  {
   "cell_type": "markdown",
   "id": "9c6c0937",
   "metadata": {},
   "source": [
    "Большинство (73 %) автомобилей не подвергалось ремонту."
   ]
  },
  {
   "cell_type": "markdown",
   "id": "0be33896",
   "metadata": {},
   "source": [
    "### Предобработка колонки *power* 1"
   ]
  },
  {
   "cell_type": "code",
   "execution_count": 35,
   "id": "3239f206",
   "metadata": {},
   "outputs": [
    {
     "data": {
      "text/html": [
       "<div>\n",
       "<style scoped>\n",
       "    .dataframe tbody tr th:only-of-type {\n",
       "        vertical-align: middle;\n",
       "    }\n",
       "\n",
       "    .dataframe tbody tr th {\n",
       "        vertical-align: top;\n",
       "    }\n",
       "\n",
       "    .dataframe thead th {\n",
       "        text-align: right;\n",
       "    }\n",
       "</style>\n",
       "<table border=\"1\" class=\"dataframe\">\n",
       "  <thead>\n",
       "    <tr style=\"text-align: right;\">\n",
       "      <th></th>\n",
       "      <th>count</th>\n",
       "      <th>mean</th>\n",
       "      <th>std</th>\n",
       "      <th>min</th>\n",
       "      <th>25%</th>\n",
       "      <th>50%</th>\n",
       "      <th>75%</th>\n",
       "      <th>max</th>\n",
       "    </tr>\n",
       "  </thead>\n",
       "  <tbody>\n",
       "    <tr>\n",
       "      <th>power</th>\n",
       "      <td>323152.00</td>\n",
       "      <td>113.10</td>\n",
       "      <td>184.85</td>\n",
       "      <td>0.00</td>\n",
       "      <td>75.00</td>\n",
       "      <td>105.00</td>\n",
       "      <td>143.00</td>\n",
       "      <td>20000.00</td>\n",
       "    </tr>\n",
       "  </tbody>\n",
       "</table>\n",
       "</div>"
      ],
      "text/plain": [
       "          count   mean    std  min   25%    50%    75%      max\n",
       "power 323152.00 113.10 184.85 0.00 75.00 105.00 143.00 20000.00"
      ]
     },
     "execution_count": 35,
     "metadata": {},
     "output_type": "execute_result"
    }
   ],
   "source": [
    "# список основных статистик\n",
    "data.power.describe().to_frame().T"
   ]
  },
  {
   "cell_type": "markdown",
   "id": "ef337609",
   "metadata": {},
   "source": [
    "Видно, что имеются аномально большие и нулевые значения мощности автомобилей. На основе представленных брендов можно сделать вывод, что автомобилей с мощностью более 650 л.с. быть не может. Посмотрим, много ли таких записей."
   ]
  },
  {
   "cell_type": "code",
   "execution_count": 36,
   "id": "8e978e66",
   "metadata": {},
   "outputs": [
    {
     "name": "stdout",
     "output_type": "stream",
     "text": [
      "0.08%\n"
     ]
    }
   ],
   "source": [
    "# доля аномальных данных от исходных\n",
    "print(f'{data.query(\"power > 650\").shape[0] / 354369:.2%}')"
   ]
  },
  {
   "cell_type": "markdown",
   "id": "47fedcd7",
   "metadata": {},
   "source": [
    "Посмотрим на распределение автомобилей по мощности двигателя."
   ]
  },
  {
   "cell_type": "code",
   "execution_count": 37,
   "id": "7d249407",
   "metadata": {},
   "outputs": [
    {
     "data": {
      "image/png": "[encoded data removed]",
      "text/plain": [
       "<Figure size 1000x300 with 1 Axes>"
      ]
     },
     "metadata": {},
     "output_type": "display_data"
    }
   ],
   "source": [
    "data.power.hist(bins = 150, figsize = (10,3), range = (0, 650), ec='black')\n",
    "plt.title('Распределение автомобилей по мощности двигателя\\n')\n",
    "plt.xlabel('Мощность двигателя, л.с.')\n",
    "plt.ylabel('Количество автомобилей, шт.');"
   ]
  },
  {
   "cell_type": "code",
   "execution_count": 38,
   "id": "a3576afc",
   "metadata": {},
   "outputs": [
    {
     "data": {
      "image/png": "[encoded data removed]",
      "text/plain": [
       "<Figure size 1000x300 with 1 Axes>"
      ]
     },
     "metadata": {},
     "output_type": "display_data"
    }
   ],
   "source": [
    "data.power.hist(bins = 150, figsize = (10,3), range = (0, 50), ec='black');"
   ]
  },
  {
   "cell_type": "markdown",
   "id": "c89b552f",
   "metadata": {},
   "source": [
    "Будем считать, автомобили с мощностью более 400 л.с. и менее 45 л.с. выбросами. Нулевые значения пока не торогаем."
   ]
  },
  {
   "cell_type": "code",
   "execution_count": 39,
   "id": "0b7ce47e",
   "metadata": {},
   "outputs": [],
   "source": [
    "# удаление строк с аномально большими значениями в столбце 'power'\n",
    "data = data.query(\"power >= 45 and power <= 400 or power == 0\").reset_index(drop=True)"
   ]
  },
  {
   "cell_type": "code",
   "execution_count": 40,
   "id": "cbcc35c3",
   "metadata": {},
   "outputs": [
    {
     "name": "stdout",
     "output_type": "stream",
     "text": [
      "9.67%\n"
     ]
    }
   ],
   "source": [
    "# check\n",
    "lost_observations(data)"
   ]
  },
  {
   "cell_type": "code",
   "execution_count": 41,
   "id": "702d7ad7",
   "metadata": {},
   "outputs": [
    {
     "data": {
      "text/html": [
       "<div>\n",
       "<style scoped>\n",
       "    .dataframe tbody tr th:only-of-type {\n",
       "        vertical-align: middle;\n",
       "    }\n",
       "\n",
       "    .dataframe tbody tr th {\n",
       "        vertical-align: top;\n",
       "    }\n",
       "\n",
       "    .dataframe thead th {\n",
       "        text-align: right;\n",
       "    }\n",
       "</style>\n",
       "<table border=\"1\" class=\"dataframe\">\n",
       "  <thead>\n",
       "    <tr style=\"text-align: right;\">\n",
       "      <th></th>\n",
       "      <th>power</th>\n",
       "    </tr>\n",
       "  </thead>\n",
       "  <tbody>\n",
       "    <tr>\n",
       "      <th>0</th>\n",
       "      <td>0.09</td>\n",
       "    </tr>\n",
       "    <tr>\n",
       "      <th>75</th>\n",
       "      <td>0.07</td>\n",
       "    </tr>\n",
       "    <tr>\n",
       "      <th>60</th>\n",
       "      <td>0.04</td>\n",
       "    </tr>\n",
       "  </tbody>\n",
       "</table>\n",
       "</div>"
      ],
      "text/plain": [
       "    power\n",
       "0    0.09\n",
       "75   0.07\n",
       "60   0.04"
      ]
     },
     "execution_count": 41,
     "metadata": {},
     "output_type": "execute_result"
    }
   ],
   "source": [
    "# уникальные значения в столбце в порядке убывания частоты их упоминаний\n",
    "data.power.value_counts(normalize=True).to_frame().head(3)"
   ]
  },
  {
   "cell_type": "markdown",
   "id": "a66540cb",
   "metadata": {},
   "source": [
    "Большинство автомобилей (9 %) имеют мощность двигателя 0 л.с., что невозможно, скорее всего клиенты не заполнили соответствующее поле. Поработаем с этими наблюдениями после заполнения пропусков в других колонках."
   ]
  },
  {
   "cell_type": "markdown",
   "id": "979e4cb9",
   "metadata": {},
   "source": [
    "### Предобработка колонки *model*"
   ]
  },
  {
   "cell_type": "code",
   "execution_count": 42,
   "id": "3f72f739",
   "metadata": {},
   "outputs": [
    {
     "data": {
      "text/plain": [
       "array(['golf', nan, 'grand', 'fabia', '3er', '2_reihe', 'c_max',\n",
       "       '3_reihe', 'passat', 'navara', 'polo', 'twingo', 'a_klasse',\n",
       "       'scirocco', '5er', 'arosa', 'other', 'civic', 'transporter',\n",
       "       'punto', 'e_klasse', 'clio', 'kadett', 'kangoo', 'one', 'fortwo',\n",
       "       '1er', 'b_klasse', 'signum', 'astra', 'a8', 'jetta', 'fiesta',\n",
       "       'c_klasse', 'micra', 'vito', 'sprinter', '156', 'escort',\n",
       "       'forester', 'xc_reihe', 'scenic', 'a4', 'ka', 'a1', 'insignia',\n",
       "       'combo', 'focus', 'tt', 'corsa', 'a6', 'jazz', 'omega', 'slk',\n",
       "       '7er', '80', '147', 'z_reihe', 'sorento', 'v40', 'ibiza',\n",
       "       'mustang', 'eos', 'touran', 'getz', 'a3', 'almera', 'megane',\n",
       "       'lupo', 'r19', 'caddy', 'mondeo', 'cordoba', 'colt', 'impreza',\n",
       "       'vectra', 'berlingo', 'tiguan', 'sharan', '6_reihe', 'c4', 'panda',\n",
       "       'up', 'i_reihe', 'ceed', '5_reihe', 'yeti', 'octavia', 'zafira',\n",
       "       'mii', 'rx_reihe', '6er', 'modus', 'fox', 'matiz', 'beetle', 'c1',\n",
       "       'rio', 'touareg', 'logan', 'spider', 'cuore', 's_max', 'a2',\n",
       "       'galaxy', 'c3', 'viano', 's_klasse', '1_reihe', 'avensis',\n",
       "       'roomster', 'sl', 'santa', 'cooper', 'leon', '4_reihe', 'a5',\n",
       "       'sportage', 'laguna', 'ptcruiser', 'clk', 'primera', 'espace',\n",
       "       'x_reihe', 'exeo', '159', 'transit', 'juke', 'qashqai', 'carisma',\n",
       "       'accord', 'corolla', 'lanos', 'phaeton', 'verso', 'swift', 'rav',\n",
       "       'picanto', 'boxster', 'kalos', 'superb', 'stilo', 'alhambra',\n",
       "       'roadster', 'ypsilon', 'galant', 'justy', '90', 'sirion',\n",
       "       'crossfire', 'agila', 'duster', 'v50', 'mx_reihe', 'meriva',\n",
       "       'c_reihe', 'v_klasse', 'm_klasse', 'yaris', 'c5', 'aygo', 'cc',\n",
       "       'carnival', 'fusion', '911', 'bora', 'forfour', '100', 'cl',\n",
       "       'tigra', '300c', '500', 'cr_reihe', 'spark', 'v70', 'kuga',\n",
       "       'x_type', 'ducato', 's_type', 'x_trail', 'toledo', 'altea',\n",
       "       'kaefer', 'voyager', 'bravo', 'antara', 'tucson', 'citigo',\n",
       "       'jimny', 'cayenne', 'wrangler', 'lybra', 'q7', 'lancer', 'captiva',\n",
       "       'discovery', 'freelander', 'sandero', 'note', 'seicento', '900',\n",
       "       'cherokee', 'clubman', 'defender', 'cx_reihe', 'legacy', 'pajero',\n",
       "       'auris', 'c2', 'niva', 's60', 'm_reihe', 'nubira', 'vivaro',\n",
       "       'g_klasse', 'lodgy', '850', 'range_rover', 'q3', 'serie_2',\n",
       "       'calibra', 'glk', 'charade', 'croma', 'outlander', 'doblo', 'musa',\n",
       "       'move', '9000', 'v60', '200', '145', 'b_max', 'range_rover_sport',\n",
       "       'aveo', '601', 'terios', 'samara', 'rangerover', 'q5',\n",
       "       'range_rover_evoque', 'materia', 'delta', 'gl', 'kalina',\n",
       "       'elefantino', 'i3', 'amarok', 'kappa', 'serie_3', 'serie_1'],\n",
       "      dtype=object)"
      ]
     },
     "execution_count": 42,
     "metadata": {},
     "output_type": "execute_result"
    }
   ],
   "source": [
    "# уникальные значения в столбце\n",
    "data.model.unique()"
   ]
  },
  {
   "cell_type": "code",
   "execution_count": 43,
   "id": "4394ba6f",
   "metadata": {},
   "outputs": [
    {
     "data": {
      "text/html": [
       "<div>\n",
       "<style scoped>\n",
       "    .dataframe tbody tr th:only-of-type {\n",
       "        vertical-align: middle;\n",
       "    }\n",
       "\n",
       "    .dataframe tbody tr th {\n",
       "        vertical-align: top;\n",
       "    }\n",
       "\n",
       "    .dataframe thead th {\n",
       "        text-align: right;\n",
       "    }\n",
       "</style>\n",
       "<table border=\"1\" class=\"dataframe\">\n",
       "  <thead>\n",
       "    <tr style=\"text-align: right;\">\n",
       "      <th></th>\n",
       "      <th>model</th>\n",
       "    </tr>\n",
       "  </thead>\n",
       "  <tbody>\n",
       "    <tr>\n",
       "      <th>golf</th>\n",
       "      <td>0.09</td>\n",
       "    </tr>\n",
       "    <tr>\n",
       "      <th>other</th>\n",
       "      <td>0.07</td>\n",
       "    </tr>\n",
       "    <tr>\n",
       "      <th>3er</th>\n",
       "      <td>0.06</td>\n",
       "    </tr>\n",
       "    <tr>\n",
       "      <th>polo</th>\n",
       "      <td>0.04</td>\n",
       "    </tr>\n",
       "    <tr>\n",
       "      <th>corsa</th>\n",
       "      <td>0.04</td>\n",
       "    </tr>\n",
       "  </tbody>\n",
       "</table>\n",
       "</div>"
      ],
      "text/plain": [
       "       model\n",
       "golf    0.09\n",
       "other   0.07\n",
       "3er     0.06\n",
       "polo    0.04\n",
       "corsa   0.04"
      ]
     },
     "execution_count": 43,
     "metadata": {},
     "output_type": "execute_result"
    }
   ],
   "source": [
    "# уникальные значения в столбце в порядке убывания частоты их упоминаний\n",
    "data.model.value_counts(normalize=True).to_frame().head(5)"
   ]
  },
  {
   "cell_type": "markdown",
   "id": "18dc4a46",
   "metadata": {},
   "source": [
    "Заполним пропуски в колонке `model`, самой популярной моделью для соответствущей марки (`brand`) и типа кузова (`vehicle_type`)."
   ]
  },
  {
   "cell_type": "code",
   "execution_count": 44,
   "id": "01998d85",
   "metadata": {},
   "outputs": [
    {
     "data": {
      "text/html": [
       "<div>\n",
       "<style scoped>\n",
       "    .dataframe tbody tr th:only-of-type {\n",
       "        vertical-align: middle;\n",
       "    }\n",
       "\n",
       "    .dataframe tbody tr th {\n",
       "        vertical-align: top;\n",
       "    }\n",
       "\n",
       "    .dataframe thead tr th {\n",
       "        text-align: left;\n",
       "    }\n",
       "\n",
       "    .dataframe thead tr:last-of-type th {\n",
       "        text-align: right;\n",
       "    }\n",
       "</style>\n",
       "<table border=\"1\" class=\"dataframe\">\n",
       "  <thead>\n",
       "    <tr>\n",
       "      <th>brand</th>\n",
       "      <th colspan=\"6\" halign=\"left\">alfa_romeo</th>\n",
       "      <th colspan=\"4\" halign=\"left\">audi</th>\n",
       "      <th>...</th>\n",
       "      <th colspan=\"3\" halign=\"left\">volkswagen</th>\n",
       "      <th colspan=\"7\" halign=\"left\">volvo</th>\n",
       "    </tr>\n",
       "    <tr>\n",
       "      <th>vehicle_type</th>\n",
       "      <th>convertible</th>\n",
       "      <th>coupe</th>\n",
       "      <th>other</th>\n",
       "      <th>sedan</th>\n",
       "      <th>small</th>\n",
       "      <th>wagon</th>\n",
       "      <th>bus</th>\n",
       "      <th>convertible</th>\n",
       "      <th>coupe</th>\n",
       "      <th>other</th>\n",
       "      <th>...</th>\n",
       "      <th>small</th>\n",
       "      <th>suv</th>\n",
       "      <th>wagon</th>\n",
       "      <th>convertible</th>\n",
       "      <th>coupe</th>\n",
       "      <th>other</th>\n",
       "      <th>sedan</th>\n",
       "      <th>small</th>\n",
       "      <th>suv</th>\n",
       "      <th>wagon</th>\n",
       "    </tr>\n",
       "    <tr>\n",
       "      <th>model</th>\n",
       "      <th></th>\n",
       "      <th></th>\n",
       "      <th></th>\n",
       "      <th></th>\n",
       "      <th></th>\n",
       "      <th></th>\n",
       "      <th></th>\n",
       "      <th></th>\n",
       "      <th></th>\n",
       "      <th></th>\n",
       "      <th></th>\n",
       "      <th></th>\n",
       "      <th></th>\n",
       "      <th></th>\n",
       "      <th></th>\n",
       "      <th></th>\n",
       "      <th></th>\n",
       "      <th></th>\n",
       "      <th></th>\n",
       "      <th></th>\n",
       "      <th></th>\n",
       "    </tr>\n",
       "  </thead>\n",
       "  <tbody>\n",
       "    <tr>\n",
       "      <th>100</th>\n",
       "      <td>NaN</td>\n",
       "      <td>NaN</td>\n",
       "      <td>NaN</td>\n",
       "      <td>NaN</td>\n",
       "      <td>NaN</td>\n",
       "      <td>NaN</td>\n",
       "      <td>NaN</td>\n",
       "      <td>1.00</td>\n",
       "      <td>2.00</td>\n",
       "      <td>NaN</td>\n",
       "      <td>...</td>\n",
       "      <td>NaN</td>\n",
       "      <td>NaN</td>\n",
       "      <td>NaN</td>\n",
       "      <td>NaN</td>\n",
       "      <td>NaN</td>\n",
       "      <td>NaN</td>\n",
       "      <td>NaN</td>\n",
       "      <td>NaN</td>\n",
       "      <td>NaN</td>\n",
       "      <td>NaN</td>\n",
       "    </tr>\n",
       "    <tr>\n",
       "      <th>145</th>\n",
       "      <td>NaN</td>\n",
       "      <td>2.00</td>\n",
       "      <td>1.00</td>\n",
       "      <td>12.00</td>\n",
       "      <td>18.00</td>\n",
       "      <td>NaN</td>\n",
       "      <td>NaN</td>\n",
       "      <td>NaN</td>\n",
       "      <td>NaN</td>\n",
       "      <td>NaN</td>\n",
       "      <td>...</td>\n",
       "      <td>NaN</td>\n",
       "      <td>NaN</td>\n",
       "      <td>NaN</td>\n",
       "      <td>NaN</td>\n",
       "      <td>NaN</td>\n",
       "      <td>NaN</td>\n",
       "      <td>NaN</td>\n",
       "      <td>NaN</td>\n",
       "      <td>NaN</td>\n",
       "      <td>NaN</td>\n",
       "    </tr>\n",
       "    <tr>\n",
       "      <th>147</th>\n",
       "      <td>NaN</td>\n",
       "      <td>26.00</td>\n",
       "      <td>6.00</td>\n",
       "      <td>357.00</td>\n",
       "      <td>92.00</td>\n",
       "      <td>2.00</td>\n",
       "      <td>NaN</td>\n",
       "      <td>NaN</td>\n",
       "      <td>NaN</td>\n",
       "      <td>NaN</td>\n",
       "      <td>...</td>\n",
       "      <td>NaN</td>\n",
       "      <td>NaN</td>\n",
       "      <td>NaN</td>\n",
       "      <td>NaN</td>\n",
       "      <td>NaN</td>\n",
       "      <td>NaN</td>\n",
       "      <td>NaN</td>\n",
       "      <td>NaN</td>\n",
       "      <td>NaN</td>\n",
       "      <td>NaN</td>\n",
       "    </tr>\n",
       "    <tr>\n",
       "      <th>156</th>\n",
       "      <td>NaN</td>\n",
       "      <td>3.00</td>\n",
       "      <td>1.00</td>\n",
       "      <td>259.00</td>\n",
       "      <td>2.00</td>\n",
       "      <td>279.00</td>\n",
       "      <td>NaN</td>\n",
       "      <td>NaN</td>\n",
       "      <td>NaN</td>\n",
       "      <td>NaN</td>\n",
       "      <td>...</td>\n",
       "      <td>NaN</td>\n",
       "      <td>NaN</td>\n",
       "      <td>NaN</td>\n",
       "      <td>NaN</td>\n",
       "      <td>NaN</td>\n",
       "      <td>NaN</td>\n",
       "      <td>NaN</td>\n",
       "      <td>NaN</td>\n",
       "      <td>NaN</td>\n",
       "      <td>NaN</td>\n",
       "    </tr>\n",
       "    <tr>\n",
       "      <th>159</th>\n",
       "      <td>NaN</td>\n",
       "      <td>NaN</td>\n",
       "      <td>NaN</td>\n",
       "      <td>55.00</td>\n",
       "      <td>NaN</td>\n",
       "      <td>143.00</td>\n",
       "      <td>NaN</td>\n",
       "      <td>NaN</td>\n",
       "      <td>NaN</td>\n",
       "      <td>NaN</td>\n",
       "      <td>...</td>\n",
       "      <td>NaN</td>\n",
       "      <td>NaN</td>\n",
       "      <td>NaN</td>\n",
       "      <td>NaN</td>\n",
       "      <td>NaN</td>\n",
       "      <td>NaN</td>\n",
       "      <td>NaN</td>\n",
       "      <td>NaN</td>\n",
       "      <td>NaN</td>\n",
       "      <td>NaN</td>\n",
       "    </tr>\n",
       "  </tbody>\n",
       "</table>\n",
       "<p>5 rows × 280 columns</p>\n",
       "</div>"
      ],
      "text/plain": [
       "brand         alfa_romeo                                 audi              \\\n",
       "vehicle_type convertible coupe other  sedan small  wagon  bus convertible   \n",
       "model                                                                       \n",
       "100                  NaN   NaN   NaN    NaN   NaN    NaN  NaN        1.00   \n",
       "145                  NaN  2.00  1.00  12.00 18.00    NaN  NaN         NaN   \n",
       "147                  NaN 26.00  6.00 357.00 92.00   2.00  NaN         NaN   \n",
       "156                  NaN  3.00  1.00 259.00  2.00 279.00  NaN         NaN   \n",
       "159                  NaN   NaN   NaN  55.00   NaN 143.00  NaN         NaN   \n",
       "\n",
       "brand                     ... volkswagen                 volvo              \\\n",
       "vehicle_type coupe other  ...      small suv wagon convertible coupe other   \n",
       "model                     ...                                                \n",
       "100           2.00   NaN  ...        NaN NaN   NaN         NaN   NaN   NaN   \n",
       "145            NaN   NaN  ...        NaN NaN   NaN         NaN   NaN   NaN   \n",
       "147            NaN   NaN  ...        NaN NaN   NaN         NaN   NaN   NaN   \n",
       "156            NaN   NaN  ...        NaN NaN   NaN         NaN   NaN   NaN   \n",
       "159            NaN   NaN  ...        NaN NaN   NaN         NaN   NaN   NaN   \n",
       "\n",
       "brand                               \n",
       "vehicle_type sedan small suv wagon  \n",
       "model                               \n",
       "100            NaN   NaN NaN   NaN  \n",
       "145            NaN   NaN NaN   NaN  \n",
       "147            NaN   NaN NaN   NaN  \n",
       "156            NaN   NaN NaN   NaN  \n",
       "159            NaN   NaN NaN   NaN  \n",
       "\n",
       "[5 rows x 280 columns]"
      ]
     },
     "execution_count": 44,
     "metadata": {},
     "output_type": "execute_result"
    }
   ],
   "source": [
    "# сводная таблица - группируем модели (индекс) по бренду и типу кузова (столбцы), значения - количество таких пересечений\n",
    "model_pivot_table = data.pivot_table(index='model', columns=['brand', 'vehicle_type'], values='power', aggfunc='count')\n",
    "model_pivot_table.head()"
   ]
  },
  {
   "cell_type": "code",
   "execution_count": 45,
   "id": "ecb6eed2",
   "metadata": {},
   "outputs": [],
   "source": [
    "def fillna_column(row, fill_column, base_column, my_pivot_table):\n",
    "    \"\"\"\n",
    "    Функция получает на вход строку датафрейма (row); название столбца, в котором \n",
    "    нужно заполнить пропуски (fill_column); название столбца, с помощью которого \n",
    "    будут заполняться пропуски (base_column); сводную таблицу с количеством элементов\n",
    "    столбца fill_column для всех комбинаций значений в столбцах 'brand' и base_column.\n",
    "    Возвращает заполняющее значение.\n",
    "\n",
    "    \"\"\"\n",
    "    brand = row['brand']\n",
    "    base_value = row[base_column]\n",
    "    fill_value = row[fill_column]\n",
    "    if pd.isna(fill_value) and pd.notna(base_value) and (brand, base_value) in set(my_pivot_table.columns):\n",
    "        fill_value = my_pivot_table[(brand, base_value)].idxmax()\n",
    "    return fill_value"
   ]
  },
  {
   "cell_type": "markdown",
   "id": "c0ce9012",
   "metadata": {},
   "source": [
    "Проверим адекватность работы функции."
   ]
  },
  {
   "cell_type": "code",
   "execution_count": 46,
   "id": "3d7555b4",
   "metadata": {},
   "outputs": [
    {
     "data": {
      "text/html": [
       "<div>\n",
       "<style scoped>\n",
       "    .dataframe tbody tr th:only-of-type {\n",
       "        vertical-align: middle;\n",
       "    }\n",
       "\n",
       "    .dataframe tbody tr th {\n",
       "        vertical-align: top;\n",
       "    }\n",
       "\n",
       "    .dataframe thead th {\n",
       "        text-align: right;\n",
       "    }\n",
       "</style>\n",
       "<table border=\"1\" class=\"dataframe\">\n",
       "  <thead>\n",
       "    <tr style=\"text-align: right;\">\n",
       "      <th></th>\n",
       "      <th>date_crawled</th>\n",
       "      <th>price</th>\n",
       "      <th>vehicle_type</th>\n",
       "      <th>registration_year</th>\n",
       "      <th>gearbox</th>\n",
       "      <th>power</th>\n",
       "      <th>model</th>\n",
       "      <th>kilometer</th>\n",
       "      <th>registration_month</th>\n",
       "      <th>fuel_type</th>\n",
       "      <th>brand</th>\n",
       "      <th>repaired</th>\n",
       "      <th>date_created</th>\n",
       "      <th>number_of_pictures</th>\n",
       "      <th>postal_code</th>\n",
       "      <th>last_seen</th>\n",
       "    </tr>\n",
       "  </thead>\n",
       "  <tbody>\n",
       "    <tr>\n",
       "      <th>1</th>\n",
       "      <td>2016-03-24 10:58:45</td>\n",
       "      <td>18300</td>\n",
       "      <td>coupe</td>\n",
       "      <td>2011</td>\n",
       "      <td>manual</td>\n",
       "      <td>190</td>\n",
       "      <td>NaN</td>\n",
       "      <td>125000</td>\n",
       "      <td>5</td>\n",
       "      <td>gasoline</td>\n",
       "      <td>audi</td>\n",
       "      <td>yes</td>\n",
       "      <td>2016-03-24</td>\n",
       "      <td>0</td>\n",
       "      <td>66954</td>\n",
       "      <td>2016-04-07 01:46:50</td>\n",
       "    </tr>\n",
       "  </tbody>\n",
       "</table>\n",
       "</div>"
      ],
      "text/plain": [
       "         date_crawled  price vehicle_type  registration_year gearbox  power  \\\n",
       "1 2016-03-24 10:58:45  18300        coupe               2011  manual    190   \n",
       "\n",
       "  model  kilometer  registration_month fuel_type brand repaired date_created  \\\n",
       "1   NaN     125000                   5  gasoline  audi      yes   2016-03-24   \n",
       "\n",
       "   number_of_pictures  postal_code           last_seen  \n",
       "1                   0        66954 2016-04-07 01:46:50  "
      ]
     },
     "execution_count": 46,
     "metadata": {},
     "output_type": "execute_result"
    }
   ],
   "source": [
    "# рассмотрим строку с индексом 1, для этого наблюдения 'brand' = 'audi', 'vehicle_type' = 'coupe', 'model' = NaN\n",
    "data.loc[[1]]"
   ]
  },
  {
   "cell_type": "code",
   "execution_count": 47,
   "id": "a5189658",
   "metadata": {},
   "outputs": [
    {
     "data": {
      "text/plain": [
       "'tt'"
      ]
     },
     "execution_count": 47,
     "metadata": {},
     "output_type": "execute_result"
    }
   ],
   "source": [
    "# функция должна вернуть самую популярную модель для 'brand' = 'audi' и 'vehicle_type' = 'coupe'\n",
    "model_pivot_table[('audi', 'coupe')].idxmax()"
   ]
  },
  {
   "cell_type": "code",
   "execution_count": 48,
   "id": "d94e3311",
   "metadata": {},
   "outputs": [
    {
     "data": {
      "text/plain": [
       "'tt'"
      ]
     },
     "execution_count": 48,
     "metadata": {},
     "output_type": "execute_result"
    }
   ],
   "source": [
    "# функция должна вернуть 'tt'\n",
    "fillna_column(data.loc[1], 'model', 'vehicle_type', model_pivot_table)"
   ]
  },
  {
   "cell_type": "code",
   "execution_count": 49,
   "id": "544dbefd",
   "metadata": {},
   "outputs": [
    {
     "data": {
      "text/html": [
       "<div>\n",
       "<style scoped>\n",
       "    .dataframe tbody tr th:only-of-type {\n",
       "        vertical-align: middle;\n",
       "    }\n",
       "\n",
       "    .dataframe tbody tr th {\n",
       "        vertical-align: top;\n",
       "    }\n",
       "\n",
       "    .dataframe thead th {\n",
       "        text-align: right;\n",
       "    }\n",
       "</style>\n",
       "<table border=\"1\" class=\"dataframe\">\n",
       "  <thead>\n",
       "    <tr style=\"text-align: right;\">\n",
       "      <th></th>\n",
       "      <th>date_crawled</th>\n",
       "      <th>price</th>\n",
       "      <th>vehicle_type</th>\n",
       "      <th>registration_year</th>\n",
       "      <th>gearbox</th>\n",
       "      <th>power</th>\n",
       "      <th>model</th>\n",
       "      <th>kilometer</th>\n",
       "      <th>registration_month</th>\n",
       "      <th>fuel_type</th>\n",
       "      <th>brand</th>\n",
       "      <th>repaired</th>\n",
       "      <th>date_created</th>\n",
       "      <th>number_of_pictures</th>\n",
       "      <th>postal_code</th>\n",
       "      <th>last_seen</th>\n",
       "    </tr>\n",
       "  </thead>\n",
       "  <tbody>\n",
       "    <tr>\n",
       "      <th>2</th>\n",
       "      <td>2016-03-14 12:52:21</td>\n",
       "      <td>9800</td>\n",
       "      <td>suv</td>\n",
       "      <td>2004</td>\n",
       "      <td>auto</td>\n",
       "      <td>163</td>\n",
       "      <td>grand</td>\n",
       "      <td>125000</td>\n",
       "      <td>8</td>\n",
       "      <td>gasoline</td>\n",
       "      <td>jeep</td>\n",
       "      <td>unknown</td>\n",
       "      <td>2016-03-14</td>\n",
       "      <td>0</td>\n",
       "      <td>90480</td>\n",
       "      <td>2016-04-05 12:47:46</td>\n",
       "    </tr>\n",
       "  </tbody>\n",
       "</table>\n",
       "</div>"
      ],
      "text/plain": [
       "         date_crawled  price vehicle_type  registration_year gearbox  power  \\\n",
       "2 2016-03-14 12:52:21   9800          suv               2004    auto    163   \n",
       "\n",
       "   model  kilometer  registration_month fuel_type brand repaired date_created  \\\n",
       "2  grand     125000                   8  gasoline  jeep  unknown   2016-03-14   \n",
       "\n",
       "   number_of_pictures  postal_code           last_seen  \n",
       "2                   0        90480 2016-04-05 12:47:46  "
      ]
     },
     "execution_count": 49,
     "metadata": {},
     "output_type": "execute_result"
    }
   ],
   "source": [
    "# рассмотрим строку с индексом 2, для этого наблюдения 'brand' = 'jeep', 'vehicle_type' = 'suv', 'model' = grand\n",
    "data.loc[[2]]"
   ]
  },
  {
   "cell_type": "code",
   "execution_count": 50,
   "id": "feaee22e",
   "metadata": {},
   "outputs": [
    {
     "data": {
      "text/plain": [
       "'grand'"
      ]
     },
     "execution_count": 50,
     "metadata": {},
     "output_type": "execute_result"
    }
   ],
   "source": [
    "# функция должна вернуть 'grand'\n",
    "fillna_column(data.loc[2], 'model', 'vehicle_type', model_pivot_table)"
   ]
  },
  {
   "cell_type": "code",
   "execution_count": 51,
   "id": "402f53de",
   "metadata": {},
   "outputs": [
    {
     "data": {
      "text/html": [
       "<div>\n",
       "<style scoped>\n",
       "    .dataframe tbody tr th:only-of-type {\n",
       "        vertical-align: middle;\n",
       "    }\n",
       "\n",
       "    .dataframe tbody tr th {\n",
       "        vertical-align: top;\n",
       "    }\n",
       "\n",
       "    .dataframe thead th {\n",
       "        text-align: right;\n",
       "    }\n",
       "</style>\n",
       "<table border=\"1\" class=\"dataframe\">\n",
       "  <thead>\n",
       "    <tr style=\"text-align: right;\">\n",
       "      <th></th>\n",
       "      <th>date_crawled</th>\n",
       "      <th>price</th>\n",
       "      <th>vehicle_type</th>\n",
       "      <th>registration_year</th>\n",
       "      <th>gearbox</th>\n",
       "      <th>power</th>\n",
       "      <th>model</th>\n",
       "      <th>kilometer</th>\n",
       "      <th>registration_month</th>\n",
       "      <th>fuel_type</th>\n",
       "      <th>brand</th>\n",
       "      <th>repaired</th>\n",
       "      <th>date_created</th>\n",
       "      <th>number_of_pictures</th>\n",
       "      <th>postal_code</th>\n",
       "      <th>last_seen</th>\n",
       "    </tr>\n",
       "  </thead>\n",
       "  <tbody>\n",
       "    <tr>\n",
       "      <th>234</th>\n",
       "      <td>2016-04-04 09:49:59</td>\n",
       "      <td>450</td>\n",
       "      <td>NaN</td>\n",
       "      <td>2016</td>\n",
       "      <td>manual</td>\n",
       "      <td>0</td>\n",
       "      <td>NaN</td>\n",
       "      <td>150000</td>\n",
       "      <td>3</td>\n",
       "      <td>petrol</td>\n",
       "      <td>mitsubishi</td>\n",
       "      <td>no</td>\n",
       "      <td>2016-04-04</td>\n",
       "      <td>0</td>\n",
       "      <td>59302</td>\n",
       "      <td>2016-04-06 11:17:11</td>\n",
       "    </tr>\n",
       "  </tbody>\n",
       "</table>\n",
       "</div>"
      ],
      "text/plain": [
       "           date_crawled  price vehicle_type  registration_year gearbox  power  \\\n",
       "234 2016-04-04 09:49:59    450          NaN               2016  manual      0   \n",
       "\n",
       "    model  kilometer  registration_month fuel_type       brand repaired  \\\n",
       "234   NaN     150000                   3    petrol  mitsubishi       no   \n",
       "\n",
       "    date_created  number_of_pictures  postal_code           last_seen  \n",
       "234   2016-04-04                   0        59302 2016-04-06 11:17:11  "
      ]
     },
     "execution_count": 51,
     "metadata": {},
     "output_type": "execute_result"
    }
   ],
   "source": [
    "# рассмотрим строку с индексом 234, для этого наблюдения 'vehicle_type' = 'NaN' и 'model' = NaN\n",
    "data.loc[[234]]"
   ]
  },
  {
   "cell_type": "code",
   "execution_count": 52,
   "id": "5b93eac5",
   "metadata": {},
   "outputs": [
    {
     "data": {
      "text/plain": [
       "nan"
      ]
     },
     "execution_count": 52,
     "metadata": {},
     "output_type": "execute_result"
    }
   ],
   "source": [
    "# функция должна вернуть NaN\n",
    "fillna_column(data.loc[234], 'model', 'vehicle_type', model_pivot_table)"
   ]
  },
  {
   "cell_type": "markdown",
   "id": "a887d551",
   "metadata": {},
   "source": [
    "Функция работает корректно. Заполним пропуски в колонке `model`."
   ]
  },
  {
   "cell_type": "code",
   "execution_count": 53,
   "id": "e32c6c89",
   "metadata": {},
   "outputs": [],
   "source": [
    "data['model'] = data.apply(fillna_column, args=['model', 'vehicle_type', model_pivot_table], axis=1)"
   ]
  },
  {
   "cell_type": "code",
   "execution_count": 54,
   "id": "667f41cb",
   "metadata": {},
   "outputs": [
    {
     "data": {
      "image/png": "[encoded data removed]",
      "text/plain": [
       "<Figure size 800x200 with 1 Axes>"
      ]
     },
     "metadata": {},
     "output_type": "display_data"
    }
   ],
   "source": [
    "# check\n",
    "pass_value_barh(data)"
   ]
  },
  {
   "cell_type": "code",
   "execution_count": 55,
   "id": "e45f7722",
   "metadata": {},
   "outputs": [
    {
     "name": "stdout",
     "output_type": "stream",
     "text": [
      "9.67%\n"
     ]
    }
   ],
   "source": [
    "# check\n",
    "lost_observations(data)"
   ]
  },
  {
   "cell_type": "markdown",
   "id": "85769113",
   "metadata": {},
   "source": [
    "В колонке `model` остались незаполненными еще около 1.5 % наблюдений. Поставим заглушку `'unknown'`."
   ]
  },
  {
   "cell_type": "code",
   "execution_count": 56,
   "id": "d3e7eb04",
   "metadata": {},
   "outputs": [],
   "source": [
    "# замена пропусков в колонке\n",
    "data.model.fillna('unknown', inplace=True)"
   ]
  },
  {
   "cell_type": "code",
   "execution_count": 57,
   "id": "46dc54ce",
   "metadata": {},
   "outputs": [
    {
     "data": {
      "image/png": "[encoded data removed]",
      "text/plain": [
       "<Figure size 800x200 with 1 Axes>"
      ]
     },
     "metadata": {},
     "output_type": "display_data"
    }
   ],
   "source": [
    "# check\n",
    "pass_value_barh(data)"
   ]
  },
  {
   "cell_type": "code",
   "execution_count": 58,
   "id": "d84aed45",
   "metadata": {},
   "outputs": [
    {
     "name": "stdout",
     "output_type": "stream",
     "text": [
      "9.67%\n"
     ]
    }
   ],
   "source": [
    "# check\n",
    "lost_observations(data)"
   ]
  },
  {
   "cell_type": "code",
   "execution_count": 59,
   "id": "7b8c58e0",
   "metadata": {},
   "outputs": [
    {
     "data": {
      "text/html": [
       "<div>\n",
       "<style scoped>\n",
       "    .dataframe tbody tr th:only-of-type {\n",
       "        vertical-align: middle;\n",
       "    }\n",
       "\n",
       "    .dataframe tbody tr th {\n",
       "        vertical-align: top;\n",
       "    }\n",
       "\n",
       "    .dataframe thead th {\n",
       "        text-align: right;\n",
       "    }\n",
       "</style>\n",
       "<table border=\"1\" class=\"dataframe\">\n",
       "  <thead>\n",
       "    <tr style=\"text-align: right;\">\n",
       "      <th></th>\n",
       "      <th>model</th>\n",
       "    </tr>\n",
       "  </thead>\n",
       "  <tbody>\n",
       "    <tr>\n",
       "      <th>golf</th>\n",
       "      <td>0.08</td>\n",
       "    </tr>\n",
       "    <tr>\n",
       "      <th>other</th>\n",
       "      <td>0.07</td>\n",
       "    </tr>\n",
       "    <tr>\n",
       "      <th>3er</th>\n",
       "      <td>0.06</td>\n",
       "    </tr>\n",
       "    <tr>\n",
       "      <th>polo</th>\n",
       "      <td>0.04</td>\n",
       "    </tr>\n",
       "    <tr>\n",
       "      <th>corsa</th>\n",
       "      <td>0.03</td>\n",
       "    </tr>\n",
       "  </tbody>\n",
       "</table>\n",
       "</div>"
      ],
      "text/plain": [
       "       model\n",
       "golf    0.08\n",
       "other   0.07\n",
       "3er     0.06\n",
       "polo    0.04\n",
       "corsa   0.03"
      ]
     },
     "execution_count": 59,
     "metadata": {},
     "output_type": "execute_result"
    }
   ],
   "source": [
    "# уникальные значения в столбце в порядке убывания частоты их упоминаний\n",
    "data.model.value_counts(normalize=True).to_frame().head(5)"
   ]
  },
  {
   "cell_type": "markdown",
   "id": "3178bbbd",
   "metadata": {},
   "source": [
    "Самой распространенной (8 %) моделью автомобиля является *golf*, далее идут *other* (7 %) и *3er* (6 %)."
   ]
  },
  {
   "cell_type": "markdown",
   "id": "62726dd7",
   "metadata": {},
   "source": [
    "### Предобработка колонки *gearbox*"
   ]
  },
  {
   "cell_type": "code",
   "execution_count": 60,
   "id": "6d50cf74",
   "metadata": {},
   "outputs": [
    {
     "data": {
      "text/plain": [
       "array(['manual', 'auto', nan], dtype=object)"
      ]
     },
     "execution_count": 60,
     "metadata": {},
     "output_type": "execute_result"
    }
   ],
   "source": [
    "# уникальные значения в столбце\n",
    "data.gearbox.unique()"
   ]
  },
  {
   "cell_type": "code",
   "execution_count": 61,
   "id": "b83b7b48",
   "metadata": {},
   "outputs": [
    {
     "data": {
      "text/html": [
       "<div>\n",
       "<style scoped>\n",
       "    .dataframe tbody tr th:only-of-type {\n",
       "        vertical-align: middle;\n",
       "    }\n",
       "\n",
       "    .dataframe tbody tr th {\n",
       "        vertical-align: top;\n",
       "    }\n",
       "\n",
       "    .dataframe thead th {\n",
       "        text-align: right;\n",
       "    }\n",
       "</style>\n",
       "<table border=\"1\" class=\"dataframe\">\n",
       "  <thead>\n",
       "    <tr style=\"text-align: right;\">\n",
       "      <th></th>\n",
       "      <th>gearbox</th>\n",
       "    </tr>\n",
       "  </thead>\n",
       "  <tbody>\n",
       "    <tr>\n",
       "      <th>manual</th>\n",
       "      <td>0.80</td>\n",
       "    </tr>\n",
       "    <tr>\n",
       "      <th>auto</th>\n",
       "      <td>0.20</td>\n",
       "    </tr>\n",
       "  </tbody>\n",
       "</table>\n",
       "</div>"
      ],
      "text/plain": [
       "        gearbox\n",
       "manual     0.80\n",
       "auto       0.20"
      ]
     },
     "execution_count": 61,
     "metadata": {},
     "output_type": "execute_result"
    }
   ],
   "source": [
    "# уникальные значения в столбце в порядке убывания частоты их упоминаний\n",
    "data.gearbox.value_counts(normalize=True).to_frame().head(3)"
   ]
  },
  {
   "cell_type": "markdown",
   "id": "431f3486",
   "metadata": {},
   "source": [
    "Заполним пропуски в колонке `gearbox`, самым популярным типом коробки передач для соответствущей марки (`brand`) и модели автомобиля (`model`)."
   ]
  },
  {
   "cell_type": "code",
   "execution_count": 62,
   "id": "0b5180f5",
   "metadata": {},
   "outputs": [
    {
     "data": {
      "text/html": [
       "<div>\n",
       "<style scoped>\n",
       "    .dataframe tbody tr th:only-of-type {\n",
       "        vertical-align: middle;\n",
       "    }\n",
       "\n",
       "    .dataframe tbody tr th {\n",
       "        vertical-align: top;\n",
       "    }\n",
       "\n",
       "    .dataframe thead tr th {\n",
       "        text-align: left;\n",
       "    }\n",
       "\n",
       "    .dataframe thead tr:last-of-type th {\n",
       "        text-align: right;\n",
       "    }\n",
       "</style>\n",
       "<table border=\"1\" class=\"dataframe\">\n",
       "  <thead>\n",
       "    <tr>\n",
       "      <th>brand</th>\n",
       "      <th colspan=\"7\" halign=\"left\">alfa_romeo</th>\n",
       "      <th colspan=\"3\" halign=\"left\">audi</th>\n",
       "      <th>...</th>\n",
       "      <th colspan=\"10\" halign=\"left\">volvo</th>\n",
       "    </tr>\n",
       "    <tr>\n",
       "      <th>model</th>\n",
       "      <th>145</th>\n",
       "      <th>147</th>\n",
       "      <th>156</th>\n",
       "      <th>159</th>\n",
       "      <th>other</th>\n",
       "      <th>spider</th>\n",
       "      <th>unknown</th>\n",
       "      <th>100</th>\n",
       "      <th>200</th>\n",
       "      <th>80</th>\n",
       "      <th>...</th>\n",
       "      <th>850</th>\n",
       "      <th>c_reihe</th>\n",
       "      <th>other</th>\n",
       "      <th>s60</th>\n",
       "      <th>unknown</th>\n",
       "      <th>v40</th>\n",
       "      <th>v50</th>\n",
       "      <th>v60</th>\n",
       "      <th>v70</th>\n",
       "      <th>xc_reihe</th>\n",
       "    </tr>\n",
       "    <tr>\n",
       "      <th>gearbox</th>\n",
       "      <th></th>\n",
       "      <th></th>\n",
       "      <th></th>\n",
       "      <th></th>\n",
       "      <th></th>\n",
       "      <th></th>\n",
       "      <th></th>\n",
       "      <th></th>\n",
       "      <th></th>\n",
       "      <th></th>\n",
       "      <th></th>\n",
       "      <th></th>\n",
       "      <th></th>\n",
       "      <th></th>\n",
       "      <th></th>\n",
       "      <th></th>\n",
       "      <th></th>\n",
       "      <th></th>\n",
       "      <th></th>\n",
       "      <th></th>\n",
       "      <th></th>\n",
       "    </tr>\n",
       "  </thead>\n",
       "  <tbody>\n",
       "    <tr>\n",
       "      <th>auto</th>\n",
       "      <td>NaN</td>\n",
       "      <td>26.00</td>\n",
       "      <td>44.00</td>\n",
       "      <td>26.00</td>\n",
       "      <td>30.00</td>\n",
       "      <td>2.00</td>\n",
       "      <td>NaN</td>\n",
       "      <td>59.00</td>\n",
       "      <td>4.00</td>\n",
       "      <td>124.00</td>\n",
       "      <td>...</td>\n",
       "      <td>38.00</td>\n",
       "      <td>54.00</td>\n",
       "      <td>193.00</td>\n",
       "      <td>51.00</td>\n",
       "      <td>2.00</td>\n",
       "      <td>76.00</td>\n",
       "      <td>41.00</td>\n",
       "      <td>14.00</td>\n",
       "      <td>221.00</td>\n",
       "      <td>190.00</td>\n",
       "    </tr>\n",
       "    <tr>\n",
       "      <th>manual</th>\n",
       "      <td>34.00</td>\n",
       "      <td>513.00</td>\n",
       "      <td>527.00</td>\n",
       "      <td>177.00</td>\n",
       "      <td>464.00</td>\n",
       "      <td>169.00</td>\n",
       "      <td>16.00</td>\n",
       "      <td>313.00</td>\n",
       "      <td>12.00</td>\n",
       "      <td>1236.00</td>\n",
       "      <td>...</td>\n",
       "      <td>152.00</td>\n",
       "      <td>133.00</td>\n",
       "      <td>357.00</td>\n",
       "      <td>89.00</td>\n",
       "      <td>10.00</td>\n",
       "      <td>646.00</td>\n",
       "      <td>202.00</td>\n",
       "      <td>25.00</td>\n",
       "      <td>373.00</td>\n",
       "      <td>68.00</td>\n",
       "    </tr>\n",
       "  </tbody>\n",
       "</table>\n",
       "<p>2 rows × 336 columns</p>\n",
       "</div>"
      ],
      "text/plain": [
       "brand   alfa_romeo                                              audi        \\\n",
       "model          145    147    156    159  other spider unknown    100   200   \n",
       "gearbox                                                                      \n",
       "auto           NaN  26.00  44.00  26.00  30.00   2.00     NaN  59.00  4.00   \n",
       "manual       34.00 513.00 527.00 177.00 464.00 169.00   16.00 313.00 12.00   \n",
       "\n",
       "brand            ...  volvo                                                   \\\n",
       "model        80  ...    850 c_reihe  other   s60 unknown    v40    v50   v60   \n",
       "gearbox          ...                                                           \n",
       "auto     124.00  ...  38.00   54.00 193.00 51.00    2.00  76.00  41.00 14.00   \n",
       "manual  1236.00  ... 152.00  133.00 357.00 89.00   10.00 646.00 202.00 25.00   \n",
       "\n",
       "brand                    \n",
       "model      v70 xc_reihe  \n",
       "gearbox                  \n",
       "auto    221.00   190.00  \n",
       "manual  373.00    68.00  \n",
       "\n",
       "[2 rows x 336 columns]"
      ]
     },
     "execution_count": 62,
     "metadata": {},
     "output_type": "execute_result"
    }
   ],
   "source": [
    "# сводная таблица - группируем типы коробок передач (индекс) по бренду и модели (столбцы), \n",
    "# значения - количество таких пересечений\n",
    "gearbox_pivot_table = data.pivot_table(index='gearbox', columns=['brand', 'model'], values='power', aggfunc='count')\n",
    "gearbox_pivot_table"
   ]
  },
  {
   "cell_type": "markdown",
   "id": "3d9f61aa",
   "metadata": {},
   "source": [
    "Заполним пропуски в колонке `gearbox`."
   ]
  },
  {
   "cell_type": "code",
   "execution_count": 63,
   "id": "7bda4912",
   "metadata": {},
   "outputs": [],
   "source": [
    "data['gearbox'] = data.apply(fillna_column, args=['gearbox', 'model', gearbox_pivot_table], axis=1)"
   ]
  },
  {
   "cell_type": "code",
   "execution_count": 64,
   "id": "8baab532",
   "metadata": {},
   "outputs": [
    {
     "data": {
      "image/png": "[encoded data removed]",
      "text/plain": [
       "<Figure size 800x200 with 1 Axes>"
      ]
     },
     "metadata": {},
     "output_type": "display_data"
    }
   ],
   "source": [
    "# check\n",
    "pass_value_barh(data)"
   ]
  },
  {
   "cell_type": "code",
   "execution_count": 65,
   "id": "08102dd2",
   "metadata": {},
   "outputs": [
    {
     "name": "stdout",
     "output_type": "stream",
     "text": [
      "9.67%\n"
     ]
    }
   ],
   "source": [
    "# check\n",
    "lost_observations(data)"
   ]
  },
  {
   "cell_type": "markdown",
   "id": "569d4563",
   "metadata": {},
   "source": [
    "Пропуски восстановлены."
   ]
  },
  {
   "cell_type": "code",
   "execution_count": 66,
   "id": "f9cbe641",
   "metadata": {},
   "outputs": [
    {
     "data": {
      "image/png": "[encoded data removed]",
      "text/plain": [
       "<Figure size 1000x300 with 1 Axes>"
      ]
     },
     "metadata": {},
     "output_type": "display_data"
    }
   ],
   "source": [
    "data.gearbox.value_counts().plot(kind='bar', figsize=(10,3), rot=0, legend=False, fontsize=10, ec='black')\n",
    "plt.title('Распределение автомобилей по типу коробки передач\\n')\n",
    "plt.xlabel('Тип коробки передач')\n",
    "plt.ylabel('Количество автомобилей, шт.');"
   ]
  },
  {
   "cell_type": "markdown",
   "id": "0a07b7ca",
   "metadata": {},
   "source": [
    "Большинство (80 %) автомобилей имеют механическую коробку передач."
   ]
  },
  {
   "cell_type": "markdown",
   "id": "4c9d9027",
   "metadata": {},
   "source": [
    "### Предобработка колонки *vehicle_type*"
   ]
  },
  {
   "cell_type": "code",
   "execution_count": 67,
   "id": "0a26fdeb",
   "metadata": {},
   "outputs": [
    {
     "data": {
      "text/plain": [
       "array([nan, 'coupe', 'suv', 'small', 'sedan', 'convertible', 'bus',\n",
       "       'wagon', 'other'], dtype=object)"
      ]
     },
     "execution_count": 67,
     "metadata": {},
     "output_type": "execute_result"
    }
   ],
   "source": [
    "# уникальные значения в столбце\n",
    "data.vehicle_type.unique()"
   ]
  },
  {
   "cell_type": "code",
   "execution_count": 68,
   "id": "2a796646",
   "metadata": {},
   "outputs": [
    {
     "data": {
      "text/html": [
       "<div>\n",
       "<style scoped>\n",
       "    .dataframe tbody tr th:only-of-type {\n",
       "        vertical-align: middle;\n",
       "    }\n",
       "\n",
       "    .dataframe tbody tr th {\n",
       "        vertical-align: top;\n",
       "    }\n",
       "\n",
       "    .dataframe thead th {\n",
       "        text-align: right;\n",
       "    }\n",
       "</style>\n",
       "<table border=\"1\" class=\"dataframe\">\n",
       "  <thead>\n",
       "    <tr style=\"text-align: right;\">\n",
       "      <th></th>\n",
       "      <th>vehicle_type</th>\n",
       "    </tr>\n",
       "  </thead>\n",
       "  <tbody>\n",
       "    <tr>\n",
       "      <th>sedan</th>\n",
       "      <td>0.29</td>\n",
       "    </tr>\n",
       "    <tr>\n",
       "      <th>small</th>\n",
       "      <td>0.25</td>\n",
       "    </tr>\n",
       "    <tr>\n",
       "      <th>wagon</th>\n",
       "      <td>0.21</td>\n",
       "    </tr>\n",
       "    <tr>\n",
       "      <th>bus</th>\n",
       "      <td>0.09</td>\n",
       "    </tr>\n",
       "    <tr>\n",
       "      <th>convertible</th>\n",
       "      <td>0.06</td>\n",
       "    </tr>\n",
       "    <tr>\n",
       "      <th>coupe</th>\n",
       "      <td>0.05</td>\n",
       "    </tr>\n",
       "    <tr>\n",
       "      <th>suv</th>\n",
       "      <td>0.04</td>\n",
       "    </tr>\n",
       "    <tr>\n",
       "      <th>other</th>\n",
       "      <td>0.01</td>\n",
       "    </tr>\n",
       "  </tbody>\n",
       "</table>\n",
       "</div>"
      ],
      "text/plain": [
       "             vehicle_type\n",
       "sedan                0.29\n",
       "small                0.25\n",
       "wagon                0.21\n",
       "bus                  0.09\n",
       "convertible          0.06\n",
       "coupe                0.05\n",
       "suv                  0.04\n",
       "other                0.01"
      ]
     },
     "execution_count": 68,
     "metadata": {},
     "output_type": "execute_result"
    }
   ],
   "source": [
    "# уникальные значения в столбце в порядке убывания частоты их упоминаний\n",
    "data.vehicle_type.value_counts(normalize=True).to_frame()"
   ]
  },
  {
   "cell_type": "markdown",
   "id": "6c7d54ed",
   "metadata": {},
   "source": [
    "Заполним пропуски в колонке `vehicle_type`, самым популярным типом кузова для соответствущей марки (`brand`) и модели автомобиля (`model`)."
   ]
  },
  {
   "cell_type": "code",
   "execution_count": 69,
   "id": "ebffbce0",
   "metadata": {},
   "outputs": [
    {
     "data": {
      "text/html": [
       "<div>\n",
       "<style scoped>\n",
       "    .dataframe tbody tr th:only-of-type {\n",
       "        vertical-align: middle;\n",
       "    }\n",
       "\n",
       "    .dataframe tbody tr th {\n",
       "        vertical-align: top;\n",
       "    }\n",
       "\n",
       "    .dataframe thead tr th {\n",
       "        text-align: left;\n",
       "    }\n",
       "\n",
       "    .dataframe thead tr:last-of-type th {\n",
       "        text-align: right;\n",
       "    }\n",
       "</style>\n",
       "<table border=\"1\" class=\"dataframe\">\n",
       "  <thead>\n",
       "    <tr>\n",
       "      <th>brand</th>\n",
       "      <th colspan=\"6\" halign=\"left\">alfa_romeo</th>\n",
       "      <th colspan=\"4\" halign=\"left\">audi</th>\n",
       "      <th>...</th>\n",
       "      <th>volkswagen</th>\n",
       "      <th colspan=\"9\" halign=\"left\">volvo</th>\n",
       "    </tr>\n",
       "    <tr>\n",
       "      <th>model</th>\n",
       "      <th>145</th>\n",
       "      <th>147</th>\n",
       "      <th>156</th>\n",
       "      <th>159</th>\n",
       "      <th>other</th>\n",
       "      <th>spider</th>\n",
       "      <th>100</th>\n",
       "      <th>200</th>\n",
       "      <th>80</th>\n",
       "      <th>90</th>\n",
       "      <th>...</th>\n",
       "      <th>up</th>\n",
       "      <th>850</th>\n",
       "      <th>c_reihe</th>\n",
       "      <th>other</th>\n",
       "      <th>s60</th>\n",
       "      <th>v40</th>\n",
       "      <th>v50</th>\n",
       "      <th>v60</th>\n",
       "      <th>v70</th>\n",
       "      <th>xc_reihe</th>\n",
       "    </tr>\n",
       "    <tr>\n",
       "      <th>vehicle_type</th>\n",
       "      <th></th>\n",
       "      <th></th>\n",
       "      <th></th>\n",
       "      <th></th>\n",
       "      <th></th>\n",
       "      <th></th>\n",
       "      <th></th>\n",
       "      <th></th>\n",
       "      <th></th>\n",
       "      <th></th>\n",
       "      <th></th>\n",
       "      <th></th>\n",
       "      <th></th>\n",
       "      <th></th>\n",
       "      <th></th>\n",
       "      <th></th>\n",
       "      <th></th>\n",
       "      <th></th>\n",
       "      <th></th>\n",
       "      <th></th>\n",
       "      <th></th>\n",
       "    </tr>\n",
       "  </thead>\n",
       "  <tbody>\n",
       "    <tr>\n",
       "      <th>bus</th>\n",
       "      <td>NaN</td>\n",
       "      <td>NaN</td>\n",
       "      <td>NaN</td>\n",
       "      <td>NaN</td>\n",
       "      <td>NaN</td>\n",
       "      <td>NaN</td>\n",
       "      <td>NaN</td>\n",
       "      <td>NaN</td>\n",
       "      <td>NaN</td>\n",
       "      <td>NaN</td>\n",
       "      <td>...</td>\n",
       "      <td>NaN</td>\n",
       "      <td>NaN</td>\n",
       "      <td>NaN</td>\n",
       "      <td>NaN</td>\n",
       "      <td>NaN</td>\n",
       "      <td>NaN</td>\n",
       "      <td>NaN</td>\n",
       "      <td>NaN</td>\n",
       "      <td>NaN</td>\n",
       "      <td>NaN</td>\n",
       "    </tr>\n",
       "    <tr>\n",
       "      <th>convertible</th>\n",
       "      <td>NaN</td>\n",
       "      <td>NaN</td>\n",
       "      <td>NaN</td>\n",
       "      <td>NaN</td>\n",
       "      <td>1.00</td>\n",
       "      <td>176.00</td>\n",
       "      <td>1.00</td>\n",
       "      <td>1.00</td>\n",
       "      <td>156.00</td>\n",
       "      <td>1.00</td>\n",
       "      <td>...</td>\n",
       "      <td>NaN</td>\n",
       "      <td>NaN</td>\n",
       "      <td>73.00</td>\n",
       "      <td>2.00</td>\n",
       "      <td>NaN</td>\n",
       "      <td>NaN</td>\n",
       "      <td>NaN</td>\n",
       "      <td>NaN</td>\n",
       "      <td>NaN</td>\n",
       "      <td>NaN</td>\n",
       "    </tr>\n",
       "    <tr>\n",
       "      <th>coupe</th>\n",
       "      <td>2.00</td>\n",
       "      <td>26.00</td>\n",
       "      <td>3.00</td>\n",
       "      <td>NaN</td>\n",
       "      <td>193.00</td>\n",
       "      <td>1.00</td>\n",
       "      <td>2.00</td>\n",
       "      <td>NaN</td>\n",
       "      <td>49.00</td>\n",
       "      <td>6.00</td>\n",
       "      <td>...</td>\n",
       "      <td>NaN</td>\n",
       "      <td>NaN</td>\n",
       "      <td>40.00</td>\n",
       "      <td>25.00</td>\n",
       "      <td>NaN</td>\n",
       "      <td>NaN</td>\n",
       "      <td>NaN</td>\n",
       "      <td>NaN</td>\n",
       "      <td>1.00</td>\n",
       "      <td>NaN</td>\n",
       "    </tr>\n",
       "    <tr>\n",
       "      <th>other</th>\n",
       "      <td>1.00</td>\n",
       "      <td>7.00</td>\n",
       "      <td>1.00</td>\n",
       "      <td>NaN</td>\n",
       "      <td>4.00</td>\n",
       "      <td>NaN</td>\n",
       "      <td>NaN</td>\n",
       "      <td>NaN</td>\n",
       "      <td>7.00</td>\n",
       "      <td>NaN</td>\n",
       "      <td>...</td>\n",
       "      <td>1.00</td>\n",
       "      <td>NaN</td>\n",
       "      <td>2.00</td>\n",
       "      <td>2.00</td>\n",
       "      <td>NaN</td>\n",
       "      <td>1.00</td>\n",
       "      <td>NaN</td>\n",
       "      <td>NaN</td>\n",
       "      <td>NaN</td>\n",
       "      <td>NaN</td>\n",
       "    </tr>\n",
       "    <tr>\n",
       "      <th>sedan</th>\n",
       "      <td>12.00</td>\n",
       "      <td>386.00</td>\n",
       "      <td>259.00</td>\n",
       "      <td>55.00</td>\n",
       "      <td>178.00</td>\n",
       "      <td>NaN</td>\n",
       "      <td>263.00</td>\n",
       "      <td>15.00</td>\n",
       "      <td>925.00</td>\n",
       "      <td>70.00</td>\n",
       "      <td>...</td>\n",
       "      <td>8.00</td>\n",
       "      <td>16.00</td>\n",
       "      <td>66.00</td>\n",
       "      <td>383.00</td>\n",
       "      <td>142.00</td>\n",
       "      <td>17.00</td>\n",
       "      <td>1.00</td>\n",
       "      <td>3.00</td>\n",
       "      <td>NaN</td>\n",
       "      <td>3.00</td>\n",
       "    </tr>\n",
       "    <tr>\n",
       "      <th>small</th>\n",
       "      <td>18.00</td>\n",
       "      <td>92.00</td>\n",
       "      <td>2.00</td>\n",
       "      <td>NaN</td>\n",
       "      <td>120.00</td>\n",
       "      <td>NaN</td>\n",
       "      <td>NaN</td>\n",
       "      <td>NaN</td>\n",
       "      <td>1.00</td>\n",
       "      <td>NaN</td>\n",
       "      <td>...</td>\n",
       "      <td>322.00</td>\n",
       "      <td>NaN</td>\n",
       "      <td>3.00</td>\n",
       "      <td>4.00</td>\n",
       "      <td>NaN</td>\n",
       "      <td>NaN</td>\n",
       "      <td>NaN</td>\n",
       "      <td>NaN</td>\n",
       "      <td>NaN</td>\n",
       "      <td>NaN</td>\n",
       "    </tr>\n",
       "    <tr>\n",
       "      <th>suv</th>\n",
       "      <td>NaN</td>\n",
       "      <td>NaN</td>\n",
       "      <td>NaN</td>\n",
       "      <td>NaN</td>\n",
       "      <td>NaN</td>\n",
       "      <td>NaN</td>\n",
       "      <td>NaN</td>\n",
       "      <td>NaN</td>\n",
       "      <td>NaN</td>\n",
       "      <td>NaN</td>\n",
       "      <td>...</td>\n",
       "      <td>2.00</td>\n",
       "      <td>NaN</td>\n",
       "      <td>NaN</td>\n",
       "      <td>3.00</td>\n",
       "      <td>NaN</td>\n",
       "      <td>NaN</td>\n",
       "      <td>NaN</td>\n",
       "      <td>NaN</td>\n",
       "      <td>NaN</td>\n",
       "      <td>216.00</td>\n",
       "    </tr>\n",
       "    <tr>\n",
       "      <th>wagon</th>\n",
       "      <td>NaN</td>\n",
       "      <td>2.00</td>\n",
       "      <td>295.00</td>\n",
       "      <td>143.00</td>\n",
       "      <td>6.00</td>\n",
       "      <td>NaN</td>\n",
       "      <td>102.00</td>\n",
       "      <td>1.00</td>\n",
       "      <td>195.00</td>\n",
       "      <td>1.00</td>\n",
       "      <td>...</td>\n",
       "      <td>NaN</td>\n",
       "      <td>173.00</td>\n",
       "      <td>NaN</td>\n",
       "      <td>131.00</td>\n",
       "      <td>NaN</td>\n",
       "      <td>692.00</td>\n",
       "      <td>240.00</td>\n",
       "      <td>38.00</td>\n",
       "      <td>597.00</td>\n",
       "      <td>41.00</td>\n",
       "    </tr>\n",
       "  </tbody>\n",
       "</table>\n",
       "<p>8 rows × 302 columns</p>\n",
       "</div>"
      ],
      "text/plain": [
       "brand        alfa_romeo                                      audi        \\\n",
       "model               145    147    156    159  other spider    100   200   \n",
       "vehicle_type                                                              \n",
       "bus                 NaN    NaN    NaN    NaN    NaN    NaN    NaN   NaN   \n",
       "convertible         NaN    NaN    NaN    NaN   1.00 176.00   1.00  1.00   \n",
       "coupe              2.00  26.00   3.00    NaN 193.00   1.00   2.00   NaN   \n",
       "other              1.00   7.00   1.00    NaN   4.00    NaN    NaN   NaN   \n",
       "sedan             12.00 386.00 259.00  55.00 178.00    NaN 263.00 15.00   \n",
       "small             18.00  92.00   2.00    NaN 120.00    NaN    NaN   NaN   \n",
       "suv                 NaN    NaN    NaN    NaN    NaN    NaN    NaN   NaN   \n",
       "wagon               NaN   2.00 295.00 143.00   6.00    NaN 102.00  1.00   \n",
       "\n",
       "brand                      ... volkswagen  volvo                               \\\n",
       "model            80    90  ...         up    850 c_reihe  other    s60    v40   \n",
       "vehicle_type               ...                                                  \n",
       "bus             NaN   NaN  ...        NaN    NaN     NaN    NaN    NaN    NaN   \n",
       "convertible  156.00  1.00  ...        NaN    NaN   73.00   2.00    NaN    NaN   \n",
       "coupe         49.00  6.00  ...        NaN    NaN   40.00  25.00    NaN    NaN   \n",
       "other          7.00   NaN  ...       1.00    NaN    2.00   2.00    NaN   1.00   \n",
       "sedan        925.00 70.00  ...       8.00  16.00   66.00 383.00 142.00  17.00   \n",
       "small          1.00   NaN  ...     322.00    NaN    3.00   4.00    NaN    NaN   \n",
       "suv             NaN   NaN  ...       2.00    NaN     NaN   3.00    NaN    NaN   \n",
       "wagon        195.00  1.00  ...        NaN 173.00     NaN 131.00    NaN 692.00   \n",
       "\n",
       "brand                                      \n",
       "model           v50   v60    v70 xc_reihe  \n",
       "vehicle_type                               \n",
       "bus             NaN   NaN    NaN      NaN  \n",
       "convertible     NaN   NaN    NaN      NaN  \n",
       "coupe           NaN   NaN   1.00      NaN  \n",
       "other           NaN   NaN    NaN      NaN  \n",
       "sedan          1.00  3.00    NaN     3.00  \n",
       "small           NaN   NaN    NaN      NaN  \n",
       "suv             NaN   NaN    NaN   216.00  \n",
       "wagon        240.00 38.00 597.00    41.00  \n",
       "\n",
       "[8 rows x 302 columns]"
      ]
     },
     "execution_count": 69,
     "metadata": {},
     "output_type": "execute_result"
    }
   ],
   "source": [
    "# сводная таблица - группируем типы кузова (индекс) по бренду и модели (столбцы), \n",
    "# значения - количество таких пересечений\n",
    "vehicle_type_pivot_table = data.pivot_table(index='vehicle_type', columns=['brand', 'model'], values='power', aggfunc='count')\n",
    "vehicle_type_pivot_table"
   ]
  },
  {
   "cell_type": "markdown",
   "id": "ca9c21b7",
   "metadata": {},
   "source": [
    "Заполним пропуски в колонке `vehicle_type`."
   ]
  },
  {
   "cell_type": "code",
   "execution_count": 70,
   "id": "5a43c587",
   "metadata": {},
   "outputs": [],
   "source": [
    "data['vehicle_type'] = data.apply(fillna_column, args=['vehicle_type', 'model', vehicle_type_pivot_table], axis=1)"
   ]
  },
  {
   "cell_type": "code",
   "execution_count": 71,
   "id": "7f73be74",
   "metadata": {},
   "outputs": [
    {
     "data": {
      "image/png": "[encoded data removed]",
      "text/plain": [
       "<Figure size 800x200 with 1 Axes>"
      ]
     },
     "metadata": {},
     "output_type": "display_data"
    }
   ],
   "source": [
    "# check\n",
    "pass_value_barh(data)"
   ]
  },
  {
   "cell_type": "markdown",
   "id": "fbed01d8",
   "metadata": {},
   "source": [
    "В колонке `vehicle_type` остались незаполненными еще менее 1 % наблюдений. Поставим заглушку `'unknown'`."
   ]
  },
  {
   "cell_type": "code",
   "execution_count": 72,
   "id": "2611c99d",
   "metadata": {},
   "outputs": [],
   "source": [
    "# замена пропусков в колонке\n",
    "data.vehicle_type.fillna('unknown', inplace=True)"
   ]
  },
  {
   "cell_type": "code",
   "execution_count": 73,
   "id": "5af72d14",
   "metadata": {},
   "outputs": [
    {
     "data": {
      "image/png": "[encoded data removed]",
      "text/plain": [
       "<Figure size 800x200 with 1 Axes>"
      ]
     },
     "metadata": {},
     "output_type": "display_data"
    }
   ],
   "source": [
    "# check\n",
    "pass_value_barh(data)"
   ]
  },
  {
   "cell_type": "code",
   "execution_count": 74,
   "id": "91b5511a",
   "metadata": {},
   "outputs": [
    {
     "name": "stdout",
     "output_type": "stream",
     "text": [
      "9.67%\n"
     ]
    }
   ],
   "source": [
    "# check\n",
    "lost_observations(data)"
   ]
  },
  {
   "cell_type": "markdown",
   "id": "eeaa0d18",
   "metadata": {},
   "source": [
    "Пропуски восстановлены."
   ]
  },
  {
   "cell_type": "code",
   "execution_count": 75,
   "id": "ad31cc8d",
   "metadata": {},
   "outputs": [
    {
     "data": {
      "image/png": "[encoded data removed]",
      "text/plain": [
       "<Figure size 1000x300 with 1 Axes>"
      ]
     },
     "metadata": {},
     "output_type": "display_data"
    }
   ],
   "source": [
    "data.vehicle_type.value_counts().plot(kind='bar', figsize=(10,3), rot=0, legend=False, fontsize=10, ec='black')\n",
    "plt.title('Распределение автомобилей по типу кузова\\n')\n",
    "plt.xlabel('Тип автомобильного кузова')\n",
    "plt.ylabel('Количество автомобилей, шт.');"
   ]
  },
  {
   "cell_type": "markdown",
   "id": "58cada13",
   "metadata": {},
   "source": [
    "Большинство (29 %) автомобилей по типу кузова относятся к *sedan*, далее идут *small* (24 %) и *wagon* (20 %)."
   ]
  },
  {
   "cell_type": "markdown",
   "id": "5b4a4be9",
   "metadata": {},
   "source": [
    "### Предобработка колонки *fuel_type*"
   ]
  },
  {
   "cell_type": "code",
   "execution_count": 76,
   "id": "d18b65a4",
   "metadata": {},
   "outputs": [
    {
     "data": {
      "text/plain": [
       "array(['petrol', 'gasoline', nan, 'lpg', 'other', 'hybrid', 'cng',\n",
       "       'electric'], dtype=object)"
      ]
     },
     "execution_count": 76,
     "metadata": {},
     "output_type": "execute_result"
    }
   ],
   "source": [
    "# уникальные значения в столбце\n",
    "data.fuel_type.unique()"
   ]
  },
  {
   "cell_type": "markdown",
   "id": "cfab57c0",
   "metadata": {},
   "source": [
    "*petrol* и *gasoline* это бензин, заменим *gasoline* на *petrol*."
   ]
  },
  {
   "cell_type": "code",
   "execution_count": 77,
   "id": "d6bc5002",
   "metadata": {},
   "outputs": [],
   "source": [
    "# удаление неявных дубликатов\n",
    "data.fuel_type.replace('gasoline', 'petrol', inplace=True)"
   ]
  },
  {
   "cell_type": "code",
   "execution_count": 78,
   "id": "4ccb1b83",
   "metadata": {},
   "outputs": [
    {
     "data": {
      "text/html": [
       "<div>\n",
       "<style scoped>\n",
       "    .dataframe tbody tr th:only-of-type {\n",
       "        vertical-align: middle;\n",
       "    }\n",
       "\n",
       "    .dataframe tbody tr th {\n",
       "        vertical-align: top;\n",
       "    }\n",
       "\n",
       "    .dataframe thead th {\n",
       "        text-align: right;\n",
       "    }\n",
       "</style>\n",
       "<table border=\"1\" class=\"dataframe\">\n",
       "  <thead>\n",
       "    <tr style=\"text-align: right;\">\n",
       "      <th></th>\n",
       "      <th>fuel_type</th>\n",
       "    </tr>\n",
       "  </thead>\n",
       "  <tbody>\n",
       "    <tr>\n",
       "      <th>petrol</th>\n",
       "      <td>0.98</td>\n",
       "    </tr>\n",
       "    <tr>\n",
       "      <th>lpg</th>\n",
       "      <td>0.02</td>\n",
       "    </tr>\n",
       "    <tr>\n",
       "      <th>cng</th>\n",
       "      <td>0.00</td>\n",
       "    </tr>\n",
       "    <tr>\n",
       "      <th>hybrid</th>\n",
       "      <td>0.00</td>\n",
       "    </tr>\n",
       "    <tr>\n",
       "      <th>other</th>\n",
       "      <td>0.00</td>\n",
       "    </tr>\n",
       "    <tr>\n",
       "      <th>electric</th>\n",
       "      <td>0.00</td>\n",
       "    </tr>\n",
       "  </tbody>\n",
       "</table>\n",
       "</div>"
      ],
      "text/plain": [
       "          fuel_type\n",
       "petrol         0.98\n",
       "lpg            0.02\n",
       "cng            0.00\n",
       "hybrid         0.00\n",
       "other          0.00\n",
       "electric       0.00"
      ]
     },
     "execution_count": 78,
     "metadata": {},
     "output_type": "execute_result"
    }
   ],
   "source": [
    "# уникальные значения в столбце в порядке убывания частоты их упоминаний\n",
    "data.fuel_type.value_counts(normalize=True).to_frame()"
   ]
  },
  {
   "cell_type": "markdown",
   "id": "8d27ca8d",
   "metadata": {},
   "source": [
    "Заполним пропуски в колонке `fuel_type`, самым популярным типом топлива для соответствущей марки (`brand`) и модели автомобиля (`model`)."
   ]
  },
  {
   "cell_type": "code",
   "execution_count": 79,
   "id": "aad5051c",
   "metadata": {},
   "outputs": [
    {
     "data": {
      "text/html": [
       "<div>\n",
       "<style scoped>\n",
       "    .dataframe tbody tr th:only-of-type {\n",
       "        vertical-align: middle;\n",
       "    }\n",
       "\n",
       "    .dataframe tbody tr th {\n",
       "        vertical-align: top;\n",
       "    }\n",
       "\n",
       "    .dataframe thead tr th {\n",
       "        text-align: left;\n",
       "    }\n",
       "\n",
       "    .dataframe thead tr:last-of-type th {\n",
       "        text-align: right;\n",
       "    }\n",
       "</style>\n",
       "<table border=\"1\" class=\"dataframe\">\n",
       "  <thead>\n",
       "    <tr>\n",
       "      <th>brand</th>\n",
       "      <th colspan=\"7\" halign=\"left\">alfa_romeo</th>\n",
       "      <th colspan=\"3\" halign=\"left\">audi</th>\n",
       "      <th>...</th>\n",
       "      <th colspan=\"10\" halign=\"left\">volvo</th>\n",
       "    </tr>\n",
       "    <tr>\n",
       "      <th>model</th>\n",
       "      <th>145</th>\n",
       "      <th>147</th>\n",
       "      <th>156</th>\n",
       "      <th>159</th>\n",
       "      <th>other</th>\n",
       "      <th>spider</th>\n",
       "      <th>unknown</th>\n",
       "      <th>100</th>\n",
       "      <th>200</th>\n",
       "      <th>80</th>\n",
       "      <th>...</th>\n",
       "      <th>850</th>\n",
       "      <th>c_reihe</th>\n",
       "      <th>other</th>\n",
       "      <th>s60</th>\n",
       "      <th>unknown</th>\n",
       "      <th>v40</th>\n",
       "      <th>v50</th>\n",
       "      <th>v60</th>\n",
       "      <th>v70</th>\n",
       "      <th>xc_reihe</th>\n",
       "    </tr>\n",
       "    <tr>\n",
       "      <th>fuel_type</th>\n",
       "      <th></th>\n",
       "      <th></th>\n",
       "      <th></th>\n",
       "      <th></th>\n",
       "      <th></th>\n",
       "      <th></th>\n",
       "      <th></th>\n",
       "      <th></th>\n",
       "      <th></th>\n",
       "      <th></th>\n",
       "      <th></th>\n",
       "      <th></th>\n",
       "      <th></th>\n",
       "      <th></th>\n",
       "      <th></th>\n",
       "      <th></th>\n",
       "      <th></th>\n",
       "      <th></th>\n",
       "      <th></th>\n",
       "      <th></th>\n",
       "      <th></th>\n",
       "    </tr>\n",
       "  </thead>\n",
       "  <tbody>\n",
       "    <tr>\n",
       "      <th>cng</th>\n",
       "      <td>NaN</td>\n",
       "      <td>NaN</td>\n",
       "      <td>NaN</td>\n",
       "      <td>NaN</td>\n",
       "      <td>NaN</td>\n",
       "      <td>NaN</td>\n",
       "      <td>NaN</td>\n",
       "      <td>NaN</td>\n",
       "      <td>NaN</td>\n",
       "      <td>NaN</td>\n",
       "      <td>...</td>\n",
       "      <td>NaN</td>\n",
       "      <td>NaN</td>\n",
       "      <td>1.00</td>\n",
       "      <td>2.00</td>\n",
       "      <td>NaN</td>\n",
       "      <td>1.00</td>\n",
       "      <td>NaN</td>\n",
       "      <td>NaN</td>\n",
       "      <td>16.00</td>\n",
       "      <td>NaN</td>\n",
       "    </tr>\n",
       "    <tr>\n",
       "      <th>electric</th>\n",
       "      <td>NaN</td>\n",
       "      <td>NaN</td>\n",
       "      <td>NaN</td>\n",
       "      <td>NaN</td>\n",
       "      <td>NaN</td>\n",
       "      <td>NaN</td>\n",
       "      <td>NaN</td>\n",
       "      <td>NaN</td>\n",
       "      <td>NaN</td>\n",
       "      <td>NaN</td>\n",
       "      <td>...</td>\n",
       "      <td>NaN</td>\n",
       "      <td>NaN</td>\n",
       "      <td>NaN</td>\n",
       "      <td>NaN</td>\n",
       "      <td>NaN</td>\n",
       "      <td>NaN</td>\n",
       "      <td>NaN</td>\n",
       "      <td>NaN</td>\n",
       "      <td>NaN</td>\n",
       "      <td>NaN</td>\n",
       "    </tr>\n",
       "    <tr>\n",
       "      <th>hybrid</th>\n",
       "      <td>NaN</td>\n",
       "      <td>NaN</td>\n",
       "      <td>NaN</td>\n",
       "      <td>NaN</td>\n",
       "      <td>NaN</td>\n",
       "      <td>NaN</td>\n",
       "      <td>NaN</td>\n",
       "      <td>NaN</td>\n",
       "      <td>NaN</td>\n",
       "      <td>NaN</td>\n",
       "      <td>...</td>\n",
       "      <td>NaN</td>\n",
       "      <td>NaN</td>\n",
       "      <td>NaN</td>\n",
       "      <td>NaN</td>\n",
       "      <td>NaN</td>\n",
       "      <td>NaN</td>\n",
       "      <td>NaN</td>\n",
       "      <td>NaN</td>\n",
       "      <td>NaN</td>\n",
       "      <td>NaN</td>\n",
       "    </tr>\n",
       "    <tr>\n",
       "      <th>lpg</th>\n",
       "      <td>NaN</td>\n",
       "      <td>13.00</td>\n",
       "      <td>14.00</td>\n",
       "      <td>NaN</td>\n",
       "      <td>1.00</td>\n",
       "      <td>1.00</td>\n",
       "      <td>2.00</td>\n",
       "      <td>8.00</td>\n",
       "      <td>NaN</td>\n",
       "      <td>23.00</td>\n",
       "      <td>...</td>\n",
       "      <td>5.00</td>\n",
       "      <td>3.00</td>\n",
       "      <td>36.00</td>\n",
       "      <td>5.00</td>\n",
       "      <td>1.00</td>\n",
       "      <td>19.00</td>\n",
       "      <td>10.00</td>\n",
       "      <td>1.00</td>\n",
       "      <td>23.00</td>\n",
       "      <td>4.00</td>\n",
       "    </tr>\n",
       "    <tr>\n",
       "      <th>other</th>\n",
       "      <td>NaN</td>\n",
       "      <td>NaN</td>\n",
       "      <td>NaN</td>\n",
       "      <td>NaN</td>\n",
       "      <td>NaN</td>\n",
       "      <td>NaN</td>\n",
       "      <td>NaN</td>\n",
       "      <td>NaN</td>\n",
       "      <td>NaN</td>\n",
       "      <td>NaN</td>\n",
       "      <td>...</td>\n",
       "      <td>NaN</td>\n",
       "      <td>NaN</td>\n",
       "      <td>1.00</td>\n",
       "      <td>NaN</td>\n",
       "      <td>NaN</td>\n",
       "      <td>NaN</td>\n",
       "      <td>2.00</td>\n",
       "      <td>NaN</td>\n",
       "      <td>NaN</td>\n",
       "      <td>NaN</td>\n",
       "    </tr>\n",
       "    <tr>\n",
       "      <th>petrol</th>\n",
       "      <td>33.00</td>\n",
       "      <td>516.00</td>\n",
       "      <td>522.00</td>\n",
       "      <td>194.00</td>\n",
       "      <td>485.00</td>\n",
       "      <td>174.00</td>\n",
       "      <td>10.00</td>\n",
       "      <td>351.00</td>\n",
       "      <td>16.00</td>\n",
       "      <td>1257.00</td>\n",
       "      <td>...</td>\n",
       "      <td>182.00</td>\n",
       "      <td>182.00</td>\n",
       "      <td>512.00</td>\n",
       "      <td>133.00</td>\n",
       "      <td>10.00</td>\n",
       "      <td>649.00</td>\n",
       "      <td>227.00</td>\n",
       "      <td>40.00</td>\n",
       "      <td>541.00</td>\n",
       "      <td>255.00</td>\n",
       "    </tr>\n",
       "  </tbody>\n",
       "</table>\n",
       "<p>6 rows × 334 columns</p>\n",
       "</div>"
      ],
      "text/plain": [
       "brand     alfa_romeo                                              audi        \\\n",
       "model            145    147    156    159  other spider unknown    100   200   \n",
       "fuel_type                                                                      \n",
       "cng              NaN    NaN    NaN    NaN    NaN    NaN     NaN    NaN   NaN   \n",
       "electric         NaN    NaN    NaN    NaN    NaN    NaN     NaN    NaN   NaN   \n",
       "hybrid           NaN    NaN    NaN    NaN    NaN    NaN     NaN    NaN   NaN   \n",
       "lpg              NaN  13.00  14.00    NaN   1.00   1.00    2.00   8.00   NaN   \n",
       "other            NaN    NaN    NaN    NaN    NaN    NaN     NaN    NaN   NaN   \n",
       "petrol         33.00 516.00 522.00 194.00 485.00 174.00   10.00 351.00 16.00   \n",
       "\n",
       "brand              ...  volvo                                              \\\n",
       "model          80  ...    850 c_reihe  other    s60 unknown    v40    v50   \n",
       "fuel_type          ...                                                      \n",
       "cng           NaN  ...    NaN     NaN   1.00   2.00     NaN   1.00    NaN   \n",
       "electric      NaN  ...    NaN     NaN    NaN    NaN     NaN    NaN    NaN   \n",
       "hybrid        NaN  ...    NaN     NaN    NaN    NaN     NaN    NaN    NaN   \n",
       "lpg         23.00  ...   5.00    3.00  36.00   5.00    1.00  19.00  10.00   \n",
       "other         NaN  ...    NaN     NaN   1.00    NaN     NaN    NaN   2.00   \n",
       "petrol    1257.00  ... 182.00  182.00 512.00 133.00   10.00 649.00 227.00   \n",
       "\n",
       "brand                            \n",
       "model       v60    v70 xc_reihe  \n",
       "fuel_type                        \n",
       "cng         NaN  16.00      NaN  \n",
       "electric    NaN    NaN      NaN  \n",
       "hybrid      NaN    NaN      NaN  \n",
       "lpg        1.00  23.00     4.00  \n",
       "other       NaN    NaN      NaN  \n",
       "petrol    40.00 541.00   255.00  \n",
       "\n",
       "[6 rows x 334 columns]"
      ]
     },
     "execution_count": 79,
     "metadata": {},
     "output_type": "execute_result"
    }
   ],
   "source": [
    "# сводная таблица - группируем типы топлива (индекс) по бренду и модели (столбцы), \n",
    "# значения - количество таких пересечений\n",
    "fuel_type_pivot_table = data.pivot_table(index='fuel_type', columns=['brand', 'model'], values='power', aggfunc='count')\n",
    "fuel_type_pivot_table"
   ]
  },
  {
   "cell_type": "markdown",
   "id": "fa700048",
   "metadata": {},
   "source": [
    "Заполним пропуски в колонке `vehicle_type`."
   ]
  },
  {
   "cell_type": "code",
   "execution_count": 80,
   "id": "dd9aa7d9",
   "metadata": {},
   "outputs": [],
   "source": [
    "data['fuel_type'] = data.apply(fillna_column, args=['fuel_type', 'model', fuel_type_pivot_table], axis=1)"
   ]
  },
  {
   "cell_type": "code",
   "execution_count": 81,
   "id": "4744f5a0",
   "metadata": {},
   "outputs": [
    {
     "data": {
      "image/png": "[encoded data removed]",
      "text/plain": [
       "<Figure size 800x200 with 1 Axes>"
      ]
     },
     "metadata": {},
     "output_type": "display_data"
    }
   ],
   "source": [
    "# check\n",
    "pass_value_barh(data)"
   ]
  },
  {
   "cell_type": "code",
   "execution_count": 82,
   "id": "059c57b0",
   "metadata": {},
   "outputs": [
    {
     "name": "stdout",
     "output_type": "stream",
     "text": [
      "9.67%\n"
     ]
    }
   ],
   "source": [
    "# check\n",
    "lost_observations(data)"
   ]
  },
  {
   "cell_type": "code",
   "execution_count": 83,
   "id": "a50a5925",
   "metadata": {},
   "outputs": [],
   "source": [
    "# удаление оставшихся с пропусками строк\n",
    "data = data.dropna().reset_index(drop=True)"
   ]
  },
  {
   "cell_type": "code",
   "execution_count": 84,
   "id": "4ca72a31",
   "metadata": {},
   "outputs": [
    {
     "name": "stdout",
     "output_type": "stream",
     "text": [
      "пропусков не осталось\n"
     ]
    },
    {
     "data": {
      "image/png": "[encoded data removed]",
      "text/plain": [
       "<Figure size 800x200 with 1 Axes>"
      ]
     },
     "metadata": {},
     "output_type": "display_data"
    }
   ],
   "source": [
    "# check\n",
    "pass_value_barh(data)"
   ]
  },
  {
   "cell_type": "code",
   "execution_count": 85,
   "id": "ae2bd5f2",
   "metadata": {},
   "outputs": [
    {
     "name": "stdout",
     "output_type": "stream",
     "text": [
      "9.67%\n"
     ]
    }
   ],
   "source": [
    "# check\n",
    "lost_observations(data)"
   ]
  },
  {
   "cell_type": "code",
   "execution_count": 86,
   "id": "4c361def",
   "metadata": {},
   "outputs": [
    {
     "data": {
      "image/png": "[encoded data removed]",
      "text/plain": [
       "<Figure size 1000x300 with 1 Axes>"
      ]
     },
     "metadata": {},
     "output_type": "display_data"
    }
   ],
   "source": [
    "data.fuel_type.value_counts().plot(kind='bar', figsize=(10,3), rot=0, legend=False, fontsize=10, ec='black')\n",
    "plt.title('Распределение автомобилей по типу топлива\\n')\n",
    "plt.xlabel('Тип топлива')\n",
    "plt.ylabel('Количество автомобилей, шт.');"
   ]
  },
  {
   "cell_type": "markdown",
   "id": "9064326b",
   "metadata": {},
   "source": [
    "98 % автомобилей имеют бензиновый двигатель."
   ]
  },
  {
   "cell_type": "markdown",
   "id": "04d60f18",
   "metadata": {},
   "source": [
    "### Предобработка колонки *power* 2"
   ]
  },
  {
   "cell_type": "markdown",
   "id": "eaad3008",
   "metadata": {},
   "source": [
    "Вернемся к обработке колонки `power`. Посмотрим еще раз на распределение автомобилей по мощности двигателя."
   ]
  },
  {
   "cell_type": "code",
   "execution_count": 87,
   "id": "c02c6ab3",
   "metadata": {},
   "outputs": [
    {
     "data": {
      "image/png": "[encoded data removed]",
      "text/plain": [
       "<Figure size 1000x300 with 1 Axes>"
      ]
     },
     "metadata": {},
     "output_type": "display_data"
    }
   ],
   "source": [
    "data.power.hist(bins = 150, figsize = (10,3), range = (0, 650), ec='black')\n",
    "plt.title('Распределение автомобилей по мощности двигателя\\n')\n",
    "plt.xlabel('Мощность двигателя, л.с.')\n",
    "plt.ylabel('Количество автомобилей, шт.');"
   ]
  },
  {
   "cell_type": "code",
   "execution_count": 88,
   "id": "8d89cdf0",
   "metadata": {},
   "outputs": [],
   "source": [
    "# замена нулевых значений на NaN\n",
    "data.loc[data['power'] == 0, 'power'] = np.nan"
   ]
  },
  {
   "cell_type": "code",
   "execution_count": 89,
   "id": "9f821745",
   "metadata": {},
   "outputs": [
    {
     "data": {
      "image/png": "[encoded data removed]",
      "text/plain": [
       "<Figure size 800x200 with 1 Axes>"
      ]
     },
     "metadata": {},
     "output_type": "display_data"
    }
   ],
   "source": [
    "# check\n",
    "pass_value_barh(data)"
   ]
  },
  {
   "cell_type": "markdown",
   "id": "d53a9615",
   "metadata": {},
   "source": [
    "Заполним пропуски в колонке `power`, медианным значением для соответствущей марки (`brand`) и типа модели автомобиля (`model`)."
   ]
  },
  {
   "cell_type": "code",
   "execution_count": 90,
   "id": "65957a2c",
   "metadata": {},
   "outputs": [
    {
     "data": {
      "text/html": [
       "<div>\n",
       "<style scoped>\n",
       "    .dataframe tbody tr th:only-of-type {\n",
       "        vertical-align: middle;\n",
       "    }\n",
       "\n",
       "    .dataframe tbody tr th {\n",
       "        vertical-align: top;\n",
       "    }\n",
       "\n",
       "    .dataframe thead th {\n",
       "        text-align: right;\n",
       "    }\n",
       "</style>\n",
       "<table border=\"1\" class=\"dataframe\">\n",
       "  <thead>\n",
       "    <tr style=\"text-align: right;\">\n",
       "      <th>brand</th>\n",
       "      <th>alfa_romeo</th>\n",
       "      <th>audi</th>\n",
       "      <th>bmw</th>\n",
       "      <th>chevrolet</th>\n",
       "      <th>chrysler</th>\n",
       "      <th>citroen</th>\n",
       "      <th>dacia</th>\n",
       "      <th>daewoo</th>\n",
       "      <th>daihatsu</th>\n",
       "      <th>fiat</th>\n",
       "      <th>...</th>\n",
       "      <th>seat</th>\n",
       "      <th>skoda</th>\n",
       "      <th>smart</th>\n",
       "      <th>sonstige_autos</th>\n",
       "      <th>subaru</th>\n",
       "      <th>suzuki</th>\n",
       "      <th>toyota</th>\n",
       "      <th>trabant</th>\n",
       "      <th>volkswagen</th>\n",
       "      <th>volvo</th>\n",
       "    </tr>\n",
       "    <tr>\n",
       "      <th>model</th>\n",
       "      <th></th>\n",
       "      <th></th>\n",
       "      <th></th>\n",
       "      <th></th>\n",
       "      <th></th>\n",
       "      <th></th>\n",
       "      <th></th>\n",
       "      <th></th>\n",
       "      <th></th>\n",
       "      <th></th>\n",
       "      <th></th>\n",
       "      <th></th>\n",
       "      <th></th>\n",
       "      <th></th>\n",
       "      <th></th>\n",
       "      <th></th>\n",
       "      <th></th>\n",
       "      <th></th>\n",
       "      <th></th>\n",
       "      <th></th>\n",
       "      <th></th>\n",
       "    </tr>\n",
       "  </thead>\n",
       "  <tbody>\n",
       "    <tr>\n",
       "      <th>100</th>\n",
       "      <td>NaN</td>\n",
       "      <td>133.00</td>\n",
       "      <td>NaN</td>\n",
       "      <td>NaN</td>\n",
       "      <td>NaN</td>\n",
       "      <td>NaN</td>\n",
       "      <td>NaN</td>\n",
       "      <td>NaN</td>\n",
       "      <td>NaN</td>\n",
       "      <td>NaN</td>\n",
       "      <td>...</td>\n",
       "      <td>NaN</td>\n",
       "      <td>NaN</td>\n",
       "      <td>NaN</td>\n",
       "      <td>NaN</td>\n",
       "      <td>NaN</td>\n",
       "      <td>NaN</td>\n",
       "      <td>NaN</td>\n",
       "      <td>NaN</td>\n",
       "      <td>NaN</td>\n",
       "      <td>NaN</td>\n",
       "    </tr>\n",
       "    <tr>\n",
       "      <th>145</th>\n",
       "      <td>103.00</td>\n",
       "      <td>NaN</td>\n",
       "      <td>NaN</td>\n",
       "      <td>NaN</td>\n",
       "      <td>NaN</td>\n",
       "      <td>NaN</td>\n",
       "      <td>NaN</td>\n",
       "      <td>NaN</td>\n",
       "      <td>NaN</td>\n",
       "      <td>NaN</td>\n",
       "      <td>...</td>\n",
       "      <td>NaN</td>\n",
       "      <td>NaN</td>\n",
       "      <td>NaN</td>\n",
       "      <td>NaN</td>\n",
       "      <td>NaN</td>\n",
       "      <td>NaN</td>\n",
       "      <td>NaN</td>\n",
       "      <td>NaN</td>\n",
       "      <td>NaN</td>\n",
       "      <td>NaN</td>\n",
       "    </tr>\n",
       "    <tr>\n",
       "      <th>147</th>\n",
       "      <td>120.00</td>\n",
       "      <td>NaN</td>\n",
       "      <td>NaN</td>\n",
       "      <td>NaN</td>\n",
       "      <td>NaN</td>\n",
       "      <td>NaN</td>\n",
       "      <td>NaN</td>\n",
       "      <td>NaN</td>\n",
       "      <td>NaN</td>\n",
       "      <td>NaN</td>\n",
       "      <td>...</td>\n",
       "      <td>NaN</td>\n",
       "      <td>NaN</td>\n",
       "      <td>NaN</td>\n",
       "      <td>NaN</td>\n",
       "      <td>NaN</td>\n",
       "      <td>NaN</td>\n",
       "      <td>NaN</td>\n",
       "      <td>NaN</td>\n",
       "      <td>NaN</td>\n",
       "      <td>NaN</td>\n",
       "    </tr>\n",
       "    <tr>\n",
       "      <th>156</th>\n",
       "      <td>150.00</td>\n",
       "      <td>NaN</td>\n",
       "      <td>NaN</td>\n",
       "      <td>NaN</td>\n",
       "      <td>NaN</td>\n",
       "      <td>NaN</td>\n",
       "      <td>NaN</td>\n",
       "      <td>NaN</td>\n",
       "      <td>NaN</td>\n",
       "      <td>NaN</td>\n",
       "      <td>...</td>\n",
       "      <td>NaN</td>\n",
       "      <td>NaN</td>\n",
       "      <td>NaN</td>\n",
       "      <td>NaN</td>\n",
       "      <td>NaN</td>\n",
       "      <td>NaN</td>\n",
       "      <td>NaN</td>\n",
       "      <td>NaN</td>\n",
       "      <td>NaN</td>\n",
       "      <td>NaN</td>\n",
       "    </tr>\n",
       "    <tr>\n",
       "      <th>159</th>\n",
       "      <td>170.00</td>\n",
       "      <td>NaN</td>\n",
       "      <td>NaN</td>\n",
       "      <td>NaN</td>\n",
       "      <td>NaN</td>\n",
       "      <td>NaN</td>\n",
       "      <td>NaN</td>\n",
       "      <td>NaN</td>\n",
       "      <td>NaN</td>\n",
       "      <td>NaN</td>\n",
       "      <td>...</td>\n",
       "      <td>NaN</td>\n",
       "      <td>NaN</td>\n",
       "      <td>NaN</td>\n",
       "      <td>NaN</td>\n",
       "      <td>NaN</td>\n",
       "      <td>NaN</td>\n",
       "      <td>NaN</td>\n",
       "      <td>NaN</td>\n",
       "      <td>NaN</td>\n",
       "      <td>NaN</td>\n",
       "    </tr>\n",
       "  </tbody>\n",
       "</table>\n",
       "<p>5 rows × 40 columns</p>\n",
       "</div>"
      ],
      "text/plain": [
       "brand  alfa_romeo   audi  bmw  chevrolet  chrysler  citroen  dacia  daewoo  \\\n",
       "model                                                                        \n",
       "100           NaN 133.00  NaN        NaN       NaN      NaN    NaN     NaN   \n",
       "145        103.00    NaN  NaN        NaN       NaN      NaN    NaN     NaN   \n",
       "147        120.00    NaN  NaN        NaN       NaN      NaN    NaN     NaN   \n",
       "156        150.00    NaN  NaN        NaN       NaN      NaN    NaN     NaN   \n",
       "159        170.00    NaN  NaN        NaN       NaN      NaN    NaN     NaN   \n",
       "\n",
       "brand  daihatsu  fiat  ...  seat  skoda  smart  sonstige_autos  subaru  \\\n",
       "model                  ...                                               \n",
       "100         NaN   NaN  ...   NaN    NaN    NaN             NaN     NaN   \n",
       "145         NaN   NaN  ...   NaN    NaN    NaN             NaN     NaN   \n",
       "147         NaN   NaN  ...   NaN    NaN    NaN             NaN     NaN   \n",
       "156         NaN   NaN  ...   NaN    NaN    NaN             NaN     NaN   \n",
       "159         NaN   NaN  ...   NaN    NaN    NaN             NaN     NaN   \n",
       "\n",
       "brand  suzuki  toyota  trabant  volkswagen  volvo  \n",
       "model                                              \n",
       "100       NaN     NaN      NaN         NaN    NaN  \n",
       "145       NaN     NaN      NaN         NaN    NaN  \n",
       "147       NaN     NaN      NaN         NaN    NaN  \n",
       "156       NaN     NaN      NaN         NaN    NaN  \n",
       "159       NaN     NaN      NaN         NaN    NaN  \n",
       "\n",
       "[5 rows x 40 columns]"
      ]
     },
     "execution_count": 90,
     "metadata": {},
     "output_type": "execute_result"
    }
   ],
   "source": [
    "# сводная таблица - группируем модели (индекс) по бренду (столбцы), значения - медиана мощности таких пересечений\n",
    "power_pivot_table = data.pivot_table(index='model', columns='brand', values='power', aggfunc='median')\n",
    "power_pivot_table.head()"
   ]
  },
  {
   "cell_type": "code",
   "execution_count": 91,
   "id": "fa8343e8",
   "metadata": {},
   "outputs": [],
   "source": [
    "def fillna_power(row, my_pivot_table):\n",
    "    \"\"\"\n",
    "    Функция получает на вход строку датафрейма; своднаую таблицу с медианными\n",
    "    значениями мощности для всех комбинаций значений в столбцах 'brand' и 'model'.\n",
    "    Возвращает заполняющее значение.\n",
    "\n",
    "    \"\"\"\n",
    "    brand = row['brand']\n",
    "    model = row['model']\n",
    "    fill_value = row['power']\n",
    "    if pd.isna(fill_value) and model in set(my_pivot_table.index) and brand in set(my_pivot_table.columns):\n",
    "        fill_value = my_pivot_table.loc[model, brand]\n",
    "    return fill_value"
   ]
  },
  {
   "cell_type": "markdown",
   "id": "7ef8a895",
   "metadata": {},
   "source": [
    "Проверим адекватность работы функции."
   ]
  },
  {
   "cell_type": "code",
   "execution_count": 92,
   "id": "be464327",
   "metadata": {},
   "outputs": [
    {
     "data": {
      "text/html": [
       "<div>\n",
       "<style scoped>\n",
       "    .dataframe tbody tr th:only-of-type {\n",
       "        vertical-align: middle;\n",
       "    }\n",
       "\n",
       "    .dataframe tbody tr th {\n",
       "        vertical-align: top;\n",
       "    }\n",
       "\n",
       "    .dataframe thead th {\n",
       "        text-align: right;\n",
       "    }\n",
       "</style>\n",
       "<table border=\"1\" class=\"dataframe\">\n",
       "  <thead>\n",
       "    <tr style=\"text-align: right;\">\n",
       "      <th></th>\n",
       "      <th>date_crawled</th>\n",
       "      <th>price</th>\n",
       "      <th>vehicle_type</th>\n",
       "      <th>registration_year</th>\n",
       "      <th>gearbox</th>\n",
       "      <th>power</th>\n",
       "      <th>model</th>\n",
       "      <th>kilometer</th>\n",
       "      <th>registration_month</th>\n",
       "      <th>fuel_type</th>\n",
       "      <th>brand</th>\n",
       "      <th>repaired</th>\n",
       "      <th>date_created</th>\n",
       "      <th>number_of_pictures</th>\n",
       "      <th>postal_code</th>\n",
       "      <th>last_seen</th>\n",
       "    </tr>\n",
       "  </thead>\n",
       "  <tbody>\n",
       "    <tr>\n",
       "      <th>10155</th>\n",
       "      <td>2016-04-04 14:39:09</td>\n",
       "      <td>600</td>\n",
       "      <td>small</td>\n",
       "      <td>1998</td>\n",
       "      <td>manual</td>\n",
       "      <td>140.00</td>\n",
       "      <td>145</td>\n",
       "      <td>150000</td>\n",
       "      <td>1</td>\n",
       "      <td>petrol</td>\n",
       "      <td>alfa_romeo</td>\n",
       "      <td>unknown</td>\n",
       "      <td>2016-04-04</td>\n",
       "      <td>0</td>\n",
       "      <td>34314</td>\n",
       "      <td>2016-04-06 15:46:04</td>\n",
       "    </tr>\n",
       "  </tbody>\n",
       "</table>\n",
       "</div>"
      ],
      "text/plain": [
       "             date_crawled  price vehicle_type  registration_year gearbox  \\\n",
       "10155 2016-04-04 14:39:09    600        small               1998  manual   \n",
       "\n",
       "       power model  kilometer  registration_month fuel_type       brand  \\\n",
       "10155 140.00   145     150000                   1    petrol  alfa_romeo   \n",
       "\n",
       "      repaired date_created  number_of_pictures  postal_code  \\\n",
       "10155  unknown   2016-04-04                   0        34314   \n",
       "\n",
       "                last_seen  \n",
       "10155 2016-04-06 15:46:04  "
      ]
     },
     "execution_count": 92,
     "metadata": {},
     "output_type": "execute_result"
    }
   ],
   "source": [
    "# рассмотрим строку с индексом 10155, для этого наблюдения 'brand' = 'alfa_romeo', 'model' = '145'\n",
    "data.loc[[10155]]"
   ]
  },
  {
   "cell_type": "code",
   "execution_count": 93,
   "id": "00262f73",
   "metadata": {},
   "outputs": [
    {
     "data": {
      "text/plain": [
       "140.0"
      ]
     },
     "execution_count": 93,
     "metadata": {},
     "output_type": "execute_result"
    }
   ],
   "source": [
    "# функция должна вернуть 'model' = 140.00\n",
    "fillna_power(data.loc[10155], power_pivot_table)"
   ]
  },
  {
   "cell_type": "code",
   "execution_count": 94,
   "id": "96490226",
   "metadata": {},
   "outputs": [
    {
     "data": {
      "text/html": [
       "<div>\n",
       "<style scoped>\n",
       "    .dataframe tbody tr th:only-of-type {\n",
       "        vertical-align: middle;\n",
       "    }\n",
       "\n",
       "    .dataframe tbody tr th {\n",
       "        vertical-align: top;\n",
       "    }\n",
       "\n",
       "    .dataframe thead th {\n",
       "        text-align: right;\n",
       "    }\n",
       "</style>\n",
       "<table border=\"1\" class=\"dataframe\">\n",
       "  <thead>\n",
       "    <tr style=\"text-align: right;\">\n",
       "      <th></th>\n",
       "      <th>date_crawled</th>\n",
       "      <th>price</th>\n",
       "      <th>vehicle_type</th>\n",
       "      <th>registration_year</th>\n",
       "      <th>gearbox</th>\n",
       "      <th>power</th>\n",
       "      <th>model</th>\n",
       "      <th>kilometer</th>\n",
       "      <th>registration_month</th>\n",
       "      <th>fuel_type</th>\n",
       "      <th>brand</th>\n",
       "      <th>repaired</th>\n",
       "      <th>date_created</th>\n",
       "      <th>number_of_pictures</th>\n",
       "      <th>postal_code</th>\n",
       "      <th>last_seen</th>\n",
       "    </tr>\n",
       "  </thead>\n",
       "  <tbody>\n",
       "    <tr>\n",
       "      <th>16555</th>\n",
       "      <td>2016-03-31 18:49:57</td>\n",
       "      <td>400</td>\n",
       "      <td>small</td>\n",
       "      <td>1997</td>\n",
       "      <td>manual</td>\n",
       "      <td>NaN</td>\n",
       "      <td>145</td>\n",
       "      <td>150000</td>\n",
       "      <td>11</td>\n",
       "      <td>petrol</td>\n",
       "      <td>alfa_romeo</td>\n",
       "      <td>yes</td>\n",
       "      <td>2016-03-31</td>\n",
       "      <td>0</td>\n",
       "      <td>74842</td>\n",
       "      <td>2016-04-06 12:46:35</td>\n",
       "    </tr>\n",
       "  </tbody>\n",
       "</table>\n",
       "</div>"
      ],
      "text/plain": [
       "             date_crawled  price vehicle_type  registration_year gearbox  \\\n",
       "16555 2016-03-31 18:49:57    400        small               1997  manual   \n",
       "\n",
       "       power model  kilometer  registration_month fuel_type       brand  \\\n",
       "16555    NaN   145     150000                  11    petrol  alfa_romeo   \n",
       "\n",
       "      repaired date_created  number_of_pictures  postal_code  \\\n",
       "16555      yes   2016-03-31                   0        74842   \n",
       "\n",
       "                last_seen  \n",
       "16555 2016-04-06 12:46:35  "
      ]
     },
     "execution_count": 94,
     "metadata": {},
     "output_type": "execute_result"
    }
   ],
   "source": [
    "# рассмотрим строку с индексом 16555, для этого наблюдения 'brand' = 'alfa_romeo', 'model' = '145'\n",
    "data.loc[[16555]]"
   ]
  },
  {
   "cell_type": "code",
   "execution_count": 95,
   "id": "285b63b2",
   "metadata": {},
   "outputs": [
    {
     "data": {
      "text/plain": [
       "103.0"
      ]
     },
     "execution_count": 95,
     "metadata": {},
     "output_type": "execute_result"
    }
   ],
   "source": [
    "# функция должна вернуть медианное значение мощности при 'brand' = 'alfa_romeo', 'model' = '145'\n",
    "data.query('model==\"145\" and brand==\"alfa_romeo\"')['power'].median()"
   ]
  },
  {
   "cell_type": "code",
   "execution_count": 96,
   "id": "d1dc26ea",
   "metadata": {},
   "outputs": [
    {
     "data": {
      "text/plain": [
       "103.0"
      ]
     },
     "execution_count": 96,
     "metadata": {},
     "output_type": "execute_result"
    }
   ],
   "source": [
    "# функция должна вернуть 103.0\n",
    "fillna_power(data.loc[16555], power_pivot_table)"
   ]
  },
  {
   "cell_type": "markdown",
   "id": "e9ac19d6",
   "metadata": {},
   "source": [
    "Функция работает корректно. Заполним пропуски."
   ]
  },
  {
   "cell_type": "code",
   "execution_count": 97,
   "id": "c906924e",
   "metadata": {},
   "outputs": [],
   "source": [
    "data['power'] = data.apply(fillna_power, args=[power_pivot_table], axis=1)"
   ]
  },
  {
   "cell_type": "code",
   "execution_count": 98,
   "id": "b31e23b4",
   "metadata": {},
   "outputs": [
    {
     "data": {
      "image/png": "[encoded data removed]",
      "text/plain": [
       "<Figure size 800x200 with 1 Axes>"
      ]
     },
     "metadata": {},
     "output_type": "display_data"
    }
   ],
   "source": [
    "# check\n",
    "pass_value_barh(data)"
   ]
  },
  {
   "cell_type": "code",
   "execution_count": 99,
   "id": "17c80ae2",
   "metadata": {},
   "outputs": [],
   "source": [
    "# удаление оставшихся с пропусками строк\n",
    "data = data.dropna().reset_index(drop=True)"
   ]
  },
  {
   "cell_type": "code",
   "execution_count": 100,
   "id": "d9131e37",
   "metadata": {},
   "outputs": [],
   "source": [
    "# преобразование типа данных в целочисленный\n",
    "data['power'] = data['power'].astype('int64')"
   ]
  },
  {
   "cell_type": "code",
   "execution_count": 101,
   "id": "08bb6a56",
   "metadata": {},
   "outputs": [
    {
     "name": "stdout",
     "output_type": "stream",
     "text": [
      "пропусков не осталось\n"
     ]
    },
    {
     "data": {
      "image/png": "[encoded data removed]",
      "text/plain": [
       "<Figure size 800x200 with 1 Axes>"
      ]
     },
     "metadata": {},
     "output_type": "display_data"
    }
   ],
   "source": [
    "# check\n",
    "pass_value_barh(data)"
   ]
  },
  {
   "cell_type": "code",
   "execution_count": 102,
   "id": "df79e66a",
   "metadata": {},
   "outputs": [
    {
     "name": "stdout",
     "output_type": "stream",
     "text": [
      "9.67%\n"
     ]
    }
   ],
   "source": [
    "# check\n",
    "lost_observations(data)"
   ]
  },
  {
   "cell_type": "code",
   "execution_count": 103,
   "id": "63b41e73",
   "metadata": {},
   "outputs": [
    {
     "data": {
      "image/png": "[encoded data removed]",
      "text/plain": [
       "<Figure size 1000x300 with 1 Axes>"
      ]
     },
     "metadata": {},
     "output_type": "display_data"
    }
   ],
   "source": [
    "data.power.hist(bins = 150, figsize = (10,3), range = (0, 650), ec='black')\n",
    "plt.title('Распределение автомобилей по мощности двигателя\\n')\n",
    "plt.xlabel('Мощность двигателя, л.с.')\n",
    "plt.ylabel('Количество автомобилей, шт.');"
   ]
  },
  {
   "cell_type": "code",
   "execution_count": 104,
   "id": "05567cb1",
   "metadata": {},
   "outputs": [
    {
     "data": {
      "text/html": [
       "<div>\n",
       "<style scoped>\n",
       "    .dataframe tbody tr th:only-of-type {\n",
       "        vertical-align: middle;\n",
       "    }\n",
       "\n",
       "    .dataframe tbody tr th {\n",
       "        vertical-align: top;\n",
       "    }\n",
       "\n",
       "    .dataframe thead th {\n",
       "        text-align: right;\n",
       "    }\n",
       "</style>\n",
       "<table border=\"1\" class=\"dataframe\">\n",
       "  <thead>\n",
       "    <tr style=\"text-align: right;\">\n",
       "      <th></th>\n",
       "      <th>count</th>\n",
       "      <th>mean</th>\n",
       "      <th>std</th>\n",
       "      <th>min</th>\n",
       "      <th>25%</th>\n",
       "      <th>50%</th>\n",
       "      <th>75%</th>\n",
       "      <th>max</th>\n",
       "    </tr>\n",
       "  </thead>\n",
       "  <tbody>\n",
       "    <tr>\n",
       "      <th>power</th>\n",
       "      <td>320107.00</td>\n",
       "      <td>120.30</td>\n",
       "      <td>51.27</td>\n",
       "      <td>45.00</td>\n",
       "      <td>80.00</td>\n",
       "      <td>111.00</td>\n",
       "      <td>150.00</td>\n",
       "      <td>400.00</td>\n",
       "    </tr>\n",
       "  </tbody>\n",
       "</table>\n",
       "</div>"
      ],
      "text/plain": [
       "          count   mean   std   min   25%    50%    75%    max\n",
       "power 320107.00 120.30 51.27 45.00 80.00 111.00 150.00 400.00"
      ]
     },
     "execution_count": 104,
     "metadata": {},
     "output_type": "execute_result"
    }
   ],
   "source": [
    "# основные описательные статистики\n",
    "data.power.describe().to_frame().T"
   ]
  },
  {
   "cell_type": "code",
   "execution_count": 105,
   "id": "ad829a32",
   "metadata": {},
   "outputs": [
    {
     "data": {
      "text/plain": [
       "0"
      ]
     },
     "execution_count": 105,
     "metadata": {},
     "output_type": "execute_result"
    }
   ],
   "source": [
    "# проверка на явные дубликаты\n",
    "data.duplicated().sum()"
   ]
  },
  {
   "cell_type": "markdown",
   "id": "82885425",
   "metadata": {},
   "source": [
    "В среднем рассматриваемые автомобили имеют мощность около 120 л.с."
   ]
  },
  {
   "cell_type": "markdown",
   "id": "87e01bae",
   "metadata": {},
   "source": [
    "### Предобработка колонок *date_crawled*, *registration_month*, *number_of_pictures*, *postal_code* и *last_seen*\n",
    "\n",
    "Эти колонки и колонка `date_created` неинформативны для дальнейшего обучения моделей, удалим их."
   ]
  },
  {
   "cell_type": "code",
   "execution_count": 106,
   "id": "2e953ba8",
   "metadata": {},
   "outputs": [],
   "source": [
    "# удаление неинформативных столбцов\n",
    "data.drop(['date_crawled', 'registration_month', 'date_created', \n",
    "           'number_of_pictures', 'postal_code', 'last_seen'], axis=1, inplace=True)"
   ]
  },
  {
   "cell_type": "code",
   "execution_count": 107,
   "id": "eeba0d16",
   "metadata": {},
   "outputs": [
    {
     "name": "stdout",
     "output_type": "stream",
     "text": [
      "13.83%\n"
     ]
    }
   ],
   "source": [
    "# проверка на явные дубликаты\n",
    "print(f'{data.duplicated().sum() / 354369:.2%}')"
   ]
  },
  {
   "cell_type": "markdown",
   "id": "c8bd6b23",
   "metadata": {},
   "source": [
    "В финальной версии датасета много дубликатов - почти 14 %. Такое совпадение данных возможно, полные дубликаты с одинаковой датой создания, скачивания анкеты и т.д. были удалены ранее. "
   ]
  },
  {
   "cell_type": "markdown",
   "id": "49d1b5ce",
   "metadata": {},
   "source": [
    "### Вывод"
   ]
  },
  {
   "cell_type": "markdown",
   "id": "9cc50557",
   "metadata": {},
   "source": [
    "В этой части проекта была проведена предобработка данных, а именно:\n",
    "\n",
    "* удалены явные дубликаты,\n",
    "\n",
    "* заполнены пропущенные значения в колонках,\n",
    "* обработаны аномалии в столбцах,\n",
    "* удалены колонки неважные для предсказания.\n",
    "\n",
    "На этапе предобработки потеряно 9.67 % записей. Можно переходить к подготовке данных для машинного обучения."
   ]
  },
  {
   "cell_type": "code",
   "execution_count": 108,
   "id": "c09b9692",
   "metadata": {},
   "outputs": [
    {
     "data": {
      "text/plain": [
       "price                0\n",
       "vehicle_type         0\n",
       "registration_year    0\n",
       "gearbox              0\n",
       "power                0\n",
       "model                0\n",
       "kilometer            0\n",
       "fuel_type            0\n",
       "brand                0\n",
       "repaired             0\n",
       "dtype: int64"
      ]
     },
     "metadata": {},
     "output_type": "display_data"
    },
    {
     "data": {
      "text/html": [
       "<div>\n",
       "<style scoped>\n",
       "    .dataframe tbody tr th:only-of-type {\n",
       "        vertical-align: middle;\n",
       "    }\n",
       "\n",
       "    .dataframe tbody tr th {\n",
       "        vertical-align: top;\n",
       "    }\n",
       "\n",
       "    .dataframe thead th {\n",
       "        text-align: right;\n",
       "    }\n",
       "</style>\n",
       "<table border=\"1\" class=\"dataframe\">\n",
       "  <thead>\n",
       "    <tr style=\"text-align: right;\">\n",
       "      <th></th>\n",
       "      <th>price</th>\n",
       "      <th>registration_year</th>\n",
       "      <th>power</th>\n",
       "      <th>kilometer</th>\n",
       "    </tr>\n",
       "  </thead>\n",
       "  <tbody>\n",
       "    <tr>\n",
       "      <th>count</th>\n",
       "      <td>320107.00</td>\n",
       "      <td>320107.00</td>\n",
       "      <td>320107.00</td>\n",
       "      <td>320107.00</td>\n",
       "    </tr>\n",
       "    <tr>\n",
       "      <th>mean</th>\n",
       "      <td>4702.90</td>\n",
       "      <td>2002.77</td>\n",
       "      <td>120.30</td>\n",
       "      <td>128567.43</td>\n",
       "    </tr>\n",
       "    <tr>\n",
       "      <th>std</th>\n",
       "      <td>4541.86</td>\n",
       "      <td>6.58</td>\n",
       "      <td>51.27</td>\n",
       "      <td>36931.31</td>\n",
       "    </tr>\n",
       "    <tr>\n",
       "      <th>min</th>\n",
       "      <td>200.00</td>\n",
       "      <td>1950.00</td>\n",
       "      <td>45.00</td>\n",
       "      <td>5000.00</td>\n",
       "    </tr>\n",
       "    <tr>\n",
       "      <th>25%</th>\n",
       "      <td>1290.00</td>\n",
       "      <td>1999.00</td>\n",
       "      <td>80.00</td>\n",
       "      <td>125000.00</td>\n",
       "    </tr>\n",
       "    <tr>\n",
       "      <th>50%</th>\n",
       "      <td>2999.00</td>\n",
       "      <td>2003.00</td>\n",
       "      <td>111.00</td>\n",
       "      <td>150000.00</td>\n",
       "    </tr>\n",
       "    <tr>\n",
       "      <th>75%</th>\n",
       "      <td>6800.00</td>\n",
       "      <td>2007.00</td>\n",
       "      <td>150.00</td>\n",
       "      <td>150000.00</td>\n",
       "    </tr>\n",
       "    <tr>\n",
       "      <th>max</th>\n",
       "      <td>20000.00</td>\n",
       "      <td>2016.00</td>\n",
       "      <td>400.00</td>\n",
       "      <td>150000.00</td>\n",
       "    </tr>\n",
       "  </tbody>\n",
       "</table>\n",
       "</div>"
      ],
      "text/plain": [
       "          price  registration_year     power  kilometer\n",
       "count 320107.00          320107.00 320107.00  320107.00\n",
       "mean    4702.90            2002.77    120.30  128567.43\n",
       "std     4541.86               6.58     51.27   36931.31\n",
       "min      200.00            1950.00     45.00    5000.00\n",
       "25%     1290.00            1999.00     80.00  125000.00\n",
       "50%     2999.00            2003.00    111.00  150000.00\n",
       "75%     6800.00            2007.00    150.00  150000.00\n",
       "max    20000.00            2016.00    400.00  150000.00"
      ]
     },
     "execution_count": 108,
     "metadata": {},
     "output_type": "execute_result"
    }
   ],
   "source": [
    "display(data.isna().sum())\n",
    "data.describe()"
   ]
  },
  {
   "cell_type": "markdown",
   "id": "06686946",
   "metadata": {},
   "source": [
    "##  Построение моделей\n",
    "\n",
    "### Разделение исходных данных на выборки\n",
    "\n",
    "Сохраним в отдельные переменные признаки и целевой признак."
   ]
  },
  {
   "cell_type": "code",
   "execution_count": 109,
   "id": "37e6af94",
   "metadata": {},
   "outputs": [],
   "source": [
    "# признаки\n",
    "X = data.drop(['price'], axis=1)\n",
    "# целевой признак\n",
    "y = data['price']"
   ]
  },
  {
   "cell_type": "code",
   "execution_count": 110,
   "id": "378d7a9e",
   "metadata": {},
   "outputs": [
    {
     "data": {
      "text/plain": [
       "['registration_year', 'power', 'kilometer']"
      ]
     },
     "execution_count": 110,
     "metadata": {},
     "output_type": "execute_result"
    }
   ],
   "source": [
    "# список названий колонок с количественными данными\n",
    "num_columns = X.select_dtypes('number').columns.to_list()\n",
    "num_columns"
   ]
  },
  {
   "cell_type": "code",
   "execution_count": 111,
   "id": "de6751db",
   "metadata": {},
   "outputs": [
    {
     "data": {
      "text/plain": [
       "['vehicle_type', 'gearbox', 'model', 'fuel_type', 'brand', 'repaired']"
      ]
     },
     "execution_count": 111,
     "metadata": {},
     "output_type": "execute_result"
    }
   ],
   "source": [
    "# список названий колонок с категориальными данными\n",
    "cat_colunmns = X.select_dtypes('object').columns.to_list()\n",
    "cat_colunmns"
   ]
  },
  {
   "cell_type": "code",
   "execution_count": 112,
   "id": "e36e498e",
   "metadata": {},
   "outputs": [],
   "source": [
    "# изменение порядка следования столбцов\n",
    "X = X[num_columns + cat_colunmns]"
   ]
  },
  {
   "cell_type": "code",
   "execution_count": 113,
   "id": "03de69b0",
   "metadata": {},
   "outputs": [
    {
     "data": {
      "text/plain": [
       "[3, 4, 5, 6, 7, 8]"
      ]
     },
     "execution_count": 113,
     "metadata": {},
     "output_type": "execute_result"
    }
   ],
   "source": [
    "# индексы колонок с категориальными признаками\n",
    "cat_indexes = [i for i in range(len(num_columns), len(X.columns))]\n",
    "cat_indexes"
   ]
  },
  {
   "cell_type": "markdown",
   "id": "4511f363",
   "metadata": {},
   "source": [
    "В дальнейшем подбор гиперпараметров планируется выполнять автоматически с помощью `RandomizedSearchCV` (поиск по сетке, контроль качества осуществляется по технике кросс-валидации). Поэтому разобьем данные на 2 части - обучающую и тестовую выборки в соотношении 3:1."
   ]
  },
  {
   "cell_type": "code",
   "execution_count": 114,
   "id": "fa6f11f8",
   "metadata": {},
   "outputs": [],
   "source": [
    "# выделение обучающей выборки (75 %) и тестовой (25 %)\n",
    "X_train, X_test, y_train, y_test = train_test_split(X, y, test_size=0.25, random_state=12345)"
   ]
  },
  {
   "cell_type": "code",
   "execution_count": 115,
   "id": "c24a1999",
   "metadata": {},
   "outputs": [
    {
     "data": {
      "text/plain": [
       "((320107, 9), (240080, 9), (80027, 9), (240080,), (80027,))"
      ]
     },
     "execution_count": 115,
     "metadata": {},
     "output_type": "execute_result"
    }
   ],
   "source": [
    "# check\n",
    "X.shape, X_train.shape, X_test.shape, y_train.shape, y_test.shape"
   ]
  },
  {
   "cell_type": "markdown",
   "id": "c3d068f2",
   "metadata": {},
   "source": [
    "### Обучение моделей"
   ]
  },
  {
   "cell_type": "markdown",
   "id": "c66f3784",
   "metadata": {},
   "source": [
    "Рассмотрим модели случайного леса и градиентного бустинга - `ElasticNet`, `RandomForestRegressor`, `CatBoostRegressor` и `LGBMRegressor`. Подбирать гиперпараметры регрессоров с наилучшей метрикой качества *RMSE* будем с помощью `RandomizedSearchCV`.\n",
    "\n",
    "Для проверки моделей на адекватность будем использовать константную модель `DummyRegressor()`, которая всегда предсказывает среднее значение целевого признака обучающей выборки.\n",
    "\n",
    "В датафрейме присутсвуют категориальные признаки. С помощью техник One-Hot Encoding и Ordinal Encoding преобразуем их в численные признаки.\n",
    "\n",
    "К количественными признакам будем применять масштабирование (StandardScaler), если того требует соответствующий алгоритм обучения."
   ]
  },
  {
   "cell_type": "markdown",
   "id": "0ab3bcf1",
   "metadata": {},
   "source": [
    "Создадим функцию, приводящую тип данных в таблице к типу 'category'. Добавим этот шаг в пайплайн."
   ]
  },
  {
   "cell_type": "code",
   "execution_count": 116,
   "id": "af9c01d6",
   "metadata": {},
   "outputs": [],
   "source": [
    "def to_category(df):\n",
    "    return df.astype('category')"
   ]
  },
  {
   "cell_type": "code",
   "execution_count": 117,
   "id": "5ce4c4b1",
   "metadata": {},
   "outputs": [],
   "source": [
    "ct = ColumnTransformer(\n",
    "    [('scaler', StandardScaler(), num_columns),\n",
    "     ('encoder', OrdinalEncoder(), cat_colunmns),\n",
    "     ('func', FunctionTransformer(to_category), cat_indexes)])\n",
    "\n",
    "pipe = Pipeline([('preprocessor', ct),\n",
    "                 ('regressor', RandomForestRegressor())])"
   ]
  },
  {
   "cell_type": "markdown",
   "id": "42fd4c28",
   "metadata": {},
   "source": [
    "Ниже приведены уточненные гиперпараметры для моделей."
   ]
  },
  {
   "cell_type": "code",
   "execution_count": 118,
   "id": "f4f9a295",
   "metadata": {},
   "outputs": [],
   "source": [
    "# создание сетки гиперпараметров\n",
    "parameters = [\n",
    "    {\n",
    "        'regressor': [ElasticNet(random_state=12345)],\n",
    "        'regressor__alpha': [1e-4],\n",
    "        'regressor__l1_ratio': np.arange(0.9, 1, 0.1),\n",
    "        'preprocessor__scaler': [StandardScaler()],\n",
    "        'preprocessor__encoder': [OneHotEncoder(drop='first', handle_unknown='ignore')],  \n",
    "        'preprocessor__func': ['drop']               \n",
    "    },\n",
    "    {\n",
    "        'regressor': [RandomForestRegressor(random_state=12345)],\n",
    "        'regressor__n_estimators': range(160, 161),\n",
    "        'regressor__max_depth': range(18, 19),\n",
    "        'preprocessor__scaler': ['passthrough'],\n",
    "        'preprocessor__encoder': [OrdinalEncoder(handle_unknown='use_encoded_value', unknown_value=-1)],\n",
    "        'preprocessor__func': ['drop']\n",
    "    },   \n",
    "    {\n",
    "        'regressor': [CatBoostRegressor(verbose=0, random_state=12345)],\n",
    "        'regressor__cat_features': [cat_indexes],\n",
    "        'regressor__n_estimators': range(950, 951),\n",
    "        'regressor__max_depth': range(7, 8),\n",
    "        'regressor__learning_rate': [0.1],\n",
    "        'preprocessor': [None]\n",
    "    },         \n",
    "    {\n",
    "        'regressor': [LGBMRegressor(random_state=12345)],\n",
    "        'regressor__categorical_feature': [cat_indexes],\n",
    "        'regressor__max_depth': range(7, 8),\n",
    "        'regressor__n_estimators': range(2000, 2001),\n",
    "        'regressor__learning_rate': [0.1],\n",
    "        'preprocessor__scaler': ['passthrough'],\n",
    "        'preprocessor__encoder': ['drop'],\n",
    "        'preprocessor__func': [FunctionTransformer(to_category)]\n",
    "    },\n",
    "    {\n",
    "        'regressor': [DummyRegressor(strategy='mean')],\n",
    "        'preprocessor__scaler': ['passthrough'],\n",
    "        'preprocessor__encoder': [OrdinalEncoder(handle_unknown='use_encoded_value', unknown_value=-1)],\n",
    "        'preprocessor__func': ['drop']\n",
    "    }\n",
    "]"
   ]
  },
  {
   "cell_type": "code",
   "execution_count": 119,
   "id": "b80231b1",
   "metadata": {},
   "outputs": [],
   "source": [
    "# список с названиями моделей\n",
    "model_list = ['ElasticNet', \n",
    "              'RandomForestRegressor', \n",
    "              'CatBoostRegressor', \n",
    "              'LGBMRegressor',\n",
    "              'Dummy']"
   ]
  },
  {
   "cell_type": "code",
   "execution_count": 120,
   "id": "42166cb8",
   "metadata": {},
   "outputs": [
    {
     "name": "stdout",
     "output_type": "stream",
     "text": [
      "Fitting 5 folds for each of 1 candidates, totalling 5 fits\n",
      "Fitting 5 folds for each of 1 candidates, totalling 5 fits\n",
      "Fitting 5 folds for each of 1 candidates, totalling 5 fits\n",
      "Fitting 5 folds for each of 1 candidates, totalling 5 fits\n",
      "Fitting 5 folds for each of 1 candidates, totalling 5 fits\n",
      "CPU times: total: 16min\n",
      "Wall time: 11min 3s\n"
     ]
    }
   ],
   "source": [
    "%%time\n",
    "\n",
    "# таблица с построенными моделями\n",
    "results = pd.DataFrame(columns=['модель', \n",
    "                                'RMSE',\n",
    "                                'Время обучения',\n",
    "                                'Время предсказания',\n",
    "                                'rs']\n",
    ")\n",
    "\n",
    "# обучение нескольких регрессоров, сохранение результатов\n",
    "for params, model_name in zip(parameters, model_list):\n",
    "    \n",
    "    if model_name == 'LGBMRegressor':\n",
    "        sklearn.set_config(transform_output=\"pandas\")\n",
    "    \n",
    "    # создание экземпляра RandomizedSearchCV\n",
    "    rs = RandomizedSearchCV(\n",
    "                    pipe,\n",
    "                    params,\n",
    "                    n_iter=30,\n",
    "                    cv=5,\n",
    "                    verbose=1,\n",
    "                    random_state=12345,\n",
    "                    scoring='neg_root_mean_squared_error',\n",
    "                    n_jobs=-1,\n",
    "                    error_score='raise')\n",
    "    # запуск поиска по сетке\n",
    "    rs.fit(X_train, y_train)\n",
    "    # результаты кросс-валидации\n",
    "    cv_results = pd.DataFrame(rs.cv_results_)\n",
    "    fit_time = cv_results[cv_results['rank_test_score'] == 1]['mean_fit_time'].values[0]\n",
    "    predict_time = cv_results[cv_results['rank_test_score'] == 1]['mean_score_time'].values[0]\n",
    "    dict_to_add = {'модель': model_name,\n",
    "                   'rs': rs,\n",
    "                   'RMSE': -rs.best_score_,\n",
    "                   'Время обучения': fit_time,\n",
    "                   'Время предсказания': predict_time,\n",
    "                   'rs': rs}\n",
    "    results = results.append(dict_to_add, ignore_index=True)"
   ]
  },
  {
   "cell_type": "code",
   "execution_count": 121,
   "id": "9fa132c5",
   "metadata": {},
   "outputs": [
    {
     "data": {
      "text/html": [
       "<div>\n",
       "<style scoped>\n",
       "    .dataframe tbody tr th:only-of-type {\n",
       "        vertical-align: middle;\n",
       "    }\n",
       "\n",
       "    .dataframe tbody tr th {\n",
       "        vertical-align: top;\n",
       "    }\n",
       "\n",
       "    .dataframe thead th {\n",
       "        text-align: right;\n",
       "    }\n",
       "</style>\n",
       "<table border=\"1\" class=\"dataframe\">\n",
       "  <thead>\n",
       "    <tr style=\"text-align: right;\">\n",
       "      <th></th>\n",
       "      <th>модель</th>\n",
       "      <th>RMSE</th>\n",
       "      <th>Время обучения</th>\n",
       "      <th>Время предсказания</th>\n",
       "      <th>rs</th>\n",
       "    </tr>\n",
       "  </thead>\n",
       "  <tbody>\n",
       "    <tr>\n",
       "      <th>0</th>\n",
       "      <td>LGBMRegressor</td>\n",
       "      <td>1556.71</td>\n",
       "      <td>13.85</td>\n",
       "      <td>7.66</td>\n",
       "      <td>RandomizedSearchCV(cv=5, error_score='raise',\\...</td>\n",
       "    </tr>\n",
       "    <tr>\n",
       "      <th>1</th>\n",
       "      <td>CatBoostRegressor</td>\n",
       "      <td>1613.73</td>\n",
       "      <td>223.74</td>\n",
       "      <td>0.26</td>\n",
       "      <td>RandomizedSearchCV(cv=5, error_score='raise',\\...</td>\n",
       "    </tr>\n",
       "    <tr>\n",
       "      <th>2</th>\n",
       "      <td>RandomForestRegressor</td>\n",
       "      <td>1628.63</td>\n",
       "      <td>61.73</td>\n",
       "      <td>1.44</td>\n",
       "      <td>RandomizedSearchCV(cv=5, error_score='raise',\\...</td>\n",
       "    </tr>\n",
       "    <tr>\n",
       "      <th>3</th>\n",
       "      <td>ElasticNet</td>\n",
       "      <td>2681.61</td>\n",
       "      <td>83.78</td>\n",
       "      <td>0.07</td>\n",
       "      <td>RandomizedSearchCV(cv=5, error_score='raise',\\...</td>\n",
       "    </tr>\n",
       "    <tr>\n",
       "      <th>4</th>\n",
       "      <td>Dummy</td>\n",
       "      <td>4539.33</td>\n",
       "      <td>0.24</td>\n",
       "      <td>0.05</td>\n",
       "      <td>RandomizedSearchCV(cv=5, error_score='raise',\\...</td>\n",
       "    </tr>\n",
       "  </tbody>\n",
       "</table>\n",
       "</div>"
      ],
      "text/plain": [
       "                  модель    RMSE  Время обучения  Время предсказания  \\\n",
       "0          LGBMRegressor 1556.71           13.85                7.66   \n",
       "1      CatBoostRegressor 1613.73          223.74                0.26   \n",
       "2  RandomForestRegressor 1628.63           61.73                1.44   \n",
       "3             ElasticNet 2681.61           83.78                0.07   \n",
       "4                  Dummy 4539.33            0.24                0.05   \n",
       "\n",
       "                                                  rs  \n",
       "0  RandomizedSearchCV(cv=5, error_score='raise',\\...  \n",
       "1  RandomizedSearchCV(cv=5, error_score='raise',\\...  \n",
       "2  RandomizedSearchCV(cv=5, error_score='raise',\\...  \n",
       "3  RandomizedSearchCV(cv=5, error_score='raise',\\...  \n",
       "4  RandomizedSearchCV(cv=5, error_score='raise',\\...  "
      ]
     },
     "execution_count": 121,
     "metadata": {},
     "output_type": "execute_result"
    }
   ],
   "source": [
    "results = results.sort_values(by='RMSE').reset_index(drop=True)\n",
    "results"
   ]
  },
  {
   "cell_type": "code",
   "execution_count": 122,
   "id": "ede87e7c",
   "metadata": {},
   "outputs": [
    {
     "data": {
      "text/plain": [
       "{'regressor__n_estimators': 2000,\n",
       " 'regressor__max_depth': 7,\n",
       " 'regressor__learning_rate': 0.1,\n",
       " 'regressor__categorical_feature': [3, 4, 5, 6, 7, 8],\n",
       " 'regressor': LGBMRegressor(categorical_feature=[3, 4, 5, 6, 7, 8], max_depth=7,\n",
       "               n_estimators=2000, random_state=12345),\n",
       " 'preprocessor__scaler': 'passthrough',\n",
       " 'preprocessor__func': FunctionTransformer(func=<function to_category at 0x00000127901E0160>),\n",
       " 'preprocessor__encoder': 'drop'}"
      ]
     },
     "execution_count": 122,
     "metadata": {},
     "output_type": "execute_result"
    }
   ],
   "source": [
    "# гиперпараметры LGBMRegressor\n",
    "results['rs'][0].best_params_"
   ]
  },
  {
   "cell_type": "code",
   "execution_count": 123,
   "id": "df75ead8",
   "metadata": {},
   "outputs": [
    {
     "data": {
      "text/plain": [
       "{'regressor__n_estimators': 950,\n",
       " 'regressor__max_depth': 7,\n",
       " 'regressor__learning_rate': 0.1,\n",
       " 'regressor__cat_features': [3, 4, 5, 6, 7, 8],\n",
       " 'regressor': <catboost.core.CatBoostRegressor at 0x1278ae35d90>,\n",
       " 'preprocessor': None}"
      ]
     },
     "execution_count": 123,
     "metadata": {},
     "output_type": "execute_result"
    }
   ],
   "source": [
    "# гиперпараметры LGBMRegressor\n",
    "results['rs'][1].best_params_"
   ]
  },
  {
   "cell_type": "code",
   "execution_count": 124,
   "id": "07382990",
   "metadata": {},
   "outputs": [
    {
     "data": {
      "text/plain": [
       "{'regressor__n_estimators': 160,\n",
       " 'regressor__max_depth': 18,\n",
       " 'regressor': RandomForestRegressor(max_depth=18, n_estimators=160, random_state=12345),\n",
       " 'preprocessor__scaler': 'passthrough',\n",
       " 'preprocessor__func': 'drop',\n",
       " 'preprocessor__encoder': OrdinalEncoder(handle_unknown='use_encoded_value', unknown_value=-1)}"
      ]
     },
     "execution_count": 124,
     "metadata": {},
     "output_type": "execute_result"
    }
   ],
   "source": [
    "# гиперпараметры CatBoostRegressor\n",
    "results['rs'][2].best_params_"
   ]
  },
  {
   "cell_type": "code",
   "execution_count": 125,
   "id": "a73fce62",
   "metadata": {
    "scrolled": true
   },
   "outputs": [
    {
     "data": {
      "text/plain": [
       "{'regressor__l1_ratio': 0.9,\n",
       " 'regressor__alpha': 0.0001,\n",
       " 'regressor': ElasticNet(alpha=0.0001, l1_ratio=0.9, random_state=12345),\n",
       " 'preprocessor__scaler': StandardScaler(),\n",
       " 'preprocessor__func': 'drop',\n",
       " 'preprocessor__encoder': OneHotEncoder(drop='first', handle_unknown='ignore')}"
      ]
     },
     "execution_count": 125,
     "metadata": {},
     "output_type": "execute_result"
    }
   ],
   "source": [
    "# гиперпараметры ElasticNet\n",
    "results['rs'][3].best_params_"
   ]
  },
  {
   "cell_type": "markdown",
   "id": "5c3b9b2c",
   "metadata": {},
   "source": [
    "На этом этапе обучены модели регрессии `ElasticNet`, `RandomForest`, `CatBoost` и `LightGBM`, выбраны модели с наилучшим значением метрики качества *RMSE* с помощью рандомизированного поиска по гиперпараметрам, ими оказались:\n",
    "\n",
    "* `ElasticNet(alpha=0.0001, l1_ratio=0.9)`,\n",
    "\n",
    "* `RandomForestRegressor(max_depth=18, n_estimators=160)`,\n",
    "* `CatBoostRegressor(n_estimators=950, max_depth=7, learning_rate=0.1)`,\n",
    "* `LGBMRegressor(n_estimators=2000, max_depth=7, learning_rate=0.1)`.\n",
    "                             \n",
    "Также для оценки адекватности моделей была использована модель `DummyRegressor()`, предсказывающая среднее значение целевого признака обучающей выборки.\n",
    "\n",
    "Перейдем к более детальному анализу моделей, исходя из требований заказчика."
   ]
  },
  {
   "cell_type": "code",
   "execution_count": 126,
   "id": "31da41a7",
   "metadata": {},
   "outputs": [
    {
     "data": {
      "text/html": [
       "<div>\n",
       "<style scoped>\n",
       "    .dataframe tbody tr th:only-of-type {\n",
       "        vertical-align: middle;\n",
       "    }\n",
       "\n",
       "    .dataframe tbody tr th {\n",
       "        vertical-align: top;\n",
       "    }\n",
       "\n",
       "    .dataframe thead th {\n",
       "        text-align: right;\n",
       "    }\n",
       "</style>\n",
       "<table border=\"1\" class=\"dataframe\">\n",
       "  <thead>\n",
       "    <tr style=\"text-align: right;\">\n",
       "      <th></th>\n",
       "      <th>модель</th>\n",
       "      <th>RMSE</th>\n",
       "      <th>Время обучения</th>\n",
       "      <th>Время предсказания</th>\n",
       "      <th>rs</th>\n",
       "    </tr>\n",
       "  </thead>\n",
       "  <tbody>\n",
       "    <tr>\n",
       "      <th>0</th>\n",
       "      <td>LGBMRegressor</td>\n",
       "      <td>1556.71</td>\n",
       "      <td>13.85</td>\n",
       "      <td>7.66</td>\n",
       "      <td>RandomizedSearchCV(cv=5, error_score='raise',\\...</td>\n",
       "    </tr>\n",
       "    <tr>\n",
       "      <th>1</th>\n",
       "      <td>CatBoostRegressor</td>\n",
       "      <td>1613.73</td>\n",
       "      <td>223.74</td>\n",
       "      <td>0.26</td>\n",
       "      <td>RandomizedSearchCV(cv=5, error_score='raise',\\...</td>\n",
       "    </tr>\n",
       "    <tr>\n",
       "      <th>2</th>\n",
       "      <td>RandomForestRegressor</td>\n",
       "      <td>1628.63</td>\n",
       "      <td>61.73</td>\n",
       "      <td>1.44</td>\n",
       "      <td>RandomizedSearchCV(cv=5, error_score='raise',\\...</td>\n",
       "    </tr>\n",
       "    <tr>\n",
       "      <th>3</th>\n",
       "      <td>ElasticNet</td>\n",
       "      <td>2681.61</td>\n",
       "      <td>83.78</td>\n",
       "      <td>0.07</td>\n",
       "      <td>RandomizedSearchCV(cv=5, error_score='raise',\\...</td>\n",
       "    </tr>\n",
       "    <tr>\n",
       "      <th>4</th>\n",
       "      <td>Dummy</td>\n",
       "      <td>4539.33</td>\n",
       "      <td>0.24</td>\n",
       "      <td>0.05</td>\n",
       "      <td>RandomizedSearchCV(cv=5, error_score='raise',\\...</td>\n",
       "    </tr>\n",
       "  </tbody>\n",
       "</table>\n",
       "</div>"
      ],
      "text/plain": [
       "                  модель    RMSE  Время обучения  Время предсказания  \\\n",
       "0          LGBMRegressor 1556.71           13.85                7.66   \n",
       "1      CatBoostRegressor 1613.73          223.74                0.26   \n",
       "2  RandomForestRegressor 1628.63           61.73                1.44   \n",
       "3             ElasticNet 2681.61           83.78                0.07   \n",
       "4                  Dummy 4539.33            0.24                0.05   \n",
       "\n",
       "                                                  rs  \n",
       "0  RandomizedSearchCV(cv=5, error_score='raise',\\...  \n",
       "1  RandomizedSearchCV(cv=5, error_score='raise',\\...  \n",
       "2  RandomizedSearchCV(cv=5, error_score='raise',\\...  \n",
       "3  RandomizedSearchCV(cv=5, error_score='raise',\\...  \n",
       "4  RandomizedSearchCV(cv=5, error_score='raise',\\...  "
      ]
     },
     "execution_count": 126,
     "metadata": {},
     "output_type": "execute_result"
    }
   ],
   "source": [
    "results"
   ]
  },
  {
   "cell_type": "markdown",
   "id": "131533d8",
   "metadata": {},
   "source": [
    "Значение метрики *RMSE* константной модели (4539.33 евро) больше, чем для остальных моделей, проверка на адекватность их работы пройдена.\n",
    "\n",
    "По **качеству предсказания** модели распределились следующим образом (от лучшей к худшей):\n",
    "\n",
    "* `LightGBM` - *RMSE* = 1556.71 евро,\n",
    "\n",
    "* `CatBoost` - *RMSE* = 1613.73 евро,\n",
    "* `RandomForest\t` - *RMSE* = 1628.63 евро,\n",
    "* `ElasticNet` - *RMSE* = 2681.61 евро.\n",
    "\n",
    "По **времени обучения**:\n",
    "\n",
    "* `LightGBM` - 13.85 с,\n",
    "\n",
    "* `RandomForest\t` - 61.73 с,\n",
    "* `ElasticNet` - 83.78 с,\n",
    "* `CatBoost` - 223.74 с.\n",
    "\n",
    "По **времени предсказания**:\n",
    "\n",
    "* `ElasticNet` - 0.07 с,\n",
    "\n",
    "* `CatBoost` - 0.26 с,\n",
    "* `RandomForest\t` - 1.44 с,\n",
    "* `LightGBM` - 7.66 с.\n",
    "\n",
    "Разброс по времени предсказания для моделей небольшой. Значительно дольше остальных обучается модель `CatBoost`. По метрике качества *RMSE* как и по времени обучения значительно выигрывает модель `LightGBM`, поэтому выбираем ее как лучшую и переходим к проверке ее качества на тестовой выборке."
   ]
  },
  {
   "cell_type": "markdown",
   "id": "581c580a",
   "metadata": {},
   "source": [
    "### Проверка качества модели на тестовой выборке"
   ]
  },
  {
   "cell_type": "code",
   "execution_count": 127,
   "id": "b5eea0fb",
   "metadata": {},
   "outputs": [
    {
     "name": "stdout",
     "output_type": "stream",
     "text": [
      "RMSE: 1548.62 евро.\n"
     ]
    }
   ],
   "source": [
    "# предсказания модели на тестовой выборке\n",
    "predicted_test = results['rs'][0].predict(X_test)\n",
    "print(f'RMSE: {mean_squared_error(y_test, predicted_test, squared=False):.2f} евро.')"
   ]
  },
  {
   "cell_type": "markdown",
   "id": "858910b3",
   "metadata": {},
   "source": [
    "Таким образом, модель `LightGBM` на тестовой выборке показала результат метрики ***RMSE* 1548.62** евро."
   ]
  },
  {
   "cell_type": "markdown",
   "id": "ef465dbe",
   "metadata": {},
   "source": [
    "### Вывод"
   ]
  },
  {
   "cell_type": "markdown",
   "id": "9be5e7d4",
   "metadata": {},
   "source": [
    "На этапе построения моделей:\n",
    "\n",
    "* данные разделены на обучающую и тестовую выборки,\n",
    "\n",
    "* подготовлен пайплайн, включающий предобработку данных (кодирование, масштабирование, изменение типа данных) и регрессор,\n",
    "\n",
    "* рассмотрены модели `ElasticNet`, `RandomForestRegressor`, `CatBoostRegressor` и `LGBMRegressor`,\n",
    "\n",
    "* подбор гиперпараметров выполнялся с помощью `RandomizedSearchCV`,\n",
    "\n",
    "* наилучшую метрику качества ***RMSE* = 1556.71** на кроссвалидации показала модель `LGBMRegressor`,\n",
    "\n",
    "* на тренировочной выборке лучшая модель показала качество ***RMSE* = 1548.62**."
   ]
  },
  {
   "cell_type": "markdown",
   "id": "00f3aebc",
   "metadata": {},
   "source": [
    "## Общий вывод"
   ]
  },
  {
   "cell_type": "markdown",
   "id": "16e9032f",
   "metadata": {},
   "source": [
    "Было проведено исследование, позволившее построить модель для задачи регрессии, которая прогнозирует рыночную стоимость автомобиля. Входные данные – данные о технических характеристиках, комплектации и ценах других автомобилей.\n",
    "\n",
    "Изучение файла с данными и исследовательский анализ данных показали необходимость предобработки. Пропущенные значения и аномалии были заполнены и устранены соответственно. Также из датасета были удалены признаки, не несущие информацию для предсказания. На этапе предобработки было потеряно 9.67 % наблюдений от исходных данных.\n",
    "\n",
    "Данные были разделены на обучающую и тестовую выборки в соотношении 3:1. Для моделей `RandomForestRegressor` и `ElasticNet` имеющиеся категориальные признаки подверглись кодированию, для последней также выполнялось масштабирование численных признаков. В случае моделей `CatBoostRegressor` и `LGBMRegressor` использовались встроенные кодировщики, но для `LGBMRegressor` предварительно потребовалось приведение категориальных признаков к типу *category*.\n",
    "\n",
    "Упомянутые выше модели были построены и обучены с помощью рандомизированного поиска по гиперпараметрам. В результате по критериям качества предсказания и скорости обучения наилучшей оказалась модель **`LightGBM` с *RMSE* = 1556.71 евро, временем обучения 13.85 с и временем предсказания 7.66 с**.\n",
    "\n",
    "Адекватность построенных моделей подтвердилась путем сравнения с работой константной модели `DummyRegressor`, ***RMSE***  которой составила **4539.33 евро**.\n",
    "\n",
    "Окончательная проверка качества модели `LightGBM` на тестовой выборке показала значение ***RMSE* 1548.62 евро**."
   ]
  }
 ],
 "metadata": {
  "ExecuteTimeLog": [
   {
    "duration": 2486,
    "start_time": "2023-01-17T18:18:00.242Z"
   },
   {
    "duration": 3,
    "start_time": "2023-01-17T18:18:03.817Z"
   },
   {
    "duration": 740,
    "start_time": "2023-01-17T18:18:04.416Z"
   },
   {
    "duration": 16,
    "start_time": "2023-01-17T18:18:05.760Z"
   },
   {
    "duration": 1578,
    "start_time": "2023-01-17T18:31:22.262Z"
   },
   {
    "duration": 3,
    "start_time": "2023-01-17T18:31:25.532Z"
   },
   {
    "duration": 787,
    "start_time": "2023-01-17T18:31:26.437Z"
   },
   {
    "duration": 23,
    "start_time": "2023-01-17T18:31:27.226Z"
   },
   {
    "duration": 4,
    "start_time": "2023-01-17T18:31:27.406Z"
   },
   {
    "duration": 3,
    "start_time": "2023-01-17T18:31:27.564Z"
   },
   {
    "duration": 3,
    "start_time": "2023-01-17T18:31:27.718Z"
   },
   {
    "duration": 121,
    "start_time": "2023-01-17T18:31:28.022Z"
   },
   {
    "duration": 301,
    "start_time": "2023-01-17T18:31:28.335Z"
   },
   {
    "duration": 15,
    "start_time": "2023-01-17T18:31:28.637Z"
   },
   {
    "duration": 6,
    "start_time": "2023-01-17T18:31:28.758Z"
   },
   {
    "duration": 213,
    "start_time": "2023-01-17T18:31:28.916Z"
   },
   {
    "duration": 2,
    "start_time": "2023-01-17T18:31:29.886Z"
   },
   {
    "duration": 274,
    "start_time": "2023-01-17T18:31:30.231Z"
   },
   {
    "duration": 339,
    "start_time": "2023-01-17T18:31:30.507Z"
   },
   {
    "duration": 3,
    "start_time": "2023-01-17T18:31:30.849Z"
   },
   {
    "duration": 34,
    "start_time": "2023-01-17T18:31:31.103Z"
   },
   {
    "duration": 19,
    "start_time": "2023-01-17T18:31:31.452Z"
   },
   {
    "duration": 58,
    "start_time": "2023-01-17T18:31:31.800Z"
   },
   {
    "duration": 3,
    "start_time": "2023-01-17T18:31:32.138Z"
   },
   {
    "duration": 19,
    "start_time": "2023-01-17T18:31:32.476Z"
   },
   {
    "duration": 368,
    "start_time": "2023-01-17T18:31:32.650Z"
   },
   {
    "duration": 49,
    "start_time": "2023-01-17T18:31:33.020Z"
   },
   {
    "duration": 3,
    "start_time": "2023-01-17T18:31:33.369Z"
   },
   {
    "duration": 423,
    "start_time": "2023-01-17T18:31:33.715Z"
   },
   {
    "duration": 32,
    "start_time": "2023-01-17T18:31:34.140Z"
   },
   {
    "duration": 173,
    "start_time": "2023-01-17T18:31:34.242Z"
   },
   {
    "duration": 9,
    "start_time": "2023-01-17T18:31:34.605Z"
   },
   {
    "duration": 18,
    "start_time": "2023-01-17T18:31:35.169Z"
   },
   {
    "duration": 16,
    "start_time": "2023-01-17T18:31:35.488Z"
   },
   {
    "duration": 3,
    "start_time": "2023-01-17T18:31:35.651Z"
   },
   {
    "duration": 183,
    "start_time": "2023-01-17T18:31:35.801Z"
   },
   {
    "duration": 136,
    "start_time": "2023-01-17T18:31:35.986Z"
   },
   {
    "duration": 36,
    "start_time": "2023-01-17T18:31:36.124Z"
   },
   {
    "duration": 24,
    "start_time": "2023-01-17T18:31:36.580Z"
   },
   {
    "duration": 8,
    "start_time": "2023-01-17T18:31:36.910Z"
   },
   {
    "duration": 292,
    "start_time": "2023-01-17T18:31:37.220Z"
   },
   {
    "duration": 315,
    "start_time": "2023-01-17T18:31:37.514Z"
   },
   {
    "duration": 50,
    "start_time": "2023-01-17T18:31:37.830Z"
   },
   {
    "duration": 3,
    "start_time": "2023-01-17T18:31:37.917Z"
   },
   {
    "duration": 11,
    "start_time": "2023-01-17T18:31:38.086Z"
   },
   {
    "duration": 20,
    "start_time": "2023-01-17T18:31:38.577Z"
   },
   {
    "duration": 34,
    "start_time": "2023-01-17T18:31:38.731Z"
   },
   {
    "duration": 102,
    "start_time": "2023-01-17T18:31:39.062Z"
   },
   {
    "duration": 3,
    "start_time": "2023-01-17T18:31:39.240Z"
   },
   {
    "duration": 13,
    "start_time": "2023-01-17T18:31:39.610Z"
   },
   {
    "duration": 5,
    "start_time": "2023-01-17T18:31:39.787Z"
   },
   {
    "duration": 96,
    "start_time": "2023-01-17T18:31:39.973Z"
   },
   {
    "duration": 13,
    "start_time": "2023-01-17T18:31:40.149Z"
   },
   {
    "duration": 5,
    "start_time": "2023-01-17T18:31:40.346Z"
   },
   {
    "duration": 12,
    "start_time": "2023-01-17T18:31:40.517Z"
   },
   {
    "duration": 4,
    "start_time": "2023-01-17T18:31:40.681Z"
   },
   {
    "duration": 8809,
    "start_time": "2023-01-17T18:31:41.202Z"
   },
   {
    "duration": 184,
    "start_time": "2023-01-17T18:31:50.013Z"
   },
   {
    "duration": 3,
    "start_time": "2023-01-17T18:31:50.199Z"
   },
   {
    "duration": 23,
    "start_time": "2023-01-17T18:31:50.203Z"
   },
   {
    "duration": 186,
    "start_time": "2023-01-17T18:31:50.227Z"
   },
   {
    "duration": 3,
    "start_time": "2023-01-17T18:31:50.414Z"
   },
   {
    "duration": 43,
    "start_time": "2023-01-17T18:31:50.419Z"
   },
   {
    "duration": 19,
    "start_time": "2023-01-17T18:31:50.463Z"
   },
   {
    "duration": 33,
    "start_time": "2023-01-17T18:31:50.483Z"
   },
   {
    "duration": 105,
    "start_time": "2023-01-17T18:31:50.518Z"
   },
   {
    "duration": 9358,
    "start_time": "2023-01-17T18:31:50.625Z"
   },
   {
    "duration": 178,
    "start_time": "2023-01-17T18:31:59.985Z"
   },
   {
    "duration": 3,
    "start_time": "2023-01-17T18:32:00.165Z"
   },
   {
    "duration": 172,
    "start_time": "2023-01-17T18:32:00.169Z"
   },
   {
    "duration": 18,
    "start_time": "2023-01-17T18:32:00.348Z"
   },
   {
    "duration": 38,
    "start_time": "2023-01-17T18:32:00.367Z"
   },
   {
    "duration": 124,
    "start_time": "2023-01-17T18:32:00.406Z"
   },
   {
    "duration": 9208,
    "start_time": "2023-01-17T18:32:00.531Z"
   },
   {
    "duration": 180,
    "start_time": "2023-01-17T18:32:09.740Z"
   },
   {
    "duration": 28,
    "start_time": "2023-01-17T18:32:09.921Z"
   },
   {
    "duration": 166,
    "start_time": "2023-01-17T18:32:09.950Z"
   },
   {
    "duration": 3,
    "start_time": "2023-01-17T18:32:10.117Z"
   },
   {
    "duration": 169,
    "start_time": "2023-01-17T18:32:10.121Z"
   },
   {
    "duration": 17,
    "start_time": "2023-01-17T18:32:10.294Z"
   },
   {
    "duration": 15,
    "start_time": "2023-01-17T18:32:10.312Z"
   },
   {
    "duration": 47,
    "start_time": "2023-01-17T18:32:10.328Z"
   },
   {
    "duration": 98,
    "start_time": "2023-01-17T18:32:10.376Z"
   },
   {
    "duration": 10712,
    "start_time": "2023-01-17T18:32:10.475Z"
   },
   {
    "duration": 155,
    "start_time": "2023-01-17T18:32:21.189Z"
   },
   {
    "duration": 3,
    "start_time": "2023-01-17T18:32:21.348Z"
   },
   {
    "duration": 135,
    "start_time": "2023-01-17T18:32:21.353Z"
   },
   {
    "duration": 168,
    "start_time": "2023-01-17T18:32:21.489Z"
   },
   {
    "duration": 3,
    "start_time": "2023-01-17T18:32:21.659Z"
   },
   {
    "duration": 236,
    "start_time": "2023-01-17T18:32:21.663Z"
   },
   {
    "duration": 297,
    "start_time": "2023-01-17T18:32:21.901Z"
   },
   {
    "duration": 10,
    "start_time": "2023-01-17T18:32:22.200Z"
   },
   {
    "duration": 168,
    "start_time": "2023-01-17T18:32:22.212Z"
   },
   {
    "duration": 83,
    "start_time": "2023-01-17T18:32:22.381Z"
   },
   {
    "duration": 3,
    "start_time": "2023-01-17T18:32:22.466Z"
   },
   {
    "duration": 15,
    "start_time": "2023-01-17T18:32:22.471Z"
   },
   {
    "duration": 4,
    "start_time": "2023-01-17T18:32:22.487Z"
   },
   {
    "duration": 15,
    "start_time": "2023-01-17T18:32:22.493Z"
   },
   {
    "duration": 45,
    "start_time": "2023-01-17T18:32:22.509Z"
   },
   {
    "duration": 4,
    "start_time": "2023-01-17T18:32:22.556Z"
   },
   {
    "duration": 7035,
    "start_time": "2023-01-17T18:32:22.562Z"
   },
   {
    "duration": 170,
    "start_time": "2023-01-17T18:32:29.599Z"
   },
   {
    "duration": 116,
    "start_time": "2023-01-17T18:32:29.771Z"
   },
   {
    "duration": 8,
    "start_time": "2023-01-17T18:32:29.889Z"
   },
   {
    "duration": 179,
    "start_time": "2023-01-17T18:32:29.899Z"
   },
   {
    "duration": 2,
    "start_time": "2023-01-17T18:32:30.080Z"
   },
   {
    "duration": 317,
    "start_time": "2023-01-17T18:32:30.084Z"
   },
   {
    "duration": 20,
    "start_time": "2023-01-17T18:32:30.402Z"
   },
   {
    "duration": 250,
    "start_time": "2023-01-17T18:32:30.423Z"
   },
   {
    "duration": 32,
    "start_time": "2023-01-17T18:32:30.676Z"
   },
   {
    "duration": 142,
    "start_time": "2023-01-17T18:32:30.709Z"
   },
   {
    "duration": 128,
    "start_time": "2023-01-17T18:32:30.853Z"
   }
  ],
  "kernelspec": {
   "display_name": "Python 3 (ipykernel)",
   "language": "python",
   "name": "python3"
  },
  "language_info": {
   "codemirror_mode": {
    "name": "ipython",
    "version": 3
   },
   "file_extension": ".py",
   "mimetype": "text/x-python",
   "name": "python",
   "nbconvert_exporter": "python",
   "pygments_lexer": "ipython3",
   "version": "3.9.13"
  },
  "nbTranslate": {
   "displayLangs": [
    "*"
   ],
   "hotkey": "alt-t",
   "langInMainMenu": true,
   "sourceLang": "en",
   "targetLang": "rus",
   "useGoogleTranslate": true
  },
  "toc": {
   "base_numbering": 1,
   "nav_menu": {},
   "number_sections": true,
   "sideBar": true,
   "skip_h1_title": true,
   "title_cell": "Содержание",
   "title_sidebar": "Contents",
   "toc_cell": true,
   "toc_position": {
    "height": "calc(100% - 180px)",
    "left": "10px",
    "top": "150px",
    "width": "376px"
   },
   "toc_section_display": true,
   "toc_window_display": true
  },
  "varInspector": {
   "cols": {
    "lenName": 16,
    "lenType": 16,
    "lenVar": 40
   },
   "kernels_config": {
    "python": {
     "delete_cmd_postfix": "",
     "delete_cmd_prefix": "del ",
     "library": "var_list.py",
     "varRefreshCmd": "print(var_dic_list())"
    },
    "r": {
     "delete_cmd_postfix": ") ",
     "delete_cmd_prefix": "rm(",
     "library": "var_list.r",
     "varRefreshCmd": "cat(var_dic_list()) "
    }
   },
   "types_to_exclude": [
    "module",
    "function",
    "builtin_function_or_method",
    "instance",
    "_Feature"
   ],
   "window_display": false
  }
 },
 "nbformat": 4,
 "nbformat_minor": 5
}
